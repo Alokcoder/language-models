{
 "cells": [
  {
   "cell_type": "markdown",
   "metadata": {},
   "source": [
    "# (MultiFiT) French Sentiment Classifier on French Amazon Customer Reviews\n",
    "### (architecture 4 QRNN with 1550 hidden parameters by layer, SentencePiece tokenizer and hyperparameters from the MultiFiT method)"
   ] 
  },
  {
   "cell_type": "markdown",
   "metadata": {},
   "source": [
    "- Author: [Pierre Guillou](https://www.linkedin.com/in/pierreguillou)\n",
    "- Date: September 2019\n",
    "- Post in medium: [link](https://medium.com/@pierre_guillou/nlp-fastai-french-language-model-d0e2a9e12cab)\n",
    "- Ref: [Fastai v1](https://docs.fast.ai/) (Deep Learning library on PyTorch)"
   ]
  },
  {
   "cell_type": "markdown",
   "metadata": {},
   "source": [
    "**Information**\n",
    "\n",
    "According to this new article \"[MultiFiT: Efficient Multi-lingual Language Model Fine-tuning](https://arxiv.org/abs/1909.04761)\" (September 10, 2019), the QRNN architecture and the SentencePiece tokenizer give better results than AWD-LSTM and the spaCy tokenizer respectively. \n",
    "\n",
    "Therefore, they have been used in this notebook to **fine-tune a French bidirectional Language Model** by Transfer Learning of a French bidirectional Language Model (with the QRNN architecture and the SentencePiece tokenizer, too) trained on a Wikipedia corpus of 100 millions tokens ([lm2-french.ipynb](https://github.com/piegu/language-models/blob/master/lm2-french.ipynb)). \n",
    "\n",
    "This French bidirectional Language Model has been **fine-tuned on \"[French Amazon Customer Reviews](https://s3.amazonaws.com/amazon-reviews-pds/readme.html)\"** and **its encoder part has been transfered to a sentiment classifier which has been finally trained on this amazon corpus**.\n",
    "\n",
    "This process **LM General --> LM fine-tuned --> Classifier fine-tuned** is called [ULMFiT](http://nlp.fast.ai/category/classification.html).\n",
    "\n",
    "More, the following hyperparameters values given at the end of the MultiFiT article have been used:\n",
    "- Language Model\n",
    "    - (batch size) bs = 50\n",
    "    - (QRNN) 3 QRNN (default: 3) with 1152 hidden parameters each one (default: 1152) (note: it would have been better to increae to 4 QRNN with 1550 hidden parameters like described in the article)\n",
    "    - (SentencePiece) vocab of 15000 tokens\n",
    "    - (dropout) mult_drop = 0\n",
    "    - (weight decay) wd = 0.01\n",
    "    - (number of training epochs) 20 epochs\n",
    "    \n",
    "\n",
    "- Sentiment Classifier\n",
    "    - (batch size) bs = 18\n",
    "    - (SentencePiece) vocab of 15000 tokens\n",
    "    - (dropout) mult_drop = 0.5\n",
    "    - (weight decay) wd = 0.01\n",
    "    - (number of training epochs) 10 epochs\n",
    "    - (loss) FlattenedLoss of weighted CrossEntropyLoss"
   ]
  },
  {
   "cell_type": "markdown",
   "metadata": {
    "heading_collapsed": true
   },
   "source": [
    "## Results"
   ]
  },
  {
   "cell_type": "markdown",
   "metadata": {
    "hidden": true
   },
   "source": [
    "Our Bidirectional French LM ([lm3-french.ipynb](https://github.com/piegu/language-models/blob/master/lm3-french.ipynb)) and Sentiment Classifier with a MultiFiT configuration (4 QRNN architecture, 1550 hidden parameters and using the SentencePiecce tokenizer) ([lm3-french-classifier-amazon.ipynb](https://github.com/piegu/language-models/blob/master/lm3-french-classifier-amazon.ipynb)) have better results (accuracy, perplexity and f1) than the 2 others Bidirectional French LM ([lm-french.ipynb](https://github.com/piegu/language-models/blob/master/lm-french.ipynb) and [lm2-french.ipynb](https://github.com/piegu/language-models/blob/master/lm2-french.ipynb)) we have trained before.\n",
    "\n",
    "This improvement comes from:\n",
    "- the deeper complexity of our last Bidirectional French LMs and Sentiment Classifier that use the MultiFiT configuration (4 QRNN architecture with 1550 hidden parameters): 4 layers instead of 3 and each hidden layer has more parameters.\n",
    "- the use of the SentencePiecce tokenizer (even with only a vocab of 15 000 tokens instead of 60 000 with the spaCy tokenizer)\n",
    "\n",
    "**We can conclude that this Bidirectional French LM model using the MultiFiT configuration is a good model to perform text classification but with only 46 millions of parameters, it is far from being a LM that can gan compete with [GPT-2](https://openai.com/blog/better-language-models/) or [BERT](https://arxiv.org/abs/1810.04805) in NLP tasks like text generation.**"
   ]
  },
  {
   "cell_type": "markdown",
   "metadata": {
    "hidden": true
   },
   "source": [
    "- **About the data**: the dataset \"French Amazon Customer Reviews\", even after pre-processing (deleting empty reviews, neutral ones, etc.), is unbalanced. Therefore, we used a weighted loss function (FlattenedLoss of weighted CrossEntropyLoss).\n",
    "    - initial number of reviews: 253 961\n",
    "    - number of reviews after pre-processing: 221 456\n",
    "        - neg: 25106 (11.34%)\n",
    "        - pos: 196350 (88.66%)\n",
    "\n",
    "\n",
    "- **(fine-tuned) Language Model**   \n",
    "    - forward : (accuracy) 37.57% | (perplexity) 24.62\n",
    "    - backward: (accuracy) 43.25% | (perplexity) 24.90\n",
    "    \n",
    "\n",
    "- **(fine-tuned) Sentiment Classifier**\n",
    "\n",
    "    - **Accuracy**\n",
    "        - forward : (global) 95.33% | **(neg) 91.79%** | (pos) 95.76%\n",
    "        - backward: (global) 95.68% | (neg) 88.47% | **(pos) 96.56%**\n",
    "        - ensemble: **(global) 95.92%** | (neg) 91.04% | (pos) 96.51%\n",
    "\n",
    "    - **f1 score**\n",
    "        - forward: 0.9624\n",
    "        - backward: 0.9606\n",
    "        - ensemble: **0.9636**\n",
    "   \n",
    "\n",
    "(neg = negative reviews | pos = positive reviews)"
   ]
  },
  {
   "cell_type": "markdown",
   "metadata": {},
   "source": [
    "### To be improved"
   ]
  },
  {
   "cell_type": "markdown",
   "metadata": {},
   "source": [
    "The lost function FlattenedLoss of LabelSmoothingCrossEntropy should be tested as it is used in the MultiFiT method (see the notebook [lm3-portuguese-classifier-TCU-jurisprudencia.ipynb](https://github.com/piegu/language-models/blob/master/lm3-portuguese-classifier-TCU-jurisprudencia.ipynb) to get the code)."
   ]
  },
  {
   "cell_type": "markdown",
   "metadata": {
    "heading_collapsed": true
   },
   "source": [
    "## Initialisation"
   ]
  },
  {
   "cell_type": "code",
   "execution_count": 1,
   "metadata": {
    "hidden": true
   },
   "outputs": [],
   "source": [
    "%reload_ext autoreload\n",
    "%autoreload 2\n",
    "%matplotlib inline\n",
    "\n",
    "from fastai import *\n",
    "from fastai.text import *\n",
    "from fastai.callbacks import *"
   ]
  },
  {
   "cell_type": "code",
   "execution_count": 2,
   "metadata": {
    "hidden": true
   },
   "outputs": [],
   "source": [
    "from sklearn.metrics import f1_score\n",
    "\n",
    "@np_func\n",
    "def f1(inp,targ): return f1_score(targ, np.argmax(inp, axis=-1))"
   ]
  },
  {
   "cell_type": "code",
   "execution_count": 3,
   "metadata": {
    "hidden": true
   },
   "outputs": [],
   "source": [
    "# bs=48\n",
    "# bs=24\n",
    "bs=50"
   ]
  },
  {
   "cell_type": "code",
   "execution_count": 4,
   "metadata": {
    "hidden": true
   },
   "outputs": [],
   "source": [
    "torch.cuda.set_device(0)"
   ]
  },
  {
   "cell_type": "code",
   "execution_count": 5,
   "metadata": {
    "hidden": true
   },
   "outputs": [],
   "source": [
    "data_path = Config.data_path()"
   ]
  },
  {
   "cell_type": "markdown",
   "metadata": {
    "hidden": true
   },
   "source": [
    "This will create a `{lang}wiki` folder, containing a `{lang}wiki` text file with the wikipedia contents. (For other languages, replace `{lang}` with the appropriate code from the [list of wikipedias](https://meta.wikimedia.org/wiki/List_of_Wikipedias).)"
   ]
  },
  {
   "cell_type": "code",
   "execution_count": 6,
   "metadata": {
    "hidden": true
   },
   "outputs": [],
   "source": [
    "lang = 'fr'"
   ]
  },
  {
   "cell_type": "code",
   "execution_count": 7,
   "metadata": {
    "hidden": true
   },
   "outputs": [],
   "source": [
    "name = f'{lang}wiki'\n",
    "path = data_path/name\n",
    "path.mkdir(exist_ok=True, parents=True)\n",
    "\n",
    "lm_fns3 = [f'{lang}_wt_sp15_multifit', f'{lang}_wt_vocab_sp15_multifit']\n",
    "lm_fns3_bwd = [f'{lang}_wt_sp15_multifit_bwd', f'{lang}_wt_vocab_sp15_multifit_bwd']"
   ]
  },
  {
   "cell_type": "markdown",
   "metadata": {
    "heading_collapsed": true
   },
   "source": [
    "## Data"
   ]
  },
  {
   "cell_type": "markdown",
   "metadata": {
    "hidden": true
   },
   "source": [
    "- [French Amazon Customer Reviews](https://s3.amazonaws.com/amazon-reviews-pds/readme.html)\n",
    "- [Guide on how to download the French Amazon Customer Reviews](https://forums.fast.ai/t/ulmfit-french/29379/36)\n",
    "- File: amazon_reviews_multilingual_FR_v1_00.tsv.gz"
   ]
  },
  {
   "cell_type": "code",
   "execution_count": 8,
   "metadata": {
    "hidden": true
   },
   "outputs": [
    {
     "data": {
      "text/plain": [
       "[PosixPath('/home/jupyter/.fastai/data/amazon_reviews_fr/amazon_reviews_multilingual_FR_v1_00.tsv'),\n",
       " PosixPath('/home/jupyter/.fastai/data/amazon_reviews_fr/amazon_reviews_filtered_fr.csv'),\n",
       " PosixPath('/home/jupyter/.fastai/data/amazon_reviews_fr/amazon_reviews_fr.csv')]"
      ]
     },
     "execution_count": 8,
     "metadata": {},
     "output_type": "execute_result"
    }
   ],
   "source": [
    "name = 'amazon_reviews_fr'\n",
    "path_data = data_path/name\n",
    "path_data.ls()"
   ]
  },
  {
   "cell_type": "markdown",
   "metadata": {
    "hidden": true
   },
   "source": [
    "### Run this code the first time"
   ]
  },
  {
   "cell_type": "markdown",
   "metadata": {
    "hidden": true
   },
   "source": [
    "#### Get reviews neg and pos"
   ]
  },
  {
   "cell_type": "code",
   "execution_count": 9,
   "metadata": {
    "hidden": true
   },
   "outputs": [],
   "source": [
    "# to solve display error of pandas dataframe\n",
    "get_ipython().config.get('IPKernelApp', {})['parent_appname'] = \"\""
   ]
  },
  {
   "cell_type": "code",
   "execution_count": 10,
   "metadata": {
    "hidden": true
   },
   "outputs": [
    {
     "data": {
      "text/html": [
       "<div>\n",
       "<style scoped>\n",
       "    .dataframe tbody tr th:only-of-type {\n",
       "        vertical-align: middle;\n",
       "    }\n",
       "\n",
       "    .dataframe tbody tr th {\n",
       "        vertical-align: top;\n",
       "    }\n",
       "\n",
       "    .dataframe thead th {\n",
       "        text-align: right;\n",
       "    }\n",
       "</style>\n",
       "<table border=\"1\" class=\"dataframe\">\n",
       "  <thead>\n",
       "    <tr style=\"text-align: right;\">\n",
       "      <th></th>\n",
       "      <th>review_id</th>\n",
       "      <th>review_body</th>\n",
       "      <th>star_rating</th>\n",
       "    </tr>\n",
       "  </thead>\n",
       "  <tbody>\n",
       "    <tr>\n",
       "      <td>0</td>\n",
       "      <td>R32VYUWDIB5LKE</td>\n",
       "      <td>je conseille fortement ce bouquin à ceux qui s...</td>\n",
       "      <td>5</td>\n",
       "    </tr>\n",
       "    <tr>\n",
       "      <td>1</td>\n",
       "      <td>R3CCMP4EV6HAVL</td>\n",
       "      <td>ce magnifique est livre , les personnages sont...</td>\n",
       "      <td>5</td>\n",
       "    </tr>\n",
       "    <tr>\n",
       "      <td>2</td>\n",
       "      <td>R14NAE6UGTVTA2</td>\n",
       "      <td>Je dirais qu'il a un défaut :&lt;br /&gt;On ne peut ...</td>\n",
       "      <td>3</td>\n",
       "    </tr>\n",
       "    <tr>\n",
       "      <td>3</td>\n",
       "      <td>R2E7QEWSC6EWFA</td>\n",
       "      <td>Je l'ai depuis quelques jours et j'en suis trè...</td>\n",
       "      <td>4</td>\n",
       "    </tr>\n",
       "    <tr>\n",
       "      <td>4</td>\n",
       "      <td>R26E6I47GQRYKR</td>\n",
       "      <td>je m'attendait à un bon film, car j'aime beauc...</td>\n",
       "      <td>2</td>\n",
       "    </tr>\n",
       "  </tbody>\n",
       "</table>\n",
       "</div>"
      ],
      "text/plain": [
       "        review_id                                        review_body  \\\n",
       "0  R32VYUWDIB5LKE  je conseille fortement ce bouquin à ceux qui s...   \n",
       "1  R3CCMP4EV6HAVL  ce magnifique est livre , les personnages sont...   \n",
       "2  R14NAE6UGTVTA2  Je dirais qu'il a un défaut :<br />On ne peut ...   \n",
       "3  R2E7QEWSC6EWFA  Je l'ai depuis quelques jours et j'en suis trè...   \n",
       "4  R26E6I47GQRYKR  je m'attendait à un bon film, car j'aime beauc...   \n",
       "\n",
       "   star_rating  \n",
       "0            5  \n",
       "1            5  \n",
       "2            3  \n",
       "3            4  \n",
       "4            2  "
      ]
     },
     "execution_count": 10,
     "metadata": {},
     "output_type": "execute_result"
    }
   ],
   "source": [
    "fields = ['review_id', 'review_body', 'star_rating']\n",
    "df = pd.read_csv(path_data/'amazon_reviews_multilingual_FR_v1_00.tsv', delimiter='\\t',encoding='utf-8', usecols=fields)\n",
    "df = df[fields]\n",
    "df.loc[pd.isna(df.review_body),'review_body']='NA'\n",
    "df.head()"
   ]
  },
  {
   "cell_type": "code",
   "execution_count": 19,
   "metadata": {
    "hidden": true
   },
   "outputs": [],
   "source": [
    "# columns names\n",
    "reviews = \"review_body\"\n",
    "idx = \"review_id\"\n",
    "rating = \"star_rating\"\n",
    "label = \"label\"\n",
    "\n",
    "# keep not null reviews\n",
    "df2 = df.copy()"
   ]
  },
  {
   "cell_type": "code",
   "execution_count": 20,
   "metadata": {
    "hidden": true
   },
   "outputs": [
    {
     "name": "stdout",
     "output_type": "stream",
     "text": [
      "(orginal csv) number of all reviews: 253961\n",
      "there is no empty review.\n",
      "there is no identical review id.\n",
      "23277 neutral reviews (rating = 3) were deleted\n",
      "\n",
      "number of neg reviews (rating = 1 or 2): 25637 (11.11%)\n",
      "number of pos reviews (rating = 4 or 5): 205047 (88.89%)\n",
      "\n",
      "(final) number of all reviews neg and pos: 230684\n"
     ]
    },
    {
     "data": {
      "text/html": [
       "<div>\n",
       "<style scoped>\n",
       "    .dataframe tbody tr th:only-of-type {\n",
       "        vertical-align: middle;\n",
       "    }\n",
       "\n",
       "    .dataframe tbody tr th {\n",
       "        vertical-align: top;\n",
       "    }\n",
       "\n",
       "    .dataframe thead th {\n",
       "        text-align: right;\n",
       "    }\n",
       "</style>\n",
       "<table border=\"1\" class=\"dataframe\">\n",
       "  <thead>\n",
       "    <tr style=\"text-align: right;\">\n",
       "      <th></th>\n",
       "      <th>review_body</th>\n",
       "      <th>star_rating</th>\n",
       "    </tr>\n",
       "  </thead>\n",
       "  <tbody>\n",
       "    <tr>\n",
       "      <td>0</td>\n",
       "      <td>je conseille fortement ce bouquin à ceux qui s...</td>\n",
       "      <td>5</td>\n",
       "    </tr>\n",
       "    <tr>\n",
       "      <td>1</td>\n",
       "      <td>ce magnifique est livre , les personnages sont...</td>\n",
       "      <td>5</td>\n",
       "    </tr>\n",
       "    <tr>\n",
       "      <td>3</td>\n",
       "      <td>Je l'ai depuis quelques jours et j'en suis trè...</td>\n",
       "      <td>4</td>\n",
       "    </tr>\n",
       "    <tr>\n",
       "      <td>4</td>\n",
       "      <td>je m'attendait à un bon film, car j'aime beauc...</td>\n",
       "      <td>2</td>\n",
       "    </tr>\n",
       "    <tr>\n",
       "      <td>5</td>\n",
       "      <td>Ne disait pas sur l'annonce que c'était un 10'...</td>\n",
       "      <td>2</td>\n",
       "    </tr>\n",
       "    <tr>\n",
       "      <td>6</td>\n",
       "      <td>du bon bowie,très bon meme parfois.esperons qu...</td>\n",
       "      <td>5</td>\n",
       "    </tr>\n",
       "    <tr>\n",
       "      <td>7</td>\n",
       "      <td>très bon film beaucoup d'action l'image est le...</td>\n",
       "      <td>5</td>\n",
       "    </tr>\n",
       "    <tr>\n",
       "      <td>8</td>\n",
       "      <td>Un sujet délicat mais parfaitement traité avec...</td>\n",
       "      <td>5</td>\n",
       "    </tr>\n",
       "    <tr>\n",
       "      <td>9</td>\n",
       "      <td>Un coffret d'un duo culte que les DVD nous per...</td>\n",
       "      <td>5</td>\n",
       "    </tr>\n",
       "    <tr>\n",
       "      <td>10</td>\n",
       "      <td>Un grand classique dans ce genre de films, mai...</td>\n",
       "      <td>5</td>\n",
       "    </tr>\n",
       "  </tbody>\n",
       "</table>\n",
       "</div>"
      ],
      "text/plain": [
       "                                          review_body  star_rating\n",
       "0   je conseille fortement ce bouquin à ceux qui s...            5\n",
       "1   ce magnifique est livre , les personnages sont...            5\n",
       "3   Je l'ai depuis quelques jours et j'en suis trè...            4\n",
       "4   je m'attendait à un bon film, car j'aime beauc...            2\n",
       "5   Ne disait pas sur l'annonce que c'était un 10'...            2\n",
       "6   du bon bowie,très bon meme parfois.esperons qu...            5\n",
       "7   très bon film beaucoup d'action l'image est le...            5\n",
       "8   Un sujet délicat mais parfaitement traité avec...            5\n",
       "9   Un coffret d'un duo culte que les DVD nous per...            5\n",
       "10  Un grand classique dans ce genre de films, mai...            5"
      ]
     },
     "execution_count": 20,
     "metadata": {},
     "output_type": "execute_result"
    }
   ],
   "source": [
    "# number of reviews\n",
    "print(f'(orginal csv) number of all reviews: {len(df)}')\n",
    "\n",
    "df2 = df.copy()\n",
    "\n",
    "# keep not null reviews\n",
    "empty = (df2[reviews].isnull()).sum()\n",
    "df2 = df2[df2[reviews].notnull()]\n",
    "if empty != 0:\n",
    "    print(f'{empty} empty reviews were deleted')\n",
    "else:\n",
    "    print('there is no empty review.')\n",
    "\n",
    "# check that there is no twice the same review\n",
    "# keep the first of unique review_id reviews\n",
    "same = len(df2) - len(df2[idx].unique())\n",
    "if same != 0:\n",
    "    df2.drop_duplicates(subset=[idx], inplace=True)\n",
    "    print(f'from the {same} identical reviews ids, only the first one has been kept.')\n",
    "else:\n",
    "    print('there is no identical review id.')\n",
    "\n",
    "# categorify reviews in 2 classes neg, pos in the label column (rating != 3)\n",
    "neutral = len(df2[df2[rating] == 3])\n",
    "df2 = df2[df2[rating] != 3]\n",
    "df2[label] = 'neg'\n",
    "df2.loc[df2[rating] > 3, label] = 'pos'\n",
    "print(f'{neutral} neutral reviews (rating = 3) were deleted')\n",
    "\n",
    "# number of reviews neg or pos\n",
    "num_neg = len(df2[df2[label] == 'neg'])\n",
    "num_pos = len(df2[df2[label] == 'pos'])\n",
    "num_neg_pos = len(df2)\n",
    "pc_neg = round((num_neg/num_neg_pos)*100,2)\n",
    "pc_pos = round((num_pos/num_neg_pos)*100,2)\n",
    "print(f'\\nnumber of neg reviews (rating = 1 or 2): {num_neg} ({pc_neg}%)')\n",
    "print(f'number of pos reviews (rating = 4 or 5): {num_pos} ({pc_pos}%)')\n",
    "print(f'\\n(final) number of all reviews neg and pos: {num_neg_pos}')  \n",
    "\n",
    "# convert HTML caracters to normal letters\n",
    "df2[reviews] = df2[reviews].apply(convert)\n",
    "\n",
    "df2[[reviews, rating]].head(10)"
   ]
  },
  {
   "cell_type": "markdown",
   "metadata": {
    "hidden": true
   },
   "source": [
    "#### Delete the non French reviews"
   ]
  },
  {
   "cell_type": "markdown",
   "metadata": {
    "hidden": true
   },
   "source": [
    "**FastText**\n",
    "\n",
    "- library source: https://github.com/facebookresearch/fastText/tree/master/python\n",
    "- Blog post about using fasttext for language detection: https://amitness.com/2019/07/identify-text-language-python/\n",
    "- \"New release of python module\" (june 2019): https://fasttext.cc/blog/2019/06/25/blog-post.html"
   ]
  },
  {
   "cell_type": "code",
   "execution_count": 24,
   "metadata": {
    "hidden": true
   },
   "outputs": [],
   "source": [
    "import fasttext\n",
    "import urllib.request\n",
    "from converter import *"
   ]
  },
  {
   "cell_type": "code",
   "execution_count": 25,
   "metadata": {
    "hidden": true
   },
   "outputs": [
    {
     "data": {
      "text/plain": [
       "(PosixPath('/home/jupyter/tutorials/fastai/course-nlp/lid.176.bin'),\n",
       " <http.client.HTTPMessage at 0x7f2f633f6490>)"
      ]
     },
     "execution_count": 25,
     "metadata": {},
     "output_type": "execute_result"
    }
   ],
   "source": [
    "# Download the file from url and save it locally under file_name\n",
    "# source: https://fasttext.cc/docs/en/language-identification.html\n",
    "\n",
    "path_ft = Path.cwd() # /home/jupyter/tutorials/fastai/course-nlp\n",
    "url = 'https://dl.fbaipublicfiles.com/fasttext/supervised-models/lid.176.bin'\n",
    "file_name = 'lid.176.bin'\n",
    "url_file = path_ft/file_name\n",
    "urllib.request.urlretrieve(url, url_file)"
   ]
  },
  {
   "cell_type": "code",
   "execution_count": 26,
   "metadata": {
    "hidden": true
   },
   "outputs": [
    {
     "name": "stderr",
     "output_type": "stream",
     "text": [
      "\n"
     ]
    }
   ],
   "source": [
    "# get the model trained on 176 languages\n",
    "model = fasttext.load_model(file_name)"
   ]
  },
  {
   "cell_type": "code",
   "execution_count": 27,
   "metadata": {
    "hidden": true
   },
   "outputs": [
    {
     "name": "stdout",
     "output_type": "stream",
     "text": [
      "True\n",
      "([['__label__fr']], array([[1.000027]]))\n"
     ]
    }
   ],
   "source": [
    "# test\n",
    "sentences = ['Il fait très beau']\n",
    "predictions = model.predict(sentences)\n",
    "print(predictions[0][0][0].replace('__label__','') == 'fr')\n",
    "print(predictions)"
   ]
  },
  {
   "cell_type": "code",
   "execution_count": 28,
   "metadata": {
    "hidden": true
   },
   "outputs": [
    {
     "name": "stdout",
     "output_type": "stream",
     "text": [
      "number of non-French reviews: 9228\n",
      "CPU times: user 39.9 s, sys: 44 ms, total: 40 s\n",
      "Wall time: 40 s\n"
     ]
    }
   ],
   "source": [
    "%%time\n",
    "list_idx = []\n",
    "for idx, row in df2.iterrows():\n",
    "    try:\n",
    "        string = str(row[reviews]).replace('\\r',' ').replace('\\n','').replace('<br />', ' ').lower()\n",
    "        predictions = model.predict(string)\n",
    "        language = predictions[0][0].replace('__label__','')\n",
    "    except:\n",
    "        language = \"error\"\n",
    "    if not (language == 'fr'):\n",
    "        list_idx.append(idx)\n",
    "        \n",
    "print(f'number of non-French reviews: {len(list_idx)}')"
   ]
  },
  {
   "cell_type": "code",
   "execution_count": 29,
   "metadata": {
    "hidden": true
   },
   "outputs": [
    {
     "data": {
      "text/plain": [
       "16     Just great complination, there are 48 cds insi...\n",
       "19     I know it's a classic but really it is a marve...\n",
       "20     Waiting for so long to get a sequel of Bridget...\n",
       "72     Not one of his best science fiction novels but...\n",
       "126    Für die  Liebhaber von Schwarzer Humor  ist di...\n",
       "165    A great alternate look into the world of cats,...\n",
       "194    It's the perfect book for a screenwriter and a...\n",
       "238    Good delivery, on time. However the image of t...\n",
       "376    This is Frank Herbert's masterpiece and should...\n",
       "379    It was by sheer chance that I came across this...\n",
       "Name: review_body, dtype: object"
      ]
     },
     "execution_count": 29,
     "metadata": {},
     "output_type": "execute_result"
    }
   ],
   "source": [
    "df2[reviews][list_idx][:10]"
   ]
  },
  {
   "cell_type": "code",
   "execution_count": 30,
   "metadata": {
    "hidden": true
   },
   "outputs": [],
   "source": [
    "df2.drop(list_idx, axis=0, inplace=True)\n",
    "df_trn_val = df2.copy()"
   ]
  },
  {
   "cell_type": "markdown",
   "metadata": {
    "hidden": true
   },
   "source": [
    "#### Save filtered reviews dataset"
   ]
  },
  {
   "cell_type": "code",
   "execution_count": 32,
   "metadata": {
    "hidden": true
   },
   "outputs": [
    {
     "name": "stdout",
     "output_type": "stream",
     "text": [
      "number of neg reviews (rating = 1 or 2): 25106 (11.34%)\n",
      "number of pos reviews (rating = 4 or 5): 196350 (88.66%)\n",
      "number of all reviews: 221456\n"
     ]
    },
    {
     "data": {
      "image/png": "[encoded data removed]",
      "text/plain": [
       "<Figure size 432x288 with 1 Axes>"
      ]
     },
     "metadata": {
      "needs_background": "light"
     },
     "output_type": "display_data"
    }
   ],
   "source": [
    "# number of reviews neg or pos\n",
    "num_neg = len(df_trn_val[df_trn_val[label] == 'neg'])\n",
    "num_pos = len(df_trn_val[df_trn_val[label] == 'pos'])\n",
    "num_neg_pos = len(df_trn_val)\n",
    "pc_neg = round((num_neg/num_neg_pos)*100,2)\n",
    "pc_pos = round((num_pos/num_neg_pos)*100,2)\n",
    "print(f'number of neg reviews (rating = 1 or 2): {num_neg} ({pc_neg}%)')\n",
    "print(f'number of pos reviews (rating = 4 or 5): {num_pos} ({pc_pos}%)')\n",
    "print(f'number of all reviews: {num_neg_pos}') \n",
    "\n",
    "# plot histogram\n",
    "x= [1,2]\n",
    "keys = list(df_trn_val[label].value_counts().keys())\n",
    "values = list(df_trn_val[label].value_counts().array)\n",
    "plt.bar(x, values[::-1]) \n",
    "plt.xticks(x, keys[::-1])\n",
    "# print(df_trn_val['label'].value_counts())\n",
    "plt.show()"
   ]
  },
  {
   "cell_type": "code",
   "execution_count": 33,
   "metadata": {
    "hidden": true
   },
   "outputs": [],
   "source": [
    "df_trn_val.to_csv (path_data/'amazon_reviews_filtered_fr.csv', index = None, header=True)"
   ]
  },
  {
   "cell_type": "markdown",
   "metadata": {
    "hidden": true
   },
   "source": [
    "### Get the csv of pre-processed data "
   ]
  },
  {
   "cell_type": "code",
   "execution_count": 9,
   "metadata": {
    "hidden": true
   },
   "outputs": [
    {
     "data": {
      "text/html": [
       "<div>\n",
       "<style scoped>\n",
       "    .dataframe tbody tr th:only-of-type {\n",
       "        vertical-align: middle;\n",
       "    }\n",
       "\n",
       "    .dataframe tbody tr th {\n",
       "        vertical-align: top;\n",
       "    }\n",
       "\n",
       "    .dataframe thead th {\n",
       "        text-align: right;\n",
       "    }\n",
       "</style>\n",
       "<table border=\"1\" class=\"dataframe\">\n",
       "  <thead>\n",
       "    <tr style=\"text-align: right;\">\n",
       "      <th></th>\n",
       "      <th>review_id</th>\n",
       "      <th>review_body</th>\n",
       "      <th>star_rating</th>\n",
       "      <th>label</th>\n",
       "    </tr>\n",
       "  </thead>\n",
       "  <tbody>\n",
       "    <tr>\n",
       "      <td>0</td>\n",
       "      <td>R32VYUWDIB5LKE</td>\n",
       "      <td>je conseille fortement ce bouquin à ceux qui s...</td>\n",
       "      <td>5</td>\n",
       "      <td>pos</td>\n",
       "    </tr>\n",
       "    <tr>\n",
       "      <td>1</td>\n",
       "      <td>R3CCMP4EV6HAVL</td>\n",
       "      <td>ce magnifique est livre , les personnages sont...</td>\n",
       "      <td>5</td>\n",
       "      <td>pos</td>\n",
       "    </tr>\n",
       "    <tr>\n",
       "      <td>2</td>\n",
       "      <td>R2E7QEWSC6EWFA</td>\n",
       "      <td>Je l'ai depuis quelques jours et j'en suis trè...</td>\n",
       "      <td>4</td>\n",
       "      <td>pos</td>\n",
       "    </tr>\n",
       "    <tr>\n",
       "      <td>3</td>\n",
       "      <td>R26E6I47GQRYKR</td>\n",
       "      <td>je m'attendait à un bon film, car j'aime beauc...</td>\n",
       "      <td>2</td>\n",
       "      <td>neg</td>\n",
       "    </tr>\n",
       "    <tr>\n",
       "      <td>4</td>\n",
       "      <td>R1RJMTSNCKB9LP</td>\n",
       "      <td>Ne disait pas sur l'annonce que c'était un 10'...</td>\n",
       "      <td>2</td>\n",
       "      <td>neg</td>\n",
       "    </tr>\n",
       "  </tbody>\n",
       "</table>\n",
       "</div>"
      ],
      "text/plain": [
       "        review_id                                        review_body  \\\n",
       "0  R32VYUWDIB5LKE  je conseille fortement ce bouquin à ceux qui s...   \n",
       "1  R3CCMP4EV6HAVL  ce magnifique est livre , les personnages sont...   \n",
       "2  R2E7QEWSC6EWFA  Je l'ai depuis quelques jours et j'en suis trè...   \n",
       "3  R26E6I47GQRYKR  je m'attendait à un bon film, car j'aime beauc...   \n",
       "4  R1RJMTSNCKB9LP  Ne disait pas sur l'annonce que c'était un 10'...   \n",
       "\n",
       "   star_rating label  \n",
       "0            5   pos  \n",
       "1            5   pos  \n",
       "2            4   pos  \n",
       "3            2   neg  \n",
       "4            2   neg  "
      ]
     },
     "execution_count": 9,
     "metadata": {},
     "output_type": "execute_result"
    }
   ],
   "source": [
    "df_trn_val = pd.read_csv(path_data/'amazon_reviews_filtered_fr.csv')\n",
    "df_trn_val.head()"
   ]
  },
  {
   "cell_type": "markdown",
   "metadata": {
    "heading_collapsed": true
   },
   "source": [
    "## Fine-tuning \"forward LM\""
   ]
  },
  {
   "cell_type": "markdown",
   "metadata": {
    "hidden": true
   },
   "source": [
    "### Databunch"
   ]
  },
  {
   "cell_type": "code",
   "execution_count": 36,
   "metadata": {
    "hidden": true
   },
   "outputs": [
    {
     "name": "stdout",
     "output_type": "stream",
     "text": [
      "CPU times: user 5min 42s, sys: 4.13 s, total: 5min 46s\n",
      "Wall time: 3min 20s\n"
     ]
    }
   ],
   "source": [
    "%%time\n",
    "data_lm = (TextList.from_df(df_trn_val, path, cols='review_body', \n",
    "                            processor=[OpenFileProcessor(), SPProcessor(max_vocab_sz=15000)])\n",
    "    .split_by_rand_pct(0.1, seed=42)\n",
    "    .label_for_lm()           \n",
    "    .databunch(bs=bs, num_workers=1))"
   ]
  },
  {
   "cell_type": "code",
   "execution_count": 37,
   "metadata": {
    "hidden": true
   },
   "outputs": [],
   "source": [
    "data_lm.save(f'{path}/{lang}_databunch_lm_aws_sp15_multifit')"
   ]
  },
  {
   "cell_type": "markdown",
   "metadata": {
    "hidden": true
   },
   "source": [
    "### Training"
   ]
  },
  {
   "cell_type": "code",
   "execution_count": 38,
   "metadata": {
    "hidden": true
   },
   "outputs": [],
   "source": [
    "data_lm = load_data(path, f'{lang}_databunch_lm_aws_sp15_multifit', bs=bs)"
   ]
  },
  {
   "cell_type": "code",
   "execution_count": 39,
   "metadata": {
    "hidden": true
   },
   "outputs": [],
   "source": [
    "config = awd_lstm_lm_config.copy()\n",
    "config['qrnn'] = True\n",
    "config['n_hid'] = 1550 #default 1152\n",
    "config['n_layers'] = 4 #default 3"
   ]
  },
  {
   "cell_type": "code",
   "execution_count": 40,
   "metadata": {
    "hidden": true
   },
   "outputs": [
    {
     "name": "stdout",
     "output_type": "stream",
     "text": [
      "CPU times: user 4.15 s, sys: 1.78 s, total: 5.93 s\n",
      "Wall time: 5.52 s\n"
     ]
    }
   ],
   "source": [
    "%%time\n",
    "perplexity = Perplexity()\n",
    "learn_lm = language_model_learner(data_lm, AWD_LSTM, config=config, pretrained_fnames=lm_fns3, drop_mult=0.3, \n",
    "                                  metrics=[error_rate, accuracy, perplexity]).to_fp16()"
   ]
  },
  {
   "cell_type": "code",
   "execution_count": 41,
   "metadata": {
    "hidden": true
   },
   "outputs": [
    {
     "data": {
      "text/html": [],
      "text/plain": [
       "<IPython.core.display.HTML object>"
      ]
     },
     "metadata": {},
     "output_type": "display_data"
    },
    {
     "name": "stdout",
     "output_type": "stream",
     "text": [
      "LR Finder is complete, type {learner_name}.recorder.plot() to see the graph.\n"
     ]
    }
   ],
   "source": [
    "learn_lm.lr_find()"
   ]
  },
  {
   "cell_type": "code",
   "execution_count": 42,
   "metadata": {
    "hidden": true
   },
   "outputs": [
    {
     "data": {
      "image/png": "[encoded data removed]",
      "text/plain": [
       "<Figure size 432x288 with 1 Axes>"
      ]
     },
     "metadata": {
      "needs_background": "light"
     },
     "output_type": "display_data"
    }
   ],
   "source": [
    "learn_lm.recorder.plot()"
   ]
  },
  {
   "cell_type": "code",
   "execution_count": 43,
   "metadata": {
    "hidden": true
   },
   "outputs": [],
   "source": [
    "lr = 1e-3\n",
    "lr *= bs/48\n",
    "\n",
    "wd = 0.01"
   ]
  },
  {
   "cell_type": "code",
   "execution_count": 44,
   "metadata": {
    "hidden": true
   },
   "outputs": [
    {
     "data": {
      "text/html": [
       "<table border=\"1\" class=\"dataframe\">\n",
       "  <thead>\n",
       "    <tr style=\"text-align: left;\">\n",
       "      <th>epoch</th>\n",
       "      <th>train_loss</th>\n",
       "      <th>valid_loss</th>\n",
       "      <th>error_rate</th>\n",
       "      <th>accuracy</th>\n",
       "      <th>perplexity</th>\n",
       "      <th>time</th>\n",
       "    </tr>\n",
       "  </thead>\n",
       "  <tbody>\n",
       "    <tr>\n",
       "      <td>0</td>\n",
       "      <td>4.244709</td>\n",
       "      <td>3.975198</td>\n",
       "      <td>0.716463</td>\n",
       "      <td>0.283537</td>\n",
       "      <td>53.260723</td>\n",
       "      <td>04:46</td>\n",
       "    </tr>\n",
       "    <tr>\n",
       "      <td>1</td>\n",
       "      <td>4.097570</td>\n",
       "      <td>3.809512</td>\n",
       "      <td>0.700321</td>\n",
       "      <td>0.299680</td>\n",
       "      <td>45.128353</td>\n",
       "      <td>04:47</td>\n",
       "    </tr>\n",
       "  </tbody>\n",
       "</table>"
      ],
      "text/plain": [
       "<IPython.core.display.HTML object>"
      ]
     },
     "metadata": {},
     "output_type": "display_data"
    }
   ],
   "source": [
    "learn_lm.fit_one_cycle(2, lr*10, wd=wd, moms=(0.8,0.7))"
   ]
  },
  {
   "cell_type": "code",
   "execution_count": 45,
   "metadata": {
    "hidden": true
   },
   "outputs": [],
   "source": [
    "learn_lm.save(f'{lang}fine_tuned1_sp15_multifit')\n",
    "learn_lm.save_encoder(f'{lang}fine_tuned1_enc_sp15_multifit')"
   ]
  },
  {
   "cell_type": "code",
   "execution_count": 46,
   "metadata": {
    "hidden": true
   },
   "outputs": [
    {
     "data": {
      "text/html": [
       "<table border=\"1\" class=\"dataframe\">\n",
       "  <thead>\n",
       "    <tr style=\"text-align: left;\">\n",
       "      <th>epoch</th>\n",
       "      <th>train_loss</th>\n",
       "      <th>valid_loss</th>\n",
       "      <th>error_rate</th>\n",
       "      <th>accuracy</th>\n",
       "      <th>perplexity</th>\n",
       "      <th>time</th>\n",
       "    </tr>\n",
       "  </thead>\n",
       "  <tbody>\n",
       "    <tr>\n",
       "      <td>0</td>\n",
       "      <td>3.854347</td>\n",
       "      <td>3.681821</td>\n",
       "      <td>0.686109</td>\n",
       "      <td>0.313891</td>\n",
       "      <td>39.718689</td>\n",
       "      <td>06:33</td>\n",
       "    </tr>\n",
       "    <tr>\n",
       "      <td>1</td>\n",
       "      <td>3.693963</td>\n",
       "      <td>3.566552</td>\n",
       "      <td>0.672203</td>\n",
       "      <td>0.327797</td>\n",
       "      <td>35.394287</td>\n",
       "      <td>06:34</td>\n",
       "    </tr>\n",
       "    <tr>\n",
       "      <td>2</td>\n",
       "      <td>3.604823</td>\n",
       "      <td>3.477466</td>\n",
       "      <td>0.661110</td>\n",
       "      <td>0.338889</td>\n",
       "      <td>32.377483</td>\n",
       "      <td>06:33</td>\n",
       "    </tr>\n",
       "    <tr>\n",
       "      <td>3</td>\n",
       "      <td>3.532686</td>\n",
       "      <td>3.419939</td>\n",
       "      <td>0.654247</td>\n",
       "      <td>0.345753</td>\n",
       "      <td>30.567617</td>\n",
       "      <td>06:34</td>\n",
       "    </tr>\n",
       "    <tr>\n",
       "      <td>4</td>\n",
       "      <td>3.448142</td>\n",
       "      <td>3.378420</td>\n",
       "      <td>0.649205</td>\n",
       "      <td>0.350795</td>\n",
       "      <td>29.324419</td>\n",
       "      <td>06:33</td>\n",
       "    </tr>\n",
       "    <tr>\n",
       "      <td>5</td>\n",
       "      <td>3.397948</td>\n",
       "      <td>3.344656</td>\n",
       "      <td>0.644829</td>\n",
       "      <td>0.355171</td>\n",
       "      <td>28.350889</td>\n",
       "      <td>06:34</td>\n",
       "    </tr>\n",
       "    <tr>\n",
       "      <td>6</td>\n",
       "      <td>3.383170</td>\n",
       "      <td>3.318856</td>\n",
       "      <td>0.641322</td>\n",
       "      <td>0.358678</td>\n",
       "      <td>27.628752</td>\n",
       "      <td>06:33</td>\n",
       "    </tr>\n",
       "    <tr>\n",
       "      <td>7</td>\n",
       "      <td>3.335981</td>\n",
       "      <td>3.298017</td>\n",
       "      <td>0.638546</td>\n",
       "      <td>0.361455</td>\n",
       "      <td>27.058929</td>\n",
       "      <td>06:34</td>\n",
       "    </tr>\n",
       "    <tr>\n",
       "      <td>8</td>\n",
       "      <td>3.335056</td>\n",
       "      <td>3.279595</td>\n",
       "      <td>0.635979</td>\n",
       "      <td>0.364021</td>\n",
       "      <td>26.565041</td>\n",
       "      <td>06:34</td>\n",
       "    </tr>\n",
       "    <tr>\n",
       "      <td>9</td>\n",
       "      <td>3.286469</td>\n",
       "      <td>3.263093</td>\n",
       "      <td>0.633749</td>\n",
       "      <td>0.366251</td>\n",
       "      <td>26.130245</td>\n",
       "      <td>06:34</td>\n",
       "    </tr>\n",
       "    <tr>\n",
       "      <td>10</td>\n",
       "      <td>3.257748</td>\n",
       "      <td>3.249493</td>\n",
       "      <td>0.631880</td>\n",
       "      <td>0.368120</td>\n",
       "      <td>25.777197</td>\n",
       "      <td>06:35</td>\n",
       "    </tr>\n",
       "    <tr>\n",
       "      <td>11</td>\n",
       "      <td>3.253749</td>\n",
       "      <td>3.235261</td>\n",
       "      <td>0.629580</td>\n",
       "      <td>0.370420</td>\n",
       "      <td>25.412996</td>\n",
       "      <td>06:35</td>\n",
       "    </tr>\n",
       "    <tr>\n",
       "      <td>12</td>\n",
       "      <td>3.218887</td>\n",
       "      <td>3.224089</td>\n",
       "      <td>0.627947</td>\n",
       "      <td>0.372053</td>\n",
       "      <td>25.130625</td>\n",
       "      <td>06:35</td>\n",
       "    </tr>\n",
       "    <tr>\n",
       "      <td>13</td>\n",
       "      <td>3.157785</td>\n",
       "      <td>3.214763</td>\n",
       "      <td>0.626437</td>\n",
       "      <td>0.373563</td>\n",
       "      <td>24.897371</td>\n",
       "      <td>06:35</td>\n",
       "    </tr>\n",
       "    <tr>\n",
       "      <td>14</td>\n",
       "      <td>3.162153</td>\n",
       "      <td>3.208759</td>\n",
       "      <td>0.625334</td>\n",
       "      <td>0.374666</td>\n",
       "      <td>24.748331</td>\n",
       "      <td>06:34</td>\n",
       "    </tr>\n",
       "    <tr>\n",
       "      <td>15</td>\n",
       "      <td>3.142536</td>\n",
       "      <td>3.205310</td>\n",
       "      <td>0.624585</td>\n",
       "      <td>0.375415</td>\n",
       "      <td>24.663157</td>\n",
       "      <td>06:34</td>\n",
       "    </tr>\n",
       "    <tr>\n",
       "      <td>16</td>\n",
       "      <td>3.100976</td>\n",
       "      <td>3.203501</td>\n",
       "      <td>0.624393</td>\n",
       "      <td>0.375607</td>\n",
       "      <td>24.618622</td>\n",
       "      <td>06:36</td>\n",
       "    </tr>\n",
       "    <tr>\n",
       "      <td>17</td>\n",
       "      <td>3.119170</td>\n",
       "      <td>3.203682</td>\n",
       "      <td>0.624327</td>\n",
       "      <td>0.375673</td>\n",
       "      <td>24.623070</td>\n",
       "      <td>06:35</td>\n",
       "    </tr>\n",
       "  </tbody>\n",
       "</table>"
      ],
      "text/plain": [
       "<IPython.core.display.HTML object>"
      ]
     },
     "metadata": {},
     "output_type": "display_data"
    },
    {
     "data": {
      "image/png": "[encoded data removed]",
      "text/plain": [
       "<Figure size 432x288 with 1 Axes>"
      ]
     },
     "metadata": {},
     "output_type": "display_data"
    }
   ],
   "source": [
    "learn_lm.unfreeze()\n",
    "learn_lm.fit_one_cycle(18, lr, wd=wd, moms=(0.8,0.7), callbacks=[ShowGraph(learn_lm)])"
   ]
  },
  {
   "cell_type": "code",
   "execution_count": 47,
   "metadata": {
    "hidden": true
   },
   "outputs": [],
   "source": [
    "learn_lm.save(f'{lang}fine_tuned2_sp15_multifit')\n",
    "learn_lm.save_encoder(f'{lang}fine_tuned2_enc_sp15_multifit')"
   ]
  },
  {
   "cell_type": "markdown",
   "metadata": {
    "hidden": true
   },
   "source": [
    "Save best LM learner and its encoder"
   ]
  },
  {
   "cell_type": "code",
   "execution_count": 48,
   "metadata": {
    "hidden": true
   },
   "outputs": [],
   "source": [
    "learn_lm.save(f'{lang}fine_tuned_sp15_multifit')\n",
    "learn_lm.save_encoder(f'{lang}fine_tuned_enc_sp15_multifit')"
   ]
  },
  {
   "cell_type": "markdown",
   "metadata": {
    "heading_collapsed": true
   },
   "source": [
    "## Fine-tuning \"backward LM\""
   ]
  },
  {
   "cell_type": "markdown",
   "metadata": {
    "hidden": true
   },
   "source": [
    "### Databunch"
   ]
  },
  {
   "cell_type": "code",
   "execution_count": 49,
   "metadata": {
    "hidden": true
   },
   "outputs": [
    {
     "name": "stdout",
     "output_type": "stream",
     "text": [
      "CPU times: user 5min 56s, sys: 4.29 s, total: 6min 1s\n",
      "Wall time: 3min 20s\n"
     ]
    }
   ],
   "source": [
    "%%time\n",
    "data_lm = (TextList.from_df(df_trn_val, path, cols='review_body', \n",
    "                            processor=[OpenFileProcessor(), SPProcessor(max_vocab_sz=15000)])\n",
    "    .split_by_rand_pct(0.1, seed=42)\n",
    "    .label_for_lm()           \n",
    "    .databunch(bs=bs, num_workers=1, backwards=True))"
   ]
  },
  {
   "cell_type": "code",
   "execution_count": 50,
   "metadata": {
    "hidden": true
   },
   "outputs": [],
   "source": [
    "data_lm.save(f'{path}/{lang}_databunch_lm_aws_sp15_multifit_bwd')"
   ]
  },
  {
   "cell_type": "markdown",
   "metadata": {
    "hidden": true
   },
   "source": [
    "### Training"
   ]
  },
  {
   "cell_type": "code",
   "execution_count": 10,
   "metadata": {
    "hidden": true
   },
   "outputs": [
    {
     "name": "stdout",
     "output_type": "stream",
     "text": [
      "CPU times: user 2.08 s, sys: 796 ms, total: 2.88 s\n",
      "Wall time: 4.29 s\n"
     ]
    }
   ],
   "source": [
    "%%time\n",
    "data_lm = load_data(path, f'{lang}_databunch_lm_aws_sp15_multifit_bwd', bs=bs, backwards=True)"
   ]
  },
  {
   "cell_type": "code",
   "execution_count": 11,
   "metadata": {
    "hidden": true
   },
   "outputs": [],
   "source": [
    "config = awd_lstm_lm_config.copy()\n",
    "config['qrnn'] = True\n",
    "config['n_hid'] = 1550 #default 1152\n",
    "config['n_layers'] = 4 #default 3"
   ]
  },
  {
   "cell_type": "code",
   "execution_count": 12,
   "metadata": {
    "hidden": true
   },
   "outputs": [
    {
     "name": "stdout",
     "output_type": "stream",
     "text": [
      "CPU times: user 5.11 s, sys: 2.12 s, total: 7.22 s\n",
      "Wall time: 37.2 s\n"
     ]
    }
   ],
   "source": [
    "%%time\n",
    "perplexity = Perplexity()\n",
    "learn_lm = language_model_learner(data_lm, AWD_LSTM, config=config, pretrained_fnames=lm_fns3_bwd, drop_mult=0.3, \n",
    "                                  metrics=[error_rate, accuracy, perplexity]).to_fp16()"
   ]
  },
  {
   "cell_type": "code",
   "execution_count": 13,
   "metadata": {
    "hidden": true
   },
   "outputs": [
    {
     "data": {
      "text/html": [],
      "text/plain": [
       "<IPython.core.display.HTML object>"
      ]
     },
     "metadata": {},
     "output_type": "display_data"
    },
    {
     "name": "stdout",
     "output_type": "stream",
     "text": [
      "LR Finder is complete, type {learner_name}.recorder.plot() to see the graph.\n"
     ]
    }
   ],
   "source": [
    "learn_lm.lr_find()"
   ]
  },
  {
   "cell_type": "code",
   "execution_count": 14,
   "metadata": {
    "hidden": true
   },
   "outputs": [
    {
     "data": {
      "image/png": "[encoded data removed]",
      "text/plain": [
       "<Figure size 432x288 with 1 Axes>"
      ]
     },
     "metadata": {
      "needs_background": "light"
     },
     "output_type": "display_data"
    }
   ],
   "source": [
    "learn_lm.recorder.plot()"
   ]
  },
  {
   "cell_type": "code",
   "execution_count": 15,
   "metadata": {
    "hidden": true
   },
   "outputs": [],
   "source": [
    "lr = 1e-3\n",
    "lr *= bs/48\n",
    "\n",
    "wd = 0.01"
   ]
  },
  {
   "cell_type": "code",
   "execution_count": 16,
   "metadata": {
    "hidden": true
   },
   "outputs": [
    {
     "data": {
      "text/html": [
       "<table border=\"1\" class=\"dataframe\">\n",
       "  <thead>\n",
       "    <tr style=\"text-align: left;\">\n",
       "      <th>epoch</th>\n",
       "      <th>train_loss</th>\n",
       "      <th>valid_loss</th>\n",
       "      <th>error_rate</th>\n",
       "      <th>accuracy</th>\n",
       "      <th>perplexity</th>\n",
       "      <th>time</th>\n",
       "    </tr>\n",
       "  </thead>\n",
       "  <tbody>\n",
       "    <tr>\n",
       "      <td>0</td>\n",
       "      <td>4.257432</td>\n",
       "      <td>3.958341</td>\n",
       "      <td>0.654464</td>\n",
       "      <td>0.345536</td>\n",
       "      <td>52.370190</td>\n",
       "      <td>05:09</td>\n",
       "    </tr>\n",
       "    <tr>\n",
       "      <td>1</td>\n",
       "      <td>4.094646</td>\n",
       "      <td>3.804180</td>\n",
       "      <td>0.640216</td>\n",
       "      <td>0.359784</td>\n",
       "      <td>44.888344</td>\n",
       "      <td>05:09</td>\n",
       "    </tr>\n",
       "  </tbody>\n",
       "</table>"
      ],
      "text/plain": [
       "<IPython.core.display.HTML object>"
      ]
     },
     "metadata": {},
     "output_type": "display_data"
    },
    {
     "data": {
      "image/png": "[encoded data removed]",
      "text/plain": [
       "<Figure size 432x288 with 1 Axes>"
      ]
     },
     "metadata": {},
     "output_type": "display_data"
    }
   ],
   "source": [
    "learn_lm.fit_one_cycle(2, lr*10, wd=wd, moms=(0.8,0.7), callbacks=[ShowGraph(learn_lm)])"
   ]
  },
  {
   "cell_type": "code",
   "execution_count": 17,
   "metadata": {
    "hidden": true
   },
   "outputs": [],
   "source": [
    "learn_lm.save(f'{lang}fine_tuned1_sp15_multifit_bwd')\n",
    "learn_lm.save_encoder(f'{lang}fine_tuned1_enc_sp15_multifit_bwd')"
   ]
  },
  {
   "cell_type": "code",
   "execution_count": 18,
   "metadata": {
    "hidden": true
   },
   "outputs": [
    {
     "data": {
      "text/html": [
       "<table border=\"1\" class=\"dataframe\">\n",
       "  <thead>\n",
       "    <tr style=\"text-align: left;\">\n",
       "      <th>epoch</th>\n",
       "      <th>train_loss</th>\n",
       "      <th>valid_loss</th>\n",
       "      <th>error_rate</th>\n",
       "      <th>accuracy</th>\n",
       "      <th>perplexity</th>\n",
       "      <th>time</th>\n",
       "    </tr>\n",
       "  </thead>\n",
       "  <tbody>\n",
       "    <tr>\n",
       "      <td>0</td>\n",
       "      <td>3.825450</td>\n",
       "      <td>3.684128</td>\n",
       "      <td>0.626069</td>\n",
       "      <td>0.373931</td>\n",
       "      <td>39.810345</td>\n",
       "      <td>06:55</td>\n",
       "    </tr>\n",
       "    <tr>\n",
       "      <td>1</td>\n",
       "      <td>3.696124</td>\n",
       "      <td>3.573147</td>\n",
       "      <td>0.612665</td>\n",
       "      <td>0.387335</td>\n",
       "      <td>35.628513</td>\n",
       "      <td>06:54</td>\n",
       "    </tr>\n",
       "    <tr>\n",
       "      <td>2</td>\n",
       "      <td>3.586809</td>\n",
       "      <td>3.487495</td>\n",
       "      <td>0.602351</td>\n",
       "      <td>0.397648</td>\n",
       "      <td>32.703949</td>\n",
       "      <td>06:54</td>\n",
       "    </tr>\n",
       "    <tr>\n",
       "      <td>3</td>\n",
       "      <td>3.527603</td>\n",
       "      <td>3.429095</td>\n",
       "      <td>0.595401</td>\n",
       "      <td>0.404600</td>\n",
       "      <td>30.848778</td>\n",
       "      <td>06:56</td>\n",
       "    </tr>\n",
       "    <tr>\n",
       "      <td>4</td>\n",
       "      <td>3.447804</td>\n",
       "      <td>3.389612</td>\n",
       "      <td>0.590796</td>\n",
       "      <td>0.409204</td>\n",
       "      <td>29.654394</td>\n",
       "      <td>06:56</td>\n",
       "    </tr>\n",
       "    <tr>\n",
       "      <td>5</td>\n",
       "      <td>3.418499</td>\n",
       "      <td>3.356368</td>\n",
       "      <td>0.586924</td>\n",
       "      <td>0.413076</td>\n",
       "      <td>28.684744</td>\n",
       "      <td>06:55</td>\n",
       "    </tr>\n",
       "    <tr>\n",
       "      <td>6</td>\n",
       "      <td>3.359818</td>\n",
       "      <td>3.330872</td>\n",
       "      <td>0.583699</td>\n",
       "      <td>0.416301</td>\n",
       "      <td>27.962671</td>\n",
       "      <td>06:55</td>\n",
       "    </tr>\n",
       "    <tr>\n",
       "      <td>7</td>\n",
       "      <td>3.353268</td>\n",
       "      <td>3.309207</td>\n",
       "      <td>0.581068</td>\n",
       "      <td>0.418932</td>\n",
       "      <td>27.363369</td>\n",
       "      <td>06:55</td>\n",
       "    </tr>\n",
       "    <tr>\n",
       "      <td>8</td>\n",
       "      <td>3.325843</td>\n",
       "      <td>3.290632</td>\n",
       "      <td>0.578592</td>\n",
       "      <td>0.421408</td>\n",
       "      <td>26.859846</td>\n",
       "      <td>06:54</td>\n",
       "    </tr>\n",
       "    <tr>\n",
       "      <td>9</td>\n",
       "      <td>3.301007</td>\n",
       "      <td>3.276146</td>\n",
       "      <td>0.576314</td>\n",
       "      <td>0.423686</td>\n",
       "      <td>26.473545</td>\n",
       "      <td>06:55</td>\n",
       "    </tr>\n",
       "    <tr>\n",
       "      <td>10</td>\n",
       "      <td>3.256238</td>\n",
       "      <td>3.260144</td>\n",
       "      <td>0.574503</td>\n",
       "      <td>0.425498</td>\n",
       "      <td>26.053331</td>\n",
       "      <td>06:56</td>\n",
       "    </tr>\n",
       "    <tr>\n",
       "      <td>11</td>\n",
       "      <td>3.243911</td>\n",
       "      <td>3.247055</td>\n",
       "      <td>0.572550</td>\n",
       "      <td>0.427449</td>\n",
       "      <td>25.714489</td>\n",
       "      <td>06:55</td>\n",
       "    </tr>\n",
       "    <tr>\n",
       "      <td>12</td>\n",
       "      <td>3.210643</td>\n",
       "      <td>3.235503</td>\n",
       "      <td>0.570911</td>\n",
       "      <td>0.429089</td>\n",
       "      <td>25.419195</td>\n",
       "      <td>06:55</td>\n",
       "    </tr>\n",
       "    <tr>\n",
       "      <td>13</td>\n",
       "      <td>3.161416</td>\n",
       "      <td>3.226885</td>\n",
       "      <td>0.569436</td>\n",
       "      <td>0.430564</td>\n",
       "      <td>25.201000</td>\n",
       "      <td>06:56</td>\n",
       "    </tr>\n",
       "    <tr>\n",
       "      <td>14</td>\n",
       "      <td>3.180597</td>\n",
       "      <td>3.220328</td>\n",
       "      <td>0.568279</td>\n",
       "      <td>0.431721</td>\n",
       "      <td>25.036308</td>\n",
       "      <td>06:56</td>\n",
       "    </tr>\n",
       "    <tr>\n",
       "      <td>15</td>\n",
       "      <td>3.163556</td>\n",
       "      <td>3.216531</td>\n",
       "      <td>0.567672</td>\n",
       "      <td>0.432328</td>\n",
       "      <td>24.941473</td>\n",
       "      <td>06:55</td>\n",
       "    </tr>\n",
       "    <tr>\n",
       "      <td>16</td>\n",
       "      <td>3.117659</td>\n",
       "      <td>3.215068</td>\n",
       "      <td>0.567509</td>\n",
       "      <td>0.432491</td>\n",
       "      <td>24.904964</td>\n",
       "      <td>06:55</td>\n",
       "    </tr>\n",
       "    <tr>\n",
       "      <td>17</td>\n",
       "      <td>3.112579</td>\n",
       "      <td>3.215062</td>\n",
       "      <td>0.567476</td>\n",
       "      <td>0.432524</td>\n",
       "      <td>24.904900</td>\n",
       "      <td>06:55</td>\n",
       "    </tr>\n",
       "  </tbody>\n",
       "</table>"
      ],
      "text/plain": [
       "<IPython.core.display.HTML object>"
      ]
     },
     "metadata": {},
     "output_type": "display_data"
    },
    {
     "data": {
      "image/png": "[encoded data removed]",
      "text/plain": [
       "<Figure size 432x288 with 1 Axes>"
      ]
     },
     "metadata": {},
     "output_type": "display_data"
    }
   ],
   "source": [
    "learn_lm.unfreeze()\n",
    "learn_lm.fit_one_cycle(18, lr, wd=wd, moms=(0.8,0.7), callbacks=[ShowGraph(learn_lm)])"
   ]
  },
  {
   "cell_type": "code",
   "execution_count": 19,
   "metadata": {
    "hidden": true
   },
   "outputs": [],
   "source": [
    "learn_lm.save(f'{lang}fine_tuned2_sp15_multifit_bwd')\n",
    "learn_lm.save_encoder(f'{lang}fine_tuned2_enc_sp15_multifit_bwd')"
   ]
  },
  {
   "cell_type": "markdown",
   "metadata": {
    "hidden": true
   },
   "source": [
    "Save best LM learner and its encoder"
   ]
  },
  {
   "cell_type": "code",
   "execution_count": 20,
   "metadata": {
    "hidden": true
   },
   "outputs": [],
   "source": [
    "learn_lm.save(f'{lang}fine_tuned_sp15_multifit_bwd')\n",
    "learn_lm.save_encoder(f'{lang}fine_tuned_enc_sp15_multifit_bwd')"
   ]
  },
  {
   "cell_type": "markdown",
   "metadata": {
    "heading_collapsed": true
   },
   "source": [
    "## Fine-tuning \"forward Classifier\""
   ]
  },
  {
   "cell_type": "code",
   "execution_count": 21,
   "metadata": {
    "hidden": true
   },
   "outputs": [],
   "source": [
    "bs = 18"
   ]
  },
  {
   "cell_type": "markdown",
   "metadata": {
    "heading_collapsed": true,
    "hidden": true
   },
   "source": [
    "### Databunch"
   ]
  },
  {
   "cell_type": "code",
   "execution_count": 22,
   "metadata": {
    "hidden": true
   },
   "outputs": [
    {
     "name": "stdout",
     "output_type": "stream",
     "text": [
      "CPU times: user 2.17 s, sys: 660 ms, total: 2.83 s\n",
      "Wall time: 4.46 s\n"
     ]
    }
   ],
   "source": [
    "%%time\n",
    "data_lm = load_data(path, f'{lang}_databunch_lm_aws_sp15_multifit', bs=bs)"
   ]
  },
  {
   "cell_type": "code",
   "execution_count": 23,
   "metadata": {
    "hidden": true
   },
   "outputs": [
    {
     "name": "stdout",
     "output_type": "stream",
     "text": [
      "CPU times: user 7min 37s, sys: 5.3 s, total: 7min 42s\n",
      "Wall time: 4min 44s\n"
     ]
    }
   ],
   "source": [
    "%%time\n",
    "data_clas = (TextList.from_df(df_trn_val, path, vocab=data_lm.vocab, cols='review_body', \n",
    "                              processor=[OpenFileProcessor(), SPProcessor(max_vocab_sz=15000)])\n",
    "    .split_by_rand_pct(0.1, seed=42)\n",
    "    .label_from_df(cols='label')\n",
    "    .databunch(bs=bs, num_workers=1))"
   ]
  },
  {
   "cell_type": "code",
   "execution_count": 24,
   "metadata": {
    "hidden": true
   },
   "outputs": [
    {
     "name": "stdout",
     "output_type": "stream",
     "text": [
      "CPU times: user 6.29 s, sys: 1.1 s, total: 7.39 s\n",
      "Wall time: 6.92 s\n"
     ]
    }
   ],
   "source": [
    "%%time\n",
    "data_clas.save(f'{lang}_textlist_class_sp15_multifit')"
   ]
  },
  {
   "cell_type": "markdown",
   "metadata": {
    "hidden": true
   },
   "source": [
    "### Get weights to penalize loss function of the majority class"
   ]
  },
  {
   "cell_type": "code",
   "execution_count": 10,
   "metadata": {
    "hidden": true
   },
   "outputs": [
    {
     "name": "stdout",
     "output_type": "stream",
     "text": [
      "CPU times: user 13.9 s, sys: 836 ms, total: 14.8 s\n",
      "Wall time: 14.5 s\n"
     ]
    }
   ],
   "source": [
    "%%time\n",
    "data_clas = load_data(path, f'{lang}_textlist_class_sp15_multifit', bs=bs, num_workers=1)"
   ]
  },
  {
   "cell_type": "code",
   "execution_count": 11,
   "metadata": {
    "hidden": true
   },
   "outputs": [
    {
     "data": {
      "text/plain": [
       "(199311, 22145, 221456)"
      ]
     },
     "execution_count": 11,
     "metadata": {},
     "output_type": "execute_result"
    }
   ],
   "source": [
    "num_trn = len(data_clas.train_ds.x)\n",
    "num_val = len(data_clas.valid_ds.x)\n",
    "num_trn, num_val, num_trn+num_val"
   ]
  },
  {
   "cell_type": "code",
   "execution_count": 12,
   "metadata": {
    "hidden": true
   },
   "outputs": [
    {
     "data": {
      "text/plain": [
       "(array([ 22694, 176617]), array([ 2412, 19733]))"
      ]
     },
     "execution_count": 12,
     "metadata": {},
     "output_type": "execute_result"
    }
   ],
   "source": [
    "trn_LabelCounts = np.unique(data_clas.train_ds.y.items, return_counts=True)[1]\n",
    "val_LabelCounts = np.unique(data_clas.valid_ds.y.items, return_counts=True)[1]\n",
    "trn_LabelCounts, val_LabelCounts"
   ]
  },
  {
   "cell_type": "code",
   "execution_count": 13,
   "metadata": {
    "hidden": true
   },
   "outputs": [
    {
     "data": {
      "text/plain": [
       "([0.8861377445299056, 0.11386225547009443],\n",
       " [0.891081508241138, 0.10891849175886203])"
      ]
     },
     "execution_count": 13,
     "metadata": {},
     "output_type": "execute_result"
    }
   ],
   "source": [
    "trn_weights = [1 - count/num_trn for count in trn_LabelCounts]\n",
    "val_weights = [1 - count/num_val for count in val_LabelCounts]\n",
    "trn_weights, val_weights"
   ]
  },
  {
   "cell_type": "markdown",
   "metadata": {
    "hidden": true
   },
   "source": [
    "### Training (Loss = FlattenedLoss of weighted CrossEntropyLoss)"
   ]
  },
  {
   "cell_type": "code",
   "execution_count": 29,
   "metadata": {
    "hidden": true
   },
   "outputs": [
    {
     "name": "stdout",
     "output_type": "stream",
     "text": [
      "CPU times: user 15.6 s, sys: 640 ms, total: 16.3 s\n",
      "Wall time: 15.4 s\n"
     ]
    }
   ],
   "source": [
    "%%time\n",
    "data_clas = load_data(path, f'{lang}_textlist_class_sp15_multifit', bs=bs, num_workers=1)"
   ]
  },
  {
   "cell_type": "code",
   "execution_count": 30,
   "metadata": {
    "hidden": true
   },
   "outputs": [],
   "source": [
    "config = awd_lstm_clas_config.copy()\n",
    "config['qrnn'] = True\n",
    "config['n_hid'] = 1550 #default 1152\n",
    "config['n_layers'] = 4 #default 3"
   ]
  },
  {
   "cell_type": "code",
   "execution_count": 31,
   "metadata": {
    "hidden": true
   },
   "outputs": [],
   "source": [
    "learn_c = text_classifier_learner(data_clas, AWD_LSTM, config=config, pretrained=False, drop_mult=0.5, \n",
    "                                  metrics=[accuracy,f1]).to_fp16()\n",
    "learn_c.load_encoder(f'{lang}fine_tuned_enc_sp15_multifit');"
   ]
  },
  {
   "cell_type": "markdown",
   "metadata": {
    "hidden": true
   },
   "source": [
    "#### Change loss function"
   ]
  },
  {
   "cell_type": "code",
   "execution_count": 32,
   "metadata": {
    "hidden": true
   },
   "outputs": [
    {
     "data": {
      "text/plain": [
       "FlattenedLoss of CrossEntropyLoss()"
      ]
     },
     "execution_count": 32,
     "metadata": {},
     "output_type": "execute_result"
    }
   ],
   "source": [
    "learn_c.loss_func"
   ]
  },
  {
   "cell_type": "code",
   "execution_count": 33,
   "metadata": {
    "hidden": true
   },
   "outputs": [],
   "source": [
    "loss_weights = torch.FloatTensor(trn_weights).cuda()\n",
    "learn_c.loss_func = partial(F.cross_entropy, weight=loss_weights)"
   ]
  },
  {
   "cell_type": "code",
   "execution_count": 34,
   "metadata": {
    "hidden": true
   },
   "outputs": [
    {
     "data": {
      "text/plain": [
       "functools.partial(<function cross_entropy at 0x7f35bf4a9170>, weight=tensor([0.8861, 0.1139], device='cuda:0'))"
      ]
     },
     "execution_count": 34,
     "metadata": {},
     "output_type": "execute_result"
    }
   ],
   "source": [
    "learn_c.loss_func"
   ]
  },
  {
   "cell_type": "markdown",
   "metadata": {
    "hidden": true
   },
   "source": [
    "#### Training"
   ]
  },
  {
   "cell_type": "code",
   "execution_count": 35,
   "metadata": {
    "hidden": true
   },
   "outputs": [],
   "source": [
    "learn_c.freeze()"
   ]
  },
  {
   "cell_type": "code",
   "execution_count": 36,
   "metadata": {
    "hidden": true
   },
   "outputs": [
    {
     "data": {
      "text/html": [],
      "text/plain": [
       "<IPython.core.display.HTML object>"
      ]
     },
     "metadata": {},
     "output_type": "display_data"
    },
    {
     "name": "stdout",
     "output_type": "stream",
     "text": [
      "LR Finder is complete, type {learner_name}.recorder.plot() to see the graph.\n"
     ]
    }
   ],
   "source": [
    "learn_c.lr_find()"
   ]
  },
  {
   "cell_type": "code",
   "execution_count": 37,
   "metadata": {
    "hidden": true
   },
   "outputs": [
    {
     "data": {
      "image/png": "[encoded data removed]",
      "text/plain": [
       "<Figure size 432x288 with 1 Axes>"
      ]
     },
     "metadata": {
      "needs_background": "light"
     },
     "output_type": "display_data"
    }
   ],
   "source": [
    "learn_c.recorder.plot()"
   ]
  },
  {
   "cell_type": "code",
   "execution_count": 38,
   "metadata": {
    "hidden": true
   },
   "outputs": [],
   "source": [
    "lr = 2e-2\n",
    "lr *= bs/48\n",
    "\n",
    "wd = 0.01"
   ]
  },
  {
   "cell_type": "code",
   "execution_count": 39,
   "metadata": {
    "hidden": true,
    "scrolled": false
   },
   "outputs": [
    {
     "data": {
      "text/html": [
       "<table border=\"1\" class=\"dataframe\">\n",
       "  <thead>\n",
       "    <tr style=\"text-align: left;\">\n",
       "      <th>epoch</th>\n",
       "      <th>train_loss</th>\n",
       "      <th>valid_loss</th>\n",
       "      <th>accuracy</th>\n",
       "      <th>f1</th>\n",
       "      <th>time</th>\n",
       "    </tr>\n",
       "  </thead>\n",
       "  <tbody>\n",
       "    <tr>\n",
       "      <td>0</td>\n",
       "      <td>0.401478</td>\n",
       "      <td>0.252659</td>\n",
       "      <td>0.891082</td>\n",
       "      <td>0.932395</td>\n",
       "      <td>04:16</td>\n",
       "    </tr>\n",
       "    <tr>\n",
       "      <td>1</td>\n",
       "      <td>0.347565</td>\n",
       "      <td>0.236773</td>\n",
       "      <td>0.897584</td>\n",
       "      <td>0.936454</td>\n",
       "      <td>04:44</td>\n",
       "    </tr>\n",
       "  </tbody>\n",
       "</table>"
      ],
      "text/plain": [
       "<IPython.core.display.HTML object>"
      ]
     },
     "metadata": {},
     "output_type": "display_data"
    }
   ],
   "source": [
    "learn_c.fit_one_cycle(2, lr, wd=wd, moms=(0.8,0.7))"
   ]
  },
  {
   "cell_type": "code",
   "execution_count": 40,
   "metadata": {
    "hidden": true
   },
   "outputs": [],
   "source": [
    "learn_c.save(f'{lang}clas1_sp15_multifit')"
   ]
  },
  {
   "cell_type": "code",
   "execution_count": 41,
   "metadata": {
    "hidden": true
   },
   "outputs": [
    {
     "data": {
      "text/html": [
       "<table border=\"1\" class=\"dataframe\">\n",
       "  <thead>\n",
       "    <tr style=\"text-align: left;\">\n",
       "      <th>epoch</th>\n",
       "      <th>train_loss</th>\n",
       "      <th>valid_loss</th>\n",
       "      <th>accuracy</th>\n",
       "      <th>f1</th>\n",
       "      <th>time</th>\n",
       "    </tr>\n",
       "  </thead>\n",
       "  <tbody>\n",
       "    <tr>\n",
       "      <td>0</td>\n",
       "      <td>0.389776</td>\n",
       "      <td>0.252349</td>\n",
       "      <td>0.870987</td>\n",
       "      <td>0.917717</td>\n",
       "      <td>05:00</td>\n",
       "    </tr>\n",
       "    <tr>\n",
       "      <td>1</td>\n",
       "      <td>0.363536</td>\n",
       "      <td>0.240705</td>\n",
       "      <td>0.899842</td>\n",
       "      <td>0.938135</td>\n",
       "      <td>05:04</td>\n",
       "    </tr>\n",
       "  </tbody>\n",
       "</table>"
      ],
      "text/plain": [
       "<IPython.core.display.HTML object>"
      ]
     },
     "metadata": {},
     "output_type": "display_data"
    }
   ],
   "source": [
    "learn_c.load(f'{lang}clas1_sp15_multifit');\n",
    "learn_c.fit_one_cycle(2, lr, wd=wd, moms=(0.8,0.7))"
   ]
  },
  {
   "cell_type": "code",
   "execution_count": 42,
   "metadata": {
    "hidden": true
   },
   "outputs": [],
   "source": [
    "learn_c.save(f'{lang}clas2_sp15_multifit')"
   ]
  },
  {
   "cell_type": "code",
   "execution_count": 43,
   "metadata": {
    "hidden": true
   },
   "outputs": [
    {
     "data": {
      "text/html": [
       "<table border=\"1\" class=\"dataframe\">\n",
       "  <thead>\n",
       "    <tr style=\"text-align: left;\">\n",
       "      <th>epoch</th>\n",
       "      <th>train_loss</th>\n",
       "      <th>valid_loss</th>\n",
       "      <th>accuracy</th>\n",
       "      <th>f1</th>\n",
       "      <th>time</th>\n",
       "    </tr>\n",
       "  </thead>\n",
       "  <tbody>\n",
       "    <tr>\n",
       "      <td>0</td>\n",
       "      <td>0.330391</td>\n",
       "      <td>0.189252</td>\n",
       "      <td>0.939490</td>\n",
       "      <td>0.963542</td>\n",
       "      <td>04:48</td>\n",
       "    </tr>\n",
       "    <tr>\n",
       "      <td>1</td>\n",
       "      <td>0.287780</td>\n",
       "      <td>0.188604</td>\n",
       "      <td>0.953082</td>\n",
       "      <td>0.972258</td>\n",
       "      <td>05:00</td>\n",
       "    </tr>\n",
       "  </tbody>\n",
       "</table>"
      ],
      "text/plain": [
       "<IPython.core.display.HTML object>"
      ]
     },
     "metadata": {},
     "output_type": "display_data"
    }
   ],
   "source": [
    "learn_c.load(f'{lang}clas2_sp15_multifit');\n",
    "learn_c.freeze_to(-2)\n",
    "learn_c.fit_one_cycle(2, slice(lr/(2.6**4),lr), wd=wd, moms=(0.8,0.7))"
   ]
  },
  {
   "cell_type": "code",
   "execution_count": 44,
   "metadata": {
    "hidden": true
   },
   "outputs": [],
   "source": [
    "learn_c.save(f'{lang}clas3_sp15_multifit')"
   ]
  },
  {
   "cell_type": "code",
   "execution_count": 45,
   "metadata": {
    "hidden": true
   },
   "outputs": [
    {
     "data": {
      "text/html": [
       "<table border=\"1\" class=\"dataframe\">\n",
       "  <thead>\n",
       "    <tr style=\"text-align: left;\">\n",
       "      <th>epoch</th>\n",
       "      <th>train_loss</th>\n",
       "      <th>valid_loss</th>\n",
       "      <th>accuracy</th>\n",
       "      <th>f1</th>\n",
       "      <th>time</th>\n",
       "    </tr>\n",
       "  </thead>\n",
       "  <tbody>\n",
       "    <tr>\n",
       "      <td>0</td>\n",
       "      <td>0.259710</td>\n",
       "      <td>0.187999</td>\n",
       "      <td>0.954617</td>\n",
       "      <td>0.973095</td>\n",
       "      <td>05:58</td>\n",
       "    </tr>\n",
       "    <tr>\n",
       "      <td>1</td>\n",
       "      <td>0.222542</td>\n",
       "      <td>0.173242</td>\n",
       "      <td>0.957823</td>\n",
       "      <td>0.975082</td>\n",
       "      <td>06:47</td>\n",
       "    </tr>\n",
       "  </tbody>\n",
       "</table>"
      ],
      "text/plain": [
       "<IPython.core.display.HTML object>"
      ]
     },
     "metadata": {},
     "output_type": "display_data"
    }
   ],
   "source": [
    "learn_c.load(f'{lang}clas3_sp15_multifit');\n",
    "learn_c.freeze_to(-3)\n",
    "learn_c.fit_one_cycle(2, slice(lr/2/(2.6**4),lr/2), wd=wd, moms=(0.8,0.7))"
   ]
  },
  {
   "cell_type": "code",
   "execution_count": 46,
   "metadata": {
    "hidden": true
   },
   "outputs": [],
   "source": [
    "learn_c.save(f'{lang}clas4_sp15_multifit')"
   ]
  },
  {
   "cell_type": "code",
   "execution_count": 47,
   "metadata": {
    "hidden": true
   },
   "outputs": [
    {
     "data": {
      "text/html": [
       "<table border=\"1\" class=\"dataframe\">\n",
       "  <thead>\n",
       "    <tr style=\"text-align: left;\">\n",
       "      <th>epoch</th>\n",
       "      <th>train_loss</th>\n",
       "      <th>valid_loss</th>\n",
       "      <th>accuracy</th>\n",
       "      <th>f1</th>\n",
       "      <th>time</th>\n",
       "    </tr>\n",
       "  </thead>\n",
       "  <tbody>\n",
       "    <tr>\n",
       "      <td>0</td>\n",
       "      <td>0.224175</td>\n",
       "      <td>0.161613</td>\n",
       "      <td>0.953217</td>\n",
       "      <td>0.972256</td>\n",
       "      <td>10:45</td>\n",
       "    </tr>\n",
       "  </tbody>\n",
       "</table>"
      ],
      "text/plain": [
       "<IPython.core.display.HTML object>"
      ]
     },
     "metadata": {},
     "output_type": "display_data"
    }
   ],
   "source": [
    "learn_c.load(f'{lang}clas4_sp15_multifit');\n",
    "learn_c.unfreeze()\n",
    "learn_c.fit_one_cycle(1, slice(lr/10/(2.6**4),lr/10), wd=wd, moms=(0.8,0.7))"
   ]
  },
  {
   "cell_type": "code",
   "execution_count": 48,
   "metadata": {
    "hidden": true
   },
   "outputs": [],
   "source": [
    "learn_c.save(f'{lang}clas5_sp15_multifit')"
   ]
  },
  {
   "cell_type": "code",
   "execution_count": 49,
   "metadata": {
    "hidden": true
   },
   "outputs": [],
   "source": [
    "learn_c.load(f'{lang}clas5_sp15_multifit')\n",
    "learn_c.save(f'{lang}clas_sp15_multifit')"
   ]
  },
  {
   "cell_type": "code",
   "execution_count": 50,
   "metadata": {
    "hidden": true
   },
   "outputs": [],
   "source": [
    "learn_c.load(f'{lang}clas_sp15_multifit');\n",
    "learn_c.to_fp32().export(f'{lang}_classifier_sp15_multifit')"
   ]
  },
  {
   "cell_type": "markdown",
   "metadata": {
    "hidden": true
   },
   "source": [
    "### Confusion matrix"
   ]
  },
  {
   "cell_type": "code",
   "execution_count": 14,
   "metadata": {
    "hidden": true
   },
   "outputs": [
    {
     "name": "stdout",
     "output_type": "stream",
     "text": [
      "CPU times: user 15.6 s, sys: 828 ms, total: 16.5 s\n",
      "Wall time: 15.6 s\n"
     ]
    }
   ],
   "source": [
    "%%time\n",
    "data_clas = load_data(path, f'{lang}_textlist_class_sp15_multifit', bs=bs, num_workers=1)\n",
    "\n",
    "config = awd_lstm_clas_config.copy()\n",
    "config['qrnn'] = True\n",
    "config['n_hid'] = 1550 #default 1152\n",
    "config['n_layers'] = 4 #default 3\n",
    "\n",
    "learn_c = text_classifier_learner(data_clas, AWD_LSTM, config=config, pretrained=False, drop_mult=0.5, \n",
    "                                  metrics=[accuracy,f1])\n",
    "learn_c.load_encoder(f'{lang}fine_tuned_enc_sp15_multifit');\n",
    "\n",
    "learn_c.load(f'{lang}clas_sp15_multifit');\n",
    "\n",
    "# put weight on cpu\n",
    "loss_weights = torch.FloatTensor(trn_weights).cpu()\n",
    "learn_c.loss_func = partial(F.cross_entropy, weight=loss_weights)"
   ]
  },
  {
   "cell_type": "code",
   "execution_count": 15,
   "metadata": {
    "hidden": true
   },
   "outputs": [
    {
     "data": {
      "image/png": "[encoded data removed]",
      "text/plain": [
       "<Figure size 432x288 with 1 Axes>"
      ]
     },
     "metadata": {
      "needs_background": "light"
     },
     "output_type": "display_data"
    }
   ],
   "source": [
    "preds,y,losses = learn_c.get_preds(with_loss=True)\n",
    "predictions = np.argmax(preds, axis = 1)\n",
    "\n",
    "interp = ClassificationInterpretation(learn_c, preds, y, losses)\n",
    "interp.plot_confusion_matrix()"
   ]
  },
  {
   "cell_type": "code",
   "execution_count": 16,
   "metadata": {
    "hidden": true
   },
   "outputs": [
    {
     "name": "stdout",
     "output_type": "stream",
     "text": [
      "[[ 2214   198]\n",
      " [  836 18897]]\n",
      "accuracy global: 0.9533077444118311\n",
      "accuracy on negative reviews: 91.7910447761194\n",
      "accuracy on positive reviews: 95.76344195003294\n"
     ]
    }
   ],
   "source": [
    "from sklearn.metrics import confusion_matrix\n",
    "cm = confusion_matrix(np.array(y), np.array(predictions))\n",
    "print(cm)\n",
    "\n",
    "## acc\n",
    "print(f'accuracy global: {(cm[0,0]+cm[1,1])/(cm[0,0]+cm[0,1]+cm[1,0]+cm[1,1])}')\n",
    "\n",
    "# acc neg, acc pos\n",
    "print(f'accuracy on negative reviews: {cm[0,0]/(cm[0,0]+cm[0,1])*100}') \n",
    "print(f'accuracy on positive reviews: {cm[1,1]/(cm[1,0]+cm[1,1])*100}')"
   ]
  },
  {
   "cell_type": "code",
   "execution_count": 17,
   "metadata": {
    "hidden": true
   },
   "outputs": [
    {
     "data": {
      "text/html": [
       "<table border=\"1\" class=\"dataframe\">\n",
       "  <thead>\n",
       "    <tr style=\"text-align: right;\">\n",
       "      <th>text</th>\n",
       "      <th>target</th>\n",
       "      <th>prediction</th>\n",
       "    </tr>\n",
       "  </thead>\n",
       "  <tbody>\n",
       "    <tr>\n",
       "      <td>▁xxbos ▁xxup ▁ avertissement ▁du ▁7 ▁mai ▁2014 ▁: ▁ref ont e ▁de ▁ce ▁commentaire ▁avec ▁3 ▁paragraphe s ▁et ▁ ajout s ▁au ▁xxup ▁monde ▁xxup ▁de ▁xxup ▁la ▁xxup ▁symphonie , ▁soit ▁une ▁occasion ▁de ▁faire ▁l ' apologie ▁de ▁cette ▁forme ▁universelle ▁de ▁la ▁geste ▁symphonique ▁de ▁l ' harmo nia ▁xxmaj ▁ mund i ▁! ▁xxmaj ▁parmi ▁les ▁quelques ▁intégrale s ▁des ▁symphonies ▁de ▁xxmaj ▁beethoven</td>\n",
       "      <td>pos</td>\n",
       "      <td>pos</td>\n",
       "    </tr>\n",
       "    <tr>\n",
       "      <td>▁xxbos ▁xxmaj ▁cette ▁xxup ▁saga ▁risque ▁de ▁devenir ▁une ▁vitrine ▁c inématographique , ▁si ▁l ' on ▁regarde ▁le ▁nombre ▁et ▁le ▁panel ▁d ' acteurs ▁connus , ▁qui ▁ont ▁été ▁pré ssent i . ▁xxup ▁un ▁xxup ▁top , ▁xxup ▁la ▁xxup ▁recette ▁xxup ▁: s y l ver ster ▁xxup ▁stallone ▁xxup ▁aux ▁xxup ▁commandes , ▁xxup ▁au ▁xxup ▁sens ▁xxup ▁propre ▁xxup ▁et ▁xxup ▁au ▁xxup ▁sens</td>\n",
       "      <td>pos</td>\n",
       "      <td>pos</td>\n",
       "    </tr>\n",
       "    <tr>\n",
       "      <td>▁xxbos ▁xxmaj ▁tout ▁comme ▁il ▁l ' avait ▁fait ▁pour ▁la ▁première ▁saison ▁d ' hero es ▁en ▁xxup ▁dvd , ▁xxmaj ▁universal ▁france ▁nous ▁propose ▁un ▁coffret ▁ intégr al ▁de ▁xxmaj ▁battle star ▁xxmaj ▁galactica ▁encore ▁plus ▁complet ▁que ▁l ' édition ▁américaine , ▁déjà ▁que ▁celle - ci ▁est ▁bourré e ▁à ▁craquer ▁de ▁bonus , ▁documentaire s ▁et ▁commentaires . ▁xxmaj ▁nous ▁au rons ▁la ▁chance</td>\n",
       "      <td>pos</td>\n",
       "      <td>pos</td>\n",
       "    </tr>\n",
       "    <tr>\n",
       "      <td>▁xxbos ▁xxmaj ▁on ▁peut ▁déplorer ▁que ▁la ▁musique ▁de ▁xxmaj ▁francis ▁xxmaj ▁poule nc ▁ne ▁soit ▁pas ▁mieux ▁représenté e ▁au ▁disque , ▁notamment ▁dans ▁la ▁production ▁actuelle . ▁xxmaj ▁est - ce ▁en ▁raison ▁d ’ un ▁mépris ▁à ▁l ’ égard ▁d ’ une ▁musique ▁qui ▁ s ’ est ▁toujours ▁voulu e ▁simple , ▁accessible , ▁charmante ▁et ▁peut - être ▁apparemment ▁peu ▁innovant e ▁? ▁xxmaj</td>\n",
       "      <td>pos</td>\n",
       "      <td>pos</td>\n",
       "    </tr>\n",
       "    <tr>\n",
       "      <td>▁xxbos ▁xxmaj ▁personne ▁n ' im agi nait , ▁et ▁probablement ▁xxmaj ▁rossini ▁le ▁premier , ▁à ▁la ▁création ▁triomph ale ▁de ▁xxmaj ▁gu il la ume ▁xxmaj ▁ tell ▁à ▁xxmaj ▁paris ▁en ▁a o ût ▁18 29 , ▁que ▁ce ▁chef ▁d ' œuvre ▁d ' un ▁compositeur ▁de ▁ 37 ▁ans , ▁parvenu ▁au ▁sommet ▁de ▁sa ▁gloire , ▁serait ▁aussi ▁sa ▁dernière ▁œuvre ▁majeure , ▁pré</td>\n",
       "      <td>pos</td>\n",
       "      <td>pos</td>\n",
       "    </tr>\n",
       "  </tbody>\n",
       "</table>"
      ],
      "text/plain": [
       "<IPython.core.display.HTML object>"
      ]
     },
     "metadata": {},
     "output_type": "display_data"
    }
   ],
   "source": [
    "learn_c.show_results()"
   ]
  },
  {
   "cell_type": "markdown",
   "metadata": {
    "hidden": true
   },
   "source": [
    "### Predictions some random sentences"
   ]
  },
  {
   "cell_type": "code",
   "execution_count": 23,
   "metadata": {
    "hidden": true
   },
   "outputs": [],
   "source": [
    "import matplotlib.cm as cm\n",
    "import warnings\n",
    "warnings.filterwarnings('ignore')  # \"error\", \"ignore\", \"always\", \"default\", \"module\" or \"on"
   ]
  },
  {
   "cell_type": "code",
   "execution_count": 24,
   "metadata": {
    "hidden": true
   },
   "outputs": [
    {
     "name": "stdout",
     "output_type": "stream",
     "text": [
      "neg tensor([0.9973, 0.0027])\n"
     ]
    }
   ],
   "source": [
    "# Get the prediction neg/pos\n",
    "review = 'Ce produit est bizarre.'\n",
    "pred = learn_c.predict(review)\n",
    "print(pred[0], pred[2])"
   ]
  },
  {
   "cell_type": "code",
   "execution_count": 25,
   "metadata": {
    "hidden": true
   },
   "outputs": [
    {
     "data": {
      "text/html": [
       "<span style=\"font-family: monospace;\"><span title=\"0.031\" style=\"background-color: rgba(249, 247, 251, 0.5);\">▁xxbos</span> <span title=\"0.045\" style=\"background-color: rgba(247, 246, 250, 0.5);\">▁xxmaj</span> <span title=\"0.083\" style=\"background-color: rgba(243, 241, 247, 0.5);\">▁ce</span> <span title=\"0.137\" style=\"background-color: rgba(236, 235, 244, 0.5);\">▁produit</span> <span title=\"0.340\" style=\"background-color: rgba(197, 197, 224, 0.5);\">▁est</span> <span title=\"1.000\" style=\"background-color: rgba(63, 0, 125, 0.5);\">▁bizarre</span> <span title=\"0.080\" style=\"background-color: rgba(243, 242, 247, 0.5);\">.</span></span>"
      ],
      "text/plain": [
       "<IPython.core.display.HTML object>"
      ]
     },
     "metadata": {},
     "output_type": "display_data"
    }
   ],
   "source": [
    "# The darker the word-shading in the below example, the more it contributes to the classification. \n",
    "txt_ci = TextClassificationInterpretation.from_learner(learn_c)\n",
    "test_text = 'Ce produit est bizarre.'\n",
    "txt_ci.show_intrinsic_attention(test_text,cmap=cm.Purples)"
   ]
  },
  {
   "cell_type": "code",
   "execution_count": 26,
   "metadata": {
    "hidden": true
   },
   "outputs": [
    {
     "data": {
      "text/plain": [
       "tensor([0.0309, 0.0451, 0.0830, 0.1374, 0.3396, 1.0000, 0.0805],\n",
       "       device='cuda:0')"
      ]
     },
     "execution_count": 26,
     "metadata": {},
     "output_type": "execute_result"
    }
   ],
   "source": [
    "txt_ci.intrinsic_attention(test_text)[1]"
   ]
  },
  {
   "cell_type": "code",
   "execution_count": 27,
   "metadata": {
    "hidden": true
   },
   "outputs": [
    {
     "data": {
      "text/html": [
       "<table border=\"1\" class=\"dataframe\">\n",
       "  <thead>\n",
       "    <tr style=\"text-align: right;\">\n",
       "      <th>Text</th>\n",
       "      <th>Prediction</th>\n",
       "      <th>Actual</th>\n",
       "      <th>Loss</th>\n",
       "      <th>Probability</th>\n",
       "    </tr>\n",
       "  </thead>\n",
       "  <tbody>\n",
       "    <tr>\n",
       "      <td>▁xxbos ▁xxmaj ▁le ▁plus ▁grand ▁film ▁sur ▁la ▁course ▁auto mo bile ▁avec ▁l ' immense ▁xxmaj ▁steve ▁mac ▁queen , ▁spectaculaire , ▁émouvant ▁et ▁surtout ▁très ▁re aliste ▁et ▁immersif .</td>\n",
       "      <td>pos</td>\n",
       "      <td>pos</td>\n",
       "      <td>7.32</td>\n",
       "      <td>1.00</td>\n",
       "    </tr>\n",
       "    <tr>\n",
       "      <td>▁xxbos ▁xxmaj ▁les ▁manuscrit s ▁de ▁la ▁mer ▁mort e ▁ont ▁déjà ▁remis ▁en ▁cause ▁bien ▁des ▁théorie s ▁dog matique s ▁de ▁l ' eglise ▁catholique . ▁xxmaj ▁celle ▁ci ▁considère ▁toujours ▁comme ▁ hér étique ▁tout ▁ce ▁qui ▁ne ▁va ▁pas ▁dans ▁le ▁sens ▁de ▁ce ▁qu ' elle ▁a ▁décidé . ▁xxmaj ▁sans ▁remonter ▁à ▁l ' in qui s ition , ▁il ▁faut ▁bien ▁reconnaitre ▁que</td>\n",
       "      <td>pos</td>\n",
       "      <td>pos</td>\n",
       "      <td>5.65</td>\n",
       "      <td>1.00</td>\n",
       "    </tr>\n",
       "    <tr>\n",
       "      <td>▁xxbos ▁a ▁voir ▁et ▁à ▁revoir ▁pour ▁les ▁plus ▁petits ▁comme ▁pour ▁les ▁plus ▁grands ▁! ▁xxmaj ▁la ▁version ▁xxmaj ▁blu ▁ray ▁assure ▁une ▁super ▁qualité ...</td>\n",
       "      <td>pos</td>\n",
       "      <td>pos</td>\n",
       "      <td>5.32</td>\n",
       "      <td>1.00</td>\n",
       "    </tr>\n",
       "    <tr>\n",
       "      <td>▁xxbos ▁xxmaj ▁la ▁photographie ▁de ▁ce ▁film ▁à ▁petit ▁budget ▁ accuse ▁dés ▁l ' origine ▁une ▁forte ▁gran ul osité . ▁xxmaj ▁difficile ▁de ▁faire ▁des ▁miracle s ▁avec ▁ce ▁matériau ▁de ▁base ▁et ▁pourtant ... ▁xxmaj ▁sur ▁un ▁grand ▁écran ▁le ▁xxup ▁dvd ▁était ▁ ir regardable ▁et ▁voici ▁que ▁le ▁xxmaj ▁blu ▁xxmaj ▁ray ▁permet ▁de ▁redécouvrir ▁ce ▁chef ▁d ' oeuvre ▁dans ▁les ▁meilleurs ▁conditions ▁possibles</td>\n",
       "      <td>pos</td>\n",
       "      <td>pos</td>\n",
       "      <td>5.26</td>\n",
       "      <td>1.00</td>\n",
       "    </tr>\n",
       "    <tr>\n",
       "      <td>▁xxbos ▁xxmaj ▁une ▁très ▁belle ▁qualité ▁: ▁lourds , ▁solide ▁et ▁réellement ▁très ▁beaux , ▁une ▁réussite ▁! ▁xxmaj ▁je ▁les ▁achète ▁pour ▁mon ▁compagnon ▁ aveugle ▁afin ▁qu ' il ▁puisse ▁voir ▁tactile ment ▁ces ▁animaux ▁vus ▁en ▁photo ▁enfant ▁ou ▁dont ▁il ▁a ▁entendu ▁parler . ▁xxmaj ▁de ▁longues ▁heures ▁d ' exploration , ▁recherches ▁sur ▁xxmaj ▁internet . . ▁xxmaj ▁excellent . ▁xxmaj ▁dommage ▁que ▁les ▁format</td>\n",
       "      <td>pos</td>\n",
       "      <td>pos</td>\n",
       "      <td>4.82</td>\n",
       "      <td>1.00</td>\n",
       "    </tr>\n",
       "  </tbody>\n",
       "</table>"
      ],
      "text/plain": [
       "<IPython.core.display.HTML object>"
      ]
     },
     "metadata": {},
     "output_type": "display_data"
    }
   ],
   "source": [
    "# tabulation showing the first k texts in top_losses along with their prediction, actual,loss, and probability of actual class.\n",
    "# max_len is the maximum number of tokens displayed. If max_len=None, it will display all tokens.\n",
    "txt_ci.show_top_losses(5)"
   ]
  },
  {
   "cell_type": "markdown",
   "metadata": {
    "heading_collapsed": true
   },
   "source": [
    "## Fine-tuning \"backward Classifier\""
   ]
  },
  {
   "cell_type": "code",
   "execution_count": 56,
   "metadata": {
    "hidden": true
   },
   "outputs": [],
   "source": [
    "bs = 18"
   ]
  },
  {
   "cell_type": "markdown",
   "metadata": {
    "hidden": true
   },
   "source": [
    "### Databunch"
   ]
  },
  {
   "cell_type": "code",
   "execution_count": 57,
   "metadata": {
    "hidden": true
   },
   "outputs": [
    {
     "name": "stdout",
     "output_type": "stream",
     "text": [
      "CPU times: user 3.45 s, sys: 468 ms, total: 3.92 s\n",
      "Wall time: 3.58 s\n"
     ]
    }
   ],
   "source": [
    "%%time\n",
    "data_lm = load_data(path, f'{lang}_databunch_lm_aws_sp15_multifit_bwd', bs=bs, backwards=True)"
   ]
  },
  {
   "cell_type": "code",
   "execution_count": 58,
   "metadata": {
    "hidden": true
   },
   "outputs": [
    {
     "name": "stdout",
     "output_type": "stream",
     "text": [
      "CPU times: user 7min 58s, sys: 5.55 s, total: 8min 3s\n",
      "Wall time: 5min 16s\n"
     ]
    }
   ],
   "source": [
    "%%time\n",
    "data_clas = (TextList.from_df(df_trn_val, path, vocab=data_lm.vocab, cols='review_body', \n",
    "                              processor=[OpenFileProcessor(), SPProcessor(max_vocab_sz=15000)])\n",
    "    .split_by_rand_pct(0.1, seed=42)\n",
    "    .label_from_df(cols='label')\n",
    "    .databunch(bs=bs, num_workers=1, backwards=True))"
   ]
  },
  {
   "cell_type": "code",
   "execution_count": 59,
   "metadata": {
    "hidden": true
   },
   "outputs": [
    {
     "name": "stdout",
     "output_type": "stream",
     "text": [
      "CPU times: user 6.45 s, sys: 1.05 s, total: 7.5 s\n",
      "Wall time: 7.04 s\n"
     ]
    }
   ],
   "source": [
    "%%time\n",
    "data_clas.save(f'{lang}_textlist_class_sp15_multifit_bwd')"
   ]
  },
  {
   "cell_type": "markdown",
   "metadata": {
    "hidden": true
   },
   "source": [
    "### Get weights to penalize loss function of the majority class"
   ]
  },
  {
   "cell_type": "code",
   "execution_count": 28,
   "metadata": {
    "hidden": true
   },
   "outputs": [
    {
     "name": "stdout",
     "output_type": "stream",
     "text": [
      "CPU times: user 15.1 s, sys: 644 ms, total: 15.8 s\n",
      "Wall time: 15.6 s\n"
     ]
    }
   ],
   "source": [
    "%%time\n",
    "data_clas = load_data(path, f'{lang}_textlist_class_sp15_multifit_bwd', bs=bs, num_workers=1, backwards=True)"
   ]
  },
  {
   "cell_type": "code",
   "execution_count": 29,
   "metadata": {
    "hidden": true
   },
   "outputs": [
    {
     "data": {
      "text/plain": [
       "(199311, 22145, 221456)"
      ]
     },
     "execution_count": 29,
     "metadata": {},
     "output_type": "execute_result"
    }
   ],
   "source": [
    "num_trn = len(data_clas.train_ds.x)\n",
    "num_val = len(data_clas.valid_ds.x)\n",
    "num_trn, num_val, num_trn+num_val"
   ]
  },
  {
   "cell_type": "code",
   "execution_count": 30,
   "metadata": {
    "hidden": true
   },
   "outputs": [
    {
     "data": {
      "text/plain": [
       "(array([ 22694, 176617]), array([ 2412, 19733]))"
      ]
     },
     "execution_count": 30,
     "metadata": {},
     "output_type": "execute_result"
    }
   ],
   "source": [
    "trn_LabelCounts = np.unique(data_clas.train_ds.y.items, return_counts=True)[1]\n",
    "val_LabelCounts = np.unique(data_clas.valid_ds.y.items, return_counts=True)[1]\n",
    "trn_LabelCounts, val_LabelCounts"
   ]
  },
  {
   "cell_type": "code",
   "execution_count": 31,
   "metadata": {
    "hidden": true
   },
   "outputs": [
    {
     "data": {
      "text/plain": [
       "([0.8861377445299056, 0.11386225547009443],\n",
       " [0.891081508241138, 0.10891849175886203])"
      ]
     },
     "execution_count": 31,
     "metadata": {},
     "output_type": "execute_result"
    }
   ],
   "source": [
    "trn_weights = [1 - count/num_trn for count in trn_LabelCounts]\n",
    "val_weights = [1 - count/num_val for count in val_LabelCounts]\n",
    "trn_weights, val_weights"
   ]
  },
  {
   "cell_type": "markdown",
   "metadata": {
    "hidden": true
   },
   "source": [
    "### Training (Loss = FlattenedLoss of weighted CrossEntropyLoss)"
   ]
  },
  {
   "cell_type": "code",
   "execution_count": 64,
   "metadata": {
    "hidden": true
   },
   "outputs": [
    {
     "name": "stdout",
     "output_type": "stream",
     "text": [
      "CPU times: user 15.6 s, sys: 460 ms, total: 16 s\n",
      "Wall time: 15.3 s\n"
     ]
    }
   ],
   "source": [
    "%%time\n",
    "data_clas = load_data(path, f'{lang}_textlist_class_sp15_multifit_bwd', bs=bs, num_workers=1, backwards=True)"
   ]
  },
  {
   "cell_type": "code",
   "execution_count": 65,
   "metadata": {
    "hidden": true
   },
   "outputs": [],
   "source": [
    "config = awd_lstm_clas_config.copy()\n",
    "config['qrnn'] = True\n",
    "config['n_hid'] = 1550 #default 1152\n",
    "config['n_layers'] = 4 #default 3"
   ]
  },
  {
   "cell_type": "code",
   "execution_count": 66,
   "metadata": {
    "hidden": true
   },
   "outputs": [],
   "source": [
    "learn_c = text_classifier_learner(data_clas, AWD_LSTM, config=config, drop_mult=0.5, metrics=[accuracy,f1]).to_fp16()\n",
    "learn_c.load_encoder(f'{lang}fine_tuned_enc_sp15_multifit_bwd');"
   ]
  },
  {
   "cell_type": "markdown",
   "metadata": {
    "hidden": true
   },
   "source": [
    "#### Change loss function"
   ]
  },
  {
   "cell_type": "code",
   "execution_count": 67,
   "metadata": {
    "hidden": true
   },
   "outputs": [
    {
     "data": {
      "text/plain": [
       "FlattenedLoss of CrossEntropyLoss()"
      ]
     },
     "execution_count": 67,
     "metadata": {},
     "output_type": "execute_result"
    }
   ],
   "source": [
    "learn_c.loss_func"
   ]
  },
  {
   "cell_type": "code",
   "execution_count": 68,
   "metadata": {
    "hidden": true
   },
   "outputs": [],
   "source": [
    "loss_weights = torch.FloatTensor(trn_weights).cuda()\n",
    "learn_c.loss_func = partial(F.cross_entropy, weight=loss_weights)"
   ]
  },
  {
   "cell_type": "code",
   "execution_count": 69,
   "metadata": {
    "hidden": true
   },
   "outputs": [
    {
     "data": {
      "text/plain": [
       "functools.partial(<function cross_entropy at 0x7f35bf4a9170>, weight=tensor([0.8861, 0.1139], device='cuda:0'))"
      ]
     },
     "execution_count": 69,
     "metadata": {},
     "output_type": "execute_result"
    }
   ],
   "source": [
    "learn_c.loss_func"
   ]
  },
  {
   "cell_type": "markdown",
   "metadata": {
    "hidden": true
   },
   "source": [
    "#### Training"
   ]
  },
  {
   "cell_type": "code",
   "execution_count": 70,
   "metadata": {
    "hidden": true
   },
   "outputs": [],
   "source": [
    "learn_c.freeze()"
   ]
  },
  {
   "cell_type": "code",
   "execution_count": 71,
   "metadata": {
    "hidden": true
   },
   "outputs": [
    {
     "data": {
      "text/html": [],
      "text/plain": [
       "<IPython.core.display.HTML object>"
      ]
     },
     "metadata": {},
     "output_type": "display_data"
    },
    {
     "name": "stdout",
     "output_type": "stream",
     "text": [
      "LR Finder is complete, type {learner_name}.recorder.plot() to see the graph.\n"
     ]
    }
   ],
   "source": [
    "learn_c.lr_find()"
   ]
  },
  {
   "cell_type": "code",
   "execution_count": 72,
   "metadata": {
    "hidden": true
   },
   "outputs": [
    {
     "data": {
      "image/png": "[encoded data removed]",
      "text/plain": [
       "<Figure size 432x288 with 1 Axes>"
      ]
     },
     "metadata": {
      "needs_background": "light"
     },
     "output_type": "display_data"
    }
   ],
   "source": [
    "learn_c.recorder.plot()"
   ]
  },
  {
   "cell_type": "code",
   "execution_count": 73,
   "metadata": {
    "hidden": true
   },
   "outputs": [],
   "source": [
    "lr = 2e-2\n",
    "lr *= bs/48\n",
    "\n",
    "wd = 0.01"
   ]
  },
  {
   "cell_type": "code",
   "execution_count": 74,
   "metadata": {
    "hidden": true,
    "scrolled": false
   },
   "outputs": [
    {
     "data": {
      "text/html": [
       "<table border=\"1\" class=\"dataframe\">\n",
       "  <thead>\n",
       "    <tr style=\"text-align: left;\">\n",
       "      <th>epoch</th>\n",
       "      <th>train_loss</th>\n",
       "      <th>valid_loss</th>\n",
       "      <th>accuracy</th>\n",
       "      <th>f1</th>\n",
       "      <th>time</th>\n",
       "    </tr>\n",
       "  </thead>\n",
       "  <tbody>\n",
       "    <tr>\n",
       "      <td>0</td>\n",
       "      <td>0.440335</td>\n",
       "      <td>0.292225</td>\n",
       "      <td>0.893926</td>\n",
       "      <td>0.933869</td>\n",
       "      <td>04:19</td>\n",
       "    </tr>\n",
       "    <tr>\n",
       "      <td>1</td>\n",
       "      <td>0.427031</td>\n",
       "      <td>0.271362</td>\n",
       "      <td>0.903048</td>\n",
       "      <td>0.940470</td>\n",
       "      <td>04:46</td>\n",
       "    </tr>\n",
       "  </tbody>\n",
       "</table>"
      ],
      "text/plain": [
       "<IPython.core.display.HTML object>"
      ]
     },
     "metadata": {},
     "output_type": "display_data"
    }
   ],
   "source": [
    "learn_c.fit_one_cycle(2, lr, wd=wd, moms=(0.8,0.7))"
   ]
  },
  {
   "cell_type": "code",
   "execution_count": 75,
   "metadata": {
    "hidden": true
   },
   "outputs": [],
   "source": [
    "learn_c.save(f'{lang}clas1_sp15_multifit_bwd')"
   ]
  },
  {
   "cell_type": "code",
   "execution_count": 76,
   "metadata": {
    "hidden": true
   },
   "outputs": [
    {
     "data": {
      "text/html": [
       "<table border=\"1\" class=\"dataframe\">\n",
       "  <thead>\n",
       "    <tr style=\"text-align: left;\">\n",
       "      <th>epoch</th>\n",
       "      <th>train_loss</th>\n",
       "      <th>valid_loss</th>\n",
       "      <th>accuracy</th>\n",
       "      <th>f1</th>\n",
       "      <th>time</th>\n",
       "    </tr>\n",
       "  </thead>\n",
       "  <tbody>\n",
       "    <tr>\n",
       "      <td>0</td>\n",
       "      <td>0.338346</td>\n",
       "      <td>0.203508</td>\n",
       "      <td>0.934432</td>\n",
       "      <td>0.960377</td>\n",
       "      <td>05:46</td>\n",
       "    </tr>\n",
       "    <tr>\n",
       "      <td>1</td>\n",
       "      <td>0.316951</td>\n",
       "      <td>0.187639</td>\n",
       "      <td>0.938406</td>\n",
       "      <td>0.963090</td>\n",
       "      <td>05:53</td>\n",
       "    </tr>\n",
       "  </tbody>\n",
       "</table>"
      ],
      "text/plain": [
       "<IPython.core.display.HTML object>"
      ]
     },
     "metadata": {},
     "output_type": "display_data"
    }
   ],
   "source": [
    "learn_c.load(f'{lang}clas1_sp15_multifit_bwd');\n",
    "learn_c.freeze_to(-2)\n",
    "learn_c.fit_one_cycle(2, slice(lr/(2.6**4),lr), wd=wd, moms=(0.8,0.7))"
   ]
  },
  {
   "cell_type": "code",
   "execution_count": 77,
   "metadata": {
    "hidden": true
   },
   "outputs": [],
   "source": [
    "learn_c.save(f'{lang}clas2_sp15_multifit_bwd')"
   ]
  },
  {
   "cell_type": "code",
   "execution_count": 78,
   "metadata": {
    "hidden": true
   },
   "outputs": [
    {
     "data": {
      "text/html": [
       "<table border=\"1\" class=\"dataframe\">\n",
       "  <thead>\n",
       "    <tr style=\"text-align: left;\">\n",
       "      <th>epoch</th>\n",
       "      <th>train_loss</th>\n",
       "      <th>valid_loss</th>\n",
       "      <th>accuracy</th>\n",
       "      <th>f1</th>\n",
       "      <th>time</th>\n",
       "    </tr>\n",
       "  </thead>\n",
       "  <tbody>\n",
       "    <tr>\n",
       "      <td>0</td>\n",
       "      <td>0.272369</td>\n",
       "      <td>0.184813</td>\n",
       "      <td>0.941025</td>\n",
       "      <td>0.964649</td>\n",
       "      <td>05:58</td>\n",
       "    </tr>\n",
       "    <tr>\n",
       "      <td>1</td>\n",
       "      <td>0.210461</td>\n",
       "      <td>0.173936</td>\n",
       "      <td>0.950689</td>\n",
       "      <td>0.970924</td>\n",
       "      <td>06:14</td>\n",
       "    </tr>\n",
       "  </tbody>\n",
       "</table>"
      ],
      "text/plain": [
       "<IPython.core.display.HTML object>"
      ]
     },
     "metadata": {},
     "output_type": "display_data"
    }
   ],
   "source": [
    "learn_c.load(f'{lang}clas2_sp15_multifit_bwd');\n",
    "learn_c.freeze_to(-3)\n",
    "learn_c.fit_one_cycle(2, slice(lr/2/(2.6**4),lr/2), wd=wd, moms=(0.8,0.7))"
   ]
  },
  {
   "cell_type": "code",
   "execution_count": 79,
   "metadata": {
    "hidden": true
   },
   "outputs": [],
   "source": [
    "learn_c.save(f'{lang}clas3_sp15_multifit_bwd')"
   ]
  },
  {
   "cell_type": "code",
   "execution_count": 80,
   "metadata": {
    "hidden": true
   },
   "outputs": [
    {
     "data": {
      "text/html": [
       "<table border=\"1\" class=\"dataframe\">\n",
       "  <thead>\n",
       "    <tr style=\"text-align: left;\">\n",
       "      <th>epoch</th>\n",
       "      <th>train_loss</th>\n",
       "      <th>valid_loss</th>\n",
       "      <th>accuracy</th>\n",
       "      <th>f1</th>\n",
       "      <th>time</th>\n",
       "    </tr>\n",
       "  </thead>\n",
       "  <tbody>\n",
       "    <tr>\n",
       "      <td>0</td>\n",
       "      <td>0.244856</td>\n",
       "      <td>0.182789</td>\n",
       "      <td>0.956785</td>\n",
       "      <td>0.974709</td>\n",
       "      <td>09:22</td>\n",
       "    </tr>\n",
       "  </tbody>\n",
       "</table>"
      ],
      "text/plain": [
       "<IPython.core.display.HTML object>"
      ]
     },
     "metadata": {},
     "output_type": "display_data"
    }
   ],
   "source": [
    "learn_c.load(f'{lang}clas3_sp15_multifit_bwd');\n",
    "learn_c.unfreeze()\n",
    "learn_c.fit_one_cycle(1, slice(lr/10/(2.6**4),lr/10), wd=wd, moms=(0.8,0.7))"
   ]
  },
  {
   "cell_type": "code",
   "execution_count": 81,
   "metadata": {
    "hidden": true
   },
   "outputs": [],
   "source": [
    "learn_c.save(f'{lang}clas4_sp15_multifit_bwd')"
   ]
  },
  {
   "cell_type": "code",
   "execution_count": 82,
   "metadata": {
    "hidden": true
   },
   "outputs": [],
   "source": [
    "learn_c.load(f'{lang}clas4_sp15_multifit_bwd')\n",
    "learn_c.save(f'{lang}clas_sp15_multifit_bwd')"
   ]
  },
  {
   "cell_type": "code",
   "execution_count": 83,
   "metadata": {
    "hidden": true
   },
   "outputs": [],
   "source": [
    "learn_c.load(f'{lang}clas_sp15_multifit_bwd');\n",
    "learn_c.to_fp32().export(f'{lang}_classifier_sp15_multifit_bwd')"
   ]
  },
  {
   "cell_type": "markdown",
   "metadata": {
    "hidden": true
   },
   "source": [
    "### Confusion matrix"
   ]
  },
  {
   "cell_type": "code",
   "execution_count": 32,
   "metadata": {
    "hidden": true
   },
   "outputs": [
    {
     "name": "stdout",
     "output_type": "stream",
     "text": [
      "CPU times: user 17.5 s, sys: 892 ms, total: 18.4 s\n",
      "Wall time: 16.3 s\n"
     ]
    }
   ],
   "source": [
    "%%time\n",
    "data_clas = load_data(path, f'{lang}_textlist_class_sp15_multifit_bwd', bs=bs, num_workers=1, backwards=True)\n",
    "\n",
    "config = awd_lstm_clas_config.copy()\n",
    "config['qrnn'] = True\n",
    "config['n_hid'] = 1550 #default 1152\n",
    "config['n_layers'] = 4 #default 3\n",
    "\n",
    "learn_c = text_classifier_learner(data_clas, AWD_LSTM, config=config, drop_mult=0.5, \n",
    "                                  metrics=[accuracy,f1])\n",
    "learn_c.load_encoder(f'{lang}fine_tuned_enc_sp15_multifit_bwd');\n",
    "\n",
    "learn_c.load(f'{lang}clas_sp15_multifit_bwd');\n",
    "\n",
    "# put weight on cpu\n",
    "loss_weights = torch.FloatTensor(trn_weights).cpu()\n",
    "learn_c.loss_func = partial(F.cross_entropy, weight=loss_weights)"
   ]
  },
  {
   "cell_type": "code",
   "execution_count": 33,
   "metadata": {
    "hidden": true
   },
   "outputs": [
    {
     "data": {
      "image/png": "[encoded data removed]",
      "text/plain": [
       "<Figure size 432x288 with 1 Axes>"
      ]
     },
     "metadata": {
      "needs_background": "light"
     },
     "output_type": "display_data"
    }
   ],
   "source": [
    "preds,y,losses = learn_c.get_preds(with_loss=True)\n",
    "predictions = np.argmax(preds, axis = 1)\n",
    "\n",
    "interp = ClassificationInterpretation(learn_c, preds, y, losses)\n",
    "interp.plot_confusion_matrix()"
   ]
  },
  {
   "cell_type": "code",
   "execution_count": 34,
   "metadata": {
    "hidden": true
   },
   "outputs": [
    {
     "name": "stdout",
     "output_type": "stream",
     "text": [
      "[[ 2134   278]\n",
      " [  679 19054]]\n",
      "accuracy global: 0.9567848272747799\n",
      "accuracy on negative reviews: 88.47429519071311\n",
      "accuracy on positive reviews: 96.55906349769423\n"
     ]
    }
   ],
   "source": [
    "from sklearn.metrics import confusion_matrix\n",
    "cm = confusion_matrix(np.array(y), np.array(predictions))\n",
    "print(cm)\n",
    "\n",
    "## acc\n",
    "print(f'accuracy global: {(cm[0,0]+cm[1,1])/(cm[0,0]+cm[0,1]+cm[1,0]+cm[1,1])}')\n",
    "\n",
    "# acc neg, acc pos\n",
    "print(f'accuracy on negative reviews: {cm[0,0]/(cm[0,0]+cm[0,1])*100}') \n",
    "print(f'accuracy on positive reviews: {cm[1,1]/(cm[1,0]+cm[1,1])*100}')"
   ]
  },
  {
   "cell_type": "code",
   "execution_count": 35,
   "metadata": {
    "hidden": true
   },
   "outputs": [
    {
     "data": {
      "text/html": [
       "<table border=\"1\" class=\"dataframe\">\n",
       "  <thead>\n",
       "    <tr style=\"text-align: right;\">\n",
       "      <th>text</th>\n",
       "      <th>target</th>\n",
       "      <th>prediction</th>\n",
       "    </tr>\n",
       "  </thead>\n",
       "  <tbody>\n",
       "    <tr>\n",
       "      <td>. s ▁remarque ▁xxup ▁dans ▁continue ▁commentaire ▁le ▁xxmaj ]] le agi ▁ ▁xxmaj ▁maestro ▁xxmaj x x 6 l ▁6 ▁xxup ▁0 ▁4 ▁xxrep b : asin ▁[[ ▁xxup ]] ▁2 . ▁vol ▁collection ▁xxmaj t rich chu s ▁ ▁xxmaj ▁carl ▁xxmaj kk ta 5 92 00 b : asin ▁[[ ▁xxup ]]] ▁dvd ▁xxup ▁1 ▁/ s ▁cd 20 ▁[ ▁collection ▁xxmaj t rich chu s ▁</td>\n",
       "      <td>pos</td>\n",
       "      <td>pos</td>\n",
       "    </tr>\n",
       "    <tr>\n",
       "      <td>. ▁terminator ▁xxmaj ▁en ▁schwarzenegger ▁xxmaj arnold ▁ ▁xxmaj aperçoit ▁ ▁on ▁fin ▁de ▁générique ▁au ▁xxmaj . ▁jones ▁xxmaj indiana ▁ ▁xxmaj ▁à ▁référence ▁fait ▁xxmaj ▁: ▁film ▁du ▁fin ▁la ▁à ▁\") ▁\\ ▁musée ▁un ▁dans ▁est ▁place a s ▁\" ▁\\ ▁( ▁\" ▁\\ um ▁muse ▁a ▁in s ong ▁bel ▁thing that ▁\" ▁\\ ). ton mou ▁( ▁\" ▁\\ ep she ▁\" ▁\\ ▁en s</td>\n",
       "      <td>pos</td>\n",
       "      <td>pos</td>\n",
       "    </tr>\n",
       "    <tr>\n",
       "      <td>. g s ▁b ▁xxup ▁de ▁fan ▁tout ▁pour ▁posséder ▁à ▁coffret ▁un ▁xxmaj ) vf ▁( ▁xxup control - ▁u ▁bonus ▁le ▁dans ▁disponibles ▁informations ▁des intégralité ▁ ▁: ▁\" ▁\\ le ac or ' l ▁\" ▁\\ ) vf ▁( ▁xxup ▁visionnage ▁de ▁cours ▁en ▁vaisseaux ▁les ▁et ▁personnages ▁les ▁sur ▁informations ▁: ▁\" ▁\\ le ac or ' l ▁\" ▁\\ ▁- ▁: control - ▁u ▁xxmaj</td>\n",
       "      <td>pos</td>\n",
       "      <td>pos</td>\n",
       "    </tr>\n",
       "    <tr>\n",
       "      <td>). ▁mélodies ▁ou ▁chansons ▁plusieurs ▁en nt ▁découpe ▁se ▁certaines ▁dont ▁œuvres ▁50 ▁de plus ▁( ▁nombre ▁du ▁tenu ▁compte ▁fastidieux ▁serait ▁qui ▁ce , ▁détail ▁le ▁dans ▁pas entre ’ ▁n ▁je ▁xxmaj . ▁interprètes ▁divers ▁par ▁chansons ▁et ▁mélodies ▁xxmaj ▁20 ▁à ▁16 ▁cd ▁xxup ) s r ophe ▁chris ▁xxmaj ▁harry ▁xxmaj ▁/ en te ▁six ▁xxmaj the ▁( ge ai ▁n ▁de ▁soir ▁un ▁xxmaj ▁–</td>\n",
       "      <td>pos</td>\n",
       "      <td>pos</td>\n",
       "    </tr>\n",
       "    <tr>\n",
       "      <td>... ▁semaines ▁quelques ▁dans ni van gio ▁bon ▁xxmaj ▁chez ▁paraît ▁qui ]] tell ▁ ▁xxmaj ume la il ▁gu ▁xxmaj 8 f 45 89 v 00 b : asin ▁[[ ▁xxup ani gli ▁fo ▁xxmaj ▁/ er b le n ö ▁sh ▁xxmaj ▁version ▁la ▁de ▁dvd ▁xxup ▁le ▁avec ▁comparer ▁la ▁de ▁passionnant ▁être ▁va ▁il ▁xxmaj . ▁vidéo ▁que ▁audio ▁tant , ▁discographie ▁mince ▁la ▁de ▁sommet</td>\n",
       "      <td>pos</td>\n",
       "      <td>pos</td>\n",
       "    </tr>\n",
       "  </tbody>\n",
       "</table>"
      ],
      "text/plain": [
       "<IPython.core.display.HTML object>"
      ]
     },
     "metadata": {},
     "output_type": "display_data"
    }
   ],
   "source": [
    "learn_c.show_results()"
   ]
  },
  {
   "cell_type": "markdown",
   "metadata": {
    "hidden": true
   },
   "source": [
    "### Predictions some random sentences"
   ]
  },
  {
   "cell_type": "code",
   "execution_count": 36,
   "metadata": {
    "hidden": true
   },
   "outputs": [],
   "source": [
    "import matplotlib.cm as cm\n",
    "import warnings\n",
    "warnings.filterwarnings('ignore')  # \"error\", \"ignore\", \"always\", \"default\", \"module\" or \"on"
   ]
  },
  {
   "cell_type": "code",
   "execution_count": 37,
   "metadata": {
    "hidden": true
   },
   "outputs": [
    {
     "name": "stdout",
     "output_type": "stream",
     "text": [
      "neg tensor([0.9989, 0.0011])\n"
     ]
    }
   ],
   "source": [
    "# Get the prediction neg/pos\n",
    "review = 'Ce produit est bizarre.'\n",
    "pred = learn_c.predict(review)\n",
    "print(pred[0], pred[2])"
   ]
  },
  {
   "cell_type": "code",
   "execution_count": 38,
   "metadata": {
    "hidden": true
   },
   "outputs": [
    {
     "data": {
      "text/html": [
       "<span style=\"font-family: monospace;\"><span title=\"0.356\" style=\"background-color: rgba(192, 193, 222, 0.5);\">.</span> <span title=\"1.000\" style=\"background-color: rgba(63, 0, 125, 0.5);\">▁bizarre</span> <span title=\"0.119\" style=\"background-color: rgba(239, 237, 245, 0.5);\">▁est</span> <span title=\"0.180\" style=\"background-color: rgba(229, 228, 240, 0.5);\">▁produit</span> <span title=\"0.105\" style=\"background-color: rgba(241, 239, 246, 0.5);\">▁ce</span> <span title=\"0.060\" style=\"background-color: rgba(245, 244, 249, 0.5);\">▁xxmaj</span> <span title=\"0.013\" style=\"background-color: rgba(250, 249, 252, 0.5);\">▁xxbos</span></span>"
      ],
      "text/plain": [
       "<IPython.core.display.HTML object>"
      ]
     },
     "metadata": {},
     "output_type": "display_data"
    }
   ],
   "source": [
    "# The darker the word-shading in the below example, the more it contributes to the classification. \n",
    "txt_ci = TextClassificationInterpretation.from_learner(learn_c)\n",
    "test_text = 'Ce produit est bizarre.'\n",
    "txt_ci.show_intrinsic_attention(test_text,cmap=cm.Purples)"
   ]
  },
  {
   "cell_type": "code",
   "execution_count": 39,
   "metadata": {
    "hidden": true
   },
   "outputs": [
    {
     "data": {
      "text/plain": [
       "tensor([0.3559, 1.0000, 0.1187, 0.1797, 0.1046, 0.0596, 0.0135],\n",
       "       device='cuda:0')"
      ]
     },
     "execution_count": 39,
     "metadata": {},
     "output_type": "execute_result"
    }
   ],
   "source": [
    "txt_ci.intrinsic_attention(test_text)[1]"
   ]
  },
  {
   "cell_type": "code",
   "execution_count": 40,
   "metadata": {
    "hidden": true
   },
   "outputs": [
    {
     "data": {
      "text/html": [
       "<table border=\"1\" class=\"dataframe\">\n",
       "  <thead>\n",
       "    <tr style=\"text-align: right;\">\n",
       "      <th>Text</th>\n",
       "      <th>Prediction</th>\n",
       "      <th>Actual</th>\n",
       "      <th>Loss</th>\n",
       "      <th>Probability</th>\n",
       "    </tr>\n",
       "  </thead>\n",
       "  <tbody>\n",
       "    <tr>\n",
       "      <td>▁xxbos ▁xxmaj ▁pour ▁la ▁3 ème ▁fois , ▁le ▁maitre ▁a ▁réuni ▁quelques ▁un s ▁des ▁meilleurs ▁disc ip les ▁de ▁la ▁gratte . ▁xxmaj ▁une ▁pure ▁merveille ▁à ▁nouveau . ▁xxmaj ▁vous ▁pouvez ▁acheter ▁en ▁confiance , ▁vous ▁ne ▁serez ▁pas ▁déçus ▁!!! ▁xxmaj ▁vivement ▁le ▁4 ème ▁xxrep ▁4 ▁ .</td>\n",
       "      <td>pos</td>\n",
       "      <td>pos</td>\n",
       "      <td>5.27</td>\n",
       "      <td>1.00</td>\n",
       "    </tr>\n",
       "    <tr>\n",
       "      <td>▁xxbos ▁xxmaj ▁une ▁très ▁belle ▁qualité ▁: ▁lourds , ▁solide ▁et ▁réellement ▁très ▁beaux , ▁une ▁réussite ▁! ▁xxmaj ▁je ▁les ▁achète ▁pour ▁mon ▁compagnon ▁ aveugle ▁afin ▁qu ' il ▁puisse ▁voir ▁tactile ment ▁ces ▁animaux ▁vus ▁en ▁photo ▁enfant ▁ou ▁dont ▁il ▁a ▁entendu ▁parler . ▁xxmaj ▁de ▁longues ▁heures ▁d ' exploration , ▁recherches ▁sur ▁xxmaj ▁internet . . ▁xxmaj ▁excellent . ▁xxmaj ▁dommage ▁que ▁les ▁format</td>\n",
       "      <td>pos</td>\n",
       "      <td>pos</td>\n",
       "      <td>4.56</td>\n",
       "      <td>0.99</td>\n",
       "    </tr>\n",
       "    <tr>\n",
       "      <td>▁xxbos ▁xxmaj ▁le ▁plus ▁grand ▁film ▁sur ▁la ▁course ▁auto mo bile ▁avec ▁l ' immense ▁xxmaj ▁steve ▁mac ▁queen , ▁spectaculaire , ▁émouvant ▁et ▁surtout ▁très ▁re aliste ▁et ▁immersif .</td>\n",
       "      <td>pos</td>\n",
       "      <td>pos</td>\n",
       "      <td>4.40</td>\n",
       "      <td>0.99</td>\n",
       "    </tr>\n",
       "    <tr>\n",
       "      <td>▁xxbos ▁xxmaj ▁la ▁photographie ▁de ▁ce ▁film ▁à ▁petit ▁budget ▁ accuse ▁dés ▁l ' origine ▁une ▁forte ▁gran ul osité . ▁xxmaj ▁difficile ▁de ▁faire ▁des ▁miracle s ▁avec ▁ce ▁matériau ▁de ▁base ▁et ▁pourtant ... ▁xxmaj ▁sur ▁un ▁grand ▁écran ▁le ▁xxup ▁dvd ▁était ▁ ir regardable ▁et ▁voici ▁que ▁le ▁xxmaj ▁blu ▁xxmaj ▁ray ▁permet ▁de ▁redécouvrir ▁ce ▁chef ▁d ' oeuvre ▁dans ▁les ▁meilleurs ▁conditions ▁possibles</td>\n",
       "      <td>pos</td>\n",
       "      <td>pos</td>\n",
       "      <td>4.33</td>\n",
       "      <td>0.99</td>\n",
       "    </tr>\n",
       "    <tr>\n",
       "      <td>▁xxbos ▁xxmaj ▁un ▁nouvel ▁album ▁à ▁sa ▁hauteur , ▁simplement ▁génial , ▁j ' adore . ▁xxmaj ▁nouvel ▁album ▁dans ▁la ▁continuité ▁de ▁son ▁talent . ▁xxmaj ▁tout ▁simplement ▁excellent</td>\n",
       "      <td>pos</td>\n",
       "      <td>pos</td>\n",
       "      <td>4.09</td>\n",
       "      <td>0.99</td>\n",
       "    </tr>\n",
       "  </tbody>\n",
       "</table>"
      ],
      "text/plain": [
       "<IPython.core.display.HTML object>"
      ]
     },
     "metadata": {},
     "output_type": "display_data"
    }
   ],
   "source": [
    "# tabulation showing the first k texts in top_losses along with their prediction, actual,loss, and probability of actual class.\n",
    "# max_len is the maximum number of tokens displayed. If max_len=None, it will display all tokens.\n",
    "txt_ci.show_top_losses(5)"
   ]
  },
  {
   "cell_type": "markdown",
   "metadata": {
    "heading_collapsed": true
   },
   "source": [
    "## Ensemble"
   ]
  },
  {
   "cell_type": "code",
   "execution_count": 41,
   "metadata": {
    "hidden": true
   },
   "outputs": [],
   "source": [
    "bs = 18"
   ]
  },
  {
   "cell_type": "code",
   "execution_count": 42,
   "metadata": {
    "hidden": true
   },
   "outputs": [],
   "source": [
    "config = awd_lstm_clas_config.copy()\n",
    "config['qrnn'] = True\n",
    "config['n_hid'] = 1550 #default 1152\n",
    "config['n_layers'] = 4 #default 3"
   ]
  },
  {
   "cell_type": "code",
   "execution_count": 43,
   "metadata": {
    "hidden": true
   },
   "outputs": [],
   "source": [
    "data_clas = load_data(path, f'{lang}_textlist_class_sp15_multifit', bs=bs, num_workers=1)\n",
    "learn_c = text_classifier_learner(data_clas, AWD_LSTM, config=config, drop_mult=0.5, metrics=[accuracy,f1]).to_fp16()\n",
    "learn_c.load(f'{lang}clas_sp15_multifit', purge=False);"
   ]
  },
  {
   "cell_type": "code",
   "execution_count": 44,
   "metadata": {
    "hidden": true
   },
   "outputs": [
    {
     "data": {
      "text/plain": [
       "(tensor(0.9532), tensor(0.9733))"
      ]
     },
     "execution_count": 44,
     "metadata": {},
     "output_type": "execute_result"
    }
   ],
   "source": [
    "preds,targs = learn_c.get_preds(ordered=True)\n",
    "accuracy(preds,targs),f1(preds,targs)"
   ]
  },
  {
   "cell_type": "code",
   "execution_count": 45,
   "metadata": {
    "hidden": true
   },
   "outputs": [
    {
     "data": {
      "text/plain": [
       "(tensor(0.9532), tensor(0.9733))"
      ]
     },
     "execution_count": 45,
     "metadata": {},
     "output_type": "execute_result"
    }
   ],
   "source": [
    "preds,targs = learn_c.get_preds(ordered=True)\n",
    "accuracy(preds,targs),f1(preds,targs)"
   ]
  },
  {
   "cell_type": "code",
   "execution_count": 46,
   "metadata": {
    "hidden": true
   },
   "outputs": [],
   "source": [
    "data_clas_bwd = load_data(path, f'{lang}_textlist_class_sp15_multifit_bwd', bs=bs, num_workers=1, backwards=True)\n",
    "learn_c_bwd = text_classifier_learner(data_clas_bwd, AWD_LSTM, config=config, drop_mult=0.5, metrics=[accuracy,f1]).to_fp16()\n",
    "learn_c_bwd.load(f'{lang}clas_sp15_multifit_bwd', purge=False);"
   ]
  },
  {
   "cell_type": "code",
   "execution_count": 47,
   "metadata": {
    "hidden": true
   },
   "outputs": [
    {
     "data": {
      "text/plain": [
       "(tensor(0.9568), tensor(0.9755))"
      ]
     },
     "execution_count": 47,
     "metadata": {},
     "output_type": "execute_result"
    }
   ],
   "source": [
    "preds_b,targs_b = learn_c_bwd.get_preds(ordered=True)\n",
    "accuracy(preds_b,targs_b),f1(preds_b,targs_b)"
   ]
  },
  {
   "cell_type": "code",
   "execution_count": 48,
   "metadata": {
    "hidden": true
   },
   "outputs": [
    {
     "data": {
      "text/plain": [
       "(tensor(0.9568), tensor(0.9755))"
      ]
     },
     "execution_count": 48,
     "metadata": {},
     "output_type": "execute_result"
    }
   ],
   "source": [
    "preds_b,targs_b = learn_c_bwd.get_preds(ordered=True)\n",
    "accuracy(preds_b,targs_b),f1(preds_b,targs_b)"
   ]
  },
  {
   "cell_type": "code",
   "execution_count": 49,
   "metadata": {
    "hidden": true
   },
   "outputs": [],
   "source": [
    "preds_avg = (preds+preds_b)/2"
   ]
  },
  {
   "cell_type": "code",
   "execution_count": 50,
   "metadata": {
    "hidden": true
   },
   "outputs": [
    {
     "data": {
      "text/plain": [
       "(tensor(0.9592), tensor(0.9768))"
      ]
     },
     "execution_count": 50,
     "metadata": {},
     "output_type": "execute_result"
    }
   ],
   "source": [
    "accuracy(preds_avg,targs_b),f1(preds_avg,targs_b)"
   ]
  },
  {
   "cell_type": "code",
   "execution_count": 51,
   "metadata": {
    "hidden": true
   },
   "outputs": [
    {
     "name": "stdout",
     "output_type": "stream",
     "text": [
      "[[ 2196   216]\n",
      " [  688 19045]]\n",
      "accuracy global: 0.9591781440505758\n",
      "accuracy on negative reviews: 91.04477611940298\n",
      "accuracy on positive reviews: 96.51345461916586\n"
     ]
    }
   ],
   "source": [
    "from sklearn.metrics import confusion_matrix\n",
    "\n",
    "predictions = np.argmax(preds_avg, axis = 1)\n",
    "cm = confusion_matrix(np.array(targs_b), np.array(predictions))\n",
    "print(cm)\n",
    "\n",
    "## acc\n",
    "print(f'accuracy global: {(cm[0,0]+cm[1,1])/(cm[0,0]+cm[0,1]+cm[1,0]+cm[1,1])}')\n",
    "\n",
    "# acc neg, acc pos\n",
    "print(f'accuracy on negative reviews: {cm[0,0]/(cm[0,0]+cm[0,1])*100}') \n",
    "print(f'accuracy on positive reviews: {cm[1,1]/(cm[1,0]+cm[1,1])*100}')"
   ]
  }
 ],
 "metadata": {
  "kernelspec": {
   "display_name": "Python [conda env:root] *",
   "language": "python",
   "name": "conda-root-py"
  },
  "language_info": {
   "codemirror_mode": {
    "name": "ipython",
    "version": 3
   },
   "file_extension": ".py",
   "mimetype": "text/x-python",
   "name": "python",
   "nbconvert_exporter": "python",
   "pygments_lexer": "ipython3",
   "version": "3.7.4"
  }
 },
 "nbformat": 4,
 "nbformat_minor": 2
}
