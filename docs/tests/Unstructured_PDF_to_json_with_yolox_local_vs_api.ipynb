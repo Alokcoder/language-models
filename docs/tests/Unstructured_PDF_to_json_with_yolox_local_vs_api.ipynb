{
  "cells": [
    {
      "cell_type": "markdown",
      "metadata": {
        "id": "bXfuGoJFxrFx"
      },
      "source": [
        "# Unstructured - PDF to JSON with yolox (local vs api)"
      ]
    },
    {
      "cell_type": "markdown",
      "source": [
        "- Author: [Pierre GUILLOU](https://www.linkedin.com/in/pierreguillou/)\n",
        "- Date: 18/12/2023"
      ],
      "metadata": {
        "id": "-wIG1UrXr6UH"
      }
    },
    {
      "cell_type": "markdown",
      "metadata": {
        "id": "Sp026Z98x1Lk"
      },
      "source": [
        "## Setup"
      ]
    },
    {
      "cell_type": "code",
      "execution_count": 1,
      "metadata": {
        "id": "xIfLbhqF70eP"
      },
      "outputs": [],
      "source": [
        "%%capture\n",
        "!apt-get install poppler-utils\n",
        "!apt-get install tesseract-ocr-all\n",
        "# unstructured 0.11.5\n",
        "# unstructured-inference 0.7.19\n",
        "!pip install unstructured[all-docs] unstructured-inference"
      ]
    },
    {
      "cell_type": "markdown",
      "metadata": {
        "id": "7xJKVdcZxvgV"
      },
      "source": [
        "**Restart session in Colab!**"
      ]
    },
    {
      "cell_type": "markdown",
      "metadata": {
        "id": "BJIOzVJPKa3S"
      },
      "source": [
        "## Import libraries"
      ]
    },
    {
      "cell_type": "markdown",
      "metadata": {
        "id": "L1AqgrNnKe6D"
      },
      "source": [
        "**You must have restarted your session before to run the next cell.**"
      ]
    },
    {
      "cell_type": "code",
      "execution_count": 7,
      "metadata": {
        "id": "fPbNYGbbeTMK"
      },
      "outputs": [],
      "source": [
        "# select the partition function\n",
        "\n",
        "unstructured_api = True\n",
        "\n",
        "if unstructured_api:\n",
        "    # source: https://unstructured-io.github.io/unstructured/apis/usage_methods.html\n",
        "    from unstructured.partition.api import partition_via_api\n",
        "else:\n",
        "    # source: https://unstructured-io.github.io/unstructured/core/partition.html#partition-pdf\n",
        "    from unstructured.partition.pdf import partition_pdf # version unstructured 0.11.5"
      ]
    },
    {
      "cell_type": "markdown",
      "metadata": {
        "id": "Wcjm6AtI-XxS"
      },
      "source": [
        "## Get partition in json file"
      ]
    },
    {
      "cell_type": "code",
      "execution_count": 9,
      "metadata": {
        "id": "SGNzEv6VQi-v"
      },
      "outputs": [],
      "source": [
        "# Returns a List[Element] present in the pages of the parsed pdf document\n",
        "\n",
        "filename = \"/content/test_with_yolox_text_por.pdf\"\n",
        "\n",
        "# via api\n",
        "if unstructured_api:\n",
        "    elements = partition_via_api(\n",
        "        filename=filename,\n",
        "        strategy=\"hi_res\",\n",
        "        pdf_infer_table_structure=True,\n",
        "        languages=[\"por\"],\n",
        "        hi_res_model_name=\"yolox\",\n",
        "        api_key=\"xxxx\", # get your API key on the unstructured site\n",
        "    )\n",
        "# local\n",
        "else:\n",
        "    elements = partition_pdf(\n",
        "        filename=filename,\n",
        "        strategy=\"hi_res\",\n",
        "        infer_table_structure=True,\n",
        "        languages=[\"por\"],\n",
        "        model_name=\"yolox\",\n",
        "    )"
      ]
    },
    {
      "cell_type": "code",
      "source": [
        "import json\n",
        "\n",
        "# get output as json\n",
        "from unstructured.staging.base import elements_to_json\n",
        "output_file_json = f'{filename.replace(\".pdf\", \"_pdf.json\")}'\n",
        "elements_to_json(elements, filename=output_file_json)\n",
        "\n",
        "# download json\n",
        "from google.colab import files\n",
        "if unstructured_api:\n",
        "    new_output_file_json = output_file_json.replace(\"_pdf.json\", \"_pdf_api_yolox.json\")\n",
        "else:\n",
        "    new_output_file_json = output_file_json.replace(\"_pdf.json\", \"_pdf_local_yolox.json\")\n",
        "%cp $output_file_json $new_output_file_json\n",
        "files.download(new_output_file_json)"
      ],
      "metadata": {
        "colab": {
          "base_uri": "https://localhost:8080/",
          "height": 17
        },
        "id": "Xcoduk4xriCS",
        "outputId": "0a9f20c5-7661-4c6c-fc9c-7e237aa1475b"
      },
      "execution_count": 10,
      "outputs": [
        {
          "output_type": "display_data",
          "data": {
            "text/plain": [
              "<IPython.core.display.Javascript object>"
            ],
            "application/javascript": [
              "\n",
              "    async function download(id, filename, size) {\n",
              "      if (!google.colab.kernel.accessAllowed) {\n",
              "        return;\n",
              "      }\n",
              "      const div = document.createElement('div');\n",
              "      const label = document.createElement('label');\n",
              "      label.textContent = `Downloading \"${filename}\": `;\n",
              "      div.appendChild(label);\n",
              "      const progress = document.createElement('progress');\n",
              "      progress.max = size;\n",
              "      div.appendChild(progress);\n",
              "      document.body.appendChild(div);\n",
              "\n",
              "      const buffers = [];\n",
              "      let downloaded = 0;\n",
              "\n",
              "      const channel = await google.colab.kernel.comms.open(id);\n",
              "      // Send a message to notify the kernel that we're ready.\n",
              "      channel.send({})\n",
              "\n",
              "      for await (const message of channel.messages) {\n",
              "        // Send a message to notify the kernel that we're ready.\n",
              "        channel.send({})\n",
              "        if (message.buffers) {\n",
              "          for (const buffer of message.buffers) {\n",
              "            buffers.push(buffer);\n",
              "            downloaded += buffer.byteLength;\n",
              "            progress.value = downloaded;\n",
              "          }\n",
              "        }\n",
              "      }\n",
              "      const blob = new Blob(buffers, {type: 'application/binary'});\n",
              "      const a = document.createElement('a');\n",
              "      a.href = window.URL.createObjectURL(blob);\n",
              "      a.download = filename;\n",
              "      div.appendChild(a);\n",
              "      a.click();\n",
              "      div.remove();\n",
              "    }\n",
              "  "
            ]
          },
          "metadata": {}
        },
        {
          "output_type": "display_data",
          "data": {
            "text/plain": [
              "<IPython.core.display.Javascript object>"
            ],
            "application/javascript": [
              "download(\"download_2cde555c-036e-43b4-91da-3abc276bd0ca\", \"test_with_yolox_text_por_pdf_api_yolox.json\", 4066)"
            ]
          },
          "metadata": {}
        }
      ]
    },
    {
      "cell_type": "markdown",
      "metadata": {
        "id": "71l8DjsyAkyz"
      },
      "source": [
        "# END"
      ]
    }
  ],
  "metadata": {
    "colab": {
      "provenance": []
    },
    "kernelspec": {
      "display_name": "Python 3",
      "name": "python3"
    },
    "language_info": {
      "name": "python"
    }
  },
  "nbformat": 4,
  "nbformat_minor": 0
}