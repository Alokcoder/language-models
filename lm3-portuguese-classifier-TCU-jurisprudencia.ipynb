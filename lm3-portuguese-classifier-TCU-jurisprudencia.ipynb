{
 "cells": [
  {
   "cell_type": "markdown",
   "metadata": {},
   "source": [
    "# Portuguese Text Classifier on TCU jurisprudência dataset\n",
    "- ### Architecture 4 QRNN with 1550 hidden parameters by layer, SentencePiece tokenizer (15 000 tokens)\n",
    "- ### Hyperparameters and training method from the MultiFiT paper"
   ]
  },
  {
   "cell_type": "markdown",
   "metadata": {},
   "source": [
    "- Author: [Pierre Guillou](https://www.linkedin.com/in/pierreguillou)\n",
    "- Date: September 2019\n",
    "- Post in medium: link\n",
    "- Ref: [Fastai v1](https://docs.fast.ai/) (Deep Learning library on PyTorch)"
   ]
  },
  {
   "cell_type": "markdown",
   "metadata": {},
   "source": [
    "**Information**\n",
    "\n",
    "According to this new article \"[MultiFiT: Efficient Multi-lingual Language Model Fine-tuning](https://arxiv.org/abs/1909.04761)\" (September 10, 2019), the QRNN architecture and the SentencePiece tokenizer give better results than AWD-LSTM and the spaCy tokenizer respectively. \n",
    "\n",
    "Therefore, they have been used in this notebook to **fine-tune a Portuguese Bidirectional Language Model** by Transfer Learning of a Portuguese Bidirectional Language Model (with the QRNN architecture and the SentencePiece tokenizer, too) trained on a Wikipedia corpus of 100 millions tokens ([lm3-portuguese.ipynb](https://github.com/piegu/language-models/blob/master/lm3-portuguese.ipynb)). \n",
    "\n",
    "This Portuguese Bidirectional Language Model has been **fine-tuned on the [tcu_jurisp_reduzido.csv dataset about TCU jurisprudência](https://github.com/fastai-bsb/nlp-tcu-enunciados/blob/master/tcu_jurisp_reduzido.csv?raw=true)\"** and **its encoder part has been transfered to a text classifier which has been finally trained on this corpus**.\n",
    "\n",
    "This process **LM General --> LM fine-tuned --> Classifier fine-tuned** is called [ULMFiT](http://nlp.fast.ai/category/classification.html) but we trained our 3 models with the hyperparameters values and method of the [MultiFiT](https://arxiv.org/abs/1909.04761) paper that are given at the end of the MultiFiT paper.\n",
    "\n",
    "**Hyperparameters values**\n",
    "\n",
    "- Language Model\n",
    "    - (batch size) bs = 50\n",
    "    - (QRNN) 4 QRNN (default: 3) with 1550 hidden parameters each one (default: 1152)\n",
    "    - (SentencePiece) vocab of 15000 tokens\n",
    "    - (dropout) mult_drop = 1.0\n",
    "    - (weight decay) wd = 0.1\n",
    "    - (number of training epochs) 20 epochs\n",
    "    - (learning rate) modified version of 1-cycle learning rate schedule (Smith, 2018) that uses cosine instead of linear annealing, cyclical momentum and discriminative finetuning\n",
    "    - (loss) FlattenedLoss of weighted LabelSmoothingCrossEntropy\n",
    "    \n",
    "\n",
    "- Sentiment Classifier\n",
    "    - (batch size) bs = 18\n",
    "    - (SentencePiece) vocab of 15000 tokens\n",
    "    - (dropout) mult_drop = 0.3\n",
    "    - (weight decay) wd = 0.1\n",
    "    - (number of training epochs) 14 epochs (forward) and 19 epochs (backward)\n",
    "    - (learning rate) modified version of 1-cycle learning rate schedule (Smith, 2018) that uses cosine instead of linear annealing, cyclical momentum and discriminative finetuning\n",
    "    - (loss) FlattenedLoss of weighted LabelSmoothingCrossEntropy "
   ]
  },
  {
   "cell_type": "markdown",
   "metadata": {},
   "source": [
    "## Results"
   ]
  },
  {
   "cell_type": "markdown",
   "metadata": {},
   "source": [
    "**We can conclude that this Bidirectional Portuguese LM model using the MultiFiT configuration is a good model to perform text classification but with about 42 millions of parameters, it is far from being a LM that can gan compete with [GPT-2](https://openai.com/blog/better-language-models/) or [BERT](https://arxiv.org/abs/1810.04805) in NLP tasks like text generation.**\n",
    "\n",
    "- **About the data**: the dataset [tcu_jurisp_reduzido.csv](https://github.com/fastai-bsb/nlp-tcu-enunciados/blob/master/tcu_jurisp_reduzido.csv?raw=true) about \"TCU jurisprudência\" is unbalanced. Therefore, we used a weighted loss function (FlattenedLoss of weighted LabelSmoothingCrossEntropy).\n",
    "    - number of texts: 10263\n",
    "        - class 0: 3468 (33.79%)\n",
    "        - class 1: 2723 (26.53%)\n",
    "        - class 2: 2297 (22.38%)\n",
    "        - class 3: 1775 (17.3%)\n",
    "\n",
    "\n",
    "- **(fine-tuned) Language Model**   \n",
    "    - forward : (accuracy) 44.66% | (perplexity) 15.97\n",
    "    - backward: (accuracy) 44.97% | (perplexity) 18.73\n",
    "    \n",
    "\n",
    "- **(fine-tuned) Text Classifier**\n",
    "\n",
    "    - **Accuracy**\n",
    "        - forward : (global) 96.88% | **(class 0) 98.80%** | (class 1) 98.59% | (class 2) 95.31% | **(class 3) 95.89%**\n",
    "        - backward: (global) 96.69% | (class 0) 97.58% | (class 1) 98.59% | (class 2) 93.90% | (class 3) 95.43%\n",
    "        - ensemble: (global) **97.39%** | (class 0) 98.19% | **(class 1) 98.94%** | **(class 2) 96.71%** | (class 3) 94.42%\n",
    "\n",
    "    - **f1 score**\n",
    "        - forward: 0.9687\n",
    "        - backward: 0.9669\n",
    "        - ensemble: **0.9737**\n",
    "\n",
    "(neg = negative reviews | pos = positive reviews)"
   ]
  },
  {
   "cell_type": "markdown",
   "metadata": {
    "heading_collapsed": true
   },
   "source": [
    "## Initialisation"
   ]
  },
  {
   "cell_type": "code",
   "execution_count": 1,
   "metadata": {
    "hidden": true
   },
   "outputs": [],
   "source": [
    "%reload_ext autoreload\n",
    "%autoreload 2\n",
    "%matplotlib inline\n",
    "\n",
    "from fastai import *\n",
    "from fastai.text import *\n",
    "from fastai.callbacks import *"
   ]
  },
  {
   "cell_type": "code",
   "execution_count": 2,
   "metadata": {
    "hidden": true
   },
   "outputs": [
    {
     "name": "stdout",
     "output_type": "stream",
     "text": [
      "\r\n",
      "\r\n",
      "```text\r\n",
      "=== Software === \r\n",
      "python        : 3.7.4\r\n",
      "fastai        : 1.0.57\r\n",
      "fastprogress  : 0.1.21\r\n",
      "torch         : 1.2.0\r\n",
      "nvidia driver : 410.104\r\n",
      "torch cuda    : 10.0.130 / is available\r\n",
      "torch cudnn   : 7602 / is enabled\r\n",
      "\r\n",
      "=== Hardware === \r\n",
      "nvidia gpus   : 1\r\n",
      "torch devices : 1\r\n",
      "  - gpu0      : 16130MB | Tesla V100-SXM2-16GB\r\n",
      "\r\n",
      "=== Environment === \r\n",
      "platform      : Linux-4.9.0-9-amd64-x86_64-with-debian-9.9\r\n",
      "distro        : #1 SMP Debian 4.9.168-1+deb9u5 (2019-08-11)\r\n",
      "conda env     : base\r\n",
      "python        : /opt/anaconda3/bin/python\r\n",
      "sys.path      : /home/jupyter/tutorials/fastai/course-nlp\r\n",
      "/opt/anaconda3/lib/python37.zip\r\n",
      "/opt/anaconda3/lib/python3.7\r\n",
      "/opt/anaconda3/lib/python3.7/lib-dynload\r\n",
      "/opt/anaconda3/lib/python3.7/site-packages\r\n",
      "/opt/anaconda3/lib/python3.7/site-packages/IPython/extensions\r\n",
      "```\r\n",
      "\r\n",
      "Please make sure to include opening/closing ``` when you paste into forums/github to make the reports appear formatted as code sections.\r\n",
      "\r\n",
      "Optional package(s) to enhance the diagnostics can be installed with:\r\n",
      "pip install distro\r\n",
      "Once installed, re-run this utility to get the additional information\r\n"
     ]
    }
   ],
   "source": [
    "!python -m fastai.utils.show_install"
   ]
  },
  {
   "cell_type": "code",
   "execution_count": 3,
   "metadata": {
    "hidden": true
   },
   "outputs": [],
   "source": [
    "# bs=48\n",
    "# bs=24\n",
    "bs=50"
   ]
  },
  {
   "cell_type": "code",
   "execution_count": 4,
   "metadata": {
    "hidden": true
   },
   "outputs": [],
   "source": [
    "torch.cuda.set_device(0)"
   ]
  },
  {
   "cell_type": "code",
   "execution_count": 5,
   "metadata": {
    "hidden": true
   },
   "outputs": [],
   "source": [
    "data_path = Config.data_path()"
   ]
  },
  {
   "cell_type": "markdown",
   "metadata": {
    "hidden": true
   },
   "source": [
    "This will create a `{lang}wiki` folder, containing a `{lang}wiki` text file with the wikipedia contents. (For other languages, replace `{lang}` with the appropriate code from the [list of wikipedias](https://meta.wikimedia.org/wiki/List_of_Wikipedias).)"
   ]
  },
  {
   "cell_type": "code",
   "execution_count": 6,
   "metadata": {
    "hidden": true
   },
   "outputs": [],
   "source": [
    "lang = 'pt'"
   ]
  },
  {
   "cell_type": "code",
   "execution_count": 7,
   "metadata": {
    "hidden": true
   },
   "outputs": [],
   "source": [
    "name = f'{lang}wiki'\n",
    "path = data_path/name\n",
    "path.mkdir(exist_ok=True, parents=True)\n",
    "\n",
    "lm_fns3 = [f'{lang}_wt_sp15_multifit', f'{lang}_wt_vocab_sp15_multifit']\n",
    "lm_fns3_bwd = [f'{lang}_wt_sp15_multifit_bwd', f'{lang}_wt_vocab_sp15_multifit_bwd']"
   ]
  },
  {
   "cell_type": "markdown",
   "metadata": {
    "heading_collapsed": true
   },
   "source": [
    "## Data"
   ]
  },
  {
   "cell_type": "markdown",
   "metadata": {
    "hidden": true
   },
   "source": [
    "TCU jurisprudência:\n",
    "- reduzido: https://github.com/fastai-bsb/nlp-tcu-enunciados/blob/master/tcu_jurisp_reduzido.csv\n",
    "- completo: https://github.com/fastai-bsb/nlp-tcu-enunciados/blob/master/tcu_jurisp.csv"
   ]
  },
  {
   "cell_type": "markdown",
   "metadata": {
    "hidden": true
   },
   "source": [
    "### Download"
   ]
  },
  {
   "cell_type": "code",
   "execution_count": 8,
   "metadata": {
    "hidden": true
   },
   "outputs": [],
   "source": [
    "import urllib.request\n",
    "from converter import *"
   ]
  },
  {
   "cell_type": "code",
   "execution_count": 9,
   "metadata": {
    "hidden": true
   },
   "outputs": [],
   "source": [
    "# create TCU folder\n",
    "name_data = 'TCU'\n",
    "path_data = data_path/name_data\n",
    "path_data.mkdir(exist_ok=True, parents=True)"
   ]
  },
  {
   "cell_type": "code",
   "execution_count": 10,
   "metadata": {
    "hidden": true
   },
   "outputs": [
    {
     "name": "stdout",
     "output_type": "stream",
     "text": [
      "CPU times: user 48 ms, sys: 20 ms, total: 68 ms\n",
      "Wall time: 1.41 s\n"
     ]
    },
    {
     "data": {
      "text/plain": [
       "(PosixPath('/home/jupyter/.fastai/data/TCU/tcu_jurisp.csv'),\n",
       " <http.client.HTTPMessage at 0x7f9a1cec6b50>)"
      ]
     },
     "execution_count": 10,
     "metadata": {},
     "output_type": "execute_result"
    }
   ],
   "source": [
    "%%time\n",
    "# Download each file from url and save it locally under file_name\n",
    "\n",
    "url = 'https://github.com/fastai-bsb/nlp-tcu-enunciados/blob/master/tcu_jurisp_reduzido.csv?raw=true'\n",
    "file_name = 'tcu_jurisp_reduzido.csv'\n",
    "url_file = path_data/file_name\n",
    "urllib.request.urlretrieve(url, url_file)\n",
    "\n",
    "url = 'https://raw.githubusercontent.com/fastai-bsb/nlp-tcu-enunciados/master/tcu_jurisp.csv'\n",
    "file_name = 'tcu_jurisp.csv'\n",
    "url_file = path_data/file_name\n",
    "urllib.request.urlretrieve(url, url_file)"
   ]
  },
  {
   "cell_type": "code",
   "execution_count": 11,
   "metadata": {
    "hidden": true
   },
   "outputs": [
    {
     "data": {
      "text/plain": [
       "[PosixPath('/home/jupyter/.fastai/data/TCU/tcu_jurisp_reduzido_preprocessed.csv'),\n",
       " PosixPath('/home/jupyter/.fastai/data/TCU/tcu_jurisp_reduzido.csv'),\n",
       " PosixPath('/home/jupyter/.fastai/data/TCU/tcu_jurisp.csv')]"
      ]
     },
     "execution_count": 11,
     "metadata": {},
     "output_type": "execute_result"
    }
   ],
   "source": [
    "path_data.ls()"
   ]
  },
  {
   "cell_type": "code",
   "execution_count": 12,
   "metadata": {
    "hidden": true
   },
   "outputs": [
    {
     "name": "stdout",
     "output_type": "stream",
     "text": [
      "text,labels\r\n",
      "\"A medida cautelar do TCU que determina a suspensão de licitação por falhas no edital não impede o órgão ou a entidade de rever seu ato convocatório, valendo-se do poder de autotutela (art. 49 da Lei 8.666/1993 c/c o art. 9º da Lei 10.520/2002) , com o objetivo de, antecipando-se a eventual deliberação do Tribunal, promover de modo próprio a anulação da licitação e o refazimento do edital, livre dos vícios apontados.\",3\r\n",
      "\"A retenção de recursos pela Administração com vistas ao ressarcimento do prejuízo ou a existência de ação judicial para o reconhecimento do dano ao erário não constituem óbices ao prosseguimento da tomada de contas especial no TCU. Ocorrendo ressarcimento em uma instância, basta que o responsável apresente essa comprovação perante o juízo de execução para evitar o duplo pagamento.</p><p><b>Enunciado </b>\",3\r\n",
      "\"Para fins de admissibilidade de recurso de revisão, considera-se documento novo todo aquele ainda não examinado no processo.\",3\r\n"
     ]
    }
   ],
   "source": [
    "!head -n4 {path_data.ls()[0]}"
   ]
  },
  {
   "cell_type": "markdown",
   "metadata": {
    "hidden": true
   },
   "source": [
    "### Overview"
   ]
  },
  {
   "cell_type": "code",
   "execution_count": 13,
   "metadata": {
    "hidden": true
   },
   "outputs": [],
   "source": [
    "# to solve display error of pandas dataframe\n",
    "get_ipython().config.get('IPKernelApp', {})['parent_appname'] = \"\""
   ]
  },
  {
   "cell_type": "code",
   "execution_count": 14,
   "metadata": {
    "hidden": true
   },
   "outputs": [
    {
     "name": "stdout",
     "output_type": "stream",
     "text": [
      "10263\n",
      "Counter({0: 3468, 1: 2723, 2: 2297, 3: 1775})\n"
     ]
    },
    {
     "data": {
      "text/html": [
       "<div>\n",
       "<style scoped>\n",
       "    .dataframe tbody tr th:only-of-type {\n",
       "        vertical-align: middle;\n",
       "    }\n",
       "\n",
       "    .dataframe tbody tr th {\n",
       "        vertical-align: top;\n",
       "    }\n",
       "\n",
       "    .dataframe thead th {\n",
       "        text-align: right;\n",
       "    }\n",
       "</style>\n",
       "<table border=\"1\" class=\"dataframe\">\n",
       "  <thead>\n",
       "    <tr style=\"text-align: right;\">\n",
       "      <th></th>\n",
       "      <th>Unnamed: 0</th>\n",
       "      <th>labels</th>\n",
       "      <th>text</th>\n",
       "    </tr>\n",
       "  </thead>\n",
       "  <tbody>\n",
       "    <tr>\n",
       "      <td>0</td>\n",
       "      <td>0</td>\n",
       "      <td>3</td>\n",
       "      <td>A medida cautelar do TCU que determina a suspe...</td>\n",
       "    </tr>\n",
       "    <tr>\n",
       "      <td>1</td>\n",
       "      <td>1</td>\n",
       "      <td>3</td>\n",
       "      <td>A retenção de recursos pela Administração com ...</td>\n",
       "    </tr>\n",
       "    <tr>\n",
       "      <td>2</td>\n",
       "      <td>2</td>\n",
       "      <td>3</td>\n",
       "      <td>Para fins de admissibilidade de recurso de rev...</td>\n",
       "    </tr>\n",
       "    <tr>\n",
       "      <td>3</td>\n",
       "      <td>3</td>\n",
       "      <td>3</td>\n",
       "      <td>Fotografias não têm pleno valor probatório, so...</td>\n",
       "    </tr>\n",
       "    <tr>\n",
       "      <td>4</td>\n",
       "      <td>4</td>\n",
       "      <td>3</td>\n",
       "      <td>Não cabe instauração de tomada de contas espec...</td>\n",
       "    </tr>\n",
       "  </tbody>\n",
       "</table>\n",
       "</div>"
      ],
      "text/plain": [
       "   Unnamed: 0  labels                                               text\n",
       "0           0       3  A medida cautelar do TCU que determina a suspe...\n",
       "1           1       3  A retenção de recursos pela Administração com ...\n",
       "2           2       3  Para fins de admissibilidade de recurso de rev...\n",
       "3           3       3  Fotografias não têm pleno valor probatório, so...\n",
       "4           4       3  Não cabe instauração de tomada de contas espec..."
      ]
     },
     "execution_count": 14,
     "metadata": {},
     "output_type": "execute_result"
    }
   ],
   "source": [
    "df = pd.read_csv(path_data/'tcu_jurisp_reduzido.csv', encoding='utf-8')\n",
    "print(len(df))\n",
    "print(Counter(df.labels))\n",
    "df.head()"
   ]
  },
  {
   "cell_type": "code",
   "execution_count": 15,
   "metadata": {
    "hidden": true
   },
   "outputs": [
    {
     "name": "stdout",
     "output_type": "stream",
     "text": [
      "13258\n",
      "Counter({0: 3468, 1: 2723, 2: 2297, 3: 1775, 4: 932, 5: 673, 6: 572, 7: 343, 8: 337, 9: 138})\n"
     ]
    },
    {
     "data": {
      "text/html": [
       "<div>\n",
       "<style scoped>\n",
       "    .dataframe tbody tr th:only-of-type {\n",
       "        vertical-align: middle;\n",
       "    }\n",
       "\n",
       "    .dataframe tbody tr th {\n",
       "        vertical-align: top;\n",
       "    }\n",
       "\n",
       "    .dataframe thead th {\n",
       "        text-align: right;\n",
       "    }\n",
       "</style>\n",
       "<table border=\"1\" class=\"dataframe\">\n",
       "  <thead>\n",
       "    <tr style=\"text-align: right;\">\n",
       "      <th></th>\n",
       "      <th>Unnamed: 0</th>\n",
       "      <th>labels</th>\n",
       "      <th>text</th>\n",
       "    </tr>\n",
       "  </thead>\n",
       "  <tbody>\n",
       "    <tr>\n",
       "      <td>0</td>\n",
       "      <td>0</td>\n",
       "      <td>6</td>\n",
       "      <td>O TCU tem competência para fiscalizar a aplica...</td>\n",
       "    </tr>\n",
       "    <tr>\n",
       "      <td>1</td>\n",
       "      <td>1</td>\n",
       "      <td>6</td>\n",
       "      <td>Não compete ao TCU apreciar, para fins de regi...</td>\n",
       "    </tr>\n",
       "    <tr>\n",
       "      <td>2</td>\n",
       "      <td>2</td>\n",
       "      <td>6</td>\n",
       "      <td>Compete ao TCU a apreciação da constitucionali...</td>\n",
       "    </tr>\n",
       "    <tr>\n",
       "      <td>3</td>\n",
       "      <td>3</td>\n",
       "      <td>6</td>\n",
       "      <td>É possível a expedição de determinação pelo TC...</td>\n",
       "    </tr>\n",
       "    <tr>\n",
       "      <td>4</td>\n",
       "      <td>4</td>\n",
       "      <td>6</td>\n",
       "      <td>O TCU não tem competência, no âmbito do Progra...</td>\n",
       "    </tr>\n",
       "  </tbody>\n",
       "</table>\n",
       "</div>"
      ],
      "text/plain": [
       "   Unnamed: 0  labels                                               text\n",
       "0           0       6  O TCU tem competência para fiscalizar a aplica...\n",
       "1           1       6  Não compete ao TCU apreciar, para fins de regi...\n",
       "2           2       6  Compete ao TCU a apreciação da constitucionali...\n",
       "3           3       6  É possível a expedição de determinação pelo TC...\n",
       "4           4       6  O TCU não tem competência, no âmbito do Progra..."
      ]
     },
     "execution_count": 15,
     "metadata": {},
     "output_type": "execute_result"
    }
   ],
   "source": [
    "df = pd.read_csv(path_data/'tcu_jurisp.csv', encoding='utf-8')\n",
    "print(len(df))\n",
    "print(Counter(df.labels))\n",
    "df.head()"
   ]
  },
  {
   "cell_type": "markdown",
   "metadata": {
    "hidden": true
   },
   "source": [
    "### Analysis (reduzido file)"
   ]
  },
  {
   "cell_type": "code",
   "execution_count": 16,
   "metadata": {
    "hidden": true
   },
   "outputs": [
    {
     "name": "stdout",
     "output_type": "stream",
     "text": [
      "10263\n",
      "Counter({0: 3468, 1: 2723, 2: 2297, 3: 1775})\n"
     ]
    },
    {
     "data": {
      "text/html": [
       "<div>\n",
       "<style scoped>\n",
       "    .dataframe tbody tr th:only-of-type {\n",
       "        vertical-align: middle;\n",
       "    }\n",
       "\n",
       "    .dataframe tbody tr th {\n",
       "        vertical-align: top;\n",
       "    }\n",
       "\n",
       "    .dataframe thead th {\n",
       "        text-align: right;\n",
       "    }\n",
       "</style>\n",
       "<table border=\"1\" class=\"dataframe\">\n",
       "  <thead>\n",
       "    <tr style=\"text-align: right;\">\n",
       "      <th></th>\n",
       "      <th>Unnamed: 0</th>\n",
       "      <th>labels</th>\n",
       "      <th>text</th>\n",
       "    </tr>\n",
       "  </thead>\n",
       "  <tbody>\n",
       "    <tr>\n",
       "      <td>0</td>\n",
       "      <td>0</td>\n",
       "      <td>3</td>\n",
       "      <td>A medida cautelar do TCU que determina a suspe...</td>\n",
       "    </tr>\n",
       "    <tr>\n",
       "      <td>1</td>\n",
       "      <td>1</td>\n",
       "      <td>3</td>\n",
       "      <td>A retenção de recursos pela Administração com ...</td>\n",
       "    </tr>\n",
       "    <tr>\n",
       "      <td>2</td>\n",
       "      <td>2</td>\n",
       "      <td>3</td>\n",
       "      <td>Para fins de admissibilidade de recurso de rev...</td>\n",
       "    </tr>\n",
       "    <tr>\n",
       "      <td>3</td>\n",
       "      <td>3</td>\n",
       "      <td>3</td>\n",
       "      <td>Fotografias não têm pleno valor probatório, so...</td>\n",
       "    </tr>\n",
       "    <tr>\n",
       "      <td>4</td>\n",
       "      <td>4</td>\n",
       "      <td>3</td>\n",
       "      <td>Não cabe instauração de tomada de contas espec...</td>\n",
       "    </tr>\n",
       "  </tbody>\n",
       "</table>\n",
       "</div>"
      ],
      "text/plain": [
       "   Unnamed: 0  labels                                               text\n",
       "0           0       3  A medida cautelar do TCU que determina a suspe...\n",
       "1           1       3  A retenção de recursos pela Administração com ...\n",
       "2           2       3  Para fins de admissibilidade de recurso de rev...\n",
       "3           3       3  Fotografias não têm pleno valor probatório, so...\n",
       "4           4       3  Não cabe instauração de tomada de contas espec..."
      ]
     },
     "execution_count": 16,
     "metadata": {},
     "output_type": "execute_result"
    }
   ],
   "source": [
    "df = pd.read_csv(path_data/'tcu_jurisp_reduzido.csv', encoding='utf-8')\n",
    "print(len(df))\n",
    "print(Counter(df.labels))\n",
    "df.head()"
   ]
  },
  {
   "cell_type": "code",
   "execution_count": 17,
   "metadata": {
    "hidden": true
   },
   "outputs": [],
   "source": [
    "# columns names\n",
    "reviews = \"text\"\n",
    "label = \"labels\"\n",
    "\n",
    "# keep columns\n",
    "df2 = df[[reviews,label]].copy()"
   ]
  },
  {
   "cell_type": "code",
   "execution_count": 18,
   "metadata": {
    "hidden": true
   },
   "outputs": [
    {
     "name": "stdout",
     "output_type": "stream",
     "text": [
      "(orginal csv) number of all reviews: 10263\n",
      "there is no empty review.\n",
      "0 reviews with nan label were deleted\n",
      "\n",
      "number of text of class 0: 3468 (33.79%)\n",
      "number of text of class 1: 2723 (26.53%)\n",
      "number of text of class 2: 2297 (22.38%)\n",
      "number of text of class 3: 1775 (17.3%)\n",
      "\n",
      "(final) number of all texts: 10263\n"
     ]
    },
    {
     "data": {
      "text/html": [
       "<div>\n",
       "<style scoped>\n",
       "    .dataframe tbody tr th:only-of-type {\n",
       "        vertical-align: middle;\n",
       "    }\n",
       "\n",
       "    .dataframe tbody tr th {\n",
       "        vertical-align: top;\n",
       "    }\n",
       "\n",
       "    .dataframe thead th {\n",
       "        text-align: right;\n",
       "    }\n",
       "</style>\n",
       "<table border=\"1\" class=\"dataframe\">\n",
       "  <thead>\n",
       "    <tr style=\"text-align: right;\">\n",
       "      <th></th>\n",
       "      <th>text</th>\n",
       "      <th>labels</th>\n",
       "    </tr>\n",
       "  </thead>\n",
       "  <tbody>\n",
       "    <tr>\n",
       "      <td>0</td>\n",
       "      <td>A medida cautelar do TCU que determina a suspe...</td>\n",
       "      <td>3</td>\n",
       "    </tr>\n",
       "    <tr>\n",
       "      <td>1</td>\n",
       "      <td>A retenção de recursos pela Administração com ...</td>\n",
       "      <td>3</td>\n",
       "    </tr>\n",
       "    <tr>\n",
       "      <td>2</td>\n",
       "      <td>Para fins de admissibilidade de recurso de rev...</td>\n",
       "      <td>3</td>\n",
       "    </tr>\n",
       "    <tr>\n",
       "      <td>3</td>\n",
       "      <td>Fotografias não têm pleno valor probatório, so...</td>\n",
       "      <td>3</td>\n",
       "    </tr>\n",
       "    <tr>\n",
       "      <td>4</td>\n",
       "      <td>Não cabe instauração de tomada de contas espec...</td>\n",
       "      <td>3</td>\n",
       "    </tr>\n",
       "  </tbody>\n",
       "</table>\n",
       "</div>"
      ],
      "text/plain": [
       "                                                text  labels\n",
       "0  A medida cautelar do TCU que determina a suspe...       3\n",
       "1  A retenção de recursos pela Administração com ...       3\n",
       "2  Para fins de admissibilidade de recurso de rev...       3\n",
       "3  Fotografias não têm pleno valor probatório, so...       3\n",
       "4  Não cabe instauração de tomada de contas espec...       3"
      ]
     },
     "execution_count": 18,
     "metadata": {},
     "output_type": "execute_result"
    }
   ],
   "source": [
    "# number of reviews\n",
    "print(f'(orginal csv) number of all reviews: {len(df2)}')\n",
    "\n",
    "# keep not null reviews\n",
    "## delete nan reviews\n",
    "empty_nan = (df2[reviews].isnull()).sum()\n",
    "df2 = df2[df2[reviews].notnull()]\n",
    "## delete empty reviews\n",
    "list_idx_none = []\n",
    "for idxs, row in df2.iterrows():\n",
    "    if row[reviews].strip() == \"\":\n",
    "        df2.drop(idxs, axis=0, inplace=True)\n",
    "        list_idx_none.append(idxs)\n",
    "empty_none = len(list_idx_none)\n",
    "## print results\n",
    "empty = empty_nan+empty_none\n",
    "if empty != 0:\n",
    "    print(f'{empty} empty reviews were deleted')\n",
    "else:\n",
    "    print('there is no empty review.')\n",
    "\n",
    "# # check that there is no twice the same review\n",
    "# # keep the first of unique review_id reviews\n",
    "# same = len(df2) - len(df2[idx].unique())\n",
    "# if same != 0:\n",
    "#     df2.drop_duplicates(subset=[idx], inplace=True)\n",
    "#     print(f'from the {same} identical reviews ids, only the first one has been kept.')\n",
    "# else:\n",
    "#     print('there is no identical review id.')\n",
    "\n",
    "## delete nan labels\n",
    "empty_label_nan = (df2[label].isnull()).sum()\n",
    "df2 = df2[df2[label].notnull()]\n",
    "print(f'{empty_label_nan} reviews with nan label were deleted')\n",
    "\n",
    "# number of reviews by class\n",
    "counter = Counter(df2[label])\n",
    "clas_0, clas_1, clas_2, clas_3 = counter[0], counter[1], counter[2], counter[3]\n",
    "num = len(df2)\n",
    "pc_clas_0, pc_clas_1 = round((clas_0/num)*100,2), round((clas_1/num)*100,2)\n",
    "pc_clas_2, pc_clas_3 = round((clas_2/num)*100,2), round((clas_3/num)*100,2)\n",
    "print(f'\\nnumber of text of class 0: {clas_0} ({pc_clas_0}%)')\n",
    "print(f'number of text of class 1: {clas_1} ({pc_clas_1}%)')\n",
    "print(f'number of text of class 2: {clas_2} ({pc_clas_2}%)')\n",
    "print(f'number of text of class 3: {clas_3} ({pc_clas_3}%)')\n",
    "print(f'\\n(final) number of all texts: {num}')  \n",
    "\n",
    "# convert HTML caracters to normal letters\n",
    "df2[reviews] = df2[reviews].apply(convert)\n",
    "\n",
    "df2.head(5)"
   ]
  },
  {
   "cell_type": "code",
   "execution_count": 19,
   "metadata": {
    "hidden": true
   },
   "outputs": [
    {
     "name": "stdout",
     "output_type": "stream",
     "text": [
      "\n",
      "number of text of class 0: 3468 (33.79%)\n",
      "number of text of class 1: 2723 (26.53%)\n",
      "number of text of class 2: 2297 (22.38%)\n",
      "number of text of class 3: 1775 (17.3%)\n",
      "\n",
      "(final) number of all texts: 10263\n"
     ]
    },
    {
     "data": {
      "image/png": "[encoded data removed]",
      "text/plain": [
       "<Figure size 432x288 with 1 Axes>"
      ]
     },
     "metadata": {
      "needs_background": "light"
     },
     "output_type": "display_data"
    }
   ],
   "source": [
    "df_trn_val = df2.copy()\n",
    "\n",
    "# number of reviews by class\n",
    "counter = Counter(df_trn_val[label])\n",
    "clas_0, clas_1, clas_2, clas_3 = counter[0], counter[1], counter[2], counter[3]\n",
    "num = len(df_trn_val)\n",
    "pc_clas_0, pc_clas_1 = round((clas_0/num)*100,2), round((clas_1/num)*100,2)\n",
    "pc_clas_2, pc_clas_3 = round((clas_2/num)*100,2), round((clas_3/num)*100,2)\n",
    "print(f'\\nnumber of text of class 0: {clas_0} ({pc_clas_0}%)')\n",
    "print(f'number of text of class 1: {clas_1} ({pc_clas_1}%)')\n",
    "print(f'number of text of class 2: {clas_2} ({pc_clas_2}%)')\n",
    "print(f'number of text of class 3: {clas_3} ({pc_clas_3}%)')\n",
    "print(f'\\n(final) number of all texts: {num}') \n",
    "\n",
    "# plot histogram\n",
    "keys = list(df_trn_val[label].value_counts().keys())\n",
    "values = list(df_trn_val[label].value_counts().array)\n",
    "plt.bar(keys, values[::-1]) \n",
    "plt.xticks(keys, keys[::-1])\n",
    "# print(df_trn_val['label'].value_counts())\n",
    "plt.show()"
   ]
  },
  {
   "cell_type": "code",
   "execution_count": 20,
   "metadata": {
    "hidden": true
   },
   "outputs": [
    {
     "data": {
      "text/html": [
       "<div>\n",
       "<style scoped>\n",
       "    .dataframe tbody tr th:only-of-type {\n",
       "        vertical-align: middle;\n",
       "    }\n",
       "\n",
       "    .dataframe tbody tr th {\n",
       "        vertical-align: top;\n",
       "    }\n",
       "\n",
       "    .dataframe thead th {\n",
       "        text-align: right;\n",
       "    }\n",
       "</style>\n",
       "<table border=\"1\" class=\"dataframe\">\n",
       "  <thead>\n",
       "    <tr style=\"text-align: right;\">\n",
       "      <th></th>\n",
       "      <th>text</th>\n",
       "      <th>labels</th>\n",
       "    </tr>\n",
       "  </thead>\n",
       "  <tbody>\n",
       "    <tr>\n",
       "      <td>0</td>\n",
       "      <td>A medida cautelar do TCU que determina a suspe...</td>\n",
       "      <td>3</td>\n",
       "    </tr>\n",
       "    <tr>\n",
       "      <td>1</td>\n",
       "      <td>A retenção de recursos pela Administração com ...</td>\n",
       "      <td>3</td>\n",
       "    </tr>\n",
       "    <tr>\n",
       "      <td>2</td>\n",
       "      <td>Para fins de admissibilidade de recurso de rev...</td>\n",
       "      <td>3</td>\n",
       "    </tr>\n",
       "    <tr>\n",
       "      <td>3</td>\n",
       "      <td>Fotografias não têm pleno valor probatório, so...</td>\n",
       "      <td>3</td>\n",
       "    </tr>\n",
       "    <tr>\n",
       "      <td>4</td>\n",
       "      <td>Não cabe instauração de tomada de contas espec...</td>\n",
       "      <td>3</td>\n",
       "    </tr>\n",
       "  </tbody>\n",
       "</table>\n",
       "</div>"
      ],
      "text/plain": [
       "                                                text  labels\n",
       "0  A medida cautelar do TCU que determina a suspe...       3\n",
       "1  A retenção de recursos pela Administração com ...       3\n",
       "2  Para fins de admissibilidade de recurso de rev...       3\n",
       "3  Fotografias não têm pleno valor probatório, so...       3\n",
       "4  Não cabe instauração de tomada de contas espec...       3"
      ]
     },
     "execution_count": 20,
     "metadata": {},
     "output_type": "execute_result"
    }
   ],
   "source": [
    "df_trn_val.head()"
   ]
  },
  {
   "cell_type": "code",
   "execution_count": 21,
   "metadata": {
    "hidden": true
   },
   "outputs": [],
   "source": [
    "df_trn_val.to_csv (path_data/'tcu_jurisp_reduzido_preprocessed.csv', index = None, header=True)"
   ]
  },
  {
   "cell_type": "markdown",
   "metadata": {
    "heading_collapsed": true
   },
   "source": [
    "## Fine-tuning \"forward LM\""
   ]
  },
  {
   "cell_type": "markdown",
   "metadata": {
    "hidden": true
   },
   "source": [
    "### Databunch"
   ]
  },
  {
   "cell_type": "code",
   "execution_count": 31,
   "metadata": {
    "hidden": true
   },
   "outputs": [
    {
     "name": "stdout",
     "output_type": "stream",
     "text": [
      "CPU times: user 5.25 s, sys: 540 ms, total: 5.79 s\n",
      "Wall time: 4.43 s\n"
     ]
    }
   ],
   "source": [
    "%%time\n",
    "data_lm = (TextList.from_df(df_trn_val, path, cols=reviews, \n",
    "                            processor=[OpenFileProcessor(), SPProcessor(max_vocab_sz=15000)])\n",
    "    .split_by_rand_pct(0.1, seed=42)\n",
    "    .label_for_lm()           \n",
    "    .databunch(bs=bs, num_workers=1))"
   ]
  },
  {
   "cell_type": "code",
   "execution_count": 32,
   "metadata": {
    "hidden": true
   },
   "outputs": [],
   "source": [
    "data_lm.save(f'{path}/{lang}_databunch_lm_tcu_jurisp_reduzido_sp15_multifit')"
   ]
  },
  {
   "cell_type": "markdown",
   "metadata": {
    "hidden": true
   },
   "source": [
    "### Training"
   ]
  },
  {
   "cell_type": "code",
   "execution_count": 316,
   "metadata": {
    "hidden": true
   },
   "outputs": [],
   "source": [
    "data_lm = load_data(path, f'{lang}_databunch_lm_tcu_jurisp_reduzido_sp15_multifit', bs=bs)"
   ]
  },
  {
   "cell_type": "code",
   "execution_count": 317,
   "metadata": {
    "hidden": true
   },
   "outputs": [],
   "source": [
    "config = awd_lstm_lm_config.copy()\n",
    "config['qrnn'] = True\n",
    "config['n_hid'] = 1550 #default 1152\n",
    "config['n_layers'] = 4 #default 3"
   ]
  },
  {
   "cell_type": "code",
   "execution_count": 318,
   "metadata": {
    "hidden": true
   },
   "outputs": [
    {
     "name": "stdout",
     "output_type": "stream",
     "text": [
      "CPU times: user 688 ms, sys: 100 ms, total: 788 ms\n",
      "Wall time: 423 ms\n"
     ]
    }
   ],
   "source": [
    "%%time\n",
    "perplexity = Perplexity()\n",
    "learn_lm = language_model_learner(data_lm, AWD_LSTM, config=config, pretrained_fnames=lm_fns3, drop_mult=1., \n",
    "                                  metrics=[error_rate, accuracy, perplexity]).to_fp16()"
   ]
  },
  {
   "cell_type": "code",
   "execution_count": 324,
   "metadata": {
    "hidden": true
   },
   "outputs": [
    {
     "data": {
      "text/plain": [
       "42116014"
      ]
     },
     "execution_count": 324,
     "metadata": {},
     "output_type": "execute_result"
    }
   ],
   "source": [
    "# number of model parameters\n",
    "sum([p.numel() for p in learn_lm.model.parameters()])"
   ]
  },
  {
   "cell_type": "code",
   "execution_count": 320,
   "metadata": {
    "hidden": true
   },
   "outputs": [
    {
     "data": {
      "text/plain": [
       "SequentialRNN(\n",
       "  (0): AWD_LSTM(\n",
       "    (encoder): Embedding(5264, 400, padding_idx=1)\n",
       "    (encoder_dp): EmbeddingDropout(\n",
       "      (emb): Embedding(5264, 400, padding_idx=1)\n",
       "    )\n",
       "    (rnns): ModuleList(\n",
       "      (0): QRNN(\n",
       "        (layers): ModuleList(\n",
       "          (0): QRNNLayer(\n",
       "            (linear): WeightDropout(\n",
       "              (module): Linear(in_features=800, out_features=4650, bias=True)\n",
       "            )\n",
       "          )\n",
       "        )\n",
       "      )\n",
       "      (1): QRNN(\n",
       "        (layers): ModuleList(\n",
       "          (0): QRNNLayer(\n",
       "            (linear): WeightDropout(\n",
       "              (module): Linear(in_features=1550, out_features=4650, bias=True)\n",
       "            )\n",
       "          )\n",
       "        )\n",
       "      )\n",
       "      (2): QRNN(\n",
       "        (layers): ModuleList(\n",
       "          (0): QRNNLayer(\n",
       "            (linear): WeightDropout(\n",
       "              (module): Linear(in_features=1550, out_features=4650, bias=True)\n",
       "            )\n",
       "          )\n",
       "        )\n",
       "      )\n",
       "      (3): QRNN(\n",
       "        (layers): ModuleList(\n",
       "          (0): QRNNLayer(\n",
       "            (linear): WeightDropout(\n",
       "              (module): Linear(in_features=1550, out_features=1200, bias=True)\n",
       "            )\n",
       "          )\n",
       "        )\n",
       "      )\n",
       "    )\n",
       "    (input_dp): RNNDropout()\n",
       "    (hidden_dps): ModuleList(\n",
       "      (0): RNNDropout()\n",
       "      (1): RNNDropout()\n",
       "      (2): RNNDropout()\n",
       "      (3): RNNDropout()\n",
       "    )\n",
       "  )\n",
       "  (1): LinearDecoder(\n",
       "    (decoder): Linear(in_features=400, out_features=5264, bias=True)\n",
       "    (output_dp): RNNDropout()\n",
       "  )\n",
       ")"
      ]
     },
     "execution_count": 320,
     "metadata": {},
     "output_type": "execute_result"
    }
   ],
   "source": [
    "learn_lm.model"
   ]
  },
  {
   "cell_type": "markdown",
   "metadata": {
    "hidden": true
   },
   "source": [
    "#### Change loss function"
   ]
  },
  {
   "cell_type": "code",
   "execution_count": 93,
   "metadata": {
    "hidden": true
   },
   "outputs": [
    {
     "data": {
      "text/plain": [
       "FlattenedLoss of CrossEntropyLoss()"
      ]
     },
     "execution_count": 93,
     "metadata": {},
     "output_type": "execute_result"
    }
   ],
   "source": [
    "learn_lm.loss_func"
   ]
  },
  {
   "cell_type": "code",
   "execution_count": 94,
   "metadata": {
    "hidden": true
   },
   "outputs": [],
   "source": [
    "learn_lm.loss_func = FlattenedLoss(LabelSmoothingCrossEntropy)"
   ]
  },
  {
   "cell_type": "code",
   "execution_count": 95,
   "metadata": {
    "hidden": true
   },
   "outputs": [
    {
     "data": {
      "text/plain": [
       "FlattenedLoss of LabelSmoothingCrossEntropy()"
      ]
     },
     "execution_count": 95,
     "metadata": {},
     "output_type": "execute_result"
    }
   ],
   "source": [
    "learn_lm.loss_func"
   ]
  },
  {
   "cell_type": "markdown",
   "metadata": {
    "hidden": true
   },
   "source": [
    "#### Training"
   ]
  },
  {
   "cell_type": "code",
   "execution_count": 96,
   "metadata": {
    "hidden": true
   },
   "outputs": [
    {
     "data": {
      "text/html": [],
      "text/plain": [
       "<IPython.core.display.HTML object>"
      ]
     },
     "metadata": {},
     "output_type": "display_data"
    },
    {
     "name": "stdout",
     "output_type": "stream",
     "text": [
      "LR Finder is complete, type {learner_name}.recorder.plot() to see the graph.\n"
     ]
    }
   ],
   "source": [
    "learn_lm.lr_find()"
   ]
  },
  {
   "cell_type": "code",
   "execution_count": 97,
   "metadata": {
    "hidden": true
   },
   "outputs": [
    {
     "data": {
      "image/png": "[encoded data removed]",
      "text/plain": [
       "<Figure size 432x288 with 1 Axes>"
      ]
     },
     "metadata": {
      "needs_background": "light"
     },
     "output_type": "display_data"
    }
   ],
   "source": [
    "learn_lm.recorder.plot()"
   ]
  },
  {
   "cell_type": "code",
   "execution_count": 98,
   "metadata": {
    "hidden": true
   },
   "outputs": [],
   "source": [
    "lr = 2e-2\n",
    "lr *= bs/48\n",
    "\n",
    "wd = 0.1"
   ]
  },
  {
   "cell_type": "code",
   "execution_count": 99,
   "metadata": {
    "hidden": true
   },
   "outputs": [
    {
     "data": {
      "text/html": [
       "<table border=\"1\" class=\"dataframe\">\n",
       "  <thead>\n",
       "    <tr style=\"text-align: left;\">\n",
       "      <th>epoch</th>\n",
       "      <th>train_loss</th>\n",
       "      <th>valid_loss</th>\n",
       "      <th>error_rate</th>\n",
       "      <th>accuracy</th>\n",
       "      <th>perplexity</th>\n",
       "      <th>time</th>\n",
       "    </tr>\n",
       "  </thead>\n",
       "  <tbody>\n",
       "    <tr>\n",
       "      <td>0</td>\n",
       "      <td>23.082850</td>\n",
       "      <td>13.639015</td>\n",
       "      <td>0.959905</td>\n",
       "      <td>0.040095</td>\n",
       "      <td>441221.843750</td>\n",
       "      <td>00:05</td>\n",
       "    </tr>\n",
       "    <tr>\n",
       "      <td>1</td>\n",
       "      <td>9.152627</td>\n",
       "      <td>6.902425</td>\n",
       "      <td>0.942333</td>\n",
       "      <td>0.057667</td>\n",
       "      <td>667.627136</td>\n",
       "      <td>00:05</td>\n",
       "    </tr>\n",
       "  </tbody>\n",
       "</table>"
      ],
      "text/plain": [
       "<IPython.core.display.HTML object>"
      ]
     },
     "metadata": {},
     "output_type": "display_data"
    }
   ],
   "source": [
    "learn_lm.fit_one_cycle(2, lr*10, wd=wd, moms=(0.8,0.7))"
   ]
  },
  {
   "cell_type": "code",
   "execution_count": 100,
   "metadata": {
    "hidden": true
   },
   "outputs": [],
   "source": [
    "learn_lm.save(f'{lang}fine_tuned1_tcu_jurisp_reduzido_sp15_multifit')\n",
    "learn_lm.save_encoder(f'{lang}fine_tuned1_enc_tcu_jurisp_reduzido_sp15_multifit')"
   ]
  },
  {
   "cell_type": "code",
   "execution_count": 101,
   "metadata": {
    "hidden": true
   },
   "outputs": [
    {
     "data": {
      "text/html": [
       "<table border=\"1\" class=\"dataframe\">\n",
       "  <thead>\n",
       "    <tr style=\"text-align: left;\">\n",
       "      <th>epoch</th>\n",
       "      <th>train_loss</th>\n",
       "      <th>valid_loss</th>\n",
       "      <th>error_rate</th>\n",
       "      <th>accuracy</th>\n",
       "      <th>perplexity</th>\n",
       "      <th>time</th>\n",
       "    </tr>\n",
       "  </thead>\n",
       "  <tbody>\n",
       "    <tr>\n",
       "      <td>0</td>\n",
       "      <td>6.553828</td>\n",
       "      <td>6.341281</td>\n",
       "      <td>0.895270</td>\n",
       "      <td>0.104730</td>\n",
       "      <td>387.510712</td>\n",
       "      <td>00:07</td>\n",
       "    </tr>\n",
       "    <tr>\n",
       "      <td>1</td>\n",
       "      <td>5.899654</td>\n",
       "      <td>5.492898</td>\n",
       "      <td>0.804079</td>\n",
       "      <td>0.195921</td>\n",
       "      <td>145.609436</td>\n",
       "      <td>00:07</td>\n",
       "    </tr>\n",
       "    <tr>\n",
       "      <td>2</td>\n",
       "      <td>5.221296</td>\n",
       "      <td>4.888595</td>\n",
       "      <td>0.742159</td>\n",
       "      <td>0.257841</td>\n",
       "      <td>71.675606</td>\n",
       "      <td>00:07</td>\n",
       "    </tr>\n",
       "    <tr>\n",
       "      <td>3</td>\n",
       "      <td>4.806045</td>\n",
       "      <td>4.559645</td>\n",
       "      <td>0.704397</td>\n",
       "      <td>0.295603</td>\n",
       "      <td>47.392849</td>\n",
       "      <td>00:07</td>\n",
       "    </tr>\n",
       "    <tr>\n",
       "      <td>4</td>\n",
       "      <td>4.582712</td>\n",
       "      <td>4.381135</td>\n",
       "      <td>0.683460</td>\n",
       "      <td>0.316540</td>\n",
       "      <td>38.152508</td>\n",
       "      <td>00:07</td>\n",
       "    </tr>\n",
       "    <tr>\n",
       "      <td>5</td>\n",
       "      <td>4.428261</td>\n",
       "      <td>4.271377</td>\n",
       "      <td>0.668524</td>\n",
       "      <td>0.331476</td>\n",
       "      <td>33.936054</td>\n",
       "      <td>00:07</td>\n",
       "    </tr>\n",
       "    <tr>\n",
       "      <td>6</td>\n",
       "      <td>4.324153</td>\n",
       "      <td>4.175958</td>\n",
       "      <td>0.655127</td>\n",
       "      <td>0.344873</td>\n",
       "      <td>29.984440</td>\n",
       "      <td>00:07</td>\n",
       "    </tr>\n",
       "    <tr>\n",
       "      <td>7</td>\n",
       "      <td>4.229700</td>\n",
       "      <td>4.108614</td>\n",
       "      <td>0.645968</td>\n",
       "      <td>0.354032</td>\n",
       "      <td>27.735703</td>\n",
       "      <td>00:07</td>\n",
       "    </tr>\n",
       "    <tr>\n",
       "      <td>8</td>\n",
       "      <td>4.140501</td>\n",
       "      <td>4.051945</td>\n",
       "      <td>0.636270</td>\n",
       "      <td>0.363730</td>\n",
       "      <td>26.340155</td>\n",
       "      <td>00:07</td>\n",
       "    </tr>\n",
       "    <tr>\n",
       "      <td>9</td>\n",
       "      <td>4.035665</td>\n",
       "      <td>3.970170</td>\n",
       "      <td>0.621857</td>\n",
       "      <td>0.378143</td>\n",
       "      <td>23.693985</td>\n",
       "      <td>00:07</td>\n",
       "    </tr>\n",
       "    <tr>\n",
       "      <td>10</td>\n",
       "      <td>3.943972</td>\n",
       "      <td>3.895655</td>\n",
       "      <td>0.610000</td>\n",
       "      <td>0.390000</td>\n",
       "      <td>21.904734</td>\n",
       "      <td>00:07</td>\n",
       "    </tr>\n",
       "    <tr>\n",
       "      <td>11</td>\n",
       "      <td>3.818160</td>\n",
       "      <td>3.826562</td>\n",
       "      <td>0.597492</td>\n",
       "      <td>0.402508</td>\n",
       "      <td>20.156345</td>\n",
       "      <td>00:07</td>\n",
       "    </tr>\n",
       "    <tr>\n",
       "      <td>12</td>\n",
       "      <td>3.721007</td>\n",
       "      <td>3.764925</td>\n",
       "      <td>0.585302</td>\n",
       "      <td>0.414698</td>\n",
       "      <td>18.930285</td>\n",
       "      <td>00:07</td>\n",
       "    </tr>\n",
       "    <tr>\n",
       "      <td>13</td>\n",
       "      <td>3.609714</td>\n",
       "      <td>3.709896</td>\n",
       "      <td>0.571937</td>\n",
       "      <td>0.428063</td>\n",
       "      <td>17.664944</td>\n",
       "      <td>00:07</td>\n",
       "    </tr>\n",
       "    <tr>\n",
       "      <td>14</td>\n",
       "      <td>3.484393</td>\n",
       "      <td>3.665864</td>\n",
       "      <td>0.563175</td>\n",
       "      <td>0.436825</td>\n",
       "      <td>16.778645</td>\n",
       "      <td>00:07</td>\n",
       "    </tr>\n",
       "    <tr>\n",
       "      <td>15</td>\n",
       "      <td>3.391642</td>\n",
       "      <td>3.639998</td>\n",
       "      <td>0.556556</td>\n",
       "      <td>0.443444</td>\n",
       "      <td>16.236782</td>\n",
       "      <td>00:07</td>\n",
       "    </tr>\n",
       "    <tr>\n",
       "      <td>16</td>\n",
       "      <td>3.317229</td>\n",
       "      <td>3.630610</td>\n",
       "      <td>0.553857</td>\n",
       "      <td>0.446143</td>\n",
       "      <td>15.996167</td>\n",
       "      <td>00:07</td>\n",
       "    </tr>\n",
       "    <tr>\n",
       "      <td>17</td>\n",
       "      <td>3.286474</td>\n",
       "      <td>3.628261</td>\n",
       "      <td>0.553365</td>\n",
       "      <td>0.446635</td>\n",
       "      <td>15.967733</td>\n",
       "      <td>00:07</td>\n",
       "    </tr>\n",
       "  </tbody>\n",
       "</table>"
      ],
      "text/plain": [
       "<IPython.core.display.HTML object>"
      ]
     },
     "metadata": {},
     "output_type": "display_data"
    },
    {
     "data": {
      "image/png": "[encoded data removed]",
      "text/plain": [
       "<Figure size 432x288 with 1 Axes>"
      ]
     },
     "metadata": {},
     "output_type": "display_data"
    }
   ],
   "source": [
    "learn_lm.unfreeze()\n",
    "learn_lm.fit_one_cycle(18, lr, wd=wd, moms=(0.8,0.7), callbacks=[ShowGraph(learn_lm)])"
   ]
  },
  {
   "cell_type": "code",
   "execution_count": 102,
   "metadata": {
    "hidden": true
   },
   "outputs": [],
   "source": [
    "learn_lm.save(f'{lang}fine_tuned2_lenerbr_sp15_multifit')\n",
    "learn_lm.save_encoder(f'{lang}fine_tuned2_enc_lenerbr_sp15_multifit')"
   ]
  },
  {
   "cell_type": "markdown",
   "metadata": {
    "hidden": true
   },
   "source": [
    "Save best LM learner and its encoder"
   ]
  },
  {
   "cell_type": "code",
   "execution_count": 103,
   "metadata": {
    "hidden": true
   },
   "outputs": [],
   "source": [
    "learn_lm.save(f'{lang}fine_tuned_tcu_jurisp_reduzido_sp15_multifit')\n",
    "learn_lm.save_encoder(f'{lang}fine_tuned_enc_tcu_jurisp_reduzido_sp15_multifit')"
   ]
  },
  {
   "cell_type": "markdown",
   "metadata": {
    "heading_collapsed": true
   },
   "source": [
    "## Fine-tuning \"backward LM\""
   ]
  },
  {
   "cell_type": "markdown",
   "metadata": {
    "hidden": true
   },
   "source": [
    "### Databunch"
   ]
  },
  {
   "cell_type": "code",
   "execution_count": 104,
   "metadata": {
    "hidden": true
   },
   "outputs": [
    {
     "name": "stdout",
     "output_type": "stream",
     "text": [
      "CPU times: user 5.09 s, sys: 456 ms, total: 5.54 s\n",
      "Wall time: 4.13 s\n"
     ]
    }
   ],
   "source": [
    "%%time\n",
    "data_lm = (TextList.from_df(df_trn_val, path, cols=reviews, \n",
    "                            processor=[OpenFileProcessor(), SPProcessor(max_vocab_sz=15000)])\n",
    "    .split_by_rand_pct(0.1, seed=42)\n",
    "    .label_for_lm()           \n",
    "    .databunch(bs=bs, num_workers=1, backwards=True))"
   ]
  },
  {
   "cell_type": "code",
   "execution_count": 105,
   "metadata": {
    "hidden": true
   },
   "outputs": [],
   "source": [
    "data_lm.save(f'{path}/{lang}_databunch_lm_tcu_jurisp_reduzido_sp15_multifit_bwd')"
   ]
  },
  {
   "cell_type": "markdown",
   "metadata": {
    "hidden": true
   },
   "source": [
    "### Training"
   ]
  },
  {
   "cell_type": "code",
   "execution_count": 106,
   "metadata": {
    "hidden": true
   },
   "outputs": [
    {
     "name": "stdout",
     "output_type": "stream",
     "text": [
      "CPU times: user 84 ms, sys: 4 ms, total: 88 ms\n",
      "Wall time: 85.1 ms\n"
     ]
    }
   ],
   "source": [
    "%%time\n",
    "data_lm = load_data(path, f'{lang}_databunch_lm_tcu_jurisp_reduzido_sp15_multifit_bwd', bs=bs, backwards=True)"
   ]
  },
  {
   "cell_type": "code",
   "execution_count": 107,
   "metadata": {
    "hidden": true
   },
   "outputs": [],
   "source": [
    "config = awd_lstm_lm_config.copy()\n",
    "config['qrnn'] = True\n",
    "config['n_hid'] = 1550 #default 1152\n",
    "config['n_layers'] = 4 #default 3"
   ]
  },
  {
   "cell_type": "code",
   "execution_count": 108,
   "metadata": {
    "hidden": true
   },
   "outputs": [
    {
     "name": "stdout",
     "output_type": "stream",
     "text": [
      "CPU times: user 744 ms, sys: 124 ms, total: 868 ms\n",
      "Wall time: 1.58 s\n"
     ]
    }
   ],
   "source": [
    "%%time\n",
    "perplexity = Perplexity()\n",
    "learn_lm = language_model_learner(data_lm, AWD_LSTM, config=config, pretrained_fnames=lm_fns3_bwd, drop_mult=1., \n",
    "                                  metrics=[error_rate, accuracy, perplexity]).to_fp16()"
   ]
  },
  {
   "cell_type": "markdown",
   "metadata": {
    "hidden": true
   },
   "source": [
    "#### Change loss function"
   ]
  },
  {
   "cell_type": "code",
   "execution_count": 109,
   "metadata": {
    "hidden": true
   },
   "outputs": [
    {
     "data": {
      "text/plain": [
       "FlattenedLoss of CrossEntropyLoss()"
      ]
     },
     "execution_count": 109,
     "metadata": {},
     "output_type": "execute_result"
    }
   ],
   "source": [
    "learn_lm.loss_func"
   ]
  },
  {
   "cell_type": "code",
   "execution_count": 110,
   "metadata": {
    "hidden": true
   },
   "outputs": [],
   "source": [
    "learn_lm.loss_func = FlattenedLoss(LabelSmoothingCrossEntropy)"
   ]
  },
  {
   "cell_type": "code",
   "execution_count": 111,
   "metadata": {
    "hidden": true
   },
   "outputs": [
    {
     "data": {
      "text/plain": [
       "FlattenedLoss of LabelSmoothingCrossEntropy()"
      ]
     },
     "execution_count": 111,
     "metadata": {},
     "output_type": "execute_result"
    }
   ],
   "source": [
    "learn_lm.loss_func"
   ]
  },
  {
   "cell_type": "markdown",
   "metadata": {
    "hidden": true
   },
   "source": [
    "#### Training"
   ]
  },
  {
   "cell_type": "code",
   "execution_count": 112,
   "metadata": {
    "hidden": true
   },
   "outputs": [
    {
     "data": {
      "text/html": [],
      "text/plain": [
       "<IPython.core.display.HTML object>"
      ]
     },
     "metadata": {},
     "output_type": "display_data"
    },
    {
     "name": "stdout",
     "output_type": "stream",
     "text": [
      "LR Finder is complete, type {learner_name}.recorder.plot() to see the graph.\n"
     ]
    }
   ],
   "source": [
    "learn_lm.lr_find()"
   ]
  },
  {
   "cell_type": "code",
   "execution_count": 113,
   "metadata": {
    "hidden": true
   },
   "outputs": [
    {
     "data": {
      "image/png": "[encoded data removed]",
      "text/plain": [
       "<Figure size 432x288 with 1 Axes>"
      ]
     },
     "metadata": {
      "needs_background": "light"
     },
     "output_type": "display_data"
    }
   ],
   "source": [
    "learn_lm.recorder.plot()"
   ]
  },
  {
   "cell_type": "code",
   "execution_count": 114,
   "metadata": {
    "hidden": true
   },
   "outputs": [],
   "source": [
    "lr = 2e-2\n",
    "lr *= bs/48\n",
    "\n",
    "wd = 0.1"
   ]
  },
  {
   "cell_type": "code",
   "execution_count": 115,
   "metadata": {
    "hidden": true
   },
   "outputs": [
    {
     "data": {
      "text/html": [
       "<table border=\"1\" class=\"dataframe\">\n",
       "  <thead>\n",
       "    <tr style=\"text-align: left;\">\n",
       "      <th>epoch</th>\n",
       "      <th>train_loss</th>\n",
       "      <th>valid_loss</th>\n",
       "      <th>error_rate</th>\n",
       "      <th>accuracy</th>\n",
       "      <th>perplexity</th>\n",
       "      <th>time</th>\n",
       "    </tr>\n",
       "  </thead>\n",
       "  <tbody>\n",
       "    <tr>\n",
       "      <td>0</td>\n",
       "      <td>27.910931</td>\n",
       "      <td>14.435742</td>\n",
       "      <td>0.969365</td>\n",
       "      <td>0.030635</td>\n",
       "      <td>1081162.125000</td>\n",
       "      <td>00:05</td>\n",
       "    </tr>\n",
       "    <tr>\n",
       "      <td>1</td>\n",
       "      <td>11.221999</td>\n",
       "      <td>7.274082</td>\n",
       "      <td>0.953698</td>\n",
       "      <td>0.046302</td>\n",
       "      <td>977.145325</td>\n",
       "      <td>00:05</td>\n",
       "    </tr>\n",
       "  </tbody>\n",
       "</table>"
      ],
      "text/plain": [
       "<IPython.core.display.HTML object>"
      ]
     },
     "metadata": {},
     "output_type": "display_data"
    }
   ],
   "source": [
    "learn_lm.fit_one_cycle(2, lr*10, wd=wd, moms=(0.8,0.7))"
   ]
  },
  {
   "cell_type": "code",
   "execution_count": 116,
   "metadata": {
    "hidden": true
   },
   "outputs": [],
   "source": [
    "learn_lm.save(f'{lang}fine_tuned1_tcu_jurisp_reduzido_sp15_multifit_bwd')\n",
    "learn_lm.save_encoder(f'{lang}fine_tuned1_enc_tcu_jurisp_reduzido_sp15_multifit_bwd')"
   ]
  },
  {
   "cell_type": "code",
   "execution_count": 117,
   "metadata": {
    "hidden": true
   },
   "outputs": [
    {
     "data": {
      "text/html": [
       "<table border=\"1\" class=\"dataframe\">\n",
       "  <thead>\n",
       "    <tr style=\"text-align: left;\">\n",
       "      <th>epoch</th>\n",
       "      <th>train_loss</th>\n",
       "      <th>valid_loss</th>\n",
       "      <th>error_rate</th>\n",
       "      <th>accuracy</th>\n",
       "      <th>perplexity</th>\n",
       "      <th>time</th>\n",
       "    </tr>\n",
       "  </thead>\n",
       "  <tbody>\n",
       "    <tr>\n",
       "      <td>0</td>\n",
       "      <td>6.796478</td>\n",
       "      <td>6.747334</td>\n",
       "      <td>0.936095</td>\n",
       "      <td>0.063905</td>\n",
       "      <td>623.787720</td>\n",
       "      <td>00:07</td>\n",
       "    </tr>\n",
       "    <tr>\n",
       "      <td>1</td>\n",
       "      <td>6.464913</td>\n",
       "      <td>6.255675</td>\n",
       "      <td>0.861175</td>\n",
       "      <td>0.138825</td>\n",
       "      <td>343.101746</td>\n",
       "      <td>00:07</td>\n",
       "    </tr>\n",
       "    <tr>\n",
       "      <td>2</td>\n",
       "      <td>5.795866</td>\n",
       "      <td>5.434357</td>\n",
       "      <td>0.762698</td>\n",
       "      <td>0.237302</td>\n",
       "      <td>132.005173</td>\n",
       "      <td>00:07</td>\n",
       "    </tr>\n",
       "    <tr>\n",
       "      <td>3</td>\n",
       "      <td>5.144683</td>\n",
       "      <td>4.851414</td>\n",
       "      <td>0.697286</td>\n",
       "      <td>0.302714</td>\n",
       "      <td>67.983307</td>\n",
       "      <td>00:07</td>\n",
       "    </tr>\n",
       "    <tr>\n",
       "      <td>4</td>\n",
       "      <td>4.803105</td>\n",
       "      <td>4.600672</td>\n",
       "      <td>0.672857</td>\n",
       "      <td>0.327143</td>\n",
       "      <td>50.131386</td>\n",
       "      <td>00:07</td>\n",
       "    </tr>\n",
       "    <tr>\n",
       "      <td>5</td>\n",
       "      <td>4.618645</td>\n",
       "      <td>4.451552</td>\n",
       "      <td>0.657587</td>\n",
       "      <td>0.342413</td>\n",
       "      <td>41.944103</td>\n",
       "      <td>00:07</td>\n",
       "    </tr>\n",
       "    <tr>\n",
       "      <td>6</td>\n",
       "      <td>4.482847</td>\n",
       "      <td>4.339243</td>\n",
       "      <td>0.644794</td>\n",
       "      <td>0.355206</td>\n",
       "      <td>36.868359</td>\n",
       "      <td>00:07</td>\n",
       "    </tr>\n",
       "    <tr>\n",
       "      <td>7</td>\n",
       "      <td>4.391364</td>\n",
       "      <td>4.255972</td>\n",
       "      <td>0.635270</td>\n",
       "      <td>0.364730</td>\n",
       "      <td>33.452030</td>\n",
       "      <td>00:07</td>\n",
       "    </tr>\n",
       "    <tr>\n",
       "      <td>8</td>\n",
       "      <td>4.280099</td>\n",
       "      <td>4.178698</td>\n",
       "      <td>0.622936</td>\n",
       "      <td>0.377063</td>\n",
       "      <td>30.320036</td>\n",
       "      <td>00:07</td>\n",
       "    </tr>\n",
       "    <tr>\n",
       "      <td>9</td>\n",
       "      <td>4.192408</td>\n",
       "      <td>4.103323</td>\n",
       "      <td>0.615349</td>\n",
       "      <td>0.384651</td>\n",
       "      <td>28.363132</td>\n",
       "      <td>00:07</td>\n",
       "    </tr>\n",
       "    <tr>\n",
       "      <td>10</td>\n",
       "      <td>4.082258</td>\n",
       "      <td>4.026385</td>\n",
       "      <td>0.602651</td>\n",
       "      <td>0.397349</td>\n",
       "      <td>25.526516</td>\n",
       "      <td>00:07</td>\n",
       "    </tr>\n",
       "    <tr>\n",
       "      <td>11</td>\n",
       "      <td>3.973908</td>\n",
       "      <td>3.953743</td>\n",
       "      <td>0.589651</td>\n",
       "      <td>0.410349</td>\n",
       "      <td>23.671721</td>\n",
       "      <td>00:07</td>\n",
       "    </tr>\n",
       "    <tr>\n",
       "      <td>12</td>\n",
       "      <td>3.868892</td>\n",
       "      <td>3.892598</td>\n",
       "      <td>0.579667</td>\n",
       "      <td>0.420333</td>\n",
       "      <td>22.162308</td>\n",
       "      <td>00:07</td>\n",
       "    </tr>\n",
       "    <tr>\n",
       "      <td>13</td>\n",
       "      <td>3.766185</td>\n",
       "      <td>3.834410</td>\n",
       "      <td>0.569143</td>\n",
       "      <td>0.430857</td>\n",
       "      <td>20.801395</td>\n",
       "      <td>00:07</td>\n",
       "    </tr>\n",
       "    <tr>\n",
       "      <td>14</td>\n",
       "      <td>3.667764</td>\n",
       "      <td>3.793156</td>\n",
       "      <td>0.560460</td>\n",
       "      <td>0.439540</td>\n",
       "      <td>19.694826</td>\n",
       "      <td>00:07</td>\n",
       "    </tr>\n",
       "    <tr>\n",
       "      <td>15</td>\n",
       "      <td>3.589642</td>\n",
       "      <td>3.760961</td>\n",
       "      <td>0.552905</td>\n",
       "      <td>0.447095</td>\n",
       "      <td>19.026209</td>\n",
       "      <td>00:07</td>\n",
       "    </tr>\n",
       "    <tr>\n",
       "      <td>16</td>\n",
       "      <td>3.525942</td>\n",
       "      <td>3.750472</td>\n",
       "      <td>0.551016</td>\n",
       "      <td>0.448984</td>\n",
       "      <td>18.771561</td>\n",
       "      <td>00:07</td>\n",
       "    </tr>\n",
       "    <tr>\n",
       "      <td>17</td>\n",
       "      <td>3.492970</td>\n",
       "      <td>3.749517</td>\n",
       "      <td>0.550302</td>\n",
       "      <td>0.449698</td>\n",
       "      <td>18.732239</td>\n",
       "      <td>00:07</td>\n",
       "    </tr>\n",
       "  </tbody>\n",
       "</table>"
      ],
      "text/plain": [
       "<IPython.core.display.HTML object>"
      ]
     },
     "metadata": {},
     "output_type": "display_data"
    },
    {
     "data": {
      "image/png": "[encoded data removed]",
      "text/plain": [
       "<Figure size 432x288 with 1 Axes>"
      ]
     },
     "metadata": {},
     "output_type": "display_data"
    }
   ],
   "source": [
    "learn_lm.unfreeze()\n",
    "learn_lm.fit_one_cycle(18, lr, wd=wd, moms=(0.8,0.7), callbacks=[ShowGraph(learn_lm)])"
   ]
  },
  {
   "cell_type": "code",
   "execution_count": 118,
   "metadata": {
    "hidden": true
   },
   "outputs": [],
   "source": [
    "learn_lm.save(f'{lang}fine_tuned2_tcu_jurisp_reduzido_sp15_multifit_bwd')\n",
    "learn_lm.save_encoder(f'{lang}fine_tuned2_enc_tcu_jurisp_reduzido_sp15_multifit_bwd')"
   ]
  },
  {
   "cell_type": "markdown",
   "metadata": {
    "hidden": true
   },
   "source": [
    "Save best LM learner and its encoder"
   ]
  },
  {
   "cell_type": "code",
   "execution_count": 119,
   "metadata": {
    "hidden": true
   },
   "outputs": [],
   "source": [
    "learn_lm.save(f'{lang}fine_tuned_tcu_jurisp_reduzido_sp15_multifit_bwd')\n",
    "learn_lm.save_encoder(f'{lang}fine_tuned_enc_tcu_jurisp_reduzido_sp15_multifit_bwd')"
   ]
  },
  {
   "cell_type": "markdown",
   "metadata": {
    "heading_collapsed": true
   },
   "source": [
    "## Fine-tuning \"forward Classifier\""
   ]
  },
  {
   "cell_type": "code",
   "execution_count": 120,
   "metadata": {
    "hidden": true
   },
   "outputs": [],
   "source": [
    "import warnings\n",
    "warnings.filterwarnings('ignore')  # \"error\", \"ignore\", \"always\", \"default\", \"module\" or \"on"
   ]
  },
  {
   "cell_type": "code",
   "execution_count": 121,
   "metadata": {
    "hidden": true
   },
   "outputs": [],
   "source": [
    "bs = 18"
   ]
  },
  {
   "cell_type": "markdown",
   "metadata": {
    "hidden": true
   },
   "source": [
    "### Databunch"
   ]
  },
  {
   "cell_type": "code",
   "execution_count": 122,
   "metadata": {
    "hidden": true
   },
   "outputs": [
    {
     "name": "stdout",
     "output_type": "stream",
     "text": [
      "CPU times: user 76 ms, sys: 4 ms, total: 80 ms\n",
      "Wall time: 78.6 ms\n"
     ]
    }
   ],
   "source": [
    "%%time\n",
    "data_lm = load_data(path, f'{lang}_databunch_lm_tcu_jurisp_reduzido_sp15_multifit', bs=bs)"
   ]
  },
  {
   "cell_type": "code",
   "execution_count": 123,
   "metadata": {
    "hidden": true
   },
   "outputs": [
    {
     "name": "stdout",
     "output_type": "stream",
     "text": [
      "CPU times: user 5.32 s, sys: 444 ms, total: 5.77 s\n",
      "Wall time: 4.46 s\n"
     ]
    }
   ],
   "source": [
    "%%time\n",
    "data_clas = (TextList.from_df(df_trn_val, path, vocab=data_lm.vocab, cols=reviews, \n",
    "                              processor=[OpenFileProcessor(), SPProcessor(max_vocab_sz=15000)])\n",
    "    .split_by_rand_pct(0.1, seed=42)\n",
    "    .label_from_df(cols=label)\n",
    "    .databunch(bs=bs, num_workers=1))"
   ]
  },
  {
   "cell_type": "code",
   "execution_count": 124,
   "metadata": {
    "hidden": true
   },
   "outputs": [
    {
     "name": "stdout",
     "output_type": "stream",
     "text": [
      "CPU times: user 160 ms, sys: 12 ms, total: 172 ms\n",
      "Wall time: 175 ms\n"
     ]
    }
   ],
   "source": [
    "%%time\n",
    "data_clas.save(f'{lang}_textlist_class_tcu_jurisp_reduzido_sp15_multifit')"
   ]
  },
  {
   "cell_type": "markdown",
   "metadata": {
    "hidden": true
   },
   "source": [
    "### Get weights to penalize loss function of the majority class"
   ]
  },
  {
   "cell_type": "code",
   "execution_count": 125,
   "metadata": {
    "hidden": true
   },
   "outputs": [
    {
     "name": "stdout",
     "output_type": "stream",
     "text": [
      "CPU times: user 340 ms, sys: 20 ms, total: 360 ms\n",
      "Wall time: 340 ms\n"
     ]
    }
   ],
   "source": [
    "%%time\n",
    "data_clas = load_data(path, f'{lang}_textlist_class_tcu_jurisp_reduzido_sp15_multifit', bs=bs, num_workers=1)"
   ]
  },
  {
   "cell_type": "code",
   "execution_count": 126,
   "metadata": {
    "hidden": true
   },
   "outputs": [
    {
     "data": {
      "text/plain": [
       "(9237, 1026, 10263)"
      ]
     },
     "execution_count": 126,
     "metadata": {},
     "output_type": "execute_result"
    }
   ],
   "source": [
    "num_trn = len(data_clas.train_ds.x)\n",
    "num_val = len(data_clas.valid_ds.x)\n",
    "num_trn, num_val, num_trn+num_val"
   ]
  },
  {
   "cell_type": "code",
   "execution_count": 127,
   "metadata": {
    "hidden": true
   },
   "outputs": [
    {
     "data": {
      "text/plain": [
       "(array([3136, 2439, 2084, 1578]), array([332, 284, 213, 197]))"
      ]
     },
     "execution_count": 127,
     "metadata": {},
     "output_type": "execute_result"
    }
   ],
   "source": [
    "trn_LabelCounts = np.unique(data_clas.train_ds.y.items, return_counts=True)[1]\n",
    "val_LabelCounts = np.unique(data_clas.valid_ds.y.items, return_counts=True)[1]\n",
    "trn_LabelCounts, val_LabelCounts"
   ]
  },
  {
   "cell_type": "code",
   "execution_count": 128,
   "metadata": {
    "hidden": true
   },
   "outputs": [
    {
     "data": {
      "text/plain": [
       "([0.6604958319800801,\n",
       "  0.7359532315686912,\n",
       "  0.7743856230377828,\n",
       "  0.8291653134134459],\n",
       " [0.6764132553606238,\n",
       "  0.723196881091618,\n",
       "  0.7923976608187134,\n",
       "  0.8079922027290448])"
      ]
     },
     "execution_count": 128,
     "metadata": {},
     "output_type": "execute_result"
    }
   ],
   "source": [
    "trn_weights = [1 - count/num_trn for count in trn_LabelCounts]\n",
    "val_weights = [1 - count/num_val for count in val_LabelCounts]\n",
    "trn_weights, val_weights"
   ]
  },
  {
   "cell_type": "markdown",
   "metadata": {
    "hidden": true
   },
   "source": [
    "### Training (Loss = FlattenedLoss of weighted LabelSmoothingCrossEntropy)"
   ]
  },
  {
   "cell_type": "code",
   "execution_count": 129,
   "metadata": {
    "hidden": true
   },
   "outputs": [
    {
     "name": "stdout",
     "output_type": "stream",
     "text": [
      "CPU times: user 344 ms, sys: 36 ms, total: 380 ms\n",
      "Wall time: 353 ms\n"
     ]
    }
   ],
   "source": [
    "%%time\n",
    "data_clas = load_data(path, f'{lang}_textlist_class_tcu_jurisp_reduzido_sp15_multifit', bs=bs, num_workers=1)"
   ]
  },
  {
   "cell_type": "code",
   "execution_count": 130,
   "metadata": {
    "hidden": true
   },
   "outputs": [],
   "source": [
    "config = awd_lstm_clas_config.copy()\n",
    "config['qrnn'] = True\n",
    "config['n_hid'] = 1550 #default 1152\n",
    "config['n_layers'] = 4 #default 3"
   ]
  },
  {
   "cell_type": "code",
   "execution_count": 131,
   "metadata": {
    "hidden": true
   },
   "outputs": [],
   "source": [
    "from sklearn.metrics import f1_score\n",
    "\n",
    "@np_func\n",
    "def f1(inp,targ): return f1_score(targ, np.argmax(inp, axis=-1), average='weighted')"
   ]
  },
  {
   "cell_type": "code",
   "execution_count": 132,
   "metadata": {
    "hidden": true
   },
   "outputs": [],
   "source": [
    "learn_c = text_classifier_learner(data_clas, AWD_LSTM, config=config, pretrained=False, drop_mult=0.3, \n",
    "                                  metrics=[accuracy,f1]).to_fp16()\n",
    "learn_c.load_encoder(f'{lang}fine_tuned_enc_tcu_jurisp_reduzido_sp15_multifit');"
   ]
  },
  {
   "cell_type": "markdown",
   "metadata": {
    "heading_collapsed": true,
    "hidden": true
   },
   "source": [
    "#### Change loss function"
   ]
  },
  {
   "cell_type": "code",
   "execution_count": 133,
   "metadata": {
    "hidden": true
   },
   "outputs": [
    {
     "data": {
      "text/plain": [
       "FlattenedLoss of CrossEntropyLoss()"
      ]
     },
     "execution_count": 133,
     "metadata": {},
     "output_type": "execute_result"
    }
   ],
   "source": [
    "learn_c.loss_func"
   ]
  },
  {
   "cell_type": "code",
   "execution_count": 134,
   "metadata": {
    "hidden": true
   },
   "outputs": [],
   "source": [
    "# source: https://github.com/fastai/fastai/blob/master//fastai/layers.py#L300:7\n",
    "# blog: https://bfarzin.github.io/Label-Smoothing/\n",
    "class WeightedLabelSmoothingCrossEntropy(nn.Module):\n",
    "    def __init__(self, weight, eps:float=0.1, reduction='mean'):\n",
    "        super().__init__()\n",
    "        self.weight,self.eps,self.reduction = weight,eps,reduction\n",
    "        \n",
    "    def forward(self, output, target):\n",
    "        c = output.size()[-1]\n",
    "        log_preds = F.log_softmax(output, dim=-1)\n",
    "        if self.reduction=='sum': loss = -log_preds.sum()\n",
    "        else:\n",
    "            loss = -log_preds.sum(dim=-1)\n",
    "            if self.reduction=='mean':  loss = loss.mean()\n",
    "        return loss*self.eps/c + (1-self.eps) * F.nll_loss(log_preds, target, weight=self.weight, reduction=self.reduction)"
   ]
  },
  {
   "cell_type": "code",
   "execution_count": 135,
   "metadata": {
    "hidden": true
   },
   "outputs": [],
   "source": [
    "loss_weights = torch.FloatTensor(trn_weights).cuda()\n",
    "learn_c.loss_func = FlattenedLoss(WeightedLabelSmoothingCrossEntropy, weight=loss_weights)"
   ]
  },
  {
   "cell_type": "code",
   "execution_count": 136,
   "metadata": {
    "hidden": true
   },
   "outputs": [
    {
     "data": {
      "text/plain": [
       "FlattenedLoss of WeightedLabelSmoothingCrossEntropy()"
      ]
     },
     "execution_count": 136,
     "metadata": {},
     "output_type": "execute_result"
    }
   ],
   "source": [
    "learn_c.loss_func"
   ]
  },
  {
   "cell_type": "markdown",
   "metadata": {
    "hidden": true
   },
   "source": [
    "#### Training"
   ]
  },
  {
   "cell_type": "code",
   "execution_count": 137,
   "metadata": {
    "hidden": true
   },
   "outputs": [],
   "source": [
    "learn_c.freeze()"
   ]
  },
  {
   "cell_type": "code",
   "execution_count": 138,
   "metadata": {
    "hidden": true
   },
   "outputs": [
    {
     "data": {
      "text/html": [],
      "text/plain": [
       "<IPython.core.display.HTML object>"
      ]
     },
     "metadata": {},
     "output_type": "display_data"
    },
    {
     "name": "stdout",
     "output_type": "stream",
     "text": [
      "LR Finder is complete, type {learner_name}.recorder.plot() to see the graph.\n"
     ]
    }
   ],
   "source": [
    "learn_c.lr_find()"
   ]
  },
  {
   "cell_type": "code",
   "execution_count": 139,
   "metadata": {
    "hidden": true
   },
   "outputs": [
    {
     "data": {
      "image/png": "[encoded data removed]",
      "text/plain": [
       "<Figure size 432x288 with 1 Axes>"
      ]
     },
     "metadata": {
      "needs_background": "light"
     },
     "output_type": "display_data"
    }
   ],
   "source": [
    "learn_c.recorder.plot()"
   ]
  },
  {
   "cell_type": "code",
   "execution_count": 140,
   "metadata": {
    "hidden": true
   },
   "outputs": [],
   "source": [
    "lr = 2e-1\n",
    "lr *= bs/48\n",
    "\n",
    "wd = 0.1"
   ]
  },
  {
   "cell_type": "code",
   "execution_count": 141,
   "metadata": {
    "hidden": true,
    "scrolled": false
   },
   "outputs": [
    {
     "data": {
      "text/html": [
       "<table border=\"1\" class=\"dataframe\">\n",
       "  <thead>\n",
       "    <tr style=\"text-align: left;\">\n",
       "      <th>epoch</th>\n",
       "      <th>train_loss</th>\n",
       "      <th>valid_loss</th>\n",
       "      <th>accuracy</th>\n",
       "      <th>f1</th>\n",
       "      <th>time</th>\n",
       "    </tr>\n",
       "  </thead>\n",
       "  <tbody>\n",
       "    <tr>\n",
       "      <td>0</td>\n",
       "      <td>0.736745</td>\n",
       "      <td>0.713937</td>\n",
       "      <td>0.832359</td>\n",
       "      <td>0.818395</td>\n",
       "      <td>00:05</td>\n",
       "    </tr>\n",
       "    <tr>\n",
       "      <td>1</td>\n",
       "      <td>0.668577</td>\n",
       "      <td>0.577937</td>\n",
       "      <td>0.887914</td>\n",
       "      <td>0.888967</td>\n",
       "      <td>00:05</td>\n",
       "    </tr>\n",
       "  </tbody>\n",
       "</table>"
      ],
      "text/plain": [
       "<IPython.core.display.HTML object>"
      ]
     },
     "metadata": {},
     "output_type": "display_data"
    }
   ],
   "source": [
    "learn_c.fit_one_cycle(2, lr, wd=wd, moms=(0.8,0.7))"
   ]
  },
  {
   "cell_type": "code",
   "execution_count": 142,
   "metadata": {
    "hidden": true
   },
   "outputs": [],
   "source": [
    "learn_c.save(f'{lang}clas_tcu_jurisp_reduzido_sp15_multifit')"
   ]
  },
  {
   "cell_type": "code",
   "execution_count": 143,
   "metadata": {
    "hidden": true
   },
   "outputs": [
    {
     "data": {
      "text/html": [
       "<table border=\"1\" class=\"dataframe\">\n",
       "  <thead>\n",
       "    <tr style=\"text-align: left;\">\n",
       "      <th>epoch</th>\n",
       "      <th>train_loss</th>\n",
       "      <th>valid_loss</th>\n",
       "      <th>accuracy</th>\n",
       "      <th>f1</th>\n",
       "      <th>time</th>\n",
       "    </tr>\n",
       "  </thead>\n",
       "  <tbody>\n",
       "    <tr>\n",
       "      <td>0</td>\n",
       "      <td>0.711872</td>\n",
       "      <td>0.846949</td>\n",
       "      <td>0.728070</td>\n",
       "      <td>0.695590</td>\n",
       "      <td>00:05</td>\n",
       "    </tr>\n",
       "    <tr>\n",
       "      <td>1</td>\n",
       "      <td>0.619364</td>\n",
       "      <td>0.576281</td>\n",
       "      <td>0.882066</td>\n",
       "      <td>0.883549</td>\n",
       "      <td>00:05</td>\n",
       "    </tr>\n",
       "  </tbody>\n",
       "</table>"
      ],
      "text/plain": [
       "<IPython.core.display.HTML object>"
      ]
     },
     "metadata": {},
     "output_type": "display_data"
    }
   ],
   "source": [
    "learn_c.fit_one_cycle(2, lr, wd=wd, moms=(0.8,0.7))"
   ]
  },
  {
   "cell_type": "code",
   "execution_count": 144,
   "metadata": {
    "hidden": true
   },
   "outputs": [],
   "source": [
    "learn_c.save(f'{lang}clas_tcu_jurisp_reduzido_sp15_multifit')"
   ]
  },
  {
   "cell_type": "code",
   "execution_count": 145,
   "metadata": {
    "hidden": true
   },
   "outputs": [
    {
     "data": {
      "text/html": [
       "<table border=\"1\" class=\"dataframe\">\n",
       "  <thead>\n",
       "    <tr style=\"text-align: left;\">\n",
       "      <th>epoch</th>\n",
       "      <th>train_loss</th>\n",
       "      <th>valid_loss</th>\n",
       "      <th>accuracy</th>\n",
       "      <th>f1</th>\n",
       "      <th>time</th>\n",
       "    </tr>\n",
       "  </thead>\n",
       "  <tbody>\n",
       "    <tr>\n",
       "      <td>0</td>\n",
       "      <td>0.671086</td>\n",
       "      <td>422.958496</td>\n",
       "      <td>0.323587</td>\n",
       "      <td>0.174381</td>\n",
       "      <td>00:06</td>\n",
       "    </tr>\n",
       "    <tr>\n",
       "      <td>1</td>\n",
       "      <td>0.530306</td>\n",
       "      <td>0.457585</td>\n",
       "      <td>0.956140</td>\n",
       "      <td>0.954496</td>\n",
       "      <td>00:06</td>\n",
       "    </tr>\n",
       "  </tbody>\n",
       "</table>"
      ],
      "text/plain": [
       "<IPython.core.display.HTML object>"
      ]
     },
     "metadata": {},
     "output_type": "display_data"
    }
   ],
   "source": [
    "learn_c.freeze_to(-2)\n",
    "learn_c.fit_one_cycle(2, slice(lr/(2.6**4),lr), wd=wd, moms=(0.8,0.7))"
   ]
  },
  {
   "cell_type": "code",
   "execution_count": 146,
   "metadata": {
    "hidden": true
   },
   "outputs": [],
   "source": [
    "learn_c.save(f'{lang}clas_tcu_jurisp_reduzido_sp15_multifit')"
   ]
  },
  {
   "cell_type": "code",
   "execution_count": 147,
   "metadata": {
    "hidden": true
   },
   "outputs": [
    {
     "data": {
      "text/html": [
       "<table border=\"1\" class=\"dataframe\">\n",
       "  <thead>\n",
       "    <tr style=\"text-align: left;\">\n",
       "      <th>epoch</th>\n",
       "      <th>train_loss</th>\n",
       "      <th>valid_loss</th>\n",
       "      <th>accuracy</th>\n",
       "      <th>f1</th>\n",
       "      <th>time</th>\n",
       "    </tr>\n",
       "  </thead>\n",
       "  <tbody>\n",
       "    <tr>\n",
       "      <td>0</td>\n",
       "      <td>0.593900</td>\n",
       "      <td>0.568828</td>\n",
       "      <td>0.910331</td>\n",
       "      <td>0.907177</td>\n",
       "      <td>00:08</td>\n",
       "    </tr>\n",
       "    <tr>\n",
       "      <td>1</td>\n",
       "      <td>0.500131</td>\n",
       "      <td>0.447539</td>\n",
       "      <td>0.954191</td>\n",
       "      <td>0.953421</td>\n",
       "      <td>00:07</td>\n",
       "    </tr>\n",
       "  </tbody>\n",
       "</table>"
      ],
      "text/plain": [
       "<IPython.core.display.HTML object>"
      ]
     },
     "metadata": {},
     "output_type": "display_data"
    }
   ],
   "source": [
    "learn_c.freeze_to(-3)\n",
    "learn_c.fit_one_cycle(2, slice(lr/2/(2.6**4),lr/2), wd=wd, moms=(0.8,0.7))"
   ]
  },
  {
   "cell_type": "code",
   "execution_count": 148,
   "metadata": {
    "hidden": true
   },
   "outputs": [],
   "source": [
    "learn_c.save(f'{lang}clas_tcu_jurisp_reduzido_sp15_multifit')"
   ]
  },
  {
   "cell_type": "code",
   "execution_count": 149,
   "metadata": {
    "hidden": true
   },
   "outputs": [
    {
     "data": {
      "text/html": [
       "<table border=\"1\" class=\"dataframe\">\n",
       "  <thead>\n",
       "    <tr style=\"text-align: left;\">\n",
       "      <th>epoch</th>\n",
       "      <th>train_loss</th>\n",
       "      <th>valid_loss</th>\n",
       "      <th>accuracy</th>\n",
       "      <th>f1</th>\n",
       "      <th>time</th>\n",
       "    </tr>\n",
       "  </thead>\n",
       "  <tbody>\n",
       "    <tr>\n",
       "      <td>0</td>\n",
       "      <td>0.493010</td>\n",
       "      <td>0.458026</td>\n",
       "      <td>0.952242</td>\n",
       "      <td>0.951032</td>\n",
       "      <td>00:13</td>\n",
       "    </tr>\n",
       "    <tr>\n",
       "      <td>1</td>\n",
       "      <td>0.456148</td>\n",
       "      <td>0.427546</td>\n",
       "      <td>0.966862</td>\n",
       "      <td>0.966696</td>\n",
       "      <td>00:12</td>\n",
       "    </tr>\n",
       "  </tbody>\n",
       "</table>"
      ],
      "text/plain": [
       "<IPython.core.display.HTML object>"
      ]
     },
     "metadata": {},
     "output_type": "display_data"
    }
   ],
   "source": [
    "learn_c.unfreeze()\n",
    "learn_c.fit_one_cycle(2, slice(lr/10/(2.6**4),lr/10), wd=wd, moms=(0.8,0.7))"
   ]
  },
  {
   "cell_type": "code",
   "execution_count": 150,
   "metadata": {
    "hidden": true
   },
   "outputs": [],
   "source": [
    "learn_c.save(f'{lang}clas_tcu_jurisp_reduzido_sp15_multifit')"
   ]
  },
  {
   "cell_type": "code",
   "execution_count": 153,
   "metadata": {
    "hidden": true
   },
   "outputs": [
    {
     "data": {
      "text/html": [
       "<table border=\"1\" class=\"dataframe\">\n",
       "  <thead>\n",
       "    <tr style=\"text-align: left;\">\n",
       "      <th>epoch</th>\n",
       "      <th>train_loss</th>\n",
       "      <th>valid_loss</th>\n",
       "      <th>accuracy</th>\n",
       "      <th>f1</th>\n",
       "      <th>time</th>\n",
       "    </tr>\n",
       "  </thead>\n",
       "  <tbody>\n",
       "    <tr>\n",
       "      <td>0</td>\n",
       "      <td>0.434293</td>\n",
       "      <td>0.429002</td>\n",
       "      <td>0.965887</td>\n",
       "      <td>0.965594</td>\n",
       "      <td>00:12</td>\n",
       "    </tr>\n",
       "    <tr>\n",
       "      <td>1</td>\n",
       "      <td>0.427529</td>\n",
       "      <td>0.430999</td>\n",
       "      <td>0.967836</td>\n",
       "      <td>0.967533</td>\n",
       "      <td>00:12</td>\n",
       "    </tr>\n",
       "  </tbody>\n",
       "</table>"
      ],
      "text/plain": [
       "<IPython.core.display.HTML object>"
      ]
     },
     "metadata": {},
     "output_type": "display_data"
    }
   ],
   "source": [
    "learn_c.load(f'{lang}clas_tcu_jurisp_reduzido_sp15_multifit')\n",
    "learn_c.fit_one_cycle(2, slice(lr/100/(2.6**4),lr/100), wd=wd, moms=(0.8,0.7))"
   ]
  },
  {
   "cell_type": "code",
   "execution_count": 154,
   "metadata": {
    "hidden": true
   },
   "outputs": [],
   "source": [
    "learn_c.save(f'{lang}clas_tcu_jurisp_reduzido_sp15_multifit')"
   ]
  },
  {
   "cell_type": "code",
   "execution_count": 156,
   "metadata": {
    "hidden": true
   },
   "outputs": [
    {
     "data": {
      "text/html": [
       "<table border=\"1\" class=\"dataframe\">\n",
       "  <thead>\n",
       "    <tr style=\"text-align: left;\">\n",
       "      <th>epoch</th>\n",
       "      <th>train_loss</th>\n",
       "      <th>valid_loss</th>\n",
       "      <th>accuracy</th>\n",
       "      <th>f1</th>\n",
       "      <th>time</th>\n",
       "    </tr>\n",
       "  </thead>\n",
       "  <tbody>\n",
       "    <tr>\n",
       "      <td>0</td>\n",
       "      <td>0.424318</td>\n",
       "      <td>0.427883</td>\n",
       "      <td>0.968811</td>\n",
       "      <td>0.968508</td>\n",
       "      <td>00:13</td>\n",
       "    </tr>\n",
       "    <tr>\n",
       "      <td>1</td>\n",
       "      <td>0.422475</td>\n",
       "      <td>0.427418</td>\n",
       "      <td>0.968811</td>\n",
       "      <td>0.968782</td>\n",
       "      <td>00:13</td>\n",
       "    </tr>\n",
       "  </tbody>\n",
       "</table>"
      ],
      "text/plain": [
       "<IPython.core.display.HTML object>"
      ]
     },
     "metadata": {},
     "output_type": "display_data"
    }
   ],
   "source": [
    "learn_c.load(f'{lang}clas_tcu_jurisp_reduzido_sp15_multifit')\n",
    "learn_c.fit_one_cycle(2, slice(lr/1000/(2.6**4),lr/1000), wd=wd, moms=(0.8,0.7))"
   ]
  },
  {
   "cell_type": "code",
   "execution_count": 157,
   "metadata": {
    "hidden": true
   },
   "outputs": [],
   "source": [
    "learn_c.save(f'{lang}clas_tcu_jurisp_reduzido_sp15_multifit')"
   ]
  },
  {
   "cell_type": "markdown",
   "metadata": {
    "hidden": true
   },
   "source": [
    "### Confusion matrix"
   ]
  },
  {
   "cell_type": "code",
   "execution_count": 158,
   "metadata": {
    "hidden": true
   },
   "outputs": [
    {
     "name": "stdout",
     "output_type": "stream",
     "text": [
      "CPU times: user 668 ms, sys: 104 ms, total: 772 ms\n",
      "Wall time: 769 ms\n"
     ]
    }
   ],
   "source": [
    "%%time\n",
    "data_clas = load_data(path, f'{lang}_textlist_class_tcu_jurisp_reduzido_sp15_multifit', bs=bs, num_workers=1)\n",
    "\n",
    "config = awd_lstm_clas_config.copy()\n",
    "config['qrnn'] = True\n",
    "config['n_hid'] = 1550 #default 1152\n",
    "config['n_layers'] = 4 #default 3\n",
    "\n",
    "learn_c = text_classifier_learner(data_clas, AWD_LSTM, config=config, pretrained=False, drop_mult=1.0, \n",
    "                                  metrics=[accuracy,f1])\n",
    "learn_c.load_encoder(f'{lang}fine_tuned_enc_tcu_jurisp_reduzido_sp15_multifit');\n",
    "\n",
    "learn_c.load(f'{lang}clas_tcu_jurisp_reduzido_sp15_multifit');\n",
    "\n",
    "# put weight on cpu\n",
    "loss_weights = torch.FloatTensor(trn_weights).cpu()\n",
    "learn_c.loss_func = FlattenedLoss(WeightedLabelSmoothingCrossEntropy, weight=loss_weights)"
   ]
  },
  {
   "cell_type": "code",
   "execution_count": 159,
   "metadata": {
    "hidden": true
   },
   "outputs": [
    {
     "data": {
      "image/png": "[encoded data removed]",
      "text/plain": [
       "<Figure size 432x288 with 1 Axes>"
      ]
     },
     "metadata": {
      "needs_background": "light"
     },
     "output_type": "display_data"
    }
   ],
   "source": [
    "preds,y,losses = learn_c.get_preds(with_loss=True)\n",
    "predictions = np.argmax(preds, axis = 1)\n",
    "\n",
    "interp = ClassificationInterpretation(learn_c, preds, y, losses)\n",
    "interp.plot_confusion_matrix()"
   ]
  },
  {
   "cell_type": "code",
   "execution_count": 160,
   "metadata": {
    "hidden": true
   },
   "outputs": [
    {
     "name": "stdout",
     "output_type": "stream",
     "text": [
      "[[328   4   0   0]\n",
      " [  1 280   3   0]\n",
      " [  3   4 203   3]\n",
      " [  2   5   7 183]]\n",
      "accuracy global: 0.9688109161793372\n",
      "accuracy on class 0: 98.79518072289156\n",
      "accuracy on class 1: 98.59154929577466\n",
      "accuracy on class 2: 95.30516431924883\n",
      "accuracy on class 3: 92.89340101522842\n"
     ]
    }
   ],
   "source": [
    "from sklearn.metrics import confusion_matrix\n",
    "cm = confusion_matrix(np.array(y), np.array(predictions))\n",
    "print(cm)\n",
    "\n",
    "## acc\n",
    "print(f'accuracy global: {(cm[0,0]+cm[1,1]+cm[2,2]+cm[3,3])/(cm.sum())}')\n",
    "\n",
    "# acc neg, acc pos\n",
    "print(f'accuracy on class 0: {cm[0,0]/(cm.sum(1)[0])*100}') \n",
    "print(f'accuracy on class 1: {cm[1,1]/(cm.sum(1)[1])*100}')\n",
    "print(f'accuracy on class 2: {cm[2,2]/(cm.sum(1)[2])*100}')\n",
    "print(f'accuracy on class 3: {cm[3,3]/(cm.sum(1)[3])*100}')"
   ]
  },
  {
   "cell_type": "code",
   "execution_count": 161,
   "metadata": {
    "hidden": true
   },
   "outputs": [
    {
     "data": {
      "text/html": [
       "<table border=\"1\" class=\"dataframe\">\n",
       "  <thead>\n",
       "    <tr style=\"text-align: right;\">\n",
       "      <th>text</th>\n",
       "      <th>target</th>\n",
       "      <th>prediction</th>\n",
       "    </tr>\n",
       "  </thead>\n",
       "  <tbody>\n",
       "    <tr>\n",
       "      <td>▁xxbos ▁a ▁assistência ▁judicial ▁por ▁parte ▁do ▁xxmaj ▁poder ▁xxmaj ▁público ▁aos ▁membros ▁do ▁xxmaj ▁ministério ▁xxmaj ▁público ▁da ▁xxmaj ▁união , ▁em ▁ações ▁propostas ▁por ▁pessoas ▁físicas ▁ou ▁jurídicas ▁por ▁eles ▁investiga das , ▁deve rá ▁pautar - se ▁pelos ▁seguinte s ▁critérios : &lt; ▁/ ▁p &gt;&lt; p &gt; a ) ▁nas ▁hipóteses ▁em ▁que ▁as ▁demanda s ▁judiciais ▁movida s ▁contra ▁os ▁membros ▁do ▁xxmaj ▁ministério ▁xxmaj</td>\n",
       "      <td>1</td>\n",
       "      <td>1</td>\n",
       "    </tr>\n",
       "    <tr>\n",
       "      <td>▁xxbos ▁xxmaj ▁nos ▁processos ▁licitatórios ▁sob ▁a ▁modalidade ▁pregão ▁que ▁se ▁de s ti n em ▁ao ▁fornecimento ▁de ▁bens ▁e ▁serviços ▁comuns ▁de ▁informática ▁e ▁automação , ▁verificado ▁em pa te ▁entre ▁propostas ▁comerciais , ▁a ▁xxmaj ▁administração ▁xxmaj ▁pública ▁xxmaj ▁federal ▁deve rá ▁adotar ▁os ▁seguinte s ▁procedimentos : ▁i . ▁analisa r , ▁primeiro , ▁se ▁algum ▁dos ▁licitantes ▁está ▁oferta ndo ▁bem ▁ou ▁serviço ▁que ▁preencha</td>\n",
       "      <td>1</td>\n",
       "      <td>1</td>\n",
       "    </tr>\n",
       "    <tr>\n",
       "      <td>▁xxbos ▁xxmaj ▁os ▁requisitos ▁a ▁ser em ▁preenchidos , ▁no ▁momento ▁do ▁óbito ▁do ▁instituidor , ▁para ▁a ▁habilitação ▁e ▁manutenção ▁da ▁qualidade ▁de ▁filha ▁maior ▁solteira , ▁como ▁dependente ▁de ▁pensão ▁são : ▁a ) ▁ser ▁solteira , ▁viúva ▁ou ▁desquitada , ▁independente mente ▁da ▁idade ▁( po de ▁ser ▁maior ▁ou ▁menor ▁de ▁21 ▁anos ) ▁ ; ▁b ) ▁não ▁ser ▁ocupante ▁de ▁cargo ▁público ▁permanente ▁na</td>\n",
       "      <td>0</td>\n",
       "      <td>0</td>\n",
       "    </tr>\n",
       "    <tr>\n",
       "      <td>▁xxbos ▁é ▁permitida ▁a ▁utilização ▁do ▁chamamento ▁público ▁para ▁permuta ▁de ▁imóveis ▁da ▁xxmaj ▁união ▁como ▁mecanismo ▁de ▁pro s p ec ção ▁de ▁mercado , ▁para ▁fim ▁de ▁identificar ▁os ▁imóveis ▁ele g íveis ▁que ▁atenda m ▁às ▁necessidade s ▁da ▁xxmaj ▁união , ▁com ▁atendimento ▁aos ▁princípios ▁da ▁impessoalidade , ▁moralidade ▁e ▁publicidade , ▁devendo , ▁posteriormente , ▁ser ▁utilizadas ▁vári as ▁fontes ▁de ▁pesquisa ▁para ▁certificação ▁de</td>\n",
       "      <td>1</td>\n",
       "      <td>1</td>\n",
       "    </tr>\n",
       "    <tr>\n",
       "      <td>▁xxbos ▁é ▁legal ▁a ▁incorporação ▁de ▁parcelas ▁de ▁quintos , ▁com ▁fundamento ▁no ▁art . ▁3 o ▁da ▁xxup ▁mp ▁2.22 5- 45 ▁/ ▁2001 ▁e ▁observando - se ▁os ▁critérios ▁contido s ▁na ▁reda ção ▁original ▁dos ▁art s . ▁3 o ▁e ▁10 ▁da ▁xxmaj ▁lei ▁8.911 ▁/ ▁1994 , ▁no ▁período ▁compreendid o ▁entre ▁09 ▁/ ▁04 ▁/ ▁1998 ▁e ▁04 ▁/ ▁09 ▁/ ▁2001 , ▁data</td>\n",
       "      <td>0</td>\n",
       "      <td>0</td>\n",
       "    </tr>\n",
       "  </tbody>\n",
       "</table>"
      ],
      "text/plain": [
       "<IPython.core.display.HTML object>"
      ]
     },
     "metadata": {},
     "output_type": "display_data"
    }
   ],
   "source": [
    "learn_c.show_results()"
   ]
  },
  {
   "cell_type": "markdown",
   "metadata": {
    "heading_collapsed": true,
    "hidden": true
   },
   "source": [
    "### Predictions some random sentences"
   ]
  },
  {
   "cell_type": "code",
   "execution_count": 162,
   "metadata": {
    "hidden": true
   },
   "outputs": [],
   "source": [
    "import matplotlib.cm as cm"
   ]
  },
  {
   "cell_type": "code",
   "execution_count": 168,
   "metadata": {
    "hidden": true
   },
   "outputs": [
    {
     "data": {
      "text/plain": [
       "(Category 1, tensor(1), tensor([-0.3848,  1.7691, -0.8305,  0.1272]))"
      ]
     },
     "execution_count": 168,
     "metadata": {},
     "output_type": "execute_result"
    }
   ],
   "source": [
    "# Get the prediction neg/pos\n",
    "review = 'é permitida a utilização do chamamento público para permuta de imóveis'\n",
    "pred = learn_c.predict(review)\n",
    "print(pred)"
   ]
  },
  {
   "cell_type": "code",
   "execution_count": 171,
   "metadata": {
    "hidden": true
   },
   "outputs": [
    {
     "data": {
      "text/html": [
       "<span style=\"font-family: monospace;\"><span title=\"0.031\" style=\"background-color: rgba(249, 247, 251, 0.5);\">▁xxbos</span> <span title=\"0.031\" style=\"background-color: rgba(249, 247, 251, 0.5);\">▁é</span> <span title=\"0.059\" style=\"background-color: rgba(245, 244, 249, 0.5);\">▁permitida</span> <span title=\"0.063\" style=\"background-color: rgba(245, 243, 248, 0.5);\">▁a</span> <span title=\"0.167\" style=\"background-color: rgba(232, 230, 241, 0.5);\">▁utilização</span> <span title=\"0.088\" style=\"background-color: rgba(243, 241, 247, 0.5);\">▁do</span> <span title=\"0.175\" style=\"background-color: rgba(231, 229, 241, 0.5);\">▁chamamento</span> <span title=\"0.094\" style=\"background-color: rgba(242, 240, 246, 0.5);\">▁público</span> <span title=\"0.077\" style=\"background-color: rgba(244, 242, 248, 0.5);\">▁para</span> <span title=\"0.254\" style=\"background-color: rgba(216, 216, 234, 0.5);\">▁permuta</span> <span title=\"0.424\" style=\"background-color: rgba(176, 175, 212, 0.5);\">▁de</span> <span title=\"1.000\" style=\"background-color: rgba(63, 0, 125, 0.5);\">▁imóveis</span></span>"
      ],
      "text/plain": [
       "<IPython.core.display.HTML object>"
      ]
     },
     "metadata": {},
     "output_type": "display_data"
    }
   ],
   "source": [
    "# The darker the word-shading in the below example, the more it contributes to the classification. \n",
    "txt_ci = TextClassificationInterpretation.from_learner(learn_c)\n",
    "test_text = \"é permitida a utilização do chamamento público para permuta de imóveis\"\n",
    "txt_ci.show_intrinsic_attention(test_text,cmap=cm.Purples)"
   ]
  },
  {
   "cell_type": "code",
   "execution_count": 172,
   "metadata": {
    "hidden": true
   },
   "outputs": [
    {
     "data": {
      "text/plain": [
       "tensor([0.0309, 0.0306, 0.0588, 0.0625, 0.1667, 0.0880, 0.1746, 0.0939, 0.0766,\n",
       "        0.2544, 0.4241, 1.0000], device='cuda:0')"
      ]
     },
     "execution_count": 172,
     "metadata": {},
     "output_type": "execute_result"
    }
   ],
   "source": [
    "txt_ci.intrinsic_attention(test_text)[1]"
   ]
  },
  {
   "cell_type": "code",
   "execution_count": 173,
   "metadata": {
    "hidden": true
   },
   "outputs": [
    {
     "data": {
      "text/html": [
       "<table border=\"1\" class=\"dataframe\">\n",
       "  <thead>\n",
       "    <tr style=\"text-align: right;\">\n",
       "      <th>Text</th>\n",
       "      <th>Prediction</th>\n",
       "      <th>Actual</th>\n",
       "      <th>Loss</th>\n",
       "      <th>Probability</th>\n",
       "    </tr>\n",
       "  </thead>\n",
       "  <tbody>\n",
       "    <tr>\n",
       "      <td>▁xxbos ▁xxmaj ▁apenas ▁se ▁admite ▁o ▁pagamento ▁da ▁xxup ▁gadf ▁concomitante mente ▁com ▁os ▁quintos ▁para ▁os ▁exerce ntes ▁de ▁cargos ▁em ▁comissão ▁xxup ▁( das ) ▁ , ▁no ▁percentual ▁de ▁55% , ▁em ▁fac e ▁do ▁disposto ▁no ▁art . ▁5 o ▁da ▁xxmaj ▁lei ▁8. 53 8 ▁/ ▁1992 , ▁que ▁alter ou ▁os ▁§§ ▁1° ▁e ▁2° ▁do ▁art . ▁14 ▁da ▁xxmaj ▁lei ▁xxmaj ▁delegada</td>\n",
       "      <td>2</td>\n",
       "      <td>0</td>\n",
       "      <td>2.77</td>\n",
       "      <td>-1.69</td>\n",
       "    </tr>\n",
       "    <tr>\n",
       "      <td>▁xxbos ▁xxmaj ▁carece ▁de ▁respald o ▁legal ▁a ▁contagem ▁em ▁dobro , ▁para ▁fins ▁de ▁aposentadoria ▁de ▁magistrado , ▁de ▁licença - prêmio ▁referente ▁a ▁período ▁implementado ▁a pós ▁a ▁data ▁de ▁14 ▁/ ▁03 ▁/ ▁1979. ▁xxmaj ▁relativa mente ▁à ▁aposentadoria ▁no ▁cargo ▁de ▁xxmaj ▁desembargador , ▁aplica - se ▁a ▁vantagem ▁do ▁art . ▁184 ▁da ▁xxmaj ▁lei ▁1.711 ▁/ ▁1952 , ▁com b in ado ▁com ▁o</td>\n",
       "      <td>1</td>\n",
       "      <td>0</td>\n",
       "      <td>2.18</td>\n",
       "      <td>-0.53</td>\n",
       "    </tr>\n",
       "    <tr>\n",
       "      <td>▁xxbos ▁xxmaj ▁caso ▁o ▁responsável ▁f al e ç a ▁ antes ▁de ▁ser ▁citado , ▁mas ▁o ▁conhecimento ▁desse ▁fato ▁só ▁a co nte ç a ▁a pós ▁a ▁prola ção ▁do ▁acórdão ▁condenatório , ▁cabe ▁ao ▁xxup ▁tcu ▁tornar , ▁de ▁ofício , ▁insubsistente ▁a ▁deliberação ▁e ▁determinar ▁a ▁citação ▁do ▁espólio , ▁ou , ▁caso ▁concluído ▁o ▁inventário , ▁dos ▁sucessores , ▁até ▁o ▁limite ▁do ▁patrimônio</td>\n",
       "      <td>1</td>\n",
       "      <td>3</td>\n",
       "      <td>2.02</td>\n",
       "      <td>-0.75</td>\n",
       "    </tr>\n",
       "    <tr>\n",
       "      <td>▁xxbos ▁o ▁procedimento ▁da ▁pré - qualificação ▁é ▁reserva do ▁aos ▁casos ▁em ▁que ▁o ▁objeto ▁licitado ▁recomenda r ▁análise ▁ mais ▁de ti da ▁da ▁qualificação ▁técnica ▁dos ▁interessados , ▁devendo ▁ser ▁divulgados ▁os ▁critérios ▁de ▁julgamento ▁e ▁pontuação ▁atribuída ▁as ▁propostas , ▁tanto ▁no ▁que ▁se ▁refere ▁à ▁técnica ▁quanto ▁ao ▁preço , ▁de ▁forma ▁detalhada , ▁clara ▁e ▁objetiva , ▁bem ▁como ▁os ▁peso s ▁atribuído s</td>\n",
       "      <td>3</td>\n",
       "      <td>1</td>\n",
       "      <td>1.95</td>\n",
       "      <td>-1.28</td>\n",
       "    </tr>\n",
       "    <tr>\n",
       "      <td>▁xxbos ▁a ▁comprovação ▁de ▁tempo ▁de ▁serviço ▁exercido ▁em ▁entidade ▁privada ▁deve ▁ser ▁realizada ▁mediante ▁certid ão ▁emitida ▁pelo ▁xxup ▁inss .</td>\n",
       "      <td>0</td>\n",
       "      <td>0</td>\n",
       "      <td>1.92</td>\n",
       "      <td>2.26</td>\n",
       "    </tr>\n",
       "  </tbody>\n",
       "</table>"
      ],
      "text/plain": [
       "<IPython.core.display.HTML object>"
      ]
     },
     "metadata": {},
     "output_type": "display_data"
    }
   ],
   "source": [
    "# tabulation showing the first k texts in top_losses along with their prediction, actual,loss, and probability of actual class.\n",
    "# max_len is the maximum number of tokens displayed. If max_len=None, it will display all tokens.\n",
    "txt_ci.show_top_losses(5)"
   ]
  },
  {
   "cell_type": "markdown",
   "metadata": {
    "heading_collapsed": true
   },
   "source": [
    "## Fine-tuning \"backward Classifier\""
   ]
  },
  {
   "cell_type": "code",
   "execution_count": 174,
   "metadata": {
    "hidden": true
   },
   "outputs": [],
   "source": [
    "import warnings\n",
    "warnings.filterwarnings('ignore')  # \"error\", \"ignore\", \"always\", \"default\", \"module\" or \"on"
   ]
  },
  {
   "cell_type": "code",
   "execution_count": 175,
   "metadata": {
    "hidden": true
   },
   "outputs": [],
   "source": [
    "bs = 18"
   ]
  },
  {
   "cell_type": "markdown",
   "metadata": {
    "heading_collapsed": true,
    "hidden": true
   },
   "source": [
    "### Databunch"
   ]
  },
  {
   "cell_type": "code",
   "execution_count": 176,
   "metadata": {
    "hidden": true
   },
   "outputs": [
    {
     "name": "stdout",
     "output_type": "stream",
     "text": [
      "CPU times: user 232 ms, sys: 24 ms, total: 256 ms\n",
      "Wall time: 253 ms\n"
     ]
    }
   ],
   "source": [
    "%%time\n",
    "data_lm = load_data(path, f'{lang}_databunch_lm_tcu_jurisp_reduzido_sp15_multifit_bwd', bs=bs, backwards=True)"
   ]
  },
  {
   "cell_type": "code",
   "execution_count": 177,
   "metadata": {
    "hidden": true
   },
   "outputs": [
    {
     "name": "stdout",
     "output_type": "stream",
     "text": [
      "CPU times: user 5.42 s, sys: 496 ms, total: 5.92 s\n",
      "Wall time: 4.66 s\n"
     ]
    }
   ],
   "source": [
    "%%time\n",
    "data_clas = (TextList.from_df(df_trn_val, path, vocab=data_lm.vocab, cols=reviews, \n",
    "                              processor=[OpenFileProcessor(), SPProcessor(max_vocab_sz=15000)])\n",
    "    .split_by_rand_pct(0.1, seed=42)\n",
    "    .label_from_df(cols=label)\n",
    "    .databunch(bs=bs, num_workers=1, backwards=True))"
   ]
  },
  {
   "cell_type": "code",
   "execution_count": 178,
   "metadata": {
    "hidden": true
   },
   "outputs": [
    {
     "name": "stdout",
     "output_type": "stream",
     "text": [
      "CPU times: user 636 ms, sys: 28 ms, total: 664 ms\n",
      "Wall time: 198 ms\n"
     ]
    }
   ],
   "source": [
    "%%time\n",
    "data_clas.save(f'{lang}_textlist_class_tcu_jurisp_reduzido_sp15_multifit_bwd')"
   ]
  },
  {
   "cell_type": "markdown",
   "metadata": {
    "heading_collapsed": true,
    "hidden": true
   },
   "source": [
    "### Get weights to penalize loss function of the majority class"
   ]
  },
  {
   "cell_type": "code",
   "execution_count": 179,
   "metadata": {
    "hidden": true
   },
   "outputs": [
    {
     "name": "stdout",
     "output_type": "stream",
     "text": [
      "CPU times: user 396 ms, sys: 36 ms, total: 432 ms\n",
      "Wall time: 380 ms\n"
     ]
    }
   ],
   "source": [
    "%%time\n",
    "data_clas = load_data(path, f'{lang}_textlist_class_tcu_jurisp_reduzido_sp15_multifit_bwd', bs=bs, num_workers=1, backwards=True)"
   ]
  },
  {
   "cell_type": "code",
   "execution_count": 180,
   "metadata": {
    "hidden": true
   },
   "outputs": [
    {
     "data": {
      "text/plain": [
       "(9237, 1026, 10263)"
      ]
     },
     "execution_count": 180,
     "metadata": {},
     "output_type": "execute_result"
    }
   ],
   "source": [
    "num_trn = len(data_clas.train_ds.x)\n",
    "num_val = len(data_clas.valid_ds.x)\n",
    "num_trn, num_val, num_trn+num_val"
   ]
  },
  {
   "cell_type": "code",
   "execution_count": 181,
   "metadata": {
    "hidden": true
   },
   "outputs": [
    {
     "data": {
      "text/plain": [
       "(array([3136, 2439, 2084, 1578]), array([332, 284, 213, 197]))"
      ]
     },
     "execution_count": 181,
     "metadata": {},
     "output_type": "execute_result"
    }
   ],
   "source": [
    "trn_LabelCounts = np.unique(data_clas.train_ds.y.items, return_counts=True)[1]\n",
    "val_LabelCounts = np.unique(data_clas.valid_ds.y.items, return_counts=True)[1]\n",
    "trn_LabelCounts, val_LabelCounts"
   ]
  },
  {
   "cell_type": "code",
   "execution_count": 182,
   "metadata": {
    "hidden": true
   },
   "outputs": [
    {
     "data": {
      "text/plain": [
       "([0.6604958319800801,\n",
       "  0.7359532315686912,\n",
       "  0.7743856230377828,\n",
       "  0.8291653134134459],\n",
       " [0.6764132553606238,\n",
       "  0.723196881091618,\n",
       "  0.7923976608187134,\n",
       "  0.8079922027290448])"
      ]
     },
     "execution_count": 182,
     "metadata": {},
     "output_type": "execute_result"
    }
   ],
   "source": [
    "trn_weights = [1 - count/num_trn for count in trn_LabelCounts]\n",
    "val_weights = [1 - count/num_val for count in val_LabelCounts]\n",
    "trn_weights, val_weights"
   ]
  },
  {
   "cell_type": "markdown",
   "metadata": {
    "hidden": true
   },
   "source": [
    "### Training (Loss = FlattenedLoss of weighted LabelSmoothingCrossEntropy)"
   ]
  },
  {
   "cell_type": "code",
   "execution_count": 259,
   "metadata": {
    "hidden": true
   },
   "outputs": [
    {
     "name": "stdout",
     "output_type": "stream",
     "text": [
      "CPU times: user 360 ms, sys: 20 ms, total: 380 ms\n",
      "Wall time: 368 ms\n"
     ]
    }
   ],
   "source": [
    "%%time\n",
    "data_clas = load_data(path, f'{lang}_textlist_class_tcu_jurisp_reduzido_sp15_multifit_bwd', bs=bs, num_workers=1, backwards=True)"
   ]
  },
  {
   "cell_type": "code",
   "execution_count": 260,
   "metadata": {
    "hidden": true
   },
   "outputs": [],
   "source": [
    "config = awd_lstm_clas_config.copy()\n",
    "config['qrnn'] = True\n",
    "config['n_hid'] = 1550 #default 1152\n",
    "config['n_layers'] = 4 #default 3"
   ]
  },
  {
   "cell_type": "code",
   "execution_count": 262,
   "metadata": {
    "hidden": true
   },
   "outputs": [],
   "source": [
    "learn_c = text_classifier_learner(data_clas, AWD_LSTM, config=config, drop_mult=0.3, metrics=[accuracy,f1]).to_fp16()\n",
    "learn_c.load_encoder(f'{lang}fine_tuned_enc_tcu_jurisp_reduzido_sp15_multifit_bwd');"
   ]
  },
  {
   "cell_type": "markdown",
   "metadata": {
    "hidden": true
   },
   "source": [
    "#### Change loss function"
   ]
  },
  {
   "cell_type": "code",
   "execution_count": 263,
   "metadata": {
    "hidden": true
   },
   "outputs": [
    {
     "data": {
      "text/plain": [
       "FlattenedLoss of CrossEntropyLoss()"
      ]
     },
     "execution_count": 263,
     "metadata": {},
     "output_type": "execute_result"
    }
   ],
   "source": [
    "learn_c.loss_func"
   ]
  },
  {
   "cell_type": "code",
   "execution_count": 264,
   "metadata": {
    "hidden": true
   },
   "outputs": [],
   "source": [
    "# source: https://github.com/fastai/fastai/blob/master//fastai/layers.py#L300:7\n",
    "# blog: https://bfarzin.github.io/Label-Smoothing/\n",
    "class WeightedLabelSmoothingCrossEntropy(nn.Module):\n",
    "    def __init__(self, weight, eps:float=0.1, reduction='mean'):\n",
    "        super().__init__()\n",
    "        self.weight,self.eps,self.reduction = weight,eps,reduction\n",
    "        \n",
    "    def forward(self, output, target):\n",
    "        c = output.size()[-1]\n",
    "        log_preds = F.log_softmax(output, dim=-1)\n",
    "        if self.reduction=='sum': loss = -log_preds.sum()\n",
    "        else:\n",
    "            loss = -log_preds.sum(dim=-1)\n",
    "            if self.reduction=='mean':  loss = loss.mean()\n",
    "        return loss*self.eps/c + (1-self.eps) * F.nll_loss(log_preds, target, weight=self.weight, reduction=self.reduction)"
   ]
  },
  {
   "cell_type": "code",
   "execution_count": 265,
   "metadata": {
    "hidden": true
   },
   "outputs": [],
   "source": [
    "loss_weights = torch.FloatTensor(trn_weights).cuda()\n",
    "learn_c.loss_func = FlattenedLoss(WeightedLabelSmoothingCrossEntropy, weight=loss_weights)"
   ]
  },
  {
   "cell_type": "code",
   "execution_count": 266,
   "metadata": {
    "hidden": true
   },
   "outputs": [
    {
     "data": {
      "text/plain": [
       "FlattenedLoss of WeightedLabelSmoothingCrossEntropy()"
      ]
     },
     "execution_count": 266,
     "metadata": {},
     "output_type": "execute_result"
    }
   ],
   "source": [
    "learn_c.loss_func"
   ]
  },
  {
   "cell_type": "markdown",
   "metadata": {
    "hidden": true
   },
   "source": [
    "#### Training"
   ]
  },
  {
   "cell_type": "code",
   "execution_count": 267,
   "metadata": {
    "hidden": true
   },
   "outputs": [],
   "source": [
    "learn_c.freeze()"
   ]
  },
  {
   "cell_type": "code",
   "execution_count": 268,
   "metadata": {
    "hidden": true
   },
   "outputs": [
    {
     "data": {
      "text/html": [],
      "text/plain": [
       "<IPython.core.display.HTML object>"
      ]
     },
     "metadata": {},
     "output_type": "display_data"
    },
    {
     "name": "stdout",
     "output_type": "stream",
     "text": [
      "LR Finder is complete, type {learner_name}.recorder.plot() to see the graph.\n"
     ]
    }
   ],
   "source": [
    "learn_c.lr_find()"
   ]
  },
  {
   "cell_type": "code",
   "execution_count": 269,
   "metadata": {
    "hidden": true
   },
   "outputs": [
    {
     "data": {
      "image/png": "[encoded data removed]",
      "text/plain": [
       "<Figure size 432x288 with 1 Axes>"
      ]
     },
     "metadata": {
      "needs_background": "light"
     },
     "output_type": "display_data"
    }
   ],
   "source": [
    "learn_c.recorder.plot()"
   ]
  },
  {
   "cell_type": "code",
   "execution_count": 270,
   "metadata": {
    "hidden": true
   },
   "outputs": [],
   "source": [
    "lr = 2e-1\n",
    "lr *= bs/48\n",
    "\n",
    "wd = 0.1"
   ]
  },
  {
   "cell_type": "code",
   "execution_count": 271,
   "metadata": {
    "hidden": true,
    "scrolled": false
   },
   "outputs": [
    {
     "data": {
      "text/html": [
       "<table border=\"1\" class=\"dataframe\">\n",
       "  <thead>\n",
       "    <tr style=\"text-align: left;\">\n",
       "      <th>epoch</th>\n",
       "      <th>train_loss</th>\n",
       "      <th>valid_loss</th>\n",
       "      <th>accuracy</th>\n",
       "      <th>f1</th>\n",
       "      <th>time</th>\n",
       "    </tr>\n",
       "  </thead>\n",
       "  <tbody>\n",
       "    <tr>\n",
       "      <td>0</td>\n",
       "      <td>0.782363</td>\n",
       "      <td>0.740862</td>\n",
       "      <td>0.811891</td>\n",
       "      <td>0.810821</td>\n",
       "      <td>00:05</td>\n",
       "    </tr>\n",
       "    <tr>\n",
       "      <td>1</td>\n",
       "      <td>0.669151</td>\n",
       "      <td>0.603263</td>\n",
       "      <td>0.886940</td>\n",
       "      <td>0.885194</td>\n",
       "      <td>00:05</td>\n",
       "    </tr>\n",
       "  </tbody>\n",
       "</table>"
      ],
      "text/plain": [
       "<IPython.core.display.HTML object>"
      ]
     },
     "metadata": {},
     "output_type": "display_data"
    }
   ],
   "source": [
    "learn_c.fit_one_cycle(2, lr, wd=wd, moms=(0.8,0.7))"
   ]
  },
  {
   "cell_type": "code",
   "execution_count": 272,
   "metadata": {
    "hidden": true
   },
   "outputs": [],
   "source": [
    "learn_c.save(f'{lang}clas_tcu_jurisp_reduzido_sp15_multifit_bwd')"
   ]
  },
  {
   "cell_type": "code",
   "execution_count": 273,
   "metadata": {
    "hidden": true
   },
   "outputs": [
    {
     "data": {
      "text/html": [
       "<table border=\"1\" class=\"dataframe\">\n",
       "  <thead>\n",
       "    <tr style=\"text-align: left;\">\n",
       "      <th>epoch</th>\n",
       "      <th>train_loss</th>\n",
       "      <th>valid_loss</th>\n",
       "      <th>accuracy</th>\n",
       "      <th>f1</th>\n",
       "      <th>time</th>\n",
       "    </tr>\n",
       "  </thead>\n",
       "  <tbody>\n",
       "    <tr>\n",
       "      <td>0</td>\n",
       "      <td>0.804053</td>\n",
       "      <td>0.826902</td>\n",
       "      <td>0.799220</td>\n",
       "      <td>0.797032</td>\n",
       "      <td>00:05</td>\n",
       "    </tr>\n",
       "    <tr>\n",
       "      <td>1</td>\n",
       "      <td>0.686486</td>\n",
       "      <td>0.600855</td>\n",
       "      <td>0.872320</td>\n",
       "      <td>0.870989</td>\n",
       "      <td>00:05</td>\n",
       "    </tr>\n",
       "  </tbody>\n",
       "</table>"
      ],
      "text/plain": [
       "<IPython.core.display.HTML object>"
      ]
     },
     "metadata": {},
     "output_type": "display_data"
    }
   ],
   "source": [
    "learn_c.fit_one_cycle(2, lr, wd=wd, moms=(0.8,0.7))"
   ]
  },
  {
   "cell_type": "code",
   "execution_count": 274,
   "metadata": {
    "hidden": true
   },
   "outputs": [],
   "source": [
    "learn_c.save(f'{lang}clas_tcu_jurisp_reduzido_sp15_multifit_bwd')"
   ]
  },
  {
   "cell_type": "code",
   "execution_count": 275,
   "metadata": {
    "hidden": true
   },
   "outputs": [
    {
     "data": {
      "text/html": [
       "<table border=\"1\" class=\"dataframe\">\n",
       "  <thead>\n",
       "    <tr style=\"text-align: left;\">\n",
       "      <th>epoch</th>\n",
       "      <th>train_loss</th>\n",
       "      <th>valid_loss</th>\n",
       "      <th>accuracy</th>\n",
       "      <th>f1</th>\n",
       "      <th>time</th>\n",
       "    </tr>\n",
       "  </thead>\n",
       "  <tbody>\n",
       "    <tr>\n",
       "      <td>0</td>\n",
       "      <td>0.685813</td>\n",
       "      <td>8.436700</td>\n",
       "      <td>0.276803</td>\n",
       "      <td>0.129865</td>\n",
       "      <td>00:06</td>\n",
       "    </tr>\n",
       "    <tr>\n",
       "      <td>1</td>\n",
       "      <td>0.555300</td>\n",
       "      <td>0.481057</td>\n",
       "      <td>0.938596</td>\n",
       "      <td>0.937657</td>\n",
       "      <td>00:06</td>\n",
       "    </tr>\n",
       "  </tbody>\n",
       "</table>"
      ],
      "text/plain": [
       "<IPython.core.display.HTML object>"
      ]
     },
     "metadata": {},
     "output_type": "display_data"
    }
   ],
   "source": [
    "learn_c.freeze_to(-2)\n",
    "learn_c.fit_one_cycle(2, slice(lr/(2.6**4),lr), wd=wd, moms=(0.8,0.7))"
   ]
  },
  {
   "cell_type": "code",
   "execution_count": 276,
   "metadata": {
    "hidden": true
   },
   "outputs": [],
   "source": [
    "learn_c.save(f'{lang}clas_tcu_jurisp_reduzido_sp15_multifit_bwd')"
   ]
  },
  {
   "cell_type": "code",
   "execution_count": 277,
   "metadata": {
    "hidden": true
   },
   "outputs": [
    {
     "data": {
      "text/html": [
       "<table border=\"1\" class=\"dataframe\">\n",
       "  <thead>\n",
       "    <tr style=\"text-align: left;\">\n",
       "      <th>epoch</th>\n",
       "      <th>train_loss</th>\n",
       "      <th>valid_loss</th>\n",
       "      <th>accuracy</th>\n",
       "      <th>f1</th>\n",
       "      <th>time</th>\n",
       "    </tr>\n",
       "  </thead>\n",
       "  <tbody>\n",
       "    <tr>\n",
       "      <td>0</td>\n",
       "      <td>0.700830</td>\n",
       "      <td>0.595482</td>\n",
       "      <td>0.893762</td>\n",
       "      <td>0.896527</td>\n",
       "      <td>00:08</td>\n",
       "    </tr>\n",
       "    <tr>\n",
       "      <td>1</td>\n",
       "      <td>0.561451</td>\n",
       "      <td>0.488908</td>\n",
       "      <td>0.939571</td>\n",
       "      <td>0.938417</td>\n",
       "      <td>00:07</td>\n",
       "    </tr>\n",
       "  </tbody>\n",
       "</table>"
      ],
      "text/plain": [
       "<IPython.core.display.HTML object>"
      ]
     },
     "metadata": {},
     "output_type": "display_data"
    }
   ],
   "source": [
    "learn_c.freeze_to(-3)\n",
    "learn_c.fit_one_cycle(2, slice(lr/2/(2.6**4),lr/2), wd=wd, moms=(0.8,0.7))"
   ]
  },
  {
   "cell_type": "code",
   "execution_count": 278,
   "metadata": {
    "hidden": true
   },
   "outputs": [],
   "source": [
    "learn_c.save(f'{lang}clas_tcu_jurisp_reduzido_sp15_multifit_bwd')"
   ]
  },
  {
   "cell_type": "code",
   "execution_count": 279,
   "metadata": {
    "hidden": true
   },
   "outputs": [
    {
     "data": {
      "text/html": [
       "<table border=\"1\" class=\"dataframe\">\n",
       "  <thead>\n",
       "    <tr style=\"text-align: left;\">\n",
       "      <th>epoch</th>\n",
       "      <th>train_loss</th>\n",
       "      <th>valid_loss</th>\n",
       "      <th>accuracy</th>\n",
       "      <th>f1</th>\n",
       "      <th>time</th>\n",
       "    </tr>\n",
       "  </thead>\n",
       "  <tbody>\n",
       "    <tr>\n",
       "      <td>0</td>\n",
       "      <td>0.539848</td>\n",
       "      <td>0.496198</td>\n",
       "      <td>0.944444</td>\n",
       "      <td>0.943656</td>\n",
       "      <td>00:13</td>\n",
       "    </tr>\n",
       "    <tr>\n",
       "      <td>1</td>\n",
       "      <td>0.498390</td>\n",
       "      <td>0.459348</td>\n",
       "      <td>0.956140</td>\n",
       "      <td>0.955176</td>\n",
       "      <td>00:12</td>\n",
       "    </tr>\n",
       "  </tbody>\n",
       "</table>"
      ],
      "text/plain": [
       "<IPython.core.display.HTML object>"
      ]
     },
     "metadata": {},
     "output_type": "display_data"
    }
   ],
   "source": [
    "learn_c.unfreeze()\n",
    "learn_c.fit_one_cycle(2, slice(lr/10/(2.6**4),lr/10), wd=wd, moms=(0.8,0.7))"
   ]
  },
  {
   "cell_type": "code",
   "execution_count": 280,
   "metadata": {
    "hidden": true
   },
   "outputs": [],
   "source": [
    "learn_c.save(f'{lang}clas_tcu_jurisp_reduzido_sp15_multifit_bwd')"
   ]
  },
  {
   "cell_type": "code",
   "execution_count": 281,
   "metadata": {
    "hidden": true
   },
   "outputs": [
    {
     "data": {
      "text/html": [
       "<table border=\"1\" class=\"dataframe\">\n",
       "  <thead>\n",
       "    <tr style=\"text-align: left;\">\n",
       "      <th>epoch</th>\n",
       "      <th>train_loss</th>\n",
       "      <th>valid_loss</th>\n",
       "      <th>accuracy</th>\n",
       "      <th>f1</th>\n",
       "      <th>time</th>\n",
       "    </tr>\n",
       "  </thead>\n",
       "  <tbody>\n",
       "    <tr>\n",
       "      <td>0</td>\n",
       "      <td>0.507406</td>\n",
       "      <td>0.468136</td>\n",
       "      <td>0.952242</td>\n",
       "      <td>0.951306</td>\n",
       "      <td>00:13</td>\n",
       "    </tr>\n",
       "    <tr>\n",
       "      <td>1</td>\n",
       "      <td>0.469209</td>\n",
       "      <td>0.446688</td>\n",
       "      <td>0.961014</td>\n",
       "      <td>0.960839</td>\n",
       "      <td>00:12</td>\n",
       "    </tr>\n",
       "  </tbody>\n",
       "</table>"
      ],
      "text/plain": [
       "<IPython.core.display.HTML object>"
      ]
     },
     "metadata": {},
     "output_type": "display_data"
    }
   ],
   "source": [
    "learn_c.fit_one_cycle(2, slice(lr/10/(2.6**4),lr/10), wd=wd, moms=(0.8,0.7))"
   ]
  },
  {
   "cell_type": "code",
   "execution_count": 282,
   "metadata": {
    "hidden": true
   },
   "outputs": [],
   "source": [
    "learn_c.save(f'{lang}clas_tcu_jurisp_reduzido_sp15_multifit_bwd')"
   ]
  },
  {
   "cell_type": "code",
   "execution_count": 283,
   "metadata": {
    "hidden": true
   },
   "outputs": [
    {
     "data": {
      "text/html": [
       "<table border=\"1\" class=\"dataframe\">\n",
       "  <thead>\n",
       "    <tr style=\"text-align: left;\">\n",
       "      <th>epoch</th>\n",
       "      <th>train_loss</th>\n",
       "      <th>valid_loss</th>\n",
       "      <th>accuracy</th>\n",
       "      <th>f1</th>\n",
       "      <th>time</th>\n",
       "    </tr>\n",
       "  </thead>\n",
       "  <tbody>\n",
       "    <tr>\n",
       "      <td>0</td>\n",
       "      <td>0.496826</td>\n",
       "      <td>0.471526</td>\n",
       "      <td>0.951267</td>\n",
       "      <td>0.949989</td>\n",
       "      <td>00:13</td>\n",
       "    </tr>\n",
       "    <tr>\n",
       "      <td>1</td>\n",
       "      <td>0.451470</td>\n",
       "      <td>0.441385</td>\n",
       "      <td>0.961014</td>\n",
       "      <td>0.960459</td>\n",
       "      <td>00:13</td>\n",
       "    </tr>\n",
       "  </tbody>\n",
       "</table>"
      ],
      "text/plain": [
       "<IPython.core.display.HTML object>"
      ]
     },
     "metadata": {},
     "output_type": "display_data"
    }
   ],
   "source": [
    "learn_c.fit_one_cycle(2, slice(lr/10/(2.6**4),lr/10), wd=wd, moms=(0.8,0.7))"
   ]
  },
  {
   "cell_type": "code",
   "execution_count": 284,
   "metadata": {
    "hidden": true
   },
   "outputs": [],
   "source": [
    "learn_c.save(f'{lang}clas_tcu_jurisp_reduzido_sp15_multifit_bwd')"
   ]
  },
  {
   "cell_type": "code",
   "execution_count": 285,
   "metadata": {
    "hidden": true
   },
   "outputs": [
    {
     "data": {
      "text/html": [
       "<table border=\"1\" class=\"dataframe\">\n",
       "  <thead>\n",
       "    <tr style=\"text-align: left;\">\n",
       "      <th>epoch</th>\n",
       "      <th>train_loss</th>\n",
       "      <th>valid_loss</th>\n",
       "      <th>accuracy</th>\n",
       "      <th>f1</th>\n",
       "      <th>time</th>\n",
       "    </tr>\n",
       "  </thead>\n",
       "  <tbody>\n",
       "    <tr>\n",
       "      <td>0</td>\n",
       "      <td>0.435016</td>\n",
       "      <td>0.438589</td>\n",
       "      <td>0.961988</td>\n",
       "      <td>0.961355</td>\n",
       "      <td>00:13</td>\n",
       "    </tr>\n",
       "    <tr>\n",
       "      <td>1</td>\n",
       "      <td>0.430054</td>\n",
       "      <td>0.435802</td>\n",
       "      <td>0.964912</td>\n",
       "      <td>0.964211</td>\n",
       "      <td>00:13</td>\n",
       "    </tr>\n",
       "  </tbody>\n",
       "</table>"
      ],
      "text/plain": [
       "<IPython.core.display.HTML object>"
      ]
     },
     "metadata": {},
     "output_type": "display_data"
    }
   ],
   "source": [
    "learn_c.fit_one_cycle(2, slice(lr/100/(2.6**4),lr/100), wd=wd, moms=(0.8,0.7))"
   ]
  },
  {
   "cell_type": "code",
   "execution_count": 286,
   "metadata": {
    "hidden": true
   },
   "outputs": [],
   "source": [
    "learn_c.save(f'{lang}clas_tcu_jurisp_reduzido_sp15_multifit_bwd')"
   ]
  },
  {
   "cell_type": "code",
   "execution_count": 289,
   "metadata": {
    "hidden": true
   },
   "outputs": [
    {
     "data": {
      "text/html": [
       "<table border=\"1\" class=\"dataframe\">\n",
       "  <thead>\n",
       "    <tr style=\"text-align: left;\">\n",
       "      <th>epoch</th>\n",
       "      <th>train_loss</th>\n",
       "      <th>valid_loss</th>\n",
       "      <th>accuracy</th>\n",
       "      <th>f1</th>\n",
       "      <th>time</th>\n",
       "    </tr>\n",
       "  </thead>\n",
       "  <tbody>\n",
       "    <tr>\n",
       "      <td>0</td>\n",
       "      <td>0.422198</td>\n",
       "      <td>0.432582</td>\n",
       "      <td>0.965887</td>\n",
       "      <td>0.965141</td>\n",
       "      <td>00:13</td>\n",
       "    </tr>\n",
       "  </tbody>\n",
       "</table>"
      ],
      "text/plain": [
       "<IPython.core.display.HTML object>"
      ]
     },
     "metadata": {},
     "output_type": "display_data"
    }
   ],
   "source": [
    "learn_c.load(f'{lang}clas_tcu_jurisp_reduzido_sp15_multifit_bwd')\n",
    "learn_c.fit_one_cycle(1, slice(lr/100/(2.6**4),lr/100), wd=wd, moms=(0.8,0.7))"
   ]
  },
  {
   "cell_type": "code",
   "execution_count": 290,
   "metadata": {
    "hidden": true
   },
   "outputs": [],
   "source": [
    "learn_c.save(f'{lang}clas_tcu_jurisp_reduzido_sp15_multifit_bwd')"
   ]
  },
  {
   "cell_type": "code",
   "execution_count": 293,
   "metadata": {
    "hidden": true
   },
   "outputs": [
    {
     "data": {
      "text/html": [
       "<table border=\"1\" class=\"dataframe\">\n",
       "  <thead>\n",
       "    <tr style=\"text-align: left;\">\n",
       "      <th>epoch</th>\n",
       "      <th>train_loss</th>\n",
       "      <th>valid_loss</th>\n",
       "      <th>accuracy</th>\n",
       "      <th>f1</th>\n",
       "      <th>time</th>\n",
       "    </tr>\n",
       "  </thead>\n",
       "  <tbody>\n",
       "    <tr>\n",
       "      <td>0</td>\n",
       "      <td>0.417618</td>\n",
       "      <td>0.436499</td>\n",
       "      <td>0.963938</td>\n",
       "      <td>0.963218</td>\n",
       "      <td>00:13</td>\n",
       "    </tr>\n",
       "    <tr>\n",
       "      <td>1</td>\n",
       "      <td>0.414253</td>\n",
       "      <td>0.433474</td>\n",
       "      <td>0.966862</td>\n",
       "      <td>0.966414</td>\n",
       "      <td>00:13</td>\n",
       "    </tr>\n",
       "  </tbody>\n",
       "</table>"
      ],
      "text/plain": [
       "<IPython.core.display.HTML object>"
      ]
     },
     "metadata": {},
     "output_type": "display_data"
    }
   ],
   "source": [
    "learn_c.load(f'{lang}clas_tcu_jurisp_reduzido_sp15_multifit_bwd')\n",
    "learn_c.fit_one_cycle(2, slice(lr/1000/(2.6**4),lr/1000), wd=wd, moms=(0.8,0.7))"
   ]
  },
  {
   "cell_type": "code",
   "execution_count": 294,
   "metadata": {
    "hidden": true
   },
   "outputs": [],
   "source": [
    "learn_c.save(f'{lang}clas_tcu_jurisp_reduzido_sp15_multifit_bwd')"
   ]
  },
  {
   "cell_type": "code",
   "execution_count": 55,
   "metadata": {
    "hidden": true
   },
   "outputs": [],
   "source": [
    "learn_c.load(f'{lang}clas_tcu_jurisp_reduzido_sp15_multifit_bwd');\n",
    "learn_c.to_fp32().export(f'{lang}_classifier_tcu_jurisp_reduzido_sp15_multifit_bwd')"
   ]
  },
  {
   "cell_type": "markdown",
   "metadata": {
    "heading_collapsed": true,
    "hidden": true
   },
   "source": [
    "### Confusion matrix"
   ]
  },
  {
   "cell_type": "code",
   "execution_count": 295,
   "metadata": {
    "hidden": true
   },
   "outputs": [
    {
     "name": "stdout",
     "output_type": "stream",
     "text": [
      "CPU times: user 2.16 s, sys: 256 ms, total: 2.41 s\n",
      "Wall time: 1.05 s\n"
     ]
    }
   ],
   "source": [
    "%%time\n",
    "data_clas = load_data(path, f'{lang}_textlist_class_tcu_jurisp_reduzido_sp15_multifit_bwd', bs=bs, num_workers=1, backwards=True)\n",
    "\n",
    "config = awd_lstm_clas_config.copy()\n",
    "config['qrnn'] = True\n",
    "config['n_hid'] = 1550 #default 1152\n",
    "config['n_layers'] = 4 #default 3\n",
    "\n",
    "learn_c = text_classifier_learner(data_clas, AWD_LSTM, config=config, drop_mult=1.0, \n",
    "                                  metrics=[accuracy,f1])\n",
    "learn_c.load_encoder(f'{lang}fine_tuned_enc_tcu_jurisp_reduzido_sp15_multifit_bwd');\n",
    "\n",
    "learn_c.load(f'{lang}clas_tcu_jurisp_reduzido_sp15_multifit_bwd');\n",
    "\n",
    "# put weight on cpu\n",
    "loss_weights = torch.FloatTensor(trn_weights).cpu()\n",
    "learn_c.loss_func = FlattenedLoss(WeightedLabelSmoothingCrossEntropy, weight=loss_weights)"
   ]
  },
  {
   "cell_type": "code",
   "execution_count": 296,
   "metadata": {
    "hidden": true
   },
   "outputs": [
    {
     "data": {
      "image/png": "[encoded data removed]",
      "text/plain": [
       "<Figure size 432x288 with 1 Axes>"
      ]
     },
     "metadata": {
      "needs_background": "light"
     },
     "output_type": "display_data"
    }
   ],
   "source": [
    "preds,y,losses = learn_c.get_preds(with_loss=True)\n",
    "predictions = np.argmax(preds, axis = 1)\n",
    "\n",
    "interp = ClassificationInterpretation(learn_c, preds, y, losses)\n",
    "interp.plot_confusion_matrix()"
   ]
  },
  {
   "cell_type": "code",
   "execution_count": 297,
   "metadata": {
    "hidden": true
   },
   "outputs": [
    {
     "name": "stdout",
     "output_type": "stream",
     "text": [
      "[[324   4   0   4]\n",
      " [  2 280   2   0]\n",
      " [  1   4 200   8]\n",
      " [  0   2   7 188]]\n",
      "accuracy global: 0.9668615984405458\n",
      "accuracy on class 0: 97.59036144578313\n",
      "accuracy on class 1: 98.59154929577466\n",
      "accuracy on class 2: 93.89671361502347\n",
      "accuracy on class 3: 95.43147208121827\n"
     ]
    }
   ],
   "source": [
    "from sklearn.metrics import confusion_matrix\n",
    "cm = confusion_matrix(np.array(y), np.array(predictions))\n",
    "print(cm)\n",
    "\n",
    "## acc\n",
    "print(f'accuracy global: {(cm[0,0]+cm[1,1]+cm[2,2]+cm[3,3])/(cm.sum())}')\n",
    "\n",
    "# acc neg, acc pos\n",
    "print(f'accuracy on class 0: {cm[0,0]/(cm.sum(1)[0])*100}') \n",
    "print(f'accuracy on class 1: {cm[1,1]/(cm.sum(1)[1])*100}')\n",
    "print(f'accuracy on class 2: {cm[2,2]/(cm.sum(1)[2])*100}')\n",
    "print(f'accuracy on class 3: {cm[3,3]/(cm.sum(1)[3])*100}')"
   ]
  },
  {
   "cell_type": "code",
   "execution_count": 298,
   "metadata": {
    "hidden": true
   },
   "outputs": [
    {
     "data": {
      "text/html": [
       "<table border=\"1\" class=\"dataframe\">\n",
       "  <thead>\n",
       "    <tr style=\"text-align: right;\">\n",
       "      <th>text</th>\n",
       "      <th>target</th>\n",
       "      <th>prediction</th>\n",
       "    </tr>\n",
       "  </thead>\n",
       "  <tbody>\n",
       "    <tr>\n",
       "      <td>. ▁ ) ▁1993 ▁/ ▁8.666 ▁lei ▁xxmaj ▁da o ▁3 . art ▁( ” ▁administração ▁xxmaj ▁a ▁para ▁vantajosa mais ▁ ▁proposta ▁a r na io ec l se “ ▁ ▁a ▁modo ▁de , ▁interessados ▁eventuais ▁os ▁entre ” ▁isonomia ▁da ▁constitucional ▁princípio ▁do observância ▁ ▁a ir nt ra ga “ ▁ ▁necessariamente rá ▁deve ▁administração ▁xxmaj ▁a , ▁questão ▁em ▁advocatícios ▁serviços ▁dos ▁contratação ▁na ▁adotada</td>\n",
       "      <td>1</td>\n",
       "      <td>1</td>\n",
       "    </tr>\n",
       "    <tr>\n",
       "      <td>▁2002. ▁/ 20 ▁10.5 ▁lei ▁xxmaj ▁da o ▁9 . ▁art ▁do ▁força ▁por ▁pregão ▁xxmaj ▁ao subsidiariamente ▁ ▁aplicável , ▁1993 ▁/ ▁8.666 ▁lei ▁xxmaj ▁da , o ▁2 ▁§ , 45 ▁ . ▁art ▁no ▁disposto ▁o ▁observado , ▁público ▁interesse ▁ao á ▁atender ▁que ▁oferta ▁da io te r o s ▁ ▁ao ▁proceder ▁1991, ▁/ 8 ▁8.24 ▁lei ▁xxmaj ▁da o ▁3 . ▁art ▁do ▁atualizada</td>\n",
       "      <td>1</td>\n",
       "      <td>1</td>\n",
       "    </tr>\n",
       "    <tr>\n",
       "      <td>. ▁pensão ▁de ▁benefício ▁do ▁econômica ▁dependência ▁a e ▁descaracteriz ▁que ▁renda r ▁auferi ) ▁c ▁ou ; ▁ocupação ▁dessa ▁decorrente ▁aposentadoria ▁receber ▁ou , ▁indireta ▁xxmaj ▁ou ▁direta ▁xxmaj ▁pública ▁xxmaj ▁administração ▁xxmaj ▁na ▁efetivo ▁cargo ▁ocupar ) ▁b ; ▁estável ▁união ▁de ▁situação ▁na r ▁encontra ▁se ▁ou ▁casamento do í ▁contra ▁ter ) ▁a : ▁benefício ▁do ▁percepção ▁à ▁direito ▁do s tiva n ti ▁ex s</td>\n",
       "      <td>0</td>\n",
       "      <td>0</td>\n",
       "    </tr>\n",
       "    <tr>\n",
       "      <td>. ▁escolhida ▁opção ▁a ▁para ▁motivação ▁adequada ▁a ▁observar ▁devendo , ▁1998 ▁/ 6 3 ▁9.6 ▁lei ▁xxmaj ▁da , o ▁2 ▁§ , ▁30 . ▁art ▁do ▁e ▁1993 ▁/ ▁8.666 ▁lei ▁xxmaj ▁da , ▁i ▁xxup ▁inciso , ▁17 . ▁art ▁do ▁termos ▁nos , ▁licitatório ▁procedimento ▁o ▁realizar ▁ou , ▁1993 ▁/ ▁8.666 ▁lei ▁xxmaj ▁da , ▁x ▁xxup ▁inciso ▁24, . ▁art ▁do s ▁constante ▁requisitos</td>\n",
       "      <td>1</td>\n",
       "      <td>1</td>\n",
       "    </tr>\n",
       "    <tr>\n",
       "      <td>. ▁plenário ▁xxmaj - ▁ ▁1999 ▁/ 5 ▁92 ▁decisão ▁xxmaj ▁da 2 . 1 ▁8. m ▁subite ▁do ▁termos ▁nos , ▁vpni ▁xxup ▁em ▁transformada ▁incorporação adeira r r ▁de ▁essa , ▁também , ▁ficando , ▁meses doze ▁ ▁de ▁interstício ▁o ▁completado ▁for ▁que ▁em ▁específica ▁data ▁na ▁quintos ▁de ▁parcela ▁uma mais ▁ ▁de ▁ou ▁primeira ▁da ▁concessão ▁para , ▁incorporação quer ▁qual ▁em ▁empregado ▁não ▁que</td>\n",
       "      <td>0</td>\n",
       "      <td>0</td>\n",
       "    </tr>\n",
       "  </tbody>\n",
       "</table>"
      ],
      "text/plain": [
       "<IPython.core.display.HTML object>"
      ]
     },
     "metadata": {},
     "output_type": "display_data"
    }
   ],
   "source": [
    "learn_c.show_results()"
   ]
  },
  {
   "cell_type": "markdown",
   "metadata": {
    "heading_collapsed": true,
    "hidden": true
   },
   "source": [
    "### Predictions some random sentences"
   ]
  },
  {
   "cell_type": "code",
   "execution_count": 299,
   "metadata": {
    "hidden": true
   },
   "outputs": [],
   "source": [
    "import matplotlib.cm as cm"
   ]
  },
  {
   "cell_type": "code",
   "execution_count": 300,
   "metadata": {
    "hidden": true
   },
   "outputs": [
    {
     "name": "stdout",
     "output_type": "stream",
     "text": [
      "1 tensor([-0.8959,  2.1027, -0.6058, -0.3864])\n"
     ]
    }
   ],
   "source": [
    "# Get the prediction neg/pos\n",
    "review = 'é permitida a utilização do chamamento público para permuta de imóveis'\n",
    "pred = learn_c.predict(review)\n",
    "print(pred[0], pred[2])"
   ]
  },
  {
   "cell_type": "code",
   "execution_count": 301,
   "metadata": {
    "hidden": true
   },
   "outputs": [
    {
     "data": {
      "text/html": [
       "<span style=\"font-family: monospace;\"><span title=\"1.000\" style=\"background-color: rgba(63, 0, 125, 0.5);\">▁imóveis</span> <span title=\"0.052\" style=\"background-color: rgba(246, 245, 249, 0.5);\">▁de</span> <span title=\"0.067\" style=\"background-color: rgba(245, 243, 248, 0.5);\">▁permuta</span> <span title=\"0.052\" style=\"background-color: rgba(246, 245, 249, 0.5);\">▁para</span> <span title=\"0.126\" style=\"background-color: rgba(238, 236, 244, 0.5);\">▁público</span> <span title=\"0.183\" style=\"background-color: rgba(229, 228, 240, 0.5);\">▁chamamento</span> <span title=\"0.078\" style=\"background-color: rgba(244, 242, 248, 0.5);\">▁do</span> <span title=\"0.166\" style=\"background-color: rgba(232, 230, 241, 0.5);\">▁utilização</span> <span title=\"0.021\" style=\"background-color: rgba(249, 248, 251, 0.5);\">▁a</span> <span title=\"0.041\" style=\"background-color: rgba(247, 246, 250, 0.5);\">▁permitida</span> <span title=\"0.015\" style=\"background-color: rgba(250, 249, 252, 0.5);\">▁é</span> <span title=\"0.013\" style=\"background-color: rgba(250, 249, 252, 0.5);\">▁xxbos</span></span>"
      ],
      "text/plain": [
       "<IPython.core.display.HTML object>"
      ]
     },
     "metadata": {},
     "output_type": "display_data"
    }
   ],
   "source": [
    "# The darker the word-shading in the below example, the more it contributes to the classification. \n",
    "txt_ci = TextClassificationInterpretation.from_learner(learn_c)\n",
    "test_text = \"é permitida a utilização do chamamento público para permuta de imóveis\"\n",
    "txt_ci.show_intrinsic_attention(test_text,cmap=cm.Purples)"
   ]
  },
  {
   "cell_type": "code",
   "execution_count": 302,
   "metadata": {
    "hidden": true
   },
   "outputs": [
    {
     "data": {
      "text/plain": [
       "tensor([1.0000, 0.0524, 0.0671, 0.0523, 0.1256, 0.1826, 0.0780, 0.1662, 0.0208,\n",
       "        0.0405, 0.0149, 0.0134], device='cuda:0')"
      ]
     },
     "execution_count": 302,
     "metadata": {},
     "output_type": "execute_result"
    }
   ],
   "source": [
    "txt_ci.intrinsic_attention(test_text)[1]"
   ]
  },
  {
   "cell_type": "code",
   "execution_count": 303,
   "metadata": {
    "hidden": true
   },
   "outputs": [
    {
     "data": {
      "text/html": [
       "<table border=\"1\" class=\"dataframe\">\n",
       "  <thead>\n",
       "    <tr style=\"text-align: right;\">\n",
       "      <th>Text</th>\n",
       "      <th>Prediction</th>\n",
       "      <th>Actual</th>\n",
       "      <th>Loss</th>\n",
       "      <th>Probability</th>\n",
       "    </tr>\n",
       "  </thead>\n",
       "  <tbody>\n",
       "    <tr>\n",
       "      <td>▁xxbos ▁xxmaj ▁carece ▁de ▁respald o ▁legal ▁a ▁contagem ▁em ▁dobro , ▁para ▁fins ▁de ▁aposentadoria ▁de ▁magistrado , ▁de ▁licença - prêmio ▁referente ▁a ▁período ▁implementado ▁a pós ▁a ▁data ▁de ▁14 ▁/ ▁03 ▁/ ▁1979. ▁xxmaj ▁relativa mente ▁à ▁aposentadoria ▁no ▁cargo ▁de ▁xxmaj ▁desembargador , ▁aplica - se ▁a ▁vantagem ▁do ▁art . ▁184 ▁da ▁xxmaj ▁lei ▁1.711 ▁/ ▁1952 , ▁com b in ado ▁com ▁o</td>\n",
       "      <td>1</td>\n",
       "      <td>0</td>\n",
       "      <td>2.96</td>\n",
       "      <td>0.16</td>\n",
       "    </tr>\n",
       "    <tr>\n",
       "      <td>▁xxbos ▁xxmaj ▁as ▁licitações ▁com ▁recursos ▁oriundos ▁de ▁empréstimo ▁do ▁xxmaj ▁banco ▁xxmaj ▁mund ial ▁devem ▁contempla r ▁as ▁prescri ções ▁dos ▁art . ▁7 o , ▁§ ▁2 o , ▁inciso ▁xxup ▁ii , ▁e ▁40, ▁§ ▁2 o , ▁inciso ▁xxup ▁ii , ▁da ▁xxmaj ▁lei ▁8.666 ▁/ ▁1993 , ▁de ▁modo ▁que ▁seja ▁conhecido ▁pelos ▁possíveis ▁interessados ▁na ▁licitação ▁o ▁orçamento ▁estimado ▁em ▁planilhas ▁de ▁quantitativos ▁e</td>\n",
       "      <td>1</td>\n",
       "      <td>1</td>\n",
       "      <td>2.72</td>\n",
       "      <td>3.02</td>\n",
       "    </tr>\n",
       "    <tr>\n",
       "      <td>▁xxbos ▁é ▁vedada ▁a ▁contratação ▁da ▁xxmaj ▁empresa ▁xxmaj ▁brasileira ▁de ▁xxmaj ▁correios ▁e ▁xxmaj ▁ tel é g ra f os ▁xxup ▁( ec t ) ▁para ▁ prestação ▁de ▁serviços ▁de ▁ lo g ística , ▁mediante ▁dispensa ▁de ▁licitação ▁com ▁fundamento ▁no ▁art . ▁24, ▁inciso ▁xxup ▁viii , ▁da ▁xxmaj ▁lei ▁8.666 ▁/ ▁1993.</td>\n",
       "      <td>0</td>\n",
       "      <td>1</td>\n",
       "      <td>2.41</td>\n",
       "      <td>-0.81</td>\n",
       "    </tr>\n",
       "    <tr>\n",
       "      <td>▁xxbos ▁a ▁comprovação ▁da ▁assiduidade ▁de ▁servidor ▁do ▁xxmaj ▁tribunal ▁de ▁xxmaj ▁contas ▁da ▁xxmaj ▁união ▁se ▁faz ▁por ▁meio ▁de ▁registro s ▁em ▁equipamento ▁eletrônico ▁e ▁sistema ▁informa ti z ado ▁específicos ▁e , ▁na ▁sua ▁ausência , ▁por ▁elementos ▁objetivos . ▁xxmaj ▁no ▁caso ▁de ▁sus p e ita s ▁levantada s ▁pela ▁chefia ▁imediata , ▁cabe ▁ao ▁próprio ▁servidor ▁comprovar ▁sua ▁presença ▁nas ▁dependência s ▁da ▁instituição</td>\n",
       "      <td>3</td>\n",
       "      <td>0</td>\n",
       "      <td>2.37</td>\n",
       "      <td>-1.14</td>\n",
       "    </tr>\n",
       "    <tr>\n",
       "      <td>▁xxbos ▁a ▁eventual ▁adoção ▁de ▁medidas ▁corre tiva s ▁posteriores ▁ao ▁julgamento ▁das ▁contas , ▁em ▁cumprimento ▁às ▁determinações ▁expedida s ▁pelo ▁xxup ▁tcu , ▁não ▁elide ▁as ▁ocorrência s ▁que ▁motiva ram ▁a ▁irregularidade ▁das ▁contas ▁e ▁imposi ção ▁de ▁multa ▁ao ▁responsável .</td>\n",
       "      <td>1</td>\n",
       "      <td>2</td>\n",
       "      <td>2.37</td>\n",
       "      <td>-0.78</td>\n",
       "    </tr>\n",
       "  </tbody>\n",
       "</table>"
      ],
      "text/plain": [
       "<IPython.core.display.HTML object>"
      ]
     },
     "metadata": {},
     "output_type": "display_data"
    }
   ],
   "source": [
    "# tabulation showing the first k texts in top_losses along with their prediction, actual,loss, and probability of actual class.\n",
    "# max_len is the maximum number of tokens displayed. If max_len=None, it will display all tokens.\n",
    "txt_ci.show_top_losses(5)"
   ]
  },
  {
   "cell_type": "markdown",
   "metadata": {},
   "source": [
    "## Ensemble"
   ]
  },
  {
   "cell_type": "code",
   "execution_count": 309,
   "metadata": {},
   "outputs": [],
   "source": [
    "bs = 18"
   ]
  },
  {
   "cell_type": "code",
   "execution_count": 310,
   "metadata": {},
   "outputs": [],
   "source": [
    "config = awd_lstm_clas_config.copy()\n",
    "config['qrnn'] = True\n",
    "config['n_hid'] = 1550 #default 1152\n",
    "config['n_layers'] = 4 #default 3"
   ]
  },
  {
   "cell_type": "code",
   "execution_count": 311,
   "metadata": {},
   "outputs": [],
   "source": [
    "data_clas = load_data(path, f'{lang}_textlist_class_tcu_jurisp_reduzido_sp15_multifit', bs=bs, num_workers=1)\n",
    "learn_c = text_classifier_learner(data_clas, AWD_LSTM, config=config, drop_mult=0.3, metrics=[accuracy,f1]).to_fp16()\n",
    "learn_c.load(f'{lang}clas_tcu_jurisp_reduzido_sp15_multifit', purge=False);"
   ]
  },
  {
   "cell_type": "code",
   "execution_count": 312,
   "metadata": {},
   "outputs": [
    {
     "data": {
      "text/plain": [
       "(tensor(0.9688), tensor(0.9687))"
      ]
     },
     "execution_count": 312,
     "metadata": {},
     "output_type": "execute_result"
    }
   ],
   "source": [
    "preds,targs = learn_c.get_preds(ordered=True)\n",
    "accuracy(preds,targs),f1(preds,targs)"
   ]
  },
  {
   "cell_type": "code",
   "execution_count": 305,
   "metadata": {},
   "outputs": [],
   "source": [
    "data_clas_bwd = load_data(path, f'{lang}_textlist_class_tcu_jurisp_reduzido_sp15_multifit_bwd', bs=bs, num_workers=1, backwards=True)\n",
    "learn_c_bwd = text_classifier_learner(data_clas_bwd, AWD_LSTM, config=config, drop_mult=0.3, metrics=[accuracy,f1]).to_fp16()\n",
    "learn_c_bwd.load(f'{lang}clas_tcu_jurisp_reduzido_sp15_multifit_bwd', purge=False);"
   ]
  },
  {
   "cell_type": "code",
   "execution_count": 306,
   "metadata": {},
   "outputs": [
    {
     "data": {
      "text/plain": [
       "(tensor(0.9669), tensor(0.9669))"
      ]
     },
     "execution_count": 306,
     "metadata": {},
     "output_type": "execute_result"
    }
   ],
   "source": [
    "preds_b,targs_b = learn_c_bwd.get_preds(ordered=True)\n",
    "accuracy(preds_b,targs_b),f1(preds_b,targs_b)"
   ]
  },
  {
   "cell_type": "code",
   "execution_count": 313,
   "metadata": {},
   "outputs": [],
   "source": [
    "preds_avg = (preds+preds_b)/2"
   ]
  },
  {
   "cell_type": "code",
   "execution_count": 314,
   "metadata": {},
   "outputs": [
    {
     "data": {
      "text/plain": [
       "(tensor(0.9737), tensor(0.9737))"
      ]
     },
     "execution_count": 314,
     "metadata": {},
     "output_type": "execute_result"
    }
   ],
   "source": [
    "accuracy(preds_avg,targs_b),f1(preds_avg,targs_b)"
   ]
  },
  {
   "cell_type": "code",
   "execution_count": 315,
   "metadata": {},
   "outputs": [
    {
     "name": "stdout",
     "output_type": "stream",
     "text": [
      "[[326   4   0   2]\n",
      " [  2 281   1   0]\n",
      " [  0   2 206   5]\n",
      " [  1   3   7 186]]\n",
      "accuracy global: 0.9736842105263158\n",
      "accuracy on class 0: 98.19277108433735\n",
      "accuracy on class 1: 98.94366197183099\n",
      "accuracy on class 2: 96.71361502347418\n",
      "accuracy on class 3: 94.41624365482234\n"
     ]
    }
   ],
   "source": [
    "from sklearn.metrics import confusion_matrix\n",
    "\n",
    "predictions = np.argmax(preds_avg, axis = 1)\n",
    "cm = confusion_matrix(np.array(targs_b), np.array(predictions))\n",
    "print(cm)\n",
    "\n",
    "## acc\n",
    "print(f'accuracy global: {(cm[0,0]+cm[1,1]+cm[2,2]+cm[3,3])/(cm.sum())}')\n",
    "\n",
    "# acc neg, acc pos\n",
    "print(f'accuracy on class 0: {cm[0,0]/(cm.sum(1)[0])*100}') \n",
    "print(f'accuracy on class 1: {cm[1,1]/(cm.sum(1)[1])*100}')\n",
    "print(f'accuracy on class 2: {cm[2,2]/(cm.sum(1)[2])*100}')\n",
    "print(f'accuracy on class 3: {cm[3,3]/(cm.sum(1)[3])*100}')"
   ]
  },
  {
   "cell_type": "code",
   "execution_count": null,
   "metadata": {},
   "outputs": [],
   "source": []
  }
 ],
 "metadata": {
  "kernelspec": {
   "display_name": "Python 3",
   "language": "python",
   "name": "python3"
  },
  "language_info": {
   "codemirror_mode": {
    "name": "ipython",
    "version": 3
   },
   "file_extension": ".py",
   "mimetype": "text/x-python",
   "name": "python",
   "nbconvert_exporter": "python",
   "pygments_lexer": "ipython3",
   "version": "3.7.4"
  }
 },
 "nbformat": 4,
 "nbformat_minor": 2
}
