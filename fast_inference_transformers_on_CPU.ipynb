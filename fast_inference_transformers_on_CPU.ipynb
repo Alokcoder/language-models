{
  "nbformat": 4,
  "nbformat_minor": 0,
  "metadata": {
    "colab": {
      "name": "fast_inference_transformers_on_CPU.ipynb",
      "provenance": [],
      "collapsed_sections": []
    },
    "kernelspec": {
      "display_name": "Python 3",
      "name": "python3"
    },
    "language_info": {
      "name": "python"
    },
    "widgets": {
      "application/vnd.jupyter.widget-state+json": {
        "d688d08b86d1428f9254b959b0d39142": {
          "model_module": "@jupyter-widgets/controls",
          "model_name": "HBoxModel",
          "model_module_version": "1.5.0",
          "state": {
            "_view_name": "HBoxView",
            "_dom_classes": [],
            "_model_name": "HBoxModel",
            "_view_module": "@jupyter-widgets/controls",
            "_model_module_version": "1.5.0",
            "_view_count": null,
            "_view_module_version": "1.5.0",
            "box_style": "",
            "layout": "IPY_MODEL_9ff4c0e657eb4869a1e816d74d458b31",
            "_model_module": "@jupyter-widgets/controls",
            "children": [
              "IPY_MODEL_f072f66be88d4edea7f826b1fea52625",
              "IPY_MODEL_75e0d0df297b41c982712d3384ad3026",
              "IPY_MODEL_8e5708a1901e49beac3fb74f0c572db4"
            ]
          }
        },
        "9ff4c0e657eb4869a1e816d74d458b31": {
          "model_module": "@jupyter-widgets/base",
          "model_name": "LayoutModel",
          "model_module_version": "1.2.0",
          "state": {
            "_view_name": "LayoutView",
            "grid_template_rows": null,
            "right": null,
            "justify_content": null,
            "_view_module": "@jupyter-widgets/base",
            "overflow": null,
            "_model_module_version": "1.2.0",
            "_view_count": null,
            "flex_flow": null,
            "width": null,
            "min_width": null,
            "border": null,
            "align_items": null,
            "bottom": null,
            "_model_module": "@jupyter-widgets/base",
            "top": null,
            "grid_column": null,
            "overflow_y": null,
            "overflow_x": null,
            "grid_auto_flow": null,
            "grid_area": null,
            "grid_template_columns": null,
            "flex": null,
            "_model_name": "LayoutModel",
            "justify_items": null,
            "grid_row": null,
            "max_height": null,
            "align_content": null,
            "visibility": null,
            "align_self": null,
            "height": null,
            "min_height": null,
            "padding": null,
            "grid_auto_rows": null,
            "grid_gap": null,
            "max_width": null,
            "order": null,
            "_view_module_version": "1.2.0",
            "grid_template_areas": null,
            "object_position": null,
            "object_fit": null,
            "grid_auto_columns": null,
            "margin": null,
            "display": null,
            "left": null
          }
        },
        "f072f66be88d4edea7f826b1fea52625": {
          "model_module": "@jupyter-widgets/controls",
          "model_name": "HTMLModel",
          "model_module_version": "1.5.0",
          "state": {
            "_view_name": "HTMLView",
            "style": "IPY_MODEL_c1c920707b7b46ad8ad13fb0dbf4135f",
            "_dom_classes": [],
            "description": "",
            "_model_name": "HTMLModel",
            "placeholder": "​",
            "_view_module": "@jupyter-widgets/controls",
            "_model_module_version": "1.5.0",
            "value": "Downloading: 100%",
            "_view_count": null,
            "_view_module_version": "1.5.0",
            "description_tooltip": null,
            "_model_module": "@jupyter-widgets/controls",
            "layout": "IPY_MODEL_2c15a661a1cd4224aa6564d40adf87df"
          }
        },
        "75e0d0df297b41c982712d3384ad3026": {
          "model_module": "@jupyter-widgets/controls",
          "model_name": "FloatProgressModel",
          "model_module_version": "1.5.0",
          "state": {
            "_view_name": "ProgressView",
            "style": "IPY_MODEL_44eeb2b4309e4d61a49dd05885e27b11",
            "_dom_classes": [],
            "description": "",
            "_model_name": "FloatProgressModel",
            "bar_style": "success",
            "max": 494,
            "_view_module": "@jupyter-widgets/controls",
            "_model_module_version": "1.5.0",
            "value": 494,
            "_view_count": null,
            "_view_module_version": "1.5.0",
            "orientation": "horizontal",
            "min": 0,
            "description_tooltip": null,
            "_model_module": "@jupyter-widgets/controls",
            "layout": "IPY_MODEL_1e4ed81edd624c648d1c06c6e2134272"
          }
        },
        "8e5708a1901e49beac3fb74f0c572db4": {
          "model_module": "@jupyter-widgets/controls",
          "model_name": "HTMLModel",
          "model_module_version": "1.5.0",
          "state": {
            "_view_name": "HTMLView",
            "style": "IPY_MODEL_9818d9e1590e4343b7303e9b3089b34a",
            "_dom_classes": [],
            "description": "",
            "_model_name": "HTMLModel",
            "placeholder": "​",
            "_view_module": "@jupyter-widgets/controls",
            "_model_module_version": "1.5.0",
            "value": " 494/494 [00:00&lt;00:00, 9.22kB/s]",
            "_view_count": null,
            "_view_module_version": "1.5.0",
            "description_tooltip": null,
            "_model_module": "@jupyter-widgets/controls",
            "layout": "IPY_MODEL_08760e7ecac7421ca94908d214178d1a"
          }
        },
        "c1c920707b7b46ad8ad13fb0dbf4135f": {
          "model_module": "@jupyter-widgets/controls",
          "model_name": "DescriptionStyleModel",
          "model_module_version": "1.5.0",
          "state": {
            "_view_name": "StyleView",
            "_model_name": "DescriptionStyleModel",
            "description_width": "",
            "_view_module": "@jupyter-widgets/base",
            "_model_module_version": "1.5.0",
            "_view_count": null,
            "_view_module_version": "1.2.0",
            "_model_module": "@jupyter-widgets/controls"
          }
        },
        "2c15a661a1cd4224aa6564d40adf87df": {
          "model_module": "@jupyter-widgets/base",
          "model_name": "LayoutModel",
          "model_module_version": "1.2.0",
          "state": {
            "_view_name": "LayoutView",
            "grid_template_rows": null,
            "right": null,
            "justify_content": null,
            "_view_module": "@jupyter-widgets/base",
            "overflow": null,
            "_model_module_version": "1.2.0",
            "_view_count": null,
            "flex_flow": null,
            "width": null,
            "min_width": null,
            "border": null,
            "align_items": null,
            "bottom": null,
            "_model_module": "@jupyter-widgets/base",
            "top": null,
            "grid_column": null,
            "overflow_y": null,
            "overflow_x": null,
            "grid_auto_flow": null,
            "grid_area": null,
            "grid_template_columns": null,
            "flex": null,
            "_model_name": "LayoutModel",
            "justify_items": null,
            "grid_row": null,
            "max_height": null,
            "align_content": null,
            "visibility": null,
            "align_self": null,
            "height": null,
            "min_height": null,
            "padding": null,
            "grid_auto_rows": null,
            "grid_gap": null,
            "max_width": null,
            "order": null,
            "_view_module_version": "1.2.0",
            "grid_template_areas": null,
            "object_position": null,
            "object_fit": null,
            "grid_auto_columns": null,
            "margin": null,
            "display": null,
            "left": null
          }
        },
        "44eeb2b4309e4d61a49dd05885e27b11": {
          "model_module": "@jupyter-widgets/controls",
          "model_name": "ProgressStyleModel",
          "model_module_version": "1.5.0",
          "state": {
            "_view_name": "StyleView",
            "_model_name": "ProgressStyleModel",
            "description_width": "",
            "_view_module": "@jupyter-widgets/base",
            "_model_module_version": "1.5.0",
            "_view_count": null,
            "_view_module_version": "1.2.0",
            "bar_color": null,
            "_model_module": "@jupyter-widgets/controls"
          }
        },
        "1e4ed81edd624c648d1c06c6e2134272": {
          "model_module": "@jupyter-widgets/base",
          "model_name": "LayoutModel",
          "model_module_version": "1.2.0",
          "state": {
            "_view_name": "LayoutView",
            "grid_template_rows": null,
            "right": null,
            "justify_content": null,
            "_view_module": "@jupyter-widgets/base",
            "overflow": null,
            "_model_module_version": "1.2.0",
            "_view_count": null,
            "flex_flow": null,
            "width": null,
            "min_width": null,
            "border": null,
            "align_items": null,
            "bottom": null,
            "_model_module": "@jupyter-widgets/base",
            "top": null,
            "grid_column": null,
            "overflow_y": null,
            "overflow_x": null,
            "grid_auto_flow": null,
            "grid_area": null,
            "grid_template_columns": null,
            "flex": null,
            "_model_name": "LayoutModel",
            "justify_items": null,
            "grid_row": null,
            "max_height": null,
            "align_content": null,
            "visibility": null,
            "align_self": null,
            "height": null,
            "min_height": null,
            "padding": null,
            "grid_auto_rows": null,
            "grid_gap": null,
            "max_width": null,
            "order": null,
            "_view_module_version": "1.2.0",
            "grid_template_areas": null,
            "object_position": null,
            "object_fit": null,
            "grid_auto_columns": null,
            "margin": null,
            "display": null,
            "left": null
          }
        },
        "9818d9e1590e4343b7303e9b3089b34a": {
          "model_module": "@jupyter-widgets/controls",
          "model_name": "DescriptionStyleModel",
          "model_module_version": "1.5.0",
          "state": {
            "_view_name": "StyleView",
            "_model_name": "DescriptionStyleModel",
            "description_width": "",
            "_view_module": "@jupyter-widgets/base",
            "_model_module_version": "1.5.0",
            "_view_count": null,
            "_view_module_version": "1.2.0",
            "_model_module": "@jupyter-widgets/controls"
          }
        },
        "08760e7ecac7421ca94908d214178d1a": {
          "model_module": "@jupyter-widgets/base",
          "model_name": "LayoutModel",
          "model_module_version": "1.2.0",
          "state": {
            "_view_name": "LayoutView",
            "grid_template_rows": null,
            "right": null,
            "justify_content": null,
            "_view_module": "@jupyter-widgets/base",
            "overflow": null,
            "_model_module_version": "1.2.0",
            "_view_count": null,
            "flex_flow": null,
            "width": null,
            "min_width": null,
            "border": null,
            "align_items": null,
            "bottom": null,
            "_model_module": "@jupyter-widgets/base",
            "top": null,
            "grid_column": null,
            "overflow_y": null,
            "overflow_x": null,
            "grid_auto_flow": null,
            "grid_area": null,
            "grid_template_columns": null,
            "flex": null,
            "_model_name": "LayoutModel",
            "justify_items": null,
            "grid_row": null,
            "max_height": null,
            "align_content": null,
            "visibility": null,
            "align_self": null,
            "height": null,
            "min_height": null,
            "padding": null,
            "grid_auto_rows": null,
            "grid_gap": null,
            "max_width": null,
            "order": null,
            "_view_module_version": "1.2.0",
            "grid_template_areas": null,
            "object_position": null,
            "object_fit": null,
            "grid_auto_columns": null,
            "margin": null,
            "display": null,
            "left": null
          }
        },
        "1e55594927c14fe6a1eb460034fd4a7e": {
          "model_module": "@jupyter-widgets/controls",
          "model_name": "HBoxModel",
          "model_module_version": "1.5.0",
          "state": {
            "_view_name": "HBoxView",
            "_dom_classes": [],
            "_model_name": "HBoxModel",
            "_view_module": "@jupyter-widgets/controls",
            "_model_module_version": "1.5.0",
            "_view_count": null,
            "_view_module_version": "1.5.0",
            "box_style": "",
            "layout": "IPY_MODEL_0c508ca924fc4f598a6f6137aa381129",
            "_model_module": "@jupyter-widgets/controls",
            "children": [
              "IPY_MODEL_4282939dfda44bfb93504ba68356d2ef",
              "IPY_MODEL_90a190d70c8541c4bd679c540568db62",
              "IPY_MODEL_ad46bec773f34971ba6fb39fdb7f9f7c"
            ]
          }
        },
        "0c508ca924fc4f598a6f6137aa381129": {
          "model_module": "@jupyter-widgets/base",
          "model_name": "LayoutModel",
          "model_module_version": "1.2.0",
          "state": {
            "_view_name": "LayoutView",
            "grid_template_rows": null,
            "right": null,
            "justify_content": null,
            "_view_module": "@jupyter-widgets/base",
            "overflow": null,
            "_model_module_version": "1.2.0",
            "_view_count": null,
            "flex_flow": null,
            "width": null,
            "min_width": null,
            "border": null,
            "align_items": null,
            "bottom": null,
            "_model_module": "@jupyter-widgets/base",
            "top": null,
            "grid_column": null,
            "overflow_y": null,
            "overflow_x": null,
            "grid_auto_flow": null,
            "grid_area": null,
            "grid_template_columns": null,
            "flex": null,
            "_model_name": "LayoutModel",
            "justify_items": null,
            "grid_row": null,
            "max_height": null,
            "align_content": null,
            "visibility": null,
            "align_self": null,
            "height": null,
            "min_height": null,
            "padding": null,
            "grid_auto_rows": null,
            "grid_gap": null,
            "max_width": null,
            "order": null,
            "_view_module_version": "1.2.0",
            "grid_template_areas": null,
            "object_position": null,
            "object_fit": null,
            "grid_auto_columns": null,
            "margin": null,
            "display": null,
            "left": null
          }
        },
        "4282939dfda44bfb93504ba68356d2ef": {
          "model_module": "@jupyter-widgets/controls",
          "model_name": "HTMLModel",
          "model_module_version": "1.5.0",
          "state": {
            "_view_name": "HTMLView",
            "style": "IPY_MODEL_36abe8cb27f648cca5d1ea9a83ed081c",
            "_dom_classes": [],
            "description": "",
            "_model_name": "HTMLModel",
            "placeholder": "​",
            "_view_module": "@jupyter-widgets/controls",
            "_model_module_version": "1.5.0",
            "value": "Downloading: 100%",
            "_view_count": null,
            "_view_module_version": "1.5.0",
            "description_tooltip": null,
            "_model_module": "@jupyter-widgets/controls",
            "layout": "IPY_MODEL_e24e4af42ce4406caca4e73533c3e9e6"
          }
        },
        "90a190d70c8541c4bd679c540568db62": {
          "model_module": "@jupyter-widgets/controls",
          "model_name": "FloatProgressModel",
          "model_module_version": "1.5.0",
          "state": {
            "_view_name": "ProgressView",
            "style": "IPY_MODEL_9c9e260a7a694af7931369bf0c9b2145",
            "_dom_classes": [],
            "description": "",
            "_model_name": "FloatProgressModel",
            "bar_style": "success",
            "max": 862,
            "_view_module": "@jupyter-widgets/controls",
            "_model_module_version": "1.5.0",
            "value": 862,
            "_view_count": null,
            "_view_module_version": "1.5.0",
            "orientation": "horizontal",
            "min": 0,
            "description_tooltip": null,
            "_model_module": "@jupyter-widgets/controls",
            "layout": "IPY_MODEL_85bf5e86dc154f578fef5cc8e564c208"
          }
        },
        "ad46bec773f34971ba6fb39fdb7f9f7c": {
          "model_module": "@jupyter-widgets/controls",
          "model_name": "HTMLModel",
          "model_module_version": "1.5.0",
          "state": {
            "_view_name": "HTMLView",
            "style": "IPY_MODEL_11d282a046dd409fa550994a5eb1b9a8",
            "_dom_classes": [],
            "description": "",
            "_model_name": "HTMLModel",
            "placeholder": "​",
            "_view_module": "@jupyter-widgets/controls",
            "_model_module_version": "1.5.0",
            "value": " 862/862 [00:00&lt;00:00, 18.9kB/s]",
            "_view_count": null,
            "_view_module_version": "1.5.0",
            "description_tooltip": null,
            "_model_module": "@jupyter-widgets/controls",
            "layout": "IPY_MODEL_0e41f002dd524e3c979f4cd9285665ba"
          }
        },
        "36abe8cb27f648cca5d1ea9a83ed081c": {
          "model_module": "@jupyter-widgets/controls",
          "model_name": "DescriptionStyleModel",
          "model_module_version": "1.5.0",
          "state": {
            "_view_name": "StyleView",
            "_model_name": "DescriptionStyleModel",
            "description_width": "",
            "_view_module": "@jupyter-widgets/base",
            "_model_module_version": "1.5.0",
            "_view_count": null,
            "_view_module_version": "1.2.0",
            "_model_module": "@jupyter-widgets/controls"
          }
        },
        "e24e4af42ce4406caca4e73533c3e9e6": {
          "model_module": "@jupyter-widgets/base",
          "model_name": "LayoutModel",
          "model_module_version": "1.2.0",
          "state": {
            "_view_name": "LayoutView",
            "grid_template_rows": null,
            "right": null,
            "justify_content": null,
            "_view_module": "@jupyter-widgets/base",
            "overflow": null,
            "_model_module_version": "1.2.0",
            "_view_count": null,
            "flex_flow": null,
            "width": null,
            "min_width": null,
            "border": null,
            "align_items": null,
            "bottom": null,
            "_model_module": "@jupyter-widgets/base",
            "top": null,
            "grid_column": null,
            "overflow_y": null,
            "overflow_x": null,
            "grid_auto_flow": null,
            "grid_area": null,
            "grid_template_columns": null,
            "flex": null,
            "_model_name": "LayoutModel",
            "justify_items": null,
            "grid_row": null,
            "max_height": null,
            "align_content": null,
            "visibility": null,
            "align_self": null,
            "height": null,
            "min_height": null,
            "padding": null,
            "grid_auto_rows": null,
            "grid_gap": null,
            "max_width": null,
            "order": null,
            "_view_module_version": "1.2.0",
            "grid_template_areas": null,
            "object_position": null,
            "object_fit": null,
            "grid_auto_columns": null,
            "margin": null,
            "display": null,
            "left": null
          }
        },
        "9c9e260a7a694af7931369bf0c9b2145": {
          "model_module": "@jupyter-widgets/controls",
          "model_name": "ProgressStyleModel",
          "model_module_version": "1.5.0",
          "state": {
            "_view_name": "StyleView",
            "_model_name": "ProgressStyleModel",
            "description_width": "",
            "_view_module": "@jupyter-widgets/base",
            "_model_module_version": "1.5.0",
            "_view_count": null,
            "_view_module_version": "1.2.0",
            "bar_color": null,
            "_model_module": "@jupyter-widgets/controls"
          }
        },
        "85bf5e86dc154f578fef5cc8e564c208": {
          "model_module": "@jupyter-widgets/base",
          "model_name": "LayoutModel",
          "model_module_version": "1.2.0",
          "state": {
            "_view_name": "LayoutView",
            "grid_template_rows": null,
            "right": null,
            "justify_content": null,
            "_view_module": "@jupyter-widgets/base",
            "overflow": null,
            "_model_module_version": "1.2.0",
            "_view_count": null,
            "flex_flow": null,
            "width": null,
            "min_width": null,
            "border": null,
            "align_items": null,
            "bottom": null,
            "_model_module": "@jupyter-widgets/base",
            "top": null,
            "grid_column": null,
            "overflow_y": null,
            "overflow_x": null,
            "grid_auto_flow": null,
            "grid_area": null,
            "grid_template_columns": null,
            "flex": null,
            "_model_name": "LayoutModel",
            "justify_items": null,
            "grid_row": null,
            "max_height": null,
            "align_content": null,
            "visibility": null,
            "align_self": null,
            "height": null,
            "min_height": null,
            "padding": null,
            "grid_auto_rows": null,
            "grid_gap": null,
            "max_width": null,
            "order": null,
            "_view_module_version": "1.2.0",
            "grid_template_areas": null,
            "object_position": null,
            "object_fit": null,
            "grid_auto_columns": null,
            "margin": null,
            "display": null,
            "left": null
          }
        },
        "11d282a046dd409fa550994a5eb1b9a8": {
          "model_module": "@jupyter-widgets/controls",
          "model_name": "DescriptionStyleModel",
          "model_module_version": "1.5.0",
          "state": {
            "_view_name": "StyleView",
            "_model_name": "DescriptionStyleModel",
            "description_width": "",
            "_view_module": "@jupyter-widgets/base",
            "_model_module_version": "1.5.0",
            "_view_count": null,
            "_view_module_version": "1.2.0",
            "_model_module": "@jupyter-widgets/controls"
          }
        },
        "0e41f002dd524e3c979f4cd9285665ba": {
          "model_module": "@jupyter-widgets/base",
          "model_name": "LayoutModel",
          "model_module_version": "1.2.0",
          "state": {
            "_view_name": "LayoutView",
            "grid_template_rows": null,
            "right": null,
            "justify_content": null,
            "_view_module": "@jupyter-widgets/base",
            "overflow": null,
            "_model_module_version": "1.2.0",
            "_view_count": null,
            "flex_flow": null,
            "width": null,
            "min_width": null,
            "border": null,
            "align_items": null,
            "bottom": null,
            "_model_module": "@jupyter-widgets/base",
            "top": null,
            "grid_column": null,
            "overflow_y": null,
            "overflow_x": null,
            "grid_auto_flow": null,
            "grid_area": null,
            "grid_template_columns": null,
            "flex": null,
            "_model_name": "LayoutModel",
            "justify_items": null,
            "grid_row": null,
            "max_height": null,
            "align_content": null,
            "visibility": null,
            "align_self": null,
            "height": null,
            "min_height": null,
            "padding": null,
            "grid_auto_rows": null,
            "grid_gap": null,
            "max_width": null,
            "order": null,
            "_view_module_version": "1.2.0",
            "grid_template_areas": null,
            "object_position": null,
            "object_fit": null,
            "grid_auto_columns": null,
            "margin": null,
            "display": null,
            "left": null
          }
        },
        "c54f3ff67f2546ab8238fded899924ce": {
          "model_module": "@jupyter-widgets/controls",
          "model_name": "HBoxModel",
          "model_module_version": "1.5.0",
          "state": {
            "_view_name": "HBoxView",
            "_dom_classes": [],
            "_model_name": "HBoxModel",
            "_view_module": "@jupyter-widgets/controls",
            "_model_module_version": "1.5.0",
            "_view_count": null,
            "_view_module_version": "1.5.0",
            "box_style": "",
            "layout": "IPY_MODEL_5625e6f79e8c47cd881e833b71e6c014",
            "_model_module": "@jupyter-widgets/controls",
            "children": [
              "IPY_MODEL_346352fa85b447ef970ea9b3793d4e11",
              "IPY_MODEL_c3e6f5ad11d64ec787715a4549184959",
              "IPY_MODEL_97211b53c2f84aa0bd4026984010f033"
            ]
          }
        },
        "5625e6f79e8c47cd881e833b71e6c014": {
          "model_module": "@jupyter-widgets/base",
          "model_name": "LayoutModel",
          "model_module_version": "1.2.0",
          "state": {
            "_view_name": "LayoutView",
            "grid_template_rows": null,
            "right": null,
            "justify_content": null,
            "_view_module": "@jupyter-widgets/base",
            "overflow": null,
            "_model_module_version": "1.2.0",
            "_view_count": null,
            "flex_flow": null,
            "width": null,
            "min_width": null,
            "border": null,
            "align_items": null,
            "bottom": null,
            "_model_module": "@jupyter-widgets/base",
            "top": null,
            "grid_column": null,
            "overflow_y": null,
            "overflow_x": null,
            "grid_auto_flow": null,
            "grid_area": null,
            "grid_template_columns": null,
            "flex": null,
            "_model_name": "LayoutModel",
            "justify_items": null,
            "grid_row": null,
            "max_height": null,
            "align_content": null,
            "visibility": null,
            "align_self": null,
            "height": null,
            "min_height": null,
            "padding": null,
            "grid_auto_rows": null,
            "grid_gap": null,
            "max_width": null,
            "order": null,
            "_view_module_version": "1.2.0",
            "grid_template_areas": null,
            "object_position": null,
            "object_fit": null,
            "grid_auto_columns": null,
            "margin": null,
            "display": null,
            "left": null
          }
        },
        "346352fa85b447ef970ea9b3793d4e11": {
          "model_module": "@jupyter-widgets/controls",
          "model_name": "HTMLModel",
          "model_module_version": "1.5.0",
          "state": {
            "_view_name": "HTMLView",
            "style": "IPY_MODEL_a62a25f533b8467989fda0b65a476aa1",
            "_dom_classes": [],
            "description": "",
            "_model_name": "HTMLModel",
            "placeholder": "​",
            "_view_module": "@jupyter-widgets/controls",
            "_model_module_version": "1.5.0",
            "value": "Downloading: 100%",
            "_view_count": null,
            "_view_module_version": "1.5.0",
            "description_tooltip": null,
            "_model_module": "@jupyter-widgets/controls",
            "layout": "IPY_MODEL_ae0502c90b634b96ab552396f9ce8a06"
          }
        },
        "c3e6f5ad11d64ec787715a4549184959": {
          "model_module": "@jupyter-widgets/controls",
          "model_name": "FloatProgressModel",
          "model_module_version": "1.5.0",
          "state": {
            "_view_name": "ProgressView",
            "style": "IPY_MODEL_285f58eb40b746b991de75ca656365a1",
            "_dom_classes": [],
            "description": "",
            "_model_name": "FloatProgressModel",
            "bar_style": "success",
            "max": 209528,
            "_view_module": "@jupyter-widgets/controls",
            "_model_module_version": "1.5.0",
            "value": 209528,
            "_view_count": null,
            "_view_module_version": "1.5.0",
            "orientation": "horizontal",
            "min": 0,
            "description_tooltip": null,
            "_model_module": "@jupyter-widgets/controls",
            "layout": "IPY_MODEL_a7341db7724f41d1a37e2a8b253d3891"
          }
        },
        "97211b53c2f84aa0bd4026984010f033": {
          "model_module": "@jupyter-widgets/controls",
          "model_name": "HTMLModel",
          "model_module_version": "1.5.0",
          "state": {
            "_view_name": "HTMLView",
            "style": "IPY_MODEL_3f9d0bf143934e2098b9cc7a6f76e26e",
            "_dom_classes": [],
            "description": "",
            "_model_name": "HTMLModel",
            "placeholder": "​",
            "_view_module": "@jupyter-widgets/controls",
            "_model_module_version": "1.5.0",
            "value": " 205k/205k [00:00&lt;00:00, 2.11MB/s]",
            "_view_count": null,
            "_view_module_version": "1.5.0",
            "description_tooltip": null,
            "_model_module": "@jupyter-widgets/controls",
            "layout": "IPY_MODEL_acc7e51b97b4425f976c3edf255d7357"
          }
        },
        "a62a25f533b8467989fda0b65a476aa1": {
          "model_module": "@jupyter-widgets/controls",
          "model_name": "DescriptionStyleModel",
          "model_module_version": "1.5.0",
          "state": {
            "_view_name": "StyleView",
            "_model_name": "DescriptionStyleModel",
            "description_width": "",
            "_view_module": "@jupyter-widgets/base",
            "_model_module_version": "1.5.0",
            "_view_count": null,
            "_view_module_version": "1.2.0",
            "_model_module": "@jupyter-widgets/controls"
          }
        },
        "ae0502c90b634b96ab552396f9ce8a06": {
          "model_module": "@jupyter-widgets/base",
          "model_name": "LayoutModel",
          "model_module_version": "1.2.0",
          "state": {
            "_view_name": "LayoutView",
            "grid_template_rows": null,
            "right": null,
            "justify_content": null,
            "_view_module": "@jupyter-widgets/base",
            "overflow": null,
            "_model_module_version": "1.2.0",
            "_view_count": null,
            "flex_flow": null,
            "width": null,
            "min_width": null,
            "border": null,
            "align_items": null,
            "bottom": null,
            "_model_module": "@jupyter-widgets/base",
            "top": null,
            "grid_column": null,
            "overflow_y": null,
            "overflow_x": null,
            "grid_auto_flow": null,
            "grid_area": null,
            "grid_template_columns": null,
            "flex": null,
            "_model_name": "LayoutModel",
            "justify_items": null,
            "grid_row": null,
            "max_height": null,
            "align_content": null,
            "visibility": null,
            "align_self": null,
            "height": null,
            "min_height": null,
            "padding": null,
            "grid_auto_rows": null,
            "grid_gap": null,
            "max_width": null,
            "order": null,
            "_view_module_version": "1.2.0",
            "grid_template_areas": null,
            "object_position": null,
            "object_fit": null,
            "grid_auto_columns": null,
            "margin": null,
            "display": null,
            "left": null
          }
        },
        "285f58eb40b746b991de75ca656365a1": {
          "model_module": "@jupyter-widgets/controls",
          "model_name": "ProgressStyleModel",
          "model_module_version": "1.5.0",
          "state": {
            "_view_name": "StyleView",
            "_model_name": "ProgressStyleModel",
            "description_width": "",
            "_view_module": "@jupyter-widgets/base",
            "_model_module_version": "1.5.0",
            "_view_count": null,
            "_view_module_version": "1.2.0",
            "bar_color": null,
            "_model_module": "@jupyter-widgets/controls"
          }
        },
        "a7341db7724f41d1a37e2a8b253d3891": {
          "model_module": "@jupyter-widgets/base",
          "model_name": "LayoutModel",
          "model_module_version": "1.2.0",
          "state": {
            "_view_name": "LayoutView",
            "grid_template_rows": null,
            "right": null,
            "justify_content": null,
            "_view_module": "@jupyter-widgets/base",
            "overflow": null,
            "_model_module_version": "1.2.0",
            "_view_count": null,
            "flex_flow": null,
            "width": null,
            "min_width": null,
            "border": null,
            "align_items": null,
            "bottom": null,
            "_model_module": "@jupyter-widgets/base",
            "top": null,
            "grid_column": null,
            "overflow_y": null,
            "overflow_x": null,
            "grid_auto_flow": null,
            "grid_area": null,
            "grid_template_columns": null,
            "flex": null,
            "_model_name": "LayoutModel",
            "justify_items": null,
            "grid_row": null,
            "max_height": null,
            "align_content": null,
            "visibility": null,
            "align_self": null,
            "height": null,
            "min_height": null,
            "padding": null,
            "grid_auto_rows": null,
            "grid_gap": null,
            "max_width": null,
            "order": null,
            "_view_module_version": "1.2.0",
            "grid_template_areas": null,
            "object_position": null,
            "object_fit": null,
            "grid_auto_columns": null,
            "margin": null,
            "display": null,
            "left": null
          }
        },
        "3f9d0bf143934e2098b9cc7a6f76e26e": {
          "model_module": "@jupyter-widgets/controls",
          "model_name": "DescriptionStyleModel",
          "model_module_version": "1.5.0",
          "state": {
            "_view_name": "StyleView",
            "_model_name": "DescriptionStyleModel",
            "description_width": "",
            "_view_module": "@jupyter-widgets/base",
            "_model_module_version": "1.5.0",
            "_view_count": null,
            "_view_module_version": "1.2.0",
            "_model_module": "@jupyter-widgets/controls"
          }
        },
        "acc7e51b97b4425f976c3edf255d7357": {
          "model_module": "@jupyter-widgets/base",
          "model_name": "LayoutModel",
          "model_module_version": "1.2.0",
          "state": {
            "_view_name": "LayoutView",
            "grid_template_rows": null,
            "right": null,
            "justify_content": null,
            "_view_module": "@jupyter-widgets/base",
            "overflow": null,
            "_model_module_version": "1.2.0",
            "_view_count": null,
            "flex_flow": null,
            "width": null,
            "min_width": null,
            "border": null,
            "align_items": null,
            "bottom": null,
            "_model_module": "@jupyter-widgets/base",
            "top": null,
            "grid_column": null,
            "overflow_y": null,
            "overflow_x": null,
            "grid_auto_flow": null,
            "grid_area": null,
            "grid_template_columns": null,
            "flex": null,
            "_model_name": "LayoutModel",
            "justify_items": null,
            "grid_row": null,
            "max_height": null,
            "align_content": null,
            "visibility": null,
            "align_self": null,
            "height": null,
            "min_height": null,
            "padding": null,
            "grid_auto_rows": null,
            "grid_gap": null,
            "max_width": null,
            "order": null,
            "_view_module_version": "1.2.0",
            "grid_template_areas": null,
            "object_position": null,
            "object_fit": null,
            "grid_auto_columns": null,
            "margin": null,
            "display": null,
            "left": null
          }
        },
        "b3be362b07a94456bc27bbe43db80ae4": {
          "model_module": "@jupyter-widgets/controls",
          "model_name": "HBoxModel",
          "model_module_version": "1.5.0",
          "state": {
            "_view_name": "HBoxView",
            "_dom_classes": [],
            "_model_name": "HBoxModel",
            "_view_module": "@jupyter-widgets/controls",
            "_model_module_version": "1.5.0",
            "_view_count": null,
            "_view_module_version": "1.5.0",
            "box_style": "",
            "layout": "IPY_MODEL_a5f91cf0a6f44e0b8a24e204d3170335",
            "_model_module": "@jupyter-widgets/controls",
            "children": [
              "IPY_MODEL_b32925b4ce2e4de0941f4abf15626df6",
              "IPY_MODEL_c01e0d7df5184711a27a681275200c57",
              "IPY_MODEL_8d74c887fc844194b29d6fae324a70a0"
            ]
          }
        },
        "a5f91cf0a6f44e0b8a24e204d3170335": {
          "model_module": "@jupyter-widgets/base",
          "model_name": "LayoutModel",
          "model_module_version": "1.2.0",
          "state": {
            "_view_name": "LayoutView",
            "grid_template_rows": null,
            "right": null,
            "justify_content": null,
            "_view_module": "@jupyter-widgets/base",
            "overflow": null,
            "_model_module_version": "1.2.0",
            "_view_count": null,
            "flex_flow": null,
            "width": null,
            "min_width": null,
            "border": null,
            "align_items": null,
            "bottom": null,
            "_model_module": "@jupyter-widgets/base",
            "top": null,
            "grid_column": null,
            "overflow_y": null,
            "overflow_x": null,
            "grid_auto_flow": null,
            "grid_area": null,
            "grid_template_columns": null,
            "flex": null,
            "_model_name": "LayoutModel",
            "justify_items": null,
            "grid_row": null,
            "max_height": null,
            "align_content": null,
            "visibility": null,
            "align_self": null,
            "height": null,
            "min_height": null,
            "padding": null,
            "grid_auto_rows": null,
            "grid_gap": null,
            "max_width": null,
            "order": null,
            "_view_module_version": "1.2.0",
            "grid_template_areas": null,
            "object_position": null,
            "object_fit": null,
            "grid_auto_columns": null,
            "margin": null,
            "display": null,
            "left": null
          }
        },
        "b32925b4ce2e4de0941f4abf15626df6": {
          "model_module": "@jupyter-widgets/controls",
          "model_name": "HTMLModel",
          "model_module_version": "1.5.0",
          "state": {
            "_view_name": "HTMLView",
            "style": "IPY_MODEL_7f4211d36cfd4d1d824b4cda914fd98f",
            "_dom_classes": [],
            "description": "",
            "_model_name": "HTMLModel",
            "placeholder": "​",
            "_view_module": "@jupyter-widgets/controls",
            "_model_module_version": "1.5.0",
            "value": "Downloading: 100%",
            "_view_count": null,
            "_view_module_version": "1.5.0",
            "description_tooltip": null,
            "_model_module": "@jupyter-widgets/controls",
            "layout": "IPY_MODEL_07220d51a74648688888a2dbe0380f82"
          }
        },
        "c01e0d7df5184711a27a681275200c57": {
          "model_module": "@jupyter-widgets/controls",
          "model_name": "FloatProgressModel",
          "model_module_version": "1.5.0",
          "state": {
            "_view_name": "ProgressView",
            "style": "IPY_MODEL_c85d841e183f4852bd5e21759c083ac2",
            "_dom_classes": [],
            "description": "",
            "_model_name": "FloatProgressModel",
            "bar_style": "success",
            "max": 112,
            "_view_module": "@jupyter-widgets/controls",
            "_model_module_version": "1.5.0",
            "value": 112,
            "_view_count": null,
            "_view_module_version": "1.5.0",
            "orientation": "horizontal",
            "min": 0,
            "description_tooltip": null,
            "_model_module": "@jupyter-widgets/controls",
            "layout": "IPY_MODEL_3aea8d9abc914b7a9cb271a310e88a33"
          }
        },
        "8d74c887fc844194b29d6fae324a70a0": {
          "model_module": "@jupyter-widgets/controls",
          "model_name": "HTMLModel",
          "model_module_version": "1.5.0",
          "state": {
            "_view_name": "HTMLView",
            "style": "IPY_MODEL_6d6fb024a7dd4d618874a44e031a7532",
            "_dom_classes": [],
            "description": "",
            "_model_name": "HTMLModel",
            "placeholder": "​",
            "_view_module": "@jupyter-widgets/controls",
            "_model_module_version": "1.5.0",
            "value": " 112/112 [00:00&lt;00:00, 1.97kB/s]",
            "_view_count": null,
            "_view_module_version": "1.5.0",
            "description_tooltip": null,
            "_model_module": "@jupyter-widgets/controls",
            "layout": "IPY_MODEL_3795f71d852e4107b081184e9fe21251"
          }
        },
        "7f4211d36cfd4d1d824b4cda914fd98f": {
          "model_module": "@jupyter-widgets/controls",
          "model_name": "DescriptionStyleModel",
          "model_module_version": "1.5.0",
          "state": {
            "_view_name": "StyleView",
            "_model_name": "DescriptionStyleModel",
            "description_width": "",
            "_view_module": "@jupyter-widgets/base",
            "_model_module_version": "1.5.0",
            "_view_count": null,
            "_view_module_version": "1.2.0",
            "_model_module": "@jupyter-widgets/controls"
          }
        },
        "07220d51a74648688888a2dbe0380f82": {
          "model_module": "@jupyter-widgets/base",
          "model_name": "LayoutModel",
          "model_module_version": "1.2.0",
          "state": {
            "_view_name": "LayoutView",
            "grid_template_rows": null,
            "right": null,
            "justify_content": null,
            "_view_module": "@jupyter-widgets/base",
            "overflow": null,
            "_model_module_version": "1.2.0",
            "_view_count": null,
            "flex_flow": null,
            "width": null,
            "min_width": null,
            "border": null,
            "align_items": null,
            "bottom": null,
            "_model_module": "@jupyter-widgets/base",
            "top": null,
            "grid_column": null,
            "overflow_y": null,
            "overflow_x": null,
            "grid_auto_flow": null,
            "grid_area": null,
            "grid_template_columns": null,
            "flex": null,
            "_model_name": "LayoutModel",
            "justify_items": null,
            "grid_row": null,
            "max_height": null,
            "align_content": null,
            "visibility": null,
            "align_self": null,
            "height": null,
            "min_height": null,
            "padding": null,
            "grid_auto_rows": null,
            "grid_gap": null,
            "max_width": null,
            "order": null,
            "_view_module_version": "1.2.0",
            "grid_template_areas": null,
            "object_position": null,
            "object_fit": null,
            "grid_auto_columns": null,
            "margin": null,
            "display": null,
            "left": null
          }
        },
        "c85d841e183f4852bd5e21759c083ac2": {
          "model_module": "@jupyter-widgets/controls",
          "model_name": "ProgressStyleModel",
          "model_module_version": "1.5.0",
          "state": {
            "_view_name": "StyleView",
            "_model_name": "ProgressStyleModel",
            "description_width": "",
            "_view_module": "@jupyter-widgets/base",
            "_model_module_version": "1.5.0",
            "_view_count": null,
            "_view_module_version": "1.2.0",
            "bar_color": null,
            "_model_module": "@jupyter-widgets/controls"
          }
        },
        "3aea8d9abc914b7a9cb271a310e88a33": {
          "model_module": "@jupyter-widgets/base",
          "model_name": "LayoutModel",
          "model_module_version": "1.2.0",
          "state": {
            "_view_name": "LayoutView",
            "grid_template_rows": null,
            "right": null,
            "justify_content": null,
            "_view_module": "@jupyter-widgets/base",
            "overflow": null,
            "_model_module_version": "1.2.0",
            "_view_count": null,
            "flex_flow": null,
            "width": null,
            "min_width": null,
            "border": null,
            "align_items": null,
            "bottom": null,
            "_model_module": "@jupyter-widgets/base",
            "top": null,
            "grid_column": null,
            "overflow_y": null,
            "overflow_x": null,
            "grid_auto_flow": null,
            "grid_area": null,
            "grid_template_columns": null,
            "flex": null,
            "_model_name": "LayoutModel",
            "justify_items": null,
            "grid_row": null,
            "max_height": null,
            "align_content": null,
            "visibility": null,
            "align_self": null,
            "height": null,
            "min_height": null,
            "padding": null,
            "grid_auto_rows": null,
            "grid_gap": null,
            "max_width": null,
            "order": null,
            "_view_module_version": "1.2.0",
            "grid_template_areas": null,
            "object_position": null,
            "object_fit": null,
            "grid_auto_columns": null,
            "margin": null,
            "display": null,
            "left": null
          }
        },
        "6d6fb024a7dd4d618874a44e031a7532": {
          "model_module": "@jupyter-widgets/controls",
          "model_name": "DescriptionStyleModel",
          "model_module_version": "1.5.0",
          "state": {
            "_view_name": "StyleView",
            "_model_name": "DescriptionStyleModel",
            "description_width": "",
            "_view_module": "@jupyter-widgets/base",
            "_model_module_version": "1.5.0",
            "_view_count": null,
            "_view_module_version": "1.2.0",
            "_model_module": "@jupyter-widgets/controls"
          }
        },
        "3795f71d852e4107b081184e9fe21251": {
          "model_module": "@jupyter-widgets/base",
          "model_name": "LayoutModel",
          "model_module_version": "1.2.0",
          "state": {
            "_view_name": "LayoutView",
            "grid_template_rows": null,
            "right": null,
            "justify_content": null,
            "_view_module": "@jupyter-widgets/base",
            "overflow": null,
            "_model_module_version": "1.2.0",
            "_view_count": null,
            "flex_flow": null,
            "width": null,
            "min_width": null,
            "border": null,
            "align_items": null,
            "bottom": null,
            "_model_module": "@jupyter-widgets/base",
            "top": null,
            "grid_column": null,
            "overflow_y": null,
            "overflow_x": null,
            "grid_auto_flow": null,
            "grid_area": null,
            "grid_template_columns": null,
            "flex": null,
            "_model_name": "LayoutModel",
            "justify_items": null,
            "grid_row": null,
            "max_height": null,
            "align_content": null,
            "visibility": null,
            "align_self": null,
            "height": null,
            "min_height": null,
            "padding": null,
            "grid_auto_rows": null,
            "grid_gap": null,
            "max_width": null,
            "order": null,
            "_view_module_version": "1.2.0",
            "grid_template_areas": null,
            "object_position": null,
            "object_fit": null,
            "grid_auto_columns": null,
            "margin": null,
            "display": null,
            "left": null
          }
        },
        "222288b79d464ae9aeb301b8a10ba665": {
          "model_module": "@jupyter-widgets/controls",
          "model_name": "HBoxModel",
          "model_module_version": "1.5.0",
          "state": {
            "_view_name": "HBoxView",
            "_dom_classes": [],
            "_model_name": "HBoxModel",
            "_view_module": "@jupyter-widgets/controls",
            "_model_module_version": "1.5.0",
            "_view_count": null,
            "_view_module_version": "1.5.0",
            "box_style": "",
            "layout": "IPY_MODEL_1c6db545aba04a0d813d32906a72f0fd",
            "_model_module": "@jupyter-widgets/controls",
            "children": [
              "IPY_MODEL_e408e4dc8e1e4e448f9999f044b247ee",
              "IPY_MODEL_4f98c3c53266463c99f05b4a39312cda",
              "IPY_MODEL_4686a293864c42c4b27b4e348a6cea92"
            ]
          }
        },
        "1c6db545aba04a0d813d32906a72f0fd": {
          "model_module": "@jupyter-widgets/base",
          "model_name": "LayoutModel",
          "model_module_version": "1.2.0",
          "state": {
            "_view_name": "LayoutView",
            "grid_template_rows": null,
            "right": null,
            "justify_content": null,
            "_view_module": "@jupyter-widgets/base",
            "overflow": null,
            "_model_module_version": "1.2.0",
            "_view_count": null,
            "flex_flow": null,
            "width": null,
            "min_width": null,
            "border": null,
            "align_items": null,
            "bottom": null,
            "_model_module": "@jupyter-widgets/base",
            "top": null,
            "grid_column": null,
            "overflow_y": null,
            "overflow_x": null,
            "grid_auto_flow": null,
            "grid_area": null,
            "grid_template_columns": null,
            "flex": null,
            "_model_name": "LayoutModel",
            "justify_items": null,
            "grid_row": null,
            "max_height": null,
            "align_content": null,
            "visibility": null,
            "align_self": null,
            "height": null,
            "min_height": null,
            "padding": null,
            "grid_auto_rows": null,
            "grid_gap": null,
            "max_width": null,
            "order": null,
            "_view_module_version": "1.2.0",
            "grid_template_areas": null,
            "object_position": null,
            "object_fit": null,
            "grid_auto_columns": null,
            "margin": null,
            "display": null,
            "left": null
          }
        },
        "e408e4dc8e1e4e448f9999f044b247ee": {
          "model_module": "@jupyter-widgets/controls",
          "model_name": "HTMLModel",
          "model_module_version": "1.5.0",
          "state": {
            "_view_name": "HTMLView",
            "style": "IPY_MODEL_44e93820c3264528b4afe862a858a01f",
            "_dom_classes": [],
            "description": "",
            "_model_name": "HTMLModel",
            "placeholder": "​",
            "_view_module": "@jupyter-widgets/controls",
            "_model_module_version": "1.5.0",
            "value": "Downloading: 100%",
            "_view_count": null,
            "_view_module_version": "1.5.0",
            "description_tooltip": null,
            "_model_module": "@jupyter-widgets/controls",
            "layout": "IPY_MODEL_726d9170e81b491a85719517f08545d5"
          }
        },
        "4f98c3c53266463c99f05b4a39312cda": {
          "model_module": "@jupyter-widgets/controls",
          "model_name": "FloatProgressModel",
          "model_module_version": "1.5.0",
          "state": {
            "_view_name": "ProgressView",
            "style": "IPY_MODEL_afb34d2ec42d4854b52e38546391d82d",
            "_dom_classes": [],
            "description": "",
            "_model_name": "FloatProgressModel",
            "bar_style": "success",
            "max": 433422856,
            "_view_module": "@jupyter-widgets/controls",
            "_model_module_version": "1.5.0",
            "value": 433422856,
            "_view_count": null,
            "_view_module_version": "1.5.0",
            "orientation": "horizontal",
            "min": 0,
            "description_tooltip": null,
            "_model_module": "@jupyter-widgets/controls",
            "layout": "IPY_MODEL_012e685c931d4e23bd0e09fcd2fe5297"
          }
        },
        "4686a293864c42c4b27b4e348a6cea92": {
          "model_module": "@jupyter-widgets/controls",
          "model_name": "HTMLModel",
          "model_module_version": "1.5.0",
          "state": {
            "_view_name": "HTMLView",
            "style": "IPY_MODEL_7d765c4348aa46dab0fbc1d25c4d04b0",
            "_dom_classes": [],
            "description": "",
            "_model_name": "HTMLModel",
            "placeholder": "​",
            "_view_module": "@jupyter-widgets/controls",
            "_model_module_version": "1.5.0",
            "value": " 413M/413M [00:10&lt;00:00, 42.4MB/s]",
            "_view_count": null,
            "_view_module_version": "1.5.0",
            "description_tooltip": null,
            "_model_module": "@jupyter-widgets/controls",
            "layout": "IPY_MODEL_a3ebc0adc6d943f5953b1afdf2cd0742"
          }
        },
        "44e93820c3264528b4afe862a858a01f": {
          "model_module": "@jupyter-widgets/controls",
          "model_name": "DescriptionStyleModel",
          "model_module_version": "1.5.0",
          "state": {
            "_view_name": "StyleView",
            "_model_name": "DescriptionStyleModel",
            "description_width": "",
            "_view_module": "@jupyter-widgets/base",
            "_model_module_version": "1.5.0",
            "_view_count": null,
            "_view_module_version": "1.2.0",
            "_model_module": "@jupyter-widgets/controls"
          }
        },
        "726d9170e81b491a85719517f08545d5": {
          "model_module": "@jupyter-widgets/base",
          "model_name": "LayoutModel",
          "model_module_version": "1.2.0",
          "state": {
            "_view_name": "LayoutView",
            "grid_template_rows": null,
            "right": null,
            "justify_content": null,
            "_view_module": "@jupyter-widgets/base",
            "overflow": null,
            "_model_module_version": "1.2.0",
            "_view_count": null,
            "flex_flow": null,
            "width": null,
            "min_width": null,
            "border": null,
            "align_items": null,
            "bottom": null,
            "_model_module": "@jupyter-widgets/base",
            "top": null,
            "grid_column": null,
            "overflow_y": null,
            "overflow_x": null,
            "grid_auto_flow": null,
            "grid_area": null,
            "grid_template_columns": null,
            "flex": null,
            "_model_name": "LayoutModel",
            "justify_items": null,
            "grid_row": null,
            "max_height": null,
            "align_content": null,
            "visibility": null,
            "align_self": null,
            "height": null,
            "min_height": null,
            "padding": null,
            "grid_auto_rows": null,
            "grid_gap": null,
            "max_width": null,
            "order": null,
            "_view_module_version": "1.2.0",
            "grid_template_areas": null,
            "object_position": null,
            "object_fit": null,
            "grid_auto_columns": null,
            "margin": null,
            "display": null,
            "left": null
          }
        },
        "afb34d2ec42d4854b52e38546391d82d": {
          "model_module": "@jupyter-widgets/controls",
          "model_name": "ProgressStyleModel",
          "model_module_version": "1.5.0",
          "state": {
            "_view_name": "StyleView",
            "_model_name": "ProgressStyleModel",
            "description_width": "",
            "_view_module": "@jupyter-widgets/base",
            "_model_module_version": "1.5.0",
            "_view_count": null,
            "_view_module_version": "1.2.0",
            "bar_color": null,
            "_model_module": "@jupyter-widgets/controls"
          }
        },
        "012e685c931d4e23bd0e09fcd2fe5297": {
          "model_module": "@jupyter-widgets/base",
          "model_name": "LayoutModel",
          "model_module_version": "1.2.0",
          "state": {
            "_view_name": "LayoutView",
            "grid_template_rows": null,
            "right": null,
            "justify_content": null,
            "_view_module": "@jupyter-widgets/base",
            "overflow": null,
            "_model_module_version": "1.2.0",
            "_view_count": null,
            "flex_flow": null,
            "width": null,
            "min_width": null,
            "border": null,
            "align_items": null,
            "bottom": null,
            "_model_module": "@jupyter-widgets/base",
            "top": null,
            "grid_column": null,
            "overflow_y": null,
            "overflow_x": null,
            "grid_auto_flow": null,
            "grid_area": null,
            "grid_template_columns": null,
            "flex": null,
            "_model_name": "LayoutModel",
            "justify_items": null,
            "grid_row": null,
            "max_height": null,
            "align_content": null,
            "visibility": null,
            "align_self": null,
            "height": null,
            "min_height": null,
            "padding": null,
            "grid_auto_rows": null,
            "grid_gap": null,
            "max_width": null,
            "order": null,
            "_view_module_version": "1.2.0",
            "grid_template_areas": null,
            "object_position": null,
            "object_fit": null,
            "grid_auto_columns": null,
            "margin": null,
            "display": null,
            "left": null
          }
        },
        "7d765c4348aa46dab0fbc1d25c4d04b0": {
          "model_module": "@jupyter-widgets/controls",
          "model_name": "DescriptionStyleModel",
          "model_module_version": "1.5.0",
          "state": {
            "_view_name": "StyleView",
            "_model_name": "DescriptionStyleModel",
            "description_width": "",
            "_view_module": "@jupyter-widgets/base",
            "_model_module_version": "1.5.0",
            "_view_count": null,
            "_view_module_version": "1.2.0",
            "_model_module": "@jupyter-widgets/controls"
          }
        },
        "a3ebc0adc6d943f5953b1afdf2cd0742": {
          "model_module": "@jupyter-widgets/base",
          "model_name": "LayoutModel",
          "model_module_version": "1.2.0",
          "state": {
            "_view_name": "LayoutView",
            "grid_template_rows": null,
            "right": null,
            "justify_content": null,
            "_view_module": "@jupyter-widgets/base",
            "overflow": null,
            "_model_module_version": "1.2.0",
            "_view_count": null,
            "flex_flow": null,
            "width": null,
            "min_width": null,
            "border": null,
            "align_items": null,
            "bottom": null,
            "_model_module": "@jupyter-widgets/base",
            "top": null,
            "grid_column": null,
            "overflow_y": null,
            "overflow_x": null,
            "grid_auto_flow": null,
            "grid_area": null,
            "grid_template_columns": null,
            "flex": null,
            "_model_name": "LayoutModel",
            "justify_items": null,
            "grid_row": null,
            "max_height": null,
            "align_content": null,
            "visibility": null,
            "align_self": null,
            "height": null,
            "min_height": null,
            "padding": null,
            "grid_auto_rows": null,
            "grid_gap": null,
            "max_width": null,
            "order": null,
            "_view_module_version": "1.2.0",
            "grid_template_areas": null,
            "object_position": null,
            "object_fit": null,
            "grid_auto_columns": null,
            "margin": null,
            "display": null,
            "left": null
          }
        }
      }
    }
  },
  "cells": [
    {
      "cell_type": "markdown",
      "metadata": {
        "id": "_hkUF5jx2Xxs"
      },
      "source": [
        "# Fast inference for Hugging Face tasks models on CPU (for example: QA model)"
      ]
    },
    {
      "cell_type": "markdown",
      "metadata": {
        "id": "mDmIlOqh3Cyh"
      },
      "source": [
        "- **Author**: [Pierre Guillou](https://www.linkedin.com/in/pierreguillou/)\n",
        "- **Version & Date** : v1 (10/22/2021)\n",
        "- **Blog post**: [NLP nas empresas | Técnicas para acelerar modelos de Deep Learning para inferência em produção]()\n",
        "- **Other notebook** : [fast_inference_transformers_on_GPU.ipynb]()\n"
      ]
    },
    {
      "cell_type": "markdown",
      "metadata": {
        "id": "FREHU6cIboN8"
      },
      "source": [
        "## Notebook overview"
      ]
    },
    {
      "cell_type": "markdown",
      "metadata": {
        "id": "vre_6Zjfbq_s"
      },
      "source": [
        "### Objective\n",
        "The objective of this notebook is to help those who want to **accelerate inference time on CPU for tasks models of Hugging Face** (NER, QA, Classification...).\n",
        "\n",
        "### Method for inference\n",
        "\n",
        "source: https://discuss.pytorch.org/t/model-eval-vs-with-torch-no-grad/19615/2\n",
        "\n",
        "- `model.eval()` will notify all your layers that you are in eval mode, that way, batchnorm or dropout layers will work in eval mode instead of training mode.\n",
        "- `torch.no_grad()` impacts the autograd engine and deactivate it. It will reduce memory usage and speed up computations but you won’t be able to backprop (which you don’t want in an eval script).\n",
        "\n",
        "### References\n",
        "- post blog from HF and Microsoft: [Accelerate your NLP pipelines using Hugging Face Transformers and ONNX Runtime](https://medium.com/microsoftazure/accelerate-your-nlp-pipelines-using-hugging-face-transformers-and-onnx-runtime-2443578f4333) (19/05/2020)"
      ]
    },
    {
      "cell_type": "markdown",
      "metadata": {
        "id": "DNmi0bXikgM3"
      },
      "source": [
        "## System overview"
      ]
    },
    {
      "cell_type": "code",
      "metadata": {
        "colab": {
          "base_uri": "https://localhost:8080/",
          "height": 35
        },
        "id": "ov7T5Sk_pL_B",
        "outputId": "bebf6a56-de31-4852-aef5-807f08861093"
      },
      "source": [
        "import platform\n",
        "platform.platform()"
      ],
      "execution_count": 1,
      "outputs": [
        {
          "output_type": "execute_result",
          "data": {
            "application/vnd.google.colaboratory.intrinsic+json": {
              "type": "string"
            },
            "text/plain": [
              "'Linux-5.4.104+-x86_64-with-Ubuntu-18.04-bionic'"
            ]
          },
          "metadata": {},
          "execution_count": 1
        }
      ]
    },
    {
      "cell_type": "markdown",
      "metadata": {
        "id": "VvdQxXRHiXHL"
      },
      "source": [
        "### CPU"
      ]
    },
    {
      "cell_type": "code",
      "metadata": {
        "id": "3ViMgMkxklj7"
      },
      "source": [
        "from psutil import *"
      ],
      "execution_count": 2,
      "outputs": []
    },
    {
      "cell_type": "code",
      "metadata": {
        "colab": {
          "base_uri": "https://localhost:8080/"
        },
        "id": "dBjiK-_tkntn",
        "outputId": "b3e39cd1-85db-493b-8e65-f1cddebf4115"
      },
      "source": [
        "cpu_count(),cpu_stats()"
      ],
      "execution_count": 3,
      "outputs": [
        {
          "output_type": "execute_result",
          "data": {
            "text/plain": [
              "(2,\n",
              " scpustats(ctx_switches=428611, interrupts=201695, soft_interrupts=213679, syscalls=0))"
            ]
          },
          "metadata": {},
          "execution_count": 3
        }
      ]
    },
    {
      "cell_type": "code",
      "metadata": {
        "colab": {
          "base_uri": "https://localhost:8080/"
        },
        "id": "SnzYmVM4kuwl",
        "outputId": "402a1d03-1424-485b-aa74-69bb5e01770c"
      },
      "source": [
        "!cat /proc/cpuinfo"
      ],
      "execution_count": 4,
      "outputs": [
        {
          "output_type": "stream",
          "name": "stdout",
          "text": [
            "processor\t: 0\n",
            "vendor_id\t: GenuineIntel\n",
            "cpu family\t: 6\n",
            "model\t\t: 79\n",
            "model name\t: Intel(R) Xeon(R) CPU @ 2.20GHz\n",
            "stepping\t: 0\n",
            "microcode\t: 0x1\n",
            "cpu MHz\t\t: 2199.998\n",
            "cache size\t: 56320 KB\n",
            "physical id\t: 0\n",
            "siblings\t: 2\n",
            "core id\t\t: 0\n",
            "cpu cores\t: 1\n",
            "apicid\t\t: 0\n",
            "initial apicid\t: 0\n",
            "fpu\t\t: yes\n",
            "fpu_exception\t: yes\n",
            "cpuid level\t: 13\n",
            "wp\t\t: yes\n",
            "flags\t\t: fpu vme de pse tsc msr pae mce cx8 apic sep mtrr pge mca cmov pat pse36 clflush mmx fxsr sse sse2 ss ht syscall nx pdpe1gb rdtscp lm constant_tsc rep_good nopl xtopology nonstop_tsc cpuid tsc_known_freq pni pclmulqdq ssse3 fma cx16 pcid sse4_1 sse4_2 x2apic movbe popcnt aes xsave avx f16c rdrand hypervisor lahf_lm abm 3dnowprefetch invpcid_single ssbd ibrs ibpb stibp fsgsbase tsc_adjust bmi1 hle avx2 smep bmi2 erms invpcid rtm rdseed adx smap xsaveopt arat md_clear arch_capabilities\n",
            "bugs\t\t: cpu_meltdown spectre_v1 spectre_v2 spec_store_bypass l1tf mds swapgs taa\n",
            "bogomips\t: 4399.99\n",
            "clflush size\t: 64\n",
            "cache_alignment\t: 64\n",
            "address sizes\t: 46 bits physical, 48 bits virtual\n",
            "power management:\n",
            "\n",
            "processor\t: 1\n",
            "vendor_id\t: GenuineIntel\n",
            "cpu family\t: 6\n",
            "model\t\t: 79\n",
            "model name\t: Intel(R) Xeon(R) CPU @ 2.20GHz\n",
            "stepping\t: 0\n",
            "microcode\t: 0x1\n",
            "cpu MHz\t\t: 2199.998\n",
            "cache size\t: 56320 KB\n",
            "physical id\t: 0\n",
            "siblings\t: 2\n",
            "core id\t\t: 0\n",
            "cpu cores\t: 1\n",
            "apicid\t\t: 1\n",
            "initial apicid\t: 1\n",
            "fpu\t\t: yes\n",
            "fpu_exception\t: yes\n",
            "cpuid level\t: 13\n",
            "wp\t\t: yes\n",
            "flags\t\t: fpu vme de pse tsc msr pae mce cx8 apic sep mtrr pge mca cmov pat pse36 clflush mmx fxsr sse sse2 ss ht syscall nx pdpe1gb rdtscp lm constant_tsc rep_good nopl xtopology nonstop_tsc cpuid tsc_known_freq pni pclmulqdq ssse3 fma cx16 pcid sse4_1 sse4_2 x2apic movbe popcnt aes xsave avx f16c rdrand hypervisor lahf_lm abm 3dnowprefetch invpcid_single ssbd ibrs ibpb stibp fsgsbase tsc_adjust bmi1 hle avx2 smep bmi2 erms invpcid rtm rdseed adx smap xsaveopt arat md_clear arch_capabilities\n",
            "bugs\t\t: cpu_meltdown spectre_v1 spectre_v2 spec_store_bypass l1tf mds swapgs taa\n",
            "bogomips\t: 4399.99\n",
            "clflush size\t: 64\n",
            "cache_alignment\t: 64\n",
            "address sizes\t: 46 bits physical, 48 bits virtual\n",
            "power management:\n",
            "\n"
          ]
        }
      ]
    },
    {
      "cell_type": "code",
      "metadata": {
        "colab": {
          "base_uri": "https://localhost:8080/"
        },
        "id": "iU5N7WYs2Y9b",
        "outputId": "c41cb7f1-a2a7-4afb-8642-6fe59ecca321"
      },
      "source": [
        "!df -h"
      ],
      "execution_count": 5,
      "outputs": [
        {
          "output_type": "stream",
          "name": "stdout",
          "text": [
            "Filesystem      Size  Used Avail Use% Mounted on\n",
            "overlay         108G   48G   60G  45% /\n",
            "tmpfs            64M     0   64M   0% /dev\n",
            "tmpfs           6.4G     0  6.4G   0% /sys/fs/cgroup\n",
            "shm             5.9G     0  5.9G   0% /dev/shm\n",
            "/dev/root       2.0G  1.2G  821M  59% /sbin/docker-init\n",
            "tmpfs           6.4G   28K  6.4G   1% /var/colab\n",
            "/dev/sda1        81G   51G   31G  63% /etc/hosts\n",
            "tmpfs           6.4G     0  6.4G   0% /proc/acpi\n",
            "tmpfs           6.4G     0  6.4G   0% /proc/scsi\n",
            "tmpfs           6.4G     0  6.4G   0% /sys/firmware\n"
          ]
        }
      ]
    },
    {
      "cell_type": "code",
      "metadata": {
        "colab": {
          "base_uri": "https://localhost:8080/"
        },
        "id": "r7DSRg45kzqp",
        "outputId": "9ed754ee-2b13-45c4-8f8f-fbda9d942f81"
      },
      "source": [
        "virtual_memory()"
      ],
      "execution_count": 6,
      "outputs": [
        {
          "output_type": "execute_result",
          "data": {
            "text/plain": [
              "svmem(total=13622198272, available=12758904832, percent=6.3, used=571662336, free=10892611584, active=1025048576, inactive=1454149632, buffers=82980864, cached=2074943488, shared=1175552, slab=188170240)"
            ]
          },
          "metadata": {},
          "execution_count": 6
        }
      ]
    },
    {
      "cell_type": "markdown",
      "metadata": {
        "id": "xOuBqEynERFG"
      },
      "source": [
        "## Installation"
      ]
    },
    {
      "cell_type": "code",
      "metadata": {
        "id": "P_sWC1bkETZw"
      },
      "source": [
        "%%capture\n",
        "!pip install transformers"
      ],
      "execution_count": 7,
      "outputs": []
    },
    {
      "cell_type": "code",
      "metadata": {
        "colab": {
          "base_uri": "https://localhost:8080/"
        },
        "id": "OQxJyew3GOEg",
        "outputId": "4c97e338-83e8-4e84-ca09-639846080083"
      },
      "source": [
        "import transformers, torch, numpy as np\n",
        "\n",
        "print(\"transformers:\",transformers.__version__)\n",
        "print(\"torch:\",torch.__version__)\n",
        "print(\"numpy:\",np.__version__)"
      ],
      "execution_count": 8,
      "outputs": [
        {
          "output_type": "stream",
          "name": "stdout",
          "text": [
            "transformers: 4.11.3\n",
            "torch: 1.9.0+cu111\n",
            "numpy: 1.19.5\n"
          ]
        }
      ]
    },
    {
      "cell_type": "code",
      "metadata": {
        "id": "OFZpEH_scifg"
      },
      "source": [
        "from time import perf_counter\n",
        "def timer(f,*args):   \n",
        "    start = perf_counter()\n",
        "    f(*args)\n",
        "    return (1000 * (perf_counter() - start))"
      ],
      "execution_count": 9,
      "outputs": []
    },
    {
      "cell_type": "markdown",
      "metadata": {
        "id": "U2VWWKpbR5mL"
      },
      "source": [
        "## QA model"
      ]
    },
    {
      "cell_type": "markdown",
      "metadata": {
        "id": "vDfR4S0DcNoi"
      },
      "source": [
        "Model at https://huggingface.co/pierreguillou/bert-base-cased-squad-v1.1-portuguese"
      ]
    },
    {
      "cell_type": "code",
      "metadata": {
        "id": "cBlOI89tR8Oq"
      },
      "source": [
        "model_checkpoint = \"pierreguillou/bert-base-cased-squad-v1.1-portuguese\"\n",
        "# model_checkpoint = \"pierreguillou/bert-large-cased-squad-v1.1-portuguese\""
      ],
      "execution_count": 10,
      "outputs": []
    },
    {
      "cell_type": "code",
      "metadata": {
        "id": "bclIDEVOSm-M"
      },
      "source": [
        "context = r\"\"\"\n",
        "A pandemia de COVID-19, também conhecida como pandemia de coronavírus, é uma pandemia em curso de COVID-19, \n",
        "uma doença respiratória aguda causada pelo coronavírus da síndrome respiratória aguda grave 2 (SARS-CoV-2). \n",
        "A doença foi identificada pela primeira vez em Wuhan, na província de Hubei, República Popular da China, \n",
        "em 1 de dezembro de 2019, mas o primeiro caso foi reportado em 31 de dezembro do mesmo ano. \n",
        "Acredita-se que o vírus tenha uma origem zoonótica, porque os primeiros casos confirmados \n",
        "tinham principalmente ligações ao Mercado Atacadista de Frutos do Mar de Huanan, que também vendia animais vivos. \n",
        "Em 11 de março de 2020, a Organização Mundial da Saúde declarou o surto uma pandemia. Até 8 de fevereiro de 2021, \n",
        "pelo menos 105 743 102 casos da doença foram confirmados em pelo menos 191 países e territórios, \n",
        "com cerca de 2 308 943 mortes e 58 851 440 pessoas curadas.\n",
        "\"\"\"\n",
        "\n",
        "question = \"Quando começou a pandemia de Covid-19 no mundo?\""
      ],
      "execution_count": 11,
      "outputs": []
    },
    {
      "cell_type": "markdown",
      "metadata": {
        "id": "QeiLPvAteK0q"
      },
      "source": [
        "## 1. Check the model"
      ]
    },
    {
      "cell_type": "markdown",
      "metadata": {
        "id": "itx8-vxHgrgI"
      },
      "source": [
        "Before evaluating its inference time, let's check that our QA model is working well."
      ]
    },
    {
      "cell_type": "markdown",
      "metadata": {
        "id": "dUixO7_ueq38"
      },
      "source": [
        "#### 1.1 Without pipeline"
      ]
    },
    {
      "cell_type": "code",
      "metadata": {
        "colab": {
          "base_uri": "https://localhost:8080/",
          "height": 177,
          "referenced_widgets": [
            "d688d08b86d1428f9254b959b0d39142",
            "9ff4c0e657eb4869a1e816d74d458b31",
            "f072f66be88d4edea7f826b1fea52625",
            "75e0d0df297b41c982712d3384ad3026",
            "8e5708a1901e49beac3fb74f0c572db4",
            "c1c920707b7b46ad8ad13fb0dbf4135f",
            "2c15a661a1cd4224aa6564d40adf87df",
            "44eeb2b4309e4d61a49dd05885e27b11",
            "1e4ed81edd624c648d1c06c6e2134272",
            "9818d9e1590e4343b7303e9b3089b34a",
            "08760e7ecac7421ca94908d214178d1a",
            "1e55594927c14fe6a1eb460034fd4a7e",
            "0c508ca924fc4f598a6f6137aa381129",
            "4282939dfda44bfb93504ba68356d2ef",
            "90a190d70c8541c4bd679c540568db62",
            "ad46bec773f34971ba6fb39fdb7f9f7c",
            "36abe8cb27f648cca5d1ea9a83ed081c",
            "e24e4af42ce4406caca4e73533c3e9e6",
            "9c9e260a7a694af7931369bf0c9b2145",
            "85bf5e86dc154f578fef5cc8e564c208",
            "11d282a046dd409fa550994a5eb1b9a8",
            "0e41f002dd524e3c979f4cd9285665ba",
            "c54f3ff67f2546ab8238fded899924ce",
            "5625e6f79e8c47cd881e833b71e6c014",
            "346352fa85b447ef970ea9b3793d4e11",
            "c3e6f5ad11d64ec787715a4549184959",
            "97211b53c2f84aa0bd4026984010f033",
            "a62a25f533b8467989fda0b65a476aa1",
            "ae0502c90b634b96ab552396f9ce8a06",
            "285f58eb40b746b991de75ca656365a1",
            "a7341db7724f41d1a37e2a8b253d3891",
            "3f9d0bf143934e2098b9cc7a6f76e26e",
            "acc7e51b97b4425f976c3edf255d7357",
            "b3be362b07a94456bc27bbe43db80ae4",
            "a5f91cf0a6f44e0b8a24e204d3170335",
            "b32925b4ce2e4de0941f4abf15626df6",
            "c01e0d7df5184711a27a681275200c57",
            "8d74c887fc844194b29d6fae324a70a0",
            "7f4211d36cfd4d1d824b4cda914fd98f",
            "07220d51a74648688888a2dbe0380f82",
            "c85d841e183f4852bd5e21759c083ac2",
            "3aea8d9abc914b7a9cb271a310e88a33",
            "6d6fb024a7dd4d618874a44e031a7532",
            "3795f71d852e4107b081184e9fe21251",
            "222288b79d464ae9aeb301b8a10ba665",
            "1c6db545aba04a0d813d32906a72f0fd",
            "e408e4dc8e1e4e448f9999f044b247ee",
            "4f98c3c53266463c99f05b4a39312cda",
            "4686a293864c42c4b27b4e348a6cea92",
            "44e93820c3264528b4afe862a858a01f",
            "726d9170e81b491a85719517f08545d5",
            "afb34d2ec42d4854b52e38546391d82d",
            "012e685c931d4e23bd0e09fcd2fe5297",
            "7d765c4348aa46dab0fbc1d25c4d04b0",
            "a3ebc0adc6d943f5953b1afdf2cd0742"
          ]
        },
        "id": "v0Ewv1TleWqi",
        "outputId": "0719260b-015d-4af3-9bbb-9688b4a6546f"
      },
      "source": [
        "from transformers import AutoTokenizer, AutoModelForQuestionAnswering\n",
        "\n",
        "tokenizer = AutoTokenizer.from_pretrained(model_checkpoint, use_fast=True)\n",
        "model = AutoModelForQuestionAnswering.from_pretrained(model_checkpoint)\n",
        "model.eval();"
      ],
      "execution_count": 12,
      "outputs": [
        {
          "output_type": "display_data",
          "data": {
            "application/vnd.jupyter.widget-view+json": {
              "model_id": "d688d08b86d1428f9254b959b0d39142",
              "version_minor": 0,
              "version_major": 2
            },
            "text/plain": [
              "Downloading:   0%|          | 0.00/494 [00:00<?, ?B/s]"
            ]
          },
          "metadata": {}
        },
        {
          "output_type": "display_data",
          "data": {
            "application/vnd.jupyter.widget-view+json": {
              "model_id": "1e55594927c14fe6a1eb460034fd4a7e",
              "version_minor": 0,
              "version_major": 2
            },
            "text/plain": [
              "Downloading:   0%|          | 0.00/862 [00:00<?, ?B/s]"
            ]
          },
          "metadata": {}
        },
        {
          "output_type": "display_data",
          "data": {
            "application/vnd.jupyter.widget-view+json": {
              "model_id": "c54f3ff67f2546ab8238fded899924ce",
              "version_minor": 0,
              "version_major": 2
            },
            "text/plain": [
              "Downloading:   0%|          | 0.00/205k [00:00<?, ?B/s]"
            ]
          },
          "metadata": {}
        },
        {
          "output_type": "display_data",
          "data": {
            "application/vnd.jupyter.widget-view+json": {
              "model_id": "b3be362b07a94456bc27bbe43db80ae4",
              "version_minor": 0,
              "version_major": 2
            },
            "text/plain": [
              "Downloading:   0%|          | 0.00/112 [00:00<?, ?B/s]"
            ]
          },
          "metadata": {}
        },
        {
          "output_type": "display_data",
          "data": {
            "application/vnd.jupyter.widget-view+json": {
              "model_id": "222288b79d464ae9aeb301b8a10ba665",
              "version_minor": 0,
              "version_major": 2
            },
            "text/plain": [
              "Downloading:   0%|          | 0.00/413M [00:00<?, ?B/s]"
            ]
          },
          "metadata": {}
        }
      ]
    },
    {
      "cell_type": "code",
      "metadata": {
        "colab": {
          "base_uri": "https://localhost:8080/"
        },
        "id": "V3jrcdqmeWqj",
        "outputId": "237a489e-587c-4048-c122-8ec65695f586"
      },
      "source": [
        "# code source: https://huggingface.co/transformers/master/task_summary.html#extractive-question-answering\n",
        "\n",
        "# tokenize inputs\n",
        "inputs = tokenizer(question, context, add_special_tokens=True, return_tensors=\"pt\")\n",
        "\n",
        "# get outputs\n",
        "outputs = model(**inputs)\n",
        "answer_start_scores = outputs.start_logits\n",
        "answer_end_scores = outputs.end_logits\n",
        "\n",
        "# Get the most likely beginning of answer with the argmax of the score\n",
        "answer_start = torch.argmax(answer_start_scores)\n",
        "# Get the most likely end of answer with the argmax of the score\n",
        "answer_end = torch.argmax(answer_end_scores) + 1\n",
        "\n",
        "input_ids = inputs[\"input_ids\"].tolist()[0]\n",
        "answer = tokenizer.convert_tokens_to_string(tokenizer.convert_ids_to_tokens(input_ids[answer_start:answer_end]))\n",
        "\n",
        "# print answer\n",
        "print(f\"Question: {question}\")\n",
        "print(f\"Answer: {answer}\")"
      ],
      "execution_count": 13,
      "outputs": [
        {
          "output_type": "stream",
          "name": "stdout",
          "text": [
            "Question: Quando começou a pandemia de Covid-19 no mundo?\n",
            "Answer: 1 de dezembro de 2019\n"
          ]
        }
      ]
    },
    {
      "cell_type": "markdown",
      "metadata": {
        "id": "Wf-o7fLRewoY"
      },
      "source": [
        "That's the right answer!"
      ]
    },
    {
      "cell_type": "markdown",
      "metadata": {
        "id": "XOINhKq2T3Bw"
      },
      "source": [
        "#### 1.2 With pipeline"
      ]
    },
    {
      "cell_type": "markdown",
      "metadata": {
        "id": "DFxfoEGXcoYj"
      },
      "source": [
        "We can use Pipeline, too."
      ]
    },
    {
      "cell_type": "code",
      "metadata": {
        "id": "5srv6sCpSeNt"
      },
      "source": [
        "from transformers import pipeline\n",
        "\n",
        "nlp = pipeline(\"question-answering\", model=model_checkpoint)"
      ],
      "execution_count": 14,
      "outputs": []
    },
    {
      "cell_type": "code",
      "metadata": {
        "colab": {
          "base_uri": "https://localhost:8080/"
        },
        "id": "z0jMdQ92Tt_1",
        "outputId": "ca64d331-2cdd-4ecc-d645-a1042a130d60"
      },
      "source": [
        "# get result\n",
        "result = nlp(question, context)\n",
        "\n",
        "# print answer\n",
        "print(f\"Question: {question}\")\n",
        "print(f\"Answer: {result['answer']} (score: {round(result['score'], 4)})\")"
      ],
      "execution_count": 15,
      "outputs": [
        {
          "output_type": "stream",
          "name": "stdout",
          "text": [
            "Question: Quando começou a pandemia de Covid-19 no mundo?\n",
            "Answer: 1 de dezembro de 2019 (score: 0.713)\n"
          ]
        }
      ]
    },
    {
      "cell_type": "markdown",
      "metadata": {
        "id": "nMjpms2RfQ_9"
      },
      "source": [
        "That's the right answer!"
      ]
    },
    {
      "cell_type": "markdown",
      "metadata": {
        "id": "PRV40jI3PkcM"
      },
      "source": [
        "## 2. Inference time | PyTorch model"
      ]
    },
    {
      "cell_type": "markdown",
      "metadata": {
        "id": "6KLKVAmpfe6v"
      },
      "source": [
        "### 2.1 PyTorch model (without pipeline)"
      ]
    },
    {
      "cell_type": "code",
      "metadata": {
        "id": "sBTdifUAPuZf"
      },
      "source": [
        "from transformers import AutoTokenizer, AutoModelForQuestionAnswering\n",
        "\n",
        "tokenizer = AutoTokenizer.from_pretrained(model_checkpoint, use_fast=True)\n",
        "model = AutoModelForQuestionAnswering.from_pretrained(model_checkpoint)\n",
        "model.eval();"
      ],
      "execution_count": 16,
      "outputs": []
    },
    {
      "cell_type": "markdown",
      "metadata": {
        "id": "HOdhaPFwl1Oe"
      },
      "source": [
        "#### 1. Tokenize the inputs"
      ]
    },
    {
      "cell_type": "code",
      "metadata": {
        "colab": {
          "base_uri": "https://localhost:8080/"
        },
        "id": "K1_5839CDbiD",
        "outputId": "82e8841a-7e58-4511-9bda-881508b43d46"
      },
      "source": [
        "num=100\n",
        "\n",
        "total = 0\n",
        "for i in range(num):\n",
        "  start = perf_counter()\n",
        "  inputs = tokenizer(question, context, add_special_tokens=True, return_tensors=\"pt\")\n",
        "  diff = perf_counter() - start\n",
        "  total += diff\n",
        "\n",
        "mean_tokenizer = round((total/num)*1000,2)\n",
        "print(f'average time: {mean_tokenizer} ms')"
      ],
      "execution_count": 17,
      "outputs": [
        {
          "output_type": "stream",
          "name": "stdout",
          "text": [
            "average time: 0.7 ms\n"
          ]
        }
      ]
    },
    {
      "cell_type": "markdown",
      "metadata": {
        "id": "9ulHNPdPQjhP"
      },
      "source": [
        "#### 2. Model on CPU"
      ]
    },
    {
      "cell_type": "code",
      "metadata": {
        "colab": {
          "base_uri": "https://localhost:8080/"
        },
        "id": "CDnLS3HhA11U",
        "outputId": "88543a25-135a-4742-dd83-56d096a16369"
      },
      "source": [
        "# put model and inputs to cpu\n",
        "model = model.to('cpu')\n",
        "inputs = inputs.to('cpu')\n",
        "\n",
        "# get mean time\n",
        "with torch.no_grad():\n",
        "  mean_time_cpu = round(np.mean([timer(model,inputs.input_ids,inputs.token_type_ids,inputs.attention_mask) for _ in range(100)]),2)\n",
        "\n",
        "print(f'average time: {mean_time_cpu} ms')"
      ],
      "execution_count": 18,
      "outputs": [
        {
          "output_type": "stream",
          "name": "stdout",
          "text": [
            "average time: 866.69 ms\n"
          ]
        }
      ]
    },
    {
      "cell_type": "markdown",
      "metadata": {
        "id": "S_nPfxys1qHa"
      },
      "source": [
        "Now, we can evaluate the time to get the answer."
      ]
    },
    {
      "cell_type": "code",
      "metadata": {
        "id": "uesjhmxfnBbF"
      },
      "source": [
        "# get outputs\n",
        "with torch.no_grad():\n",
        "  outputs = model(**inputs)"
      ],
      "execution_count": 19,
      "outputs": []
    },
    {
      "cell_type": "code",
      "metadata": {
        "colab": {
          "base_uri": "https://localhost:8080/"
        },
        "id": "eSHZvVABm5Iq",
        "outputId": "ed732bef-7d64-449b-e770-0166253bf5d5"
      },
      "source": [
        "num = 100\n",
        "\n",
        "total = 0\n",
        "for i in range(num):\n",
        "  start = perf_counter()\n",
        "  answer_start_scores = outputs.start_logits\n",
        "  answer_end_scores = outputs.end_logits\n",
        "\n",
        "  # Get the most likely beginning of answer with the argmax of the score\n",
        "  answer_start = torch.argmax(answer_start_scores)\n",
        "  # Get the most likely end of answer with the argmax of the score\n",
        "  answer_end = torch.argmax(answer_end_scores) + 1\n",
        "\n",
        "  input_ids = inputs[\"input_ids\"].tolist()[0]\n",
        "  answer = tokenizer.convert_tokens_to_string(tokenizer.convert_ids_to_tokens(input_ids[answer_start:answer_end]))\n",
        "  diff = perf_counter() - start\n",
        "  total += diff\n",
        "\n",
        "mean_time_cpu_answer = round((total/num)*1000,2)\n",
        "print(f'average time: {mean_time_cpu_answer} ms')"
      ],
      "execution_count": 20,
      "outputs": [
        {
          "output_type": "stream",
          "name": "stdout",
          "text": [
            "average time: 1.04 ms\n"
          ]
        }
      ]
    },
    {
      "cell_type": "markdown",
      "metadata": {
        "id": "E9elF7xIVR7l"
      },
      "source": [
        "Then, we have the total time when the model is on the CPU:"
      ]
    },
    {
      "cell_type": "code",
      "metadata": {
        "colab": {
          "base_uri": "https://localhost:8080/"
        },
        "id": "KiwJwBQEVaOi",
        "outputId": "dc5e5e8a-1637-437c-cce6-f8eb8e23dba6"
      },
      "source": [
        "total_cpu = round(mean_tokenizer + mean_time_cpu + mean_time_cpu_answer,2)\n",
        "print(f'time: {total_cpu} ms')"
      ],
      "execution_count": 21,
      "outputs": [
        {
          "output_type": "stream",
          "name": "stdout",
          "text": [
            "time: 868.43 ms\n"
          ]
        }
      ]
    },
    {
      "cell_type": "markdown",
      "metadata": {
        "id": "huZuti5kdqmb"
      },
      "source": [
        "### 2.2 PyTorch model (with pipeline)"
      ]
    },
    {
      "cell_type": "markdown",
      "metadata": {
        "id": "PGi0rLL3XGLu"
      },
      "source": [
        "We can use Pipeline, too."
      ]
    },
    {
      "cell_type": "code",
      "metadata": {
        "id": "JUaBkiE7XGME"
      },
      "source": [
        "from transformers import pipeline"
      ],
      "execution_count": 22,
      "outputs": []
    },
    {
      "cell_type": "markdown",
      "metadata": {
        "id": "H5uzUO81W-2P"
      },
      "source": [
        "#### 1. Model on CPU"
      ]
    },
    {
      "cell_type": "markdown",
      "metadata": {
        "id": "8tjLIIq9Y_yH"
      },
      "source": [
        "We have the total time when the model is on the CPU:"
      ]
    },
    {
      "cell_type": "code",
      "metadata": {
        "colab": {
          "base_uri": "https://localhost:8080/"
        },
        "id": "8rTWTujiW-2P",
        "outputId": "9d44bd05-2318-4759-e260-8a61ff5c4ae5"
      },
      "source": [
        "# put model and inputs to cpu\n",
        "nlp = pipeline(\"question-answering\", model=model_checkpoint, use_fast=True, device=-1)\n",
        "\n",
        "# get mean time\n",
        "with torch.no_grad():\n",
        "  pipeline_mean_time_cpu = round(np.mean([timer(nlp,question,context) for _ in range(100)]),2)\n",
        "\n",
        "print(f'average time: {pipeline_mean_time_cpu} ms')"
      ],
      "execution_count": 23,
      "outputs": [
        {
          "output_type": "stream",
          "name": "stdout",
          "text": [
            "average time: 873.3 ms\n"
          ]
        }
      ]
    },
    {
      "cell_type": "markdown",
      "metadata": {
        "id": "PIozp6wuZxWC"
      },
      "source": [
        "### 2.3 Results with PyTorch"
      ]
    },
    {
      "cell_type": "code",
      "metadata": {
        "colab": {
          "base_uri": "https://localhost:8080/",
          "height": 112
        },
        "id": "q1F3FQUsMLAR",
        "outputId": "89d2f8e0-0eb7-448b-ab6d-4ca784ba8b1d"
      },
      "source": [
        "import pandas as pd\n",
        "\n",
        "raw_data = {\n",
        "            'Latency on CPU (ms)': [mean_time_cpu, pipeline_mean_time_cpu],\n",
        "            }\n",
        "\n",
        "df = pd.DataFrame(raw_data,\n",
        "                  index=pd.Index(['Without pipeline', 'With pipeline']),\n",
        "                  columns=pd.Index(['Latency on CPU (ms)']))\n",
        "\n",
        "df"
      ],
      "execution_count": 24,
      "outputs": [
        {
          "output_type": "execute_result",
          "data": {
            "text/html": [
              "<div>\n",
              "<style scoped>\n",
              "    .dataframe tbody tr th:only-of-type {\n",
              "        vertical-align: middle;\n",
              "    }\n",
              "\n",
              "    .dataframe tbody tr th {\n",
              "        vertical-align: top;\n",
              "    }\n",
              "\n",
              "    .dataframe thead th {\n",
              "        text-align: right;\n",
              "    }\n",
              "</style>\n",
              "<table border=\"1\" class=\"dataframe\">\n",
              "  <thead>\n",
              "    <tr style=\"text-align: right;\">\n",
              "      <th></th>\n",
              "      <th>Latency on CPU (ms)</th>\n",
              "    </tr>\n",
              "  </thead>\n",
              "  <tbody>\n",
              "    <tr>\n",
              "      <th>Without pipeline</th>\n",
              "      <td>866.69</td>\n",
              "    </tr>\n",
              "    <tr>\n",
              "      <th>With pipeline</th>\n",
              "      <td>873.30</td>\n",
              "    </tr>\n",
              "  </tbody>\n",
              "</table>\n",
              "</div>"
            ],
            "text/plain": [
              "                  Latency on CPU (ms)\n",
              "Without pipeline               866.69\n",
              "With pipeline                  873.30"
            ]
          },
          "metadata": {},
          "execution_count": 24
        }
      ]
    },
    {
      "cell_type": "code",
      "metadata": {
        "colab": {
          "base_uri": "https://localhost:8080/",
          "height": 352
        },
        "id": "QfTf24EPMLAR",
        "outputId": "32805539-164c-44e5-c918-b880554b2477"
      },
      "source": [
        "import numpy as np\n",
        "import matplotlib.pyplot as plt\n",
        "\n",
        "labels = ['CPU']\n",
        "data = [mean_time_cpu, pipeline_mean_time_cpu]\n",
        "\n",
        "fig = plt.figure()\n",
        "ax = fig.add_axes([0,0,1,1])\n",
        "\n",
        "X = np.arange(1)\n",
        "ax.bar(X - 0.1, data[0], color = 'r', width = 0.2, label='Without pipeline')\n",
        "ax.bar(X + 0.1, data[1], color = 'g', width = 0.2, label='With pipeline')\n",
        "\n",
        "# axes and title\n",
        "x = np.arange(len(labels))  # the label locations\n",
        "ax.set_xticks(x)\n",
        "ax.set_xticklabels(labels)\n",
        "ax.set_ylabel('Latency (ms)')\n",
        "ax.set_title('Inference latency of PyTorch model (CPU)')\n",
        "\n",
        "leg = ax.legend();"
      ],
      "execution_count": 25,
      "outputs": [
        {
          "output_type": "display_data",
          "data": {
            "image/png": "[encoded data removed]",
            "text/plain": [
              "<Figure size 432x288 with 1 Axes>"
            ]
          },
          "metadata": {
            "needs_background": "light"
          }
        }
      ]
    },
    {
      "cell_type": "markdown",
      "metadata": {
        "id": "kIWlIBvkMLAS"
      },
      "source": [
        "Pipeline does not help improve latency on CPU."
      ]
    },
    {
      "cell_type": "markdown",
      "metadata": {
        "id": "s6ZTYbyBB9F8"
      },
      "source": [
        "## 3. Inference time | ONNX Runtime"
      ]
    },
    {
      "cell_type": "markdown",
      "metadata": {
        "id": "6WuzVpniCACF"
      },
      "source": [
        "[ONNX Runtime](https://onnxruntime.ai/) helps **accelerate PyTorch and TensorFlow models in production, on CPU or GPU**. As an open source library built for performance and broad platform support, ONNX Runtime is used in products and services handling over 20 billion inferences each day. "
      ]
    },
    {
      "cell_type": "markdown",
      "metadata": {
        "id": "n9AcUibxJGXt"
      },
      "source": [
        "### 3.1 Old method | convert_graph_to_onnx.py"
      ]
    },
    {
      "cell_type": "markdown",
      "metadata": {
        "id": "G6AD86PrI99o"
      },
      "source": [
        "You can use ONNX Runtime and Hugging Face Transformers together to improve the experience of training and deploying NLP models. Hugging Face has made it easy to inference Transformer models with ONNX Runtime with the [transformers/convert_graph_to_onnx.py](https://github.com/huggingface/transformers/blob/master/src/transformers/convert_graph_to_onnx.py) which generates a model that can be loaded by ONNX Runtime."
      ]
    },
    {
      "cell_type": "code",
      "metadata": {
        "colab": {
          "base_uri": "https://localhost:8080/"
        },
        "id": "691vn7sAGypy",
        "outputId": "cc40861f-323c-4cc1-ccd5-0d27128d72af"
      },
      "source": [
        "!python -m transformers.onnx --help"
      ],
      "execution_count": 26,
      "outputs": [
        {
          "output_type": "stream",
          "name": "stdout",
          "text": [
            "usage: Hugging Face ONNX Exporter tool [-h] -m MODEL\n",
            "                                       [--feature {causal-lm,causal-lm-with-past,default,default-with-past,masked-lm,seq2seq-lm,seq2seq-lm-with-past,sequence-classification,sequence-classification-with-past,token-classification}]\n",
            "                                       [--opset OPSET] [--atol ATOL]\n",
            "                                       output\n",
            "\n",
            "positional arguments:\n",
            "  output                Path indicating where to store generated ONNX model.\n",
            "\n",
            "optional arguments:\n",
            "  -h, --help            show this help message and exit\n",
            "  -m MODEL, --model MODEL\n",
            "                        Model's name of path on disk to load.\n",
            "  --feature {causal-lm,causal-lm-with-past,default,default-with-past,masked-lm,seq2seq-lm,seq2seq-lm-with-past,sequence-classification,sequence-classification-with-past,token-classification}\n",
            "                        Export the model with some additional feature.\n",
            "  --opset OPSET         ONNX opset version to export the model with (default\n",
            "                        12).\n",
            "  --atol ATOL           Absolute difference tolerence when validating the\n",
            "                        model.\n"
          ]
        }
      ]
    },
    {
      "cell_type": "markdown",
      "metadata": {
        "id": "jpByQiFAeOoY"
      },
      "source": [
        "````\n",
        "SUPPORTED_PIPELINES = [\n",
        "    \"feature-extraction\",\n",
        "    \"ner\",\n",
        "    \"sentiment-analysis\",\n",
        "    \"fill-mask\",\n",
        "    \"question-answering\",\n",
        "    \"text-generation\",\n",
        "    \"translation_en_to_fr\",\n",
        "    \"translation_en_to_de\",\n",
        "    \"translation_en_to_ro\",\n",
        "]\n",
        "````"
      ]
    },
    {
      "cell_type": "markdown",
      "metadata": {
        "id": "MIq7eMLLdBWf"
      },
      "source": [
        "Get the file convert_graph_to_onnx.py"
      ]
    },
    {
      "cell_type": "code",
      "metadata": {
        "colab": {
          "base_uri": "https://localhost:8080/"
        },
        "id": "GrSHTpBILZPd",
        "outputId": "7aa809bd-cca1-45a5-9f08-d415fc808e7e"
      },
      "source": [
        "!wget https://raw.githubusercontent.com/huggingface/transformers/master/src/transformers/convert_graph_to_onnx.py"
      ],
      "execution_count": 27,
      "outputs": [
        {
          "output_type": "stream",
          "name": "stdout",
          "text": [
            "--2021-10-22 16:24:11--  https://raw.githubusercontent.com/huggingface/transformers/master/src/transformers/convert_graph_to_onnx.py\n",
            "Resolving raw.githubusercontent.com (raw.githubusercontent.com)... 185.199.108.133, 185.199.109.133, 185.199.110.133, ...\n",
            "Connecting to raw.githubusercontent.com (raw.githubusercontent.com)|185.199.108.133|:443... connected.\n",
            "HTTP request sent, awaiting response... 200 OK\n",
            "Length: 18640 (18K) [text/plain]\n",
            "Saving to: ‘convert_graph_to_onnx.py’\n",
            "\n",
            "convert_graph_to_on 100%[===================>]  18.20K  --.-KB/s    in 0s      \n",
            "\n",
            "2021-10-22 16:24:11 (40.9 MB/s) - ‘convert_graph_to_onnx.py’ saved [18640/18640]\n",
            "\n"
          ]
        }
      ]
    },
    {
      "cell_type": "markdown",
      "metadata": {
        "id": "rtxn_TnPUqYZ"
      },
      "source": [
        "### 3.1.1 Tokenize the inputs"
      ]
    },
    {
      "cell_type": "code",
      "metadata": {
        "id": "371tF1SsYhwM"
      },
      "source": [
        "from transformers import AutoTokenizer\n",
        "\n",
        "tokenizer = AutoTokenizer.from_pretrained(model_checkpoint, use_fast=True)"
      ],
      "execution_count": 28,
      "outputs": []
    },
    {
      "cell_type": "code",
      "metadata": {
        "colab": {
          "base_uri": "https://localhost:8080/"
        },
        "id": "oDusFXaeUqYa",
        "outputId": "6efc42f1-c5a3-4631-f534-7318636c6701"
      },
      "source": [
        "num=100\n",
        "\n",
        "total = 0\n",
        "for i in range(num):\n",
        "  start = perf_counter()\n",
        "  # WARNING!!!!!!! return_tensors=\"np\" and not return_tensors=\"pt\"\n",
        "  inputs = tokenizer(question, context, add_special_tokens=True, return_tensors=\"np\")\n",
        "  diff = perf_counter() - start\n",
        "  total += diff\n",
        "\n",
        "onnx_mean_tokenizer = round((total/num)*1000,2)\n",
        "print(f'average time: {onnx_mean_tokenizer} ms')"
      ],
      "execution_count": 29,
      "outputs": [
        {
          "output_type": "stream",
          "name": "stdout",
          "text": [
            "average time: 0.71 ms\n"
          ]
        }
      ]
    },
    {
      "cell_type": "markdown",
      "metadata": {
        "id": "meVmR4E6L3va"
      },
      "source": [
        "### 3.1.2 Model on CPU"
      ]
    },
    {
      "cell_type": "markdown",
      "metadata": {
        "id": "Ce7NwpoITBr3"
      },
      "source": [
        "#### Installation"
      ]
    },
    {
      "cell_type": "code",
      "metadata": {
        "id": "arWxHIgrJrqq"
      },
      "source": [
        "%%capture\n",
        "# onnxruntime cpu\n",
        "!pip install onnx\n",
        "!pip install onnxruntime"
      ],
      "execution_count": 30,
      "outputs": []
    },
    {
      "cell_type": "code",
      "metadata": {
        "colab": {
          "base_uri": "https://localhost:8080/",
          "height": 35
        },
        "id": "JyCazZPzMdFs",
        "outputId": "39ed6d8f-c681-42dc-aa6f-6089e5971e8b"
      },
      "source": [
        "import onnxruntime as ort\n",
        "ort.get_device()"
      ],
      "execution_count": 31,
      "outputs": [
        {
          "output_type": "execute_result",
          "data": {
            "application/vnd.google.colaboratory.intrinsic+json": {
              "type": "string"
            },
            "text/plain": [
              "'CPU'"
            ]
          },
          "metadata": {},
          "execution_count": 31
        }
      ]
    },
    {
      "cell_type": "code",
      "metadata": {
        "colab": {
          "base_uri": "https://localhost:8080/"
        },
        "id": "pfevyxkXdopX",
        "outputId": "758af8b3-6f5d-46b3-a1d4-1f669080a1d4"
      },
      "source": [
        "import onnxruntime\n",
        "print(\"onnxruntime:\",onnxruntime.__version__)"
      ],
      "execution_count": 32,
      "outputs": [
        {
          "output_type": "stream",
          "name": "stdout",
          "text": [
            "onnxruntime: 1.9.0\n"
          ]
        }
      ]
    },
    {
      "cell_type": "markdown",
      "metadata": {
        "id": "Q7JbUW_0dE53"
      },
      "source": [
        "#### Convert the transformer model to its quantized onnx version"
      ]
    },
    {
      "cell_type": "code",
      "metadata": {
        "colab": {
          "base_uri": "https://localhost:8080/"
        },
        "id": "ASCjNxFpJosm",
        "outputId": "36b86409-34fe-4c81-b3ad-0289de4a29ee"
      },
      "source": [
        "model_checkpoint_onnx = 'onnx_cpu/' + model_checkpoint.replace('/','-') + '.onnx'\n",
        "\n",
        "!python convert_graph_to_onnx.py \\\n",
        "--pipeline question-answering \\\n",
        "--model {model_checkpoint} \\\n",
        "--tokenizer {model_checkpoint} \\\n",
        "--framework pt \\\n",
        "--opset 11 \\\n",
        "--check-loading \\\n",
        "--use-external-format \\\n",
        "--quantize \\\n",
        "{model_checkpoint_onnx}"
      ],
      "execution_count": 33,
      "outputs": [
        {
          "output_type": "stream",
          "name": "stdout",
          "text": [
            "\n",
            "====== Converting model to ONNX ======\n",
            "ONNX opset version set to: 11\n",
            "Loading pipeline (model: pierreguillou/bert-base-cased-squad-v1.1-portuguese, tokenizer: pierreguillou/bert-base-cased-squad-v1.1-portuguese)\n",
            "Creating folder /content/onnx_cpu\n",
            "Using framework PyTorch: 1.9.0+cu111\n",
            "Found input input_ids with shape: {0: 'batch', 1: 'sequence'}\n",
            "Found input token_type_ids with shape: {0: 'batch', 1: 'sequence'}\n",
            "Found input attention_mask with shape: {0: 'batch', 1: 'sequence'}\n",
            "Found output output_0 with shape: {0: 'batch', 1: 'sequence'}\n",
            "Found output output_1 with shape: {0: 'batch', 1: 'sequence'}\n",
            "Ensuring inputs are in correct order\n",
            "position_ids is not present in the generated input list.\n",
            "Generated inputs order: ['input_ids', 'attention_mask', 'token_type_ids']\n",
            "\n",
            "====== Optimizing ONNX model ======\n",
            "2021-10-22 16:24:34.644953871 [W:onnxruntime:, inference_session.cc:1419 Initialize] Serializing optimized model with Graph Optimization level greater than ORT_ENABLE_EXTENDED and the NchwcTransformer enabled. The generated model may contain hardware specific optimizations, and should only be used in the same environment the model was optimized in.\n",
            "Optimized model has been written at /content/onnx_cpu/pierreguillou-bert-base-cased-squad-v1.onnx: ✔\n",
            "/!\\ Optimized model contains hardware specific operators which might not be portable. /!\\\n",
            "As of onnxruntime 1.4.0, models larger than 2GB will fail to quantize due to protobuf constraint.\n",
            "This limitation will be removed in the next release of onnxruntime.\n",
            "WARNING:root:onnxruntime.quantization.quantize is deprecated.\n",
            "         Please use quantize_static for static quantization, quantize_dynamic for dynamic quantization.\n",
            "Warning: Unsupported operator LayerNormalization. No schema registered for this operator.\n",
            "Warning: Unsupported operator FusedMatMul. No schema registered for this operator.\n",
            "Warning: Unsupported operator LayerNormalization. No schema registered for this operator.\n",
            "Warning: Unsupported operator Gelu. No schema registered for this operator.\n",
            "Warning: Unsupported operator LayerNormalization. No schema registered for this operator.\n",
            "Warning: Unsupported operator FusedMatMul. No schema registered for this operator.\n",
            "Warning: Unsupported operator LayerNormalization. No schema registered for this operator.\n",
            "Warning: Unsupported operator Gelu. No schema registered for this operator.\n",
            "Warning: Unsupported operator LayerNormalization. No schema registered for this operator.\n",
            "Warning: Unsupported operator FusedMatMul. No schema registered for this operator.\n",
            "Warning: Unsupported operator LayerNormalization. No schema registered for this operator.\n",
            "Warning: Unsupported operator Gelu. No schema registered for this operator.\n",
            "Warning: Unsupported operator LayerNormalization. No schema registered for this operator.\n",
            "Warning: Unsupported operator FusedMatMul. No schema registered for this operator.\n",
            "Warning: Unsupported operator LayerNormalization. No schema registered for this operator.\n",
            "Warning: Unsupported operator Gelu. No schema registered for this operator.\n",
            "Warning: Unsupported operator LayerNormalization. No schema registered for this operator.\n",
            "Warning: Unsupported operator FusedMatMul. No schema registered for this operator.\n",
            "Warning: Unsupported operator LayerNormalization. No schema registered for this operator.\n",
            "Warning: Unsupported operator Gelu. No schema registered for this operator.\n",
            "Warning: Unsupported operator LayerNormalization. No schema registered for this operator.\n",
            "Warning: Unsupported operator FusedMatMul. No schema registered for this operator.\n",
            "Warning: Unsupported operator LayerNormalization. No schema registered for this operator.\n",
            "Warning: Unsupported operator Gelu. No schema registered for this operator.\n",
            "Warning: Unsupported operator LayerNormalization. No schema registered for this operator.\n",
            "Warning: Unsupported operator FusedMatMul. No schema registered for this operator.\n",
            "Warning: Unsupported operator LayerNormalization. No schema registered for this operator.\n",
            "Warning: Unsupported operator Gelu. No schema registered for this operator.\n",
            "Warning: Unsupported operator LayerNormalization. No schema registered for this operator.\n",
            "Warning: Unsupported operator FusedMatMul. No schema registered for this operator.\n",
            "Warning: Unsupported operator LayerNormalization. No schema registered for this operator.\n",
            "Warning: Unsupported operator Gelu. No schema registered for this operator.\n",
            "Warning: Unsupported operator LayerNormalization. No schema registered for this operator.\n",
            "Warning: Unsupported operator FusedMatMul. No schema registered for this operator.\n",
            "Warning: Unsupported operator LayerNormalization. No schema registered for this operator.\n",
            "Warning: Unsupported operator Gelu. No schema registered for this operator.\n",
            "Warning: Unsupported operator LayerNormalization. No schema registered for this operator.\n",
            "Warning: Unsupported operator FusedMatMul. No schema registered for this operator.\n",
            "Warning: Unsupported operator LayerNormalization. No schema registered for this operator.\n",
            "Warning: Unsupported operator Gelu. No schema registered for this operator.\n",
            "Warning: Unsupported operator LayerNormalization. No schema registered for this operator.\n",
            "Warning: Unsupported operator FusedMatMul. No schema registered for this operator.\n",
            "Warning: Unsupported operator LayerNormalization. No schema registered for this operator.\n",
            "Warning: Unsupported operator Gelu. No schema registered for this operator.\n",
            "Warning: Unsupported operator LayerNormalization. No schema registered for this operator.\n",
            "Warning: Unsupported operator FusedMatMul. No schema registered for this operator.\n",
            "Warning: Unsupported operator LayerNormalization. No schema registered for this operator.\n",
            "Warning: Unsupported operator Gelu. No schema registered for this operator.\n",
            "Warning: Unsupported operator LayerNormalization. No schema registered for this operator.\n",
            "Quantized model has been written at /content/onnx_cpu/pierreguillou-bert-base-cased-squad-v1-quantized.onnx: ✔\n",
            "\n",
            "====== Check exported ONNX model(s) ======\n",
            "Checking ONNX model loading from: /content/onnx_cpu/pierreguillou-bert-base-cased-squad-v1.1-portuguese.onnx ...\n",
            "Model /content/onnx_cpu/pierreguillou-bert-base-cased-squad-v1.1-portuguese.onnx correctly loaded: ✔\n",
            "Checking ONNX model loading from: /content/onnx_cpu/pierreguillou-bert-base-cased-squad-v1.onnx ...\n",
            "Model /content/onnx_cpu/pierreguillou-bert-base-cased-squad-v1.onnx correctly loaded: ✔\n",
            "Checking ONNX model loading from: /content/onnx_cpu/pierreguillou-bert-base-cased-squad-v1-quantized.onnx ...\n",
            "Model /content/onnx_cpu/pierreguillou-bert-base-cased-squad-v1-quantized.onnx correctly loaded: ✔\n"
          ]
        }
      ]
    },
    {
      "cell_type": "markdown",
      "metadata": {
        "id": "DaUBCbBVRTLS"
      },
      "source": [
        "#### Import the onnx quantized version of the model"
      ]
    },
    {
      "cell_type": "code",
      "metadata": {
        "id": "evHBG4EbN99U"
      },
      "source": [
        "import onnxruntime as ort\n",
        "\n",
        "# copy/paste the path to the file xxx.quantized.onnx\n",
        "ort_session = ort.InferenceSession(\"/content/\" + model_checkpoint_onnx)"
      ],
      "execution_count": 34,
      "outputs": []
    },
    {
      "cell_type": "markdown",
      "metadata": {
        "id": "9jl869YbRNwD"
      },
      "source": [
        "#### Run the onnx model"
      ]
    },
    {
      "cell_type": "code",
      "metadata": {
        "colab": {
          "base_uri": "https://localhost:8080/"
        },
        "id": "anXCXVTAUIgv",
        "outputId": "803e7d8e-3b2a-45fe-c2a0-770afeb69d39"
      },
      "source": [
        "num = 100\n",
        "\n",
        "total = 0\n",
        "for i in range(num):\n",
        "  start = perf_counter()\n",
        "  outputs = ort_session.run(None, dict(inputs))\n",
        "  diff = perf_counter() - start\n",
        "  total += diff\n",
        "\n",
        "onnx_mean_time_cpu = round((total/num)*1000,2)\n",
        "print(f'average time: {onnx_mean_time_cpu} ms')"
      ],
      "execution_count": 35,
      "outputs": [
        {
          "output_type": "stream",
          "name": "stdout",
          "text": [
            "average time: 712.35 ms\n"
          ]
        }
      ]
    },
    {
      "cell_type": "markdown",
      "metadata": {
        "id": "4I9gMNPvVKD6"
      },
      "source": [
        "Now, we can evaluate the time to get the answer."
      ]
    },
    {
      "cell_type": "code",
      "metadata": {
        "colab": {
          "base_uri": "https://localhost:8080/"
        },
        "id": "bUNtq4WaVV5I",
        "outputId": "457088db-a23d-4b71-aeb8-04f71334a157"
      },
      "source": [
        "num = 100\n",
        "\n",
        "total = 0\n",
        "for i in range(num):\n",
        "  start = perf_counter()\n",
        "  # code source: https://huggingface.co/transformers/master/task_summary.html#extractive-question-answering\n",
        "\n",
        "  answer_start_scores = outputs[0]\n",
        "  answer_end_scores = outputs[1]\n",
        "\n",
        "  # Get the most likely beginning of answer with the argmax of the score\n",
        "  answer_start = np.argmax(answer_start_scores)\n",
        "  # Get the most likely end of answer with the argmax of the score\n",
        "  answer_end = np.argmax(answer_end_scores) + 1\n",
        "\n",
        "  input_ids = inputs[\"input_ids\"].tolist()[0]\n",
        "  answer = tokenizer.convert_tokens_to_string(tokenizer.convert_ids_to_tokens(input_ids[answer_start:answer_end]))\n",
        "\n",
        "  diff = perf_counter() - start\n",
        "  total += diff\n",
        "  \n",
        "  # print(f\"Question: {question}\")\n",
        "  # print(f\"Answer: {answer}\")\n",
        "\n",
        "onnx_mean_time_cpu_answer = round((total/num)*1000,2)\n",
        "print(f'average time: {onnx_mean_time_cpu_answer} ms')"
      ],
      "execution_count": 36,
      "outputs": [
        {
          "output_type": "stream",
          "name": "stdout",
          "text": [
            "average time: 0.06 ms\n"
          ]
        }
      ]
    },
    {
      "cell_type": "code",
      "metadata": {
        "colab": {
          "base_uri": "https://localhost:8080/"
        },
        "id": "VQyCmfZUX5nI",
        "outputId": "7a36052d-f07f-4ea2-c147-9c086495a2dd"
      },
      "source": [
        "print(f\"Question: {question}\")\n",
        "print(f\"Answer: {answer}\")"
      ],
      "execution_count": 37,
      "outputs": [
        {
          "output_type": "stream",
          "name": "stdout",
          "text": [
            "Question: Quando começou a pandemia de Covid-19 no mundo?\n",
            "Answer: 1 de dezembro de 2019\n"
          ]
        }
      ]
    },
    {
      "cell_type": "markdown",
      "metadata": {
        "id": "cQEOebWYVV5J"
      },
      "source": [
        "Then, we have the total time when the model is on the CPU:"
      ]
    },
    {
      "cell_type": "code",
      "metadata": {
        "colab": {
          "base_uri": "https://localhost:8080/"
        },
        "id": "UDRAppQ_VV5J",
        "outputId": "faef9365-5428-4d2e-8ce4-b33fb5c0ea69"
      },
      "source": [
        "onnx_total_cpu = round(onnx_mean_tokenizer + onnx_mean_time_cpu + onnx_mean_time_cpu_answer,2)\n",
        "print(f'time: {onnx_total_cpu} ms')"
      ],
      "execution_count": 38,
      "outputs": [
        {
          "output_type": "stream",
          "name": "stdout",
          "text": [
            "time: 713.12 ms\n"
          ]
        }
      ]
    },
    {
      "cell_type": "markdown",
      "metadata": {
        "id": "rDV-A-S_cxwR"
      },
      "source": [
        "### 3.1.4 Results with ONNX Runtime"
      ]
    },
    {
      "cell_type": "code",
      "metadata": {
        "colab": {
          "base_uri": "https://localhost:8080/",
          "height": 112
        },
        "id": "UcXeFapAzs2I",
        "outputId": "c5b49551-b38b-47ae-b2f8-5e8a27309909"
      },
      "source": [
        "import pandas as pd\n",
        "\n",
        "raw_data = {\n",
        "            'Latency on CPU (ms)': [mean_time_cpu, onnx_mean_time_cpu],\n",
        "            }\n",
        "\n",
        "df = pd.DataFrame(raw_data,\n",
        "                  index=pd.Index(['PyTorch (without pipeline)', 'ONNX Runtime']),\n",
        "                  columns=pd.Index(['Latency on CPU (ms)']))\n",
        "\n",
        "df"
      ],
      "execution_count": 39,
      "outputs": [
        {
          "output_type": "execute_result",
          "data": {
            "text/html": [
              "<div>\n",
              "<style scoped>\n",
              "    .dataframe tbody tr th:only-of-type {\n",
              "        vertical-align: middle;\n",
              "    }\n",
              "\n",
              "    .dataframe tbody tr th {\n",
              "        vertical-align: top;\n",
              "    }\n",
              "\n",
              "    .dataframe thead th {\n",
              "        text-align: right;\n",
              "    }\n",
              "</style>\n",
              "<table border=\"1\" class=\"dataframe\">\n",
              "  <thead>\n",
              "    <tr style=\"text-align: right;\">\n",
              "      <th></th>\n",
              "      <th>Latency on CPU (ms)</th>\n",
              "    </tr>\n",
              "  </thead>\n",
              "  <tbody>\n",
              "    <tr>\n",
              "      <th>PyTorch (without pipeline)</th>\n",
              "      <td>866.69</td>\n",
              "    </tr>\n",
              "    <tr>\n",
              "      <th>ONNX Runtime</th>\n",
              "      <td>712.35</td>\n",
              "    </tr>\n",
              "  </tbody>\n",
              "</table>\n",
              "</div>"
            ],
            "text/plain": [
              "                            Latency on CPU (ms)\n",
              "PyTorch (without pipeline)               866.69\n",
              "ONNX Runtime                             712.35"
            ]
          },
          "metadata": {},
          "execution_count": 39
        }
      ]
    },
    {
      "cell_type": "code",
      "metadata": {
        "colab": {
          "base_uri": "https://localhost:8080/",
          "height": 352
        },
        "id": "8By6zvp_cxwR",
        "outputId": "83266fd4-150f-438b-b307-8e56fb8d49e5"
      },
      "source": [
        "import numpy as np\n",
        "import matplotlib.pyplot as plt\n",
        "\n",
        "labels = ['CPU']\n",
        "data = [mean_time_cpu, onnx_mean_time_cpu]\n",
        "\n",
        "fig = plt.figure()\n",
        "ax = fig.add_axes([0,0,1,1])\n",
        "\n",
        "X = np.arange(1)\n",
        "ax.bar(X - 0.1, data[0], color = 'r', width = 0.2, label='PyTorch (without pipeline)')\n",
        "ax.bar(X + 0.1, data[1], color = 'g', width = 0.2, label='ONNX Runtime')\n",
        "\n",
        "# axes and title\n",
        "x = np.arange(len(labels))  # the label locations\n",
        "ax.set_xticks(x)\n",
        "ax.set_xticklabels(labels)\n",
        "ax.set_ylabel('Latency (ms)')\n",
        "ax.set_title('Inference latency (CPU)')\n",
        "\n",
        "leg = ax.legend();"
      ],
      "execution_count": 40,
      "outputs": [
        {
          "output_type": "display_data",
          "data": {
            "image/png": "[encoded data removed]",
            "text/plain": [
              "<Figure size 432x288 with 1 Axes>"
            ]
          },
          "metadata": {
            "needs_background": "light"
          }
        }
      ]
    },
    {
      "cell_type": "markdown",
      "metadata": {
        "id": "1WI18RL5cxwR"
      },
      "source": [
        "- ONNX Runtime helps improve latency on CPU (just a bit).\n",
        "- On CPU, using **ONNX Runtime** allows inferring up to **1.2 times faster** than with the PyTorch model (**632.58 ms** with ONNX Runtime)."
      ]
    },
    {
      "cell_type": "markdown",
      "metadata": {
        "id": "qPQdX75lWG1C"
      },
      "source": [
        "### 3.2 New method | transformers.onnx"
      ]
    },
    {
      "cell_type": "markdown",
      "metadata": {
        "id": "_lBK1y0UFjSO"
      },
      "source": [
        "(source: [Configuration-based approach](https://huggingface.co/transformers/master/serialization.html#configuration-based-approach)) Transformers v4.9.0 introduces a new package: `transformers.onnx`. **This package allows converting checkpoints to an ONNX graph by leveraging configuration objects.** These configuration objects come ready made for a number of model architectures, and are made to be easily extendable to other architectures.\n",
        "\n",
        "Ready-made configurations include the following models:\n",
        "\n",
        "````\n",
        "ALBERT\n",
        "BART\n",
        "BERT\n",
        "DistilBERT\n",
        "GPT Neo\n",
        "LayoutLM\n",
        "Longformer\n",
        "mBART\n",
        "OpenAI GPT-2\n",
        "RoBERTa\n",
        "T5\n",
        "XLM-RoBERTa\n",
        "````"
      ]
    },
    {
      "cell_type": "markdown",
      "metadata": {
        "id": "LdKK7nYXWib8"
      },
      "source": [
        "Run `transformers.onnx` (or the conversion script located at [transformers/convert_graph_to_onnx.py](https://github.com/huggingface/transformers/blob/master/src/transformers/convert_graph_to_onnx.py)). This script takes a few arguments such as the model to be exported and the framework you want to export from (PyTorch or TensorFlow)."
      ]
    },
    {
      "cell_type": "markdown",
      "metadata": {
        "id": "8taFL-OHddE_"
      },
      "source": [
        "**WARNING**: which arguments to use?"
      ]
    },
    {
      "cell_type": "markdown",
      "metadata": {
        "id": "mKf91Ju0Wib8"
      },
      "source": [
        "It will be exported under `onnx/pierreguillou-bert-base-cased-squad-v1.1-portuguese`."
      ]
    },
    {
      "cell_type": "code",
      "metadata": {
        "colab": {
          "base_uri": "https://localhost:8080/"
        },
        "id": "X-sH97kXWib8",
        "outputId": "162e5db4-d499-4b33-e709-03ad88c70138"
      },
      "source": [
        "%%time\n",
        "model_checkpoint_onnx = 'onnx/' + model_checkpoint.replace('/','-')\n",
        "\n",
        "!python -m transformers.onnx --model {model_checkpoint} {model_checkpoint_onnx}"
      ],
      "execution_count": null,
      "outputs": [
        {
          "name": "stdout",
          "output_type": "stream",
          "text": [
            "Some weights of the model checkpoint at pierreguillou/bert-base-cased-squad-v1.1-portuguese were not used when initializing BertModel: ['qa_outputs.bias', 'qa_outputs.weight']\n",
            "- This IS expected if you are initializing BertModel from the checkpoint of a model trained on another task or with another architecture (e.g. initializing a BertForSequenceClassification model from a BertForPreTraining model).\n",
            "- This IS NOT expected if you are initializing BertModel from the checkpoint of a model that you expect to be exactly identical (initializing a BertForSequenceClassification model from a BertForSequenceClassification model).\n",
            "Some weights of BertModel were not initialized from the model checkpoint at pierreguillou/bert-base-cased-squad-v1.1-portuguese and are newly initialized: ['bert.pooler.dense.weight', 'bert.pooler.dense.bias']\n",
            "You should probably TRAIN this model on a down-stream task to be able to use it for predictions and inference.\n",
            "Using framework PyTorch: 1.9.0+cu111\n",
            "Overriding 1 configuration item(s)\n",
            "\t- use_cache -> False\n",
            "Validating ONNX model...\n",
            "\t-[✓] ONNX model outputs' name match reference model ({'last_hidden_state', 'pooler_output'}\n",
            "\t- Validating ONNX Model output \"last_hidden_state\":\n",
            "\t\t-[✓] (2, 8, 768) matches (2, 8, 768)\n",
            "\t\t-[✓] all values close (atol: 0.0001)\n",
            "\t- Validating ONNX Model output \"pooler_output\":\n",
            "\t\t-[✓] (2, 768) matches (2, 768)\n",
            "\t\t-[✓] all values close (atol: 0.0001)\n",
            "All good, model saved at: onnx/pierreguillou-bert-base-cased-squad-v1.1-portuguese/model.onnx\n",
            "CPU times: user 119 ms, sys: 143 ms, total: 262 ms\n",
            "Wall time: 16.8 s\n"
          ]
        }
      ]
    },
    {
      "cell_type": "markdown",
      "metadata": {
        "id": "cKopthXBSXAP"
      },
      "source": [
        "The outputs can be obtained by taking a look at the ONNX configuration of each model. For example, for BERT:"
      ]
    },
    {
      "cell_type": "code",
      "metadata": {
        "colab": {
          "base_uri": "https://localhost:8080/"
        },
        "id": "M-KOpz6RSIH1",
        "outputId": "f2735777-daa2-4ea4-f17c-5115f6e27120"
      },
      "source": [
        "from transformers.models.bert import BertOnnxConfig, BertConfig\n",
        "\n",
        "config = BertConfig()\n",
        "onnx_config = BertOnnxConfig(config)\n",
        "output_keys = list(onnx_config.outputs.keys())\n",
        "output_keys"
      ],
      "execution_count": null,
      "outputs": [
        {
          "data": {
            "text/plain": [
              "['last_hidden_state', 'pooler_output']"
            ]
          },
          "execution_count": 52,
          "metadata": {},
          "output_type": "execute_result"
        }
      ]
    },
    {
      "cell_type": "markdown",
      "metadata": {
        "id": "rQvqPtLaY3tG"
      },
      "source": [
        "**WARNING**: these outputs do not allow to get an answer!!!!!"
      ]
    },
    {
      "cell_type": "markdown",
      "metadata": {
        "id": "SC7iQP-sdjpR"
      },
      "source": [
        "We can not continue. "
      ]
    },
    {
      "cell_type": "code",
      "metadata": {
        "id": "0yk6QyZyKv4k"
      },
      "source": [
        "# import onnxruntime as ort\n",
        "# ort_session = ort.InferenceSession('onnx/pierreguillou-bert-base-cased-squad-v1.1-portuguese/model.onnx')"
      ],
      "execution_count": null,
      "outputs": []
    },
    {
      "cell_type": "markdown",
      "metadata": {
        "id": "5K4w5U7u0nKI"
      },
      "source": [
        "## 4. Inference time | TorchScript"
      ]
    },
    {
      "cell_type": "markdown",
      "metadata": {
        "id": "TSA0tteRsiz1"
      },
      "source": [
        "source: https://huggingface.co/transformers/serialization.html#torchscript"
      ]
    },
    {
      "cell_type": "markdown",
      "metadata": {
        "id": "0cmuvCVLsovC"
      },
      "source": [
        "According to Pytorch’s documentation: “TorchScript is a way to create serializable and optimizable models from PyTorch code”. Pytorch’s two modules JIT and TRACE allow the developer to export their model to be re-used in other programs, such as efficiency-oriented C++ programs."
      ]
    },
    {
      "cell_type": "markdown",
      "metadata": {
        "id": "rhJM05N8svj1"
      },
      "source": [
        "Hugging Face provided an interface that allows the export of 🤗 Transformers models to TorchScript so that they can be reused in a different environment than a Pytorch-based python program. "
      ]
    },
    {
      "cell_type": "code",
      "metadata": {
        "id": "2Wt7_TL5P9ZM"
      },
      "source": [
        "from transformers import AutoTokenizer, AutoModelForQuestionAnswering\n",
        "\n",
        "tokenizer = AutoTokenizer.from_pretrained(model_checkpoint, use_fast=True, torchscript=True)\n",
        "model = AutoModelForQuestionAnswering.from_pretrained(model_checkpoint, torchscript=True)\n",
        "model.eval();"
      ],
      "execution_count": 41,
      "outputs": []
    },
    {
      "cell_type": "markdown",
      "metadata": {
        "id": "hOG6K7tZqK2C"
      },
      "source": [
        "### 4.1 Tokenize the inputs"
      ]
    },
    {
      "cell_type": "code",
      "metadata": {
        "colab": {
          "base_uri": "https://localhost:8080/"
        },
        "id": "OijtuOCLqK2D",
        "outputId": "21e81cf4-dfe5-4f20-fd9b-4c7340e3eb98"
      },
      "source": [
        "num=100\n",
        "\n",
        "total = 0\n",
        "for i in range(num):\n",
        "  start = perf_counter()\n",
        "  inputs = tokenizer(question, context, add_special_tokens=True, return_tensors=\"pt\")\n",
        "  diff = perf_counter() - start\n",
        "  total += diff\n",
        "\n",
        "torchscript_mean_tokenizer = round((total/num)*1000,2)\n",
        "print(f'average time: {torchscript_mean_tokenizer} ms')"
      ],
      "execution_count": 42,
      "outputs": [
        {
          "output_type": "stream",
          "name": "stdout",
          "text": [
            "average time: 0.75 ms\n"
          ]
        }
      ]
    },
    {
      "cell_type": "markdown",
      "metadata": {
        "id": "0x_8BGWzQ8Yi"
      },
      "source": [
        "### 4.2 Model on CPU"
      ]
    },
    {
      "cell_type": "code",
      "metadata": {
        "colab": {
          "base_uri": "https://localhost:8080/"
        },
        "id": "AhQwT81X8kk1",
        "outputId": "5e088704-a29e-45c2-b425-04a5b6753fd1"
      },
      "source": [
        "# put model and inputs to cpu\n",
        "model = model.to('cpu')\n",
        "inputs = inputs.to('cpu')\n",
        "\n",
        "# get mean time\n",
        "with torch.no_grad():\n",
        "  traced_model = torch.jit.trace(model, [inputs.input_ids,inputs.token_type_ids,inputs.attention_mask])\n",
        "  torchscript_mean_time_cpu = round(np.mean([timer(traced_model,inputs.input_ids,inputs.token_type_ids,inputs.attention_mask) for _ in range(100)]))\n",
        "print(f'{torchscript_mean_time_cpu}ms')"
      ],
      "execution_count": 43,
      "outputs": [
        {
          "output_type": "stream",
          "name": "stdout",
          "text": [
            "847ms\n"
          ]
        }
      ]
    },
    {
      "cell_type": "markdown",
      "metadata": {
        "id": "WABOBcVIqyBx"
      },
      "source": [
        "### 4.3 Results with TorchScript"
      ]
    },
    {
      "cell_type": "code",
      "metadata": {
        "colab": {
          "base_uri": "https://localhost:8080/",
          "height": 143
        },
        "id": "IhqwdJPGqyBy",
        "outputId": "11fa0e4d-95b2-4491-a327-7fdf4dd54db1"
      },
      "source": [
        "import pandas as pd\n",
        "\n",
        "raw_data = {\n",
        "            'Latency on CPU (ms)': [mean_time_cpu, onnx_mean_time_cpu, torchscript_mean_time_cpu],\n",
        "            }\n",
        "\n",
        "df = pd.DataFrame(raw_data,\n",
        "                  index=pd.Index(['PyTorch (without pipeline)', 'ONNX Runtime', 'TorchScript']),\n",
        "                  columns=pd.Index(['Latency on CPU (ms)']))\n",
        "\n",
        "df"
      ],
      "execution_count": 44,
      "outputs": [
        {
          "output_type": "execute_result",
          "data": {
            "text/html": [
              "<div>\n",
              "<style scoped>\n",
              "    .dataframe tbody tr th:only-of-type {\n",
              "        vertical-align: middle;\n",
              "    }\n",
              "\n",
              "    .dataframe tbody tr th {\n",
              "        vertical-align: top;\n",
              "    }\n",
              "\n",
              "    .dataframe thead th {\n",
              "        text-align: right;\n",
              "    }\n",
              "</style>\n",
              "<table border=\"1\" class=\"dataframe\">\n",
              "  <thead>\n",
              "    <tr style=\"text-align: right;\">\n",
              "      <th></th>\n",
              "      <th>Latency on CPU (ms)</th>\n",
              "    </tr>\n",
              "  </thead>\n",
              "  <tbody>\n",
              "    <tr>\n",
              "      <th>PyTorch (without pipeline)</th>\n",
              "      <td>866.69</td>\n",
              "    </tr>\n",
              "    <tr>\n",
              "      <th>ONNX Runtime</th>\n",
              "      <td>712.35</td>\n",
              "    </tr>\n",
              "    <tr>\n",
              "      <th>TorchScript</th>\n",
              "      <td>847.00</td>\n",
              "    </tr>\n",
              "  </tbody>\n",
              "</table>\n",
              "</div>"
            ],
            "text/plain": [
              "                            Latency on CPU (ms)\n",
              "PyTorch (without pipeline)               866.69\n",
              "ONNX Runtime                             712.35\n",
              "TorchScript                              847.00"
            ]
          },
          "metadata": {},
          "execution_count": 44
        }
      ]
    },
    {
      "cell_type": "code",
      "metadata": {
        "colab": {
          "base_uri": "https://localhost:8080/",
          "height": 352
        },
        "id": "4z7trW6yqyBz",
        "outputId": "e39f8817-02df-4063-e894-03ec0fe1aa53"
      },
      "source": [
        "import numpy as np\n",
        "import matplotlib.pyplot as plt\n",
        "\n",
        "labels = ['CPU']\n",
        "data = [mean_time_cpu, onnx_mean_time_cpu, torchscript_mean_time_cpu]\n",
        "\n",
        "fig = plt.figure()\n",
        "ax = fig.add_axes([0,0,1,1])\n",
        "\n",
        "X = np.arange(1)\n",
        "ax.bar(X - 0.2, data[0], color = 'r', width = 0.2, label='PyTorch (without pipeline)')\n",
        "ax.bar(X, data[1], color = 'g', width = 0.2, label='ONNX Runtime')\n",
        "ax.bar(X + 0.2, data[2], color = 'b', width = 0.2, label='TorchScript')\n",
        "\n",
        "# axes and title\n",
        "x = np.arange(len(labels))  # the label locations\n",
        "ax.set_xticks(x)\n",
        "ax.set_xticklabels(labels)\n",
        "ax.set_ylabel('Latency (ms)')\n",
        "ax.set_title('Inference latency (CPU)')\n",
        "\n",
        "leg = ax.legend();"
      ],
      "execution_count": 45,
      "outputs": [
        {
          "output_type": "display_data",
          "data": {
            "image/png": "[encoded data removed]",
            "text/plain": [
              "<Figure size 432x288 with 1 Axes>"
            ]
          },
          "metadata": {
            "needs_background": "light"
          }
        }
      ]
    },
    {
      "cell_type": "markdown",
      "metadata": {
        "id": "8Emg1-pErnr2"
      },
      "source": [
        "- TorchScript does not help improve latency on CPU.\n",
        "- On CPU, it's better to use **ONNX Runtime**."
      ]
    },
    {
      "cell_type": "markdown",
      "metadata": {
        "id": "uMgo0Poja70v"
      },
      "source": [
        "# END"
      ]
    }
  ]
}