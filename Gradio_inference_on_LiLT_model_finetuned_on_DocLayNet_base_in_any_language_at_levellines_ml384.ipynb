{
  "cells": [
    {
      "cell_type": "markdown",
      "metadata": {
        "id": "XznbrlmEuJC5"
      },
      "source": [
        "# Document AI | Inference APP at line level with a Document Understanding model (LiLT fine-tuned on DocLayNet dataset)"
      ]
    },
    {
      "cell_type": "markdown",
      "metadata": {
        "id": "LW1SgajBuTuy"
      },
      "source": [
        "- Credit: \n",
        "  - notebook created from the notebook [Fine_tune_LiLT_on_a_custom_dataset_in_any_language.ipynb](https://github.com/NielsRogge/Transformers-Tutorials/blob/master/LiLT/Fine_tune_LiLT_on_a_custom_dataset%2C_in_any_language.ipynb) of [Niels ROGGE](https://github.com/NielsRogge)\n",
        "  -  dataset from IBM Research ([DocLayNet](https://github.com/DS4SD/DocLayNet))\n",
        "- Author of this notebook: [Pierre GUILLOU](https://www.linkedin.com/in/pierreguillou/)\n",
        "- Blog post: [Document AI | Document Understanding model at line level with LiLT and DocLayNet dataset](https://medium.com/@pierre_guillou/document-ai-document-understanding-model-at-line-level-with-lilt-tesseract-and-doclaynet-dataset-347107a643b8)\n",
        "- Other notebooks: \n",
        "  - [Document AI | Fine-tune LiLT on DocLayNet base in any language at line level (chunk of 384 tokens with overlap)](https://github.com/piegu/language-models/blob/master/Fine_tune_LiLT_on_DocLayNet_base_in_any_language_at_linelevel_ml_384.ipynb)\n",
        "  - [Document AI | Inference at line level with a Document Understanding model (LiLT fine-tuned on DocLayNet dataset)](https://github.com/piegu/language-models/blob/master/inference_on_LiLT_model_finetuned_on_DocLayNet_base_in_any_language_at_levellines_ml384.ipynb)\n",
        "- Date: 02/12/2023"
      ]
    },
    {
      "cell_type": "markdown",
      "metadata": {
        "id": "FpHg6WpKqVyV"
      },
      "source": [
        "## Inference at line level"
      ]
    },
    {
      "cell_type": "markdown",
      "metadata": {
        "id": "7GYz14mjI30i"
      },
      "source": [
        "LiLT (Language-Independent Layout Transformer) is a Document Understanding model that uses both layout and text in order to detect labels of bounding boxes.\n",
        "\n",
        "It relies on an external OCR engine to get words and bboxes from the document image. Thus, let's run in this APP an OCR engine ourselves ([PyTesseract](https://github.com/madmaze/pytesseract#python-tesseract)) as we'll need to do it in real life to get the bounding boxes, then run LiLT (already fine-tuned on the DocLayNet dataset at line level: [pierreguillou/lilt-xlm-roberta-base-finetuned-with-DocLayNet-base-at-linelevel-ml384](https://huggingface.co/pierreguillou/lilt-xlm-roberta-base-finetuned-with-DocLayNet-base-at-linelevel-ml384)) on the individual tokens and visualize the result at line level!"
      ]
    },
    {
      "cell_type": "markdown",
      "metadata": {
        "id": "-TEUFTN_ngoo"
      },
      "source": [
        "## Install PDF2image, LangDetect & PyTesseract OCR "
      ]
    },
    {
      "cell_type": "markdown",
      "metadata": {
        "id": "bflle1CCngoo"
      },
      "source": [
        "### PDF2image"
      ]
    },
    {
      "cell_type": "code",
      "execution_count": 19,
      "metadata": {
        "id": "yVYWSQdNngoo"
      },
      "outputs": [],
      "source": [
        "%%capture\n",
        "!apt-get install poppler-utils\n",
        "!pip install pdf2image"
      ]
    },
    {
      "cell_type": "markdown",
      "source": [
        "### LangDetect"
      ],
      "metadata": {
        "id": "mnfTZnF4mQbh"
      }
    },
    {
      "cell_type": "code",
      "source": [
        "!pip install -q langdetect"
      ],
      "metadata": {
        "id": "ifCo1BUsmRqk"
      },
      "execution_count": 20,
      "outputs": []
    },
    {
      "cell_type": "markdown",
      "metadata": {
        "id": "ibTxXBjfngop"
      },
      "source": [
        "### Tesseract OCR"
      ]
    },
    {
      "cell_type": "code",
      "execution_count": 21,
      "metadata": {
        "id": "nJr6VB10ngop"
      },
      "outputs": [],
      "source": [
        "%%capture\n",
        "!sudo apt install tesseract-ocr-all # english + osd (Orientation and script detection module)\n",
        "# !sudo apt-get install tesseract-ocr-por # portuguese\n",
        "\n",
        "import os\n",
        "print(os.popen(f'cat /etc/debian_version').read())\n",
        "print(os.popen(f'cat /etc/issue').read())\n",
        "print(os.popen(f'apt search tesseract').read())\n",
        "\n",
        "!pip install pytesseract"
      ]
    },
    {
      "cell_type": "markdown",
      "metadata": {
        "id": "kv0y3aXf8Vv8"
      },
      "source": [
        "## Kill runtime"
      ]
    },
    {
      "cell_type": "markdown",
      "source": [
        "In Colab, it is needed in order to update libraries with their new installed version (pillow)."
      ],
      "metadata": {
        "id": "aN1xa3OvC8IU"
      }
    },
    {
      "cell_type": "code",
      "source": [
        "import os\n",
        "os.kill(os.getpid(), 9)"
      ],
      "metadata": {
        "id": "AJssRCQYW7AM"
      },
      "execution_count": null,
      "outputs": []
    },
    {
      "cell_type": "markdown",
      "source": [
        "## Set-up environment"
      ],
      "metadata": {
        "id": "XkVI_eWTDaAb"
      }
    },
    {
      "cell_type": "markdown",
      "metadata": {
        "id": "gA3leN0cdb3g"
      },
      "source": [
        "### Libraries"
      ]
    },
    {
      "cell_type": "code",
      "execution_count": 1,
      "metadata": {
        "id": "-bkmxJuxdb3g"
      },
      "outputs": [],
      "source": [
        "!pip install -q transformers datasets gradio pypdf"
      ]
    },
    {
      "cell_type": "code",
      "execution_count": 2,
      "metadata": {
        "id": "vgk_wOQ8xezs"
      },
      "outputs": [],
      "source": [
        "import os \n",
        "from operator import itemgetter\n",
        "import collections\n",
        "import string\n",
        "import re\n",
        "\n",
        "import pypdf\n",
        "from pypdf import PdfReader\n",
        "from pypdf.errors import PdfReadError\n",
        "\n",
        "import pdf2image\n",
        "from pdf2image import convert_from_path\n",
        "import langdetect\n",
        "from langdetect import detect_langs\n",
        "import pytesseract\n",
        "\n",
        "import pandas as pd\n",
        "import numpy as np\n",
        "import random\n",
        "from google.colab import files\n",
        "\n",
        "import tempfile\n",
        "from matplotlib import font_manager\n",
        "from PIL import Image, ImageDraw, ImageFont\n",
        "import cv2\n",
        "# In Colab, use cv2_imshow instead of cv2.imshow\n",
        "from google.colab.patches import cv2_imshow\n",
        "from IPython.display import display\n",
        "\n",
        "import itertools\n",
        "import gradio as gr\n",
        "\n",
        "import pathlib\n",
        "from pathlib import Path\n",
        "import shutil"
      ]
    },
    {
      "cell_type": "markdown",
      "source": [
        "### Key parameters"
      ],
      "metadata": {
        "id": "TrlF26R14NYP"
      }
    },
    {
      "cell_type": "code",
      "source": [
        "# categories colors\n",
        "label2color = {\n",
        "    'Caption': 'brown',\n",
        "    'Footnote': 'orange',\n",
        "    'Formula': 'gray',\n",
        "    'List-item': 'yellow',\n",
        "    'Page-footer': 'red',\n",
        "    'Page-header': 'red',\n",
        "    'Picture': 'violet',\n",
        "    'Section-header': 'orange',\n",
        "    'Table': 'green',\n",
        "    'Text': 'blue',\n",
        "    'Title': 'pink'\n",
        "    }\n",
        "\n",
        "# bounding boxes start and end of a sequence\n",
        "cls_box = [0, 0, 0, 0]\n",
        "sep_box = cls_box\n",
        "\n",
        "# model\n",
        "model_id = \"pierreguillou/lilt-xlm-roberta-base-finetuned-with-DocLayNet-base-at-linelevel-ml384\"\n",
        "\n",
        "# (tokenization) The maximum length of a feature (sequence)\n",
        "if str(384) in model_id:\n",
        "  max_length = 384 \n",
        "elif str(512) in model_id:\n",
        "  max_length = 512 \n",
        "else:\n",
        "  print(\"Error with max_length of chunks!\")\n",
        "\n",
        "# (tokenization) overlap\n",
        "doc_stride = 128 # The authorized overlap between two part of the context when splitting it is needed.\n",
        "\n",
        "# max PDF page images that will be displayed\n",
        "max_imgboxes = 2\n",
        "\n",
        "# get files\n",
        "examples_dir = 'files/'\n",
        "Path(examples_dir).mkdir(parents=True, exist_ok=True)\n",
        "from huggingface_hub import hf_hub_download\n",
        "files = [\"example.pdf\", \"blank.pdf\", \"blank.png\", \"languages_iso.csv\", \"languages_tesseract.csv\", \"wo_content.png\"]\n",
        "for file_name in files:\n",
        "    path_to_file = hf_hub_download(\n",
        "        repo_id = \"pierreguillou/Inference-APP-Document-Understanding-at-linelevel-v1\",\n",
        "        filename = \"files/\" + file_name,\n",
        "        repo_type = \"space\"\n",
        "        )\n",
        "    shutil.copy(path_to_file,examples_dir)\n",
        "\n",
        "# path to files\n",
        "image_wo_content = examples_dir + \"wo_content.png\" # image without content\n",
        "pdf_blank = examples_dir + \"blank.pdf\" # blank PDF\n",
        "image_blank = examples_dir + \"blank.png\" # blank image\n",
        "\n",
        "## get langdetect2Tesseract dictionary\n",
        "t = \"files/languages_tesseract.csv\"\n",
        "l = \"files/languages_iso.csv\"\n",
        "\n",
        "df_t = pd.read_csv(t)\n",
        "df_l = pd.read_csv(l)\n",
        "\n",
        "langs_t = df_t[\"Language\"].to_list()\n",
        "langs_t = [lang_t.lower().strip().translate(str.maketrans('', '', string.punctuation)) for lang_t in langs_t]\n",
        "langs_l = df_l[\"Language\"].to_list()\n",
        "langs_l = [lang_l.lower().strip().translate(str.maketrans('', '', string.punctuation)) for lang_l in langs_l]\n",
        "langscode_t = df_t[\"LangCode\"].to_list()\n",
        "langscode_l = df_l[\"LangCode\"].to_list()\n",
        "\n",
        "Tesseract2langdetect, langdetect2Tesseract = dict(), dict()\n",
        "for lang_t, langcode_t in zip(langs_t,langscode_t):\n",
        "  try:\n",
        "    if lang_t == \"Chinese - Simplified\".lower().strip().translate(str.maketrans('', '', string.punctuation)): lang_t = \"chinese\"\n",
        "    index = langs_l.index(lang_t)\n",
        "    langcode_l = langscode_l[index]\n",
        "    Tesseract2langdetect[langcode_t] = langcode_l\n",
        "  except: \n",
        "    continue\n",
        "\n",
        "langdetect2Tesseract = {v:k for k,v in Tesseract2langdetect.items()}"
      ],
      "metadata": {
        "id": "M5lNEstH4P39"
      },
      "execution_count": 3,
      "outputs": []
    },
    {
      "cell_type": "markdown",
      "source": [
        "### Functions"
      ],
      "metadata": {
        "id": "vTaFBY91nUWa"
      }
    },
    {
      "cell_type": "markdown",
      "source": [
        "#### General"
      ],
      "metadata": {
        "id": "WO1bn3pmNzmX"
      }
    },
    {
      "cell_type": "code",
      "source": [
        "# get text and bounding boxes from an image\n",
        "# https://stackoverflow.com/questions/61347755/how-can-i-get-line-coordinates-that-readed-by-tesseract\n",
        "# https://medium.com/geekculture/tesseract-ocr-understanding-the-contents-of-documents-beyond-their-text-a98704b7c655\n",
        "def get_data(results, factor, conf_min=0):\n",
        "\n",
        "  data = {}\n",
        "  for i in range(len(results['line_num'])):\n",
        "    level = results['level'][i]\n",
        "    block_num = results['block_num'][i]\n",
        "    par_num = results['par_num'][i]\n",
        "    line_num = results['line_num'][i]\n",
        "    top, left = results['top'][i], results['left'][i]\n",
        "    width, height = results['width'][i], results['height'][i]\n",
        "    conf = results['conf'][i]\n",
        "    text = results['text'][i]\n",
        "    if not (text == '' or text.isspace()):\n",
        "      if conf >= conf_min:\n",
        "        tup = (text, left, top, width, height)\n",
        "        if block_num in list(data.keys()):\n",
        "          if par_num in list(data[block_num].keys()):\n",
        "            if line_num in list(data[block_num][par_num].keys()):\n",
        "              data[block_num][par_num][line_num].append(tup)\n",
        "            else:\n",
        "              data[block_num][par_num][line_num] = [tup]\n",
        "          else:\n",
        "            data[block_num][par_num] = {}\n",
        "            data[block_num][par_num][line_num] = [tup]\n",
        "        else:\n",
        "            data[block_num] = {}\n",
        "            data[block_num][par_num] = {}\n",
        "            data[block_num][par_num][line_num] = [tup]\n",
        "\n",
        "  # get paragraphs dicionnary with list of lines\n",
        "  par_data = {}\n",
        "  par_idx = 1\n",
        "  for _, b  in data.items():\n",
        "    for _, p in b.items():\n",
        "      line_data = {}\n",
        "      line_idx = 1\n",
        "      for _, l in p.items():\n",
        "        line_data[line_idx] = l\n",
        "        line_idx += 1\n",
        "      par_data[par_idx] = line_data \n",
        "      par_idx += 1\n",
        "\n",
        "  # get lines of texts, grouped by paragraph\n",
        "  lines = list()\n",
        "  row_indexes = list()\n",
        "  row_index = 0\n",
        "  for _,par in par_data.items():\n",
        "    count_lines = 0\n",
        "    for _,line in par.items():\n",
        "      if count_lines == 0: row_indexes.append(row_index)\n",
        "      line_text = ' '.join([item[0] for item in line])\n",
        "      lines.append(line_text)\n",
        "      count_lines += 1\n",
        "      row_index += 1\n",
        "    # lines.append(\"\\n\")\n",
        "    row_index += 1\n",
        "  # lines = lines[:-1]\n",
        "  \n",
        "  # get paragraphes boxes (par_boxes)\n",
        "  # get lines boxes (line_boxes)\n",
        "  par_boxes = list()\n",
        "  par_idx = 1\n",
        "  line_boxes = list()\n",
        "  line_idx = 1\n",
        "  for _, par in par_data.items():\n",
        "    xmins, ymins, xmaxs, ymaxs = list(), list(), list(), list()\n",
        "    for _, line in par.items():\n",
        "      xmin, ymin = line[0][1], line[0][2]\n",
        "      xmax, ymax = (line[-1][1] + line[-1][3]), (line[-1][2] + line[-1][4])\n",
        "      line_boxes.append([int(xmin/factor), int(ymin/factor), int(xmax/factor), int(ymax/factor)])\n",
        "      xmins.append(xmin)\n",
        "      ymins.append(ymin)\n",
        "      xmaxs.append(xmax)\n",
        "      ymaxs.append(ymax)\n",
        "      line_idx += 1\n",
        "    xmin, ymin, xmax, ymax = min(xmins), min(ymins), max(xmaxs), max(ymaxs)\n",
        "    par_boxes.append([int(xmin/factor), int(ymin/factor), int(xmax/factor), int(ymax/factor)])\n",
        "    par_idx += 1\n",
        "\n",
        "  return lines, row_indexes, par_boxes, line_boxes #data, par_data #\n",
        "\n",
        "# rescale image to get 300dpi\n",
        "def set_image_dpi_resize(image):\n",
        "    \"\"\"\n",
        "    Rescaling image to 300dpi while resizing\n",
        "    :param image: An image\n",
        "    :return: A rescaled image\n",
        "    \"\"\"\n",
        "    length_x, width_y = image.size\n",
        "    factor = min(1, float(1024.0 / length_x))\n",
        "    size = int(factor * length_x), int(factor * width_y)\n",
        "    image_resize = image.resize(size, Image.Resampling.LANCZOS)\n",
        "    temp_file = tempfile.NamedTemporaryFile(delete=False, suffix='1.png')\n",
        "    temp_filename = temp_file.name\n",
        "    image_resize.save(temp_filename, dpi=(300, 300))\n",
        "    return factor, temp_filename"
      ],
      "metadata": {
        "id": "cTBsm30Wkd-2"
      },
      "execution_count": 4,
      "outputs": []
    },
    {
      "cell_type": "code",
      "source": [
        "# it is important that each bounding box should be in (upper left, lower right) format.\n",
        "# source: https://github.com/NielsRogge/Transformers-Tutorials/issues/129\n",
        "def upperleft_to_lowerright(bbox):\n",
        "  x0, y0, x1, y1 = tuple(bbox)\n",
        "  if bbox[2] < bbox[0]:\n",
        "    x0 = bbox[2]\n",
        "    x1 = bbox[0] \n",
        "  if bbox[3] < bbox[1]:\n",
        "    y0 = bbox[3]\n",
        "    y1 = bbox[1] \n",
        "  return [x0, y0, x1, y1]\n",
        "\n",
        "# convert boundings boxes (left, top, width, height) format to (left, top, left+widght, top+height) format. \n",
        "def convert_box(bbox):\n",
        "    x, y, w, h = tuple(bbox) # the row comes in (left, top, width, height) format\n",
        "    return [x, y, x+w, y+h] # we turn it into (left, top, left+widght, top+height) to get the actual box \n",
        "\n",
        "# LiLT model gets 1000x10000 pixels images\n",
        "def normalize_box(bbox, width, height):\n",
        "    return [\n",
        "        int(1000 * (bbox[0] / width)),\n",
        "        int(1000 * (bbox[1] / height)),\n",
        "        int(1000 * (bbox[2] / width)),\n",
        "        int(1000 * (bbox[3] / height)),\n",
        "    ]\n",
        "\n",
        "# LiLT model gets 1000x10000 pixels images\n",
        "def denormalize_box(bbox, width, height):\n",
        "    return [\n",
        "        int(width * (bbox[0] / 1000)),\n",
        "        int(height * (bbox[1] / 1000)),\n",
        "        int(width* (bbox[2] / 1000)),\n",
        "        int(height * (bbox[3] / 1000)),\n",
        "    ]\n",
        "\n",
        "# get back original size\n",
        "def original_box(box, original_width, original_height, coco_width, coco_height):\n",
        "    return [\n",
        "        int(original_width * (box[0] / coco_width)),\n",
        "        int(original_height * (box[1] / coco_height)),\n",
        "        int(original_width * (box[2] / coco_width)),\n",
        "        int(original_height* (box[3] / coco_height)),\n",
        "    ]\n",
        "\n",
        "def get_blocks(bboxes_block, categories, texts):\n",
        "\n",
        " # get list of unique block boxes\n",
        "    bbox_block_dict, bboxes_block_list, bbox_block_prec = dict(), list(), list()\n",
        "    for count_block, bbox_block in enumerate(bboxes_block):\n",
        "      if bbox_block != bbox_block_prec:\n",
        "        bbox_block_indexes = [i for i, bbox in enumerate(bboxes_block) if bbox == bbox_block]\n",
        "        bbox_block_dict[count_block] = bbox_block_indexes\n",
        "        bboxes_block_list.append(bbox_block)\n",
        "      bbox_block_prec = bbox_block\n",
        "\n",
        "    # get list of categories and texts by unique block boxes\n",
        "    category_block_list, text_block_list = list(), list()\n",
        "    for bbox_block in bboxes_block_list:\n",
        "      count_block = bboxes_block.index(bbox_block)\n",
        "      bbox_block_indexes = bbox_block_dict[count_block]\n",
        "      category_block = np.array(categories, dtype=object)[bbox_block_indexes].tolist()[0]\n",
        "      category_block_list.append(category_block)\n",
        "      text_block = np.array(texts, dtype=object)[bbox_block_indexes].tolist()\n",
        "      text_block = [text.replace(\"\\n\",\"\").strip() for text in text_block]\n",
        "      if id2label[category_block] == \"Text\" or id2label[category_block] == \"Caption\" or id2label[category_block] == \"Footnote\":\n",
        "        text_block = ' '.join(text_block)\n",
        "      else:\n",
        "        text_block = '\\n'.join(text_block)\n",
        "      text_block_list.append(text_block)\n",
        "\n",
        "    return bboxes_block_list, category_block_list, text_block_list\n",
        "\n",
        "# function to sort bounding boxes\n",
        "def get_sorted_boxes(bboxes):\n",
        "\n",
        "  # sort by y from page top to bottom \n",
        "  sorted_bboxes = sorted(bboxes, key=itemgetter(1), reverse=False)\n",
        "  y_list = [bbox[1] for bbox in sorted_bboxes]\n",
        "\n",
        "  # sort by x from page left to right when boxes with same y\n",
        "  if len(list(set(y_list))) != len(y_list):\n",
        "    y_list_duplicates_indexes = dict()\n",
        "    y_list_duplicates = [item for item, count in collections.Counter(y_list).items() if count > 1]\n",
        "    for item in y_list_duplicates:\n",
        "      y_list_duplicates_indexes[item] = [i for i, e in enumerate(y_list) if e == item]\n",
        "      bbox_list_y_duplicates = sorted(np.array(sorted_bboxes, dtype=object)[y_list_duplicates_indexes[item]].tolist(), key=itemgetter(0), reverse=False)\n",
        "      np_array_bboxes = np.array(sorted_bboxes)\n",
        "      np_array_bboxes[y_list_duplicates_indexes[item]] = np.array(bbox_list_y_duplicates)\n",
        "      sorted_bboxes = np_array_bboxes.tolist()\n",
        "\n",
        "  return sorted_bboxes\n",
        "\n",
        "# sort data from y = 0 to end of page (and after, x=0 to end of page when necessary)\n",
        "def sort_data(bboxes, categories, texts):\n",
        "\n",
        "    sorted_bboxes = get_sorted_boxes(bboxes)\n",
        "    sorted_bboxes_indexes = [bboxes.index(bbox) for bbox in sorted_bboxes]\n",
        "    sorted_categories = np.array(categories, dtype=object)[sorted_bboxes_indexes].tolist()\n",
        "    sorted_texts = np.array(texts, dtype=object)[sorted_bboxes_indexes].tolist()\n",
        "\n",
        "    return sorted_bboxes, sorted_categories, sorted_texts\n",
        "\n",
        "# sort data from y = 0 to end of page (and after, x=0 to end of page when necessary)\n",
        "def sort_data_wo_labels(bboxes, texts):\n",
        "\n",
        "    sorted_bboxes = get_sorted_boxes(bboxes)\n",
        "    sorted_bboxes_indexes = [bboxes.index(bbox) for bbox in sorted_bboxes]\n",
        "    sorted_texts = np.array(texts, dtype=object)[sorted_bboxes_indexes].tolist()\n",
        "\n",
        "    return sorted_bboxes, sorted_texts"
      ],
      "metadata": {
        "id": "vB4LOBjWHQgw"
      },
      "execution_count": 5,
      "outputs": []
    },
    {
      "cell_type": "markdown",
      "source": [
        "#### PDF processing"
      ],
      "metadata": {
        "id": "Q4N2b_hKLla-"
      }
    },
    {
      "cell_type": "code",
      "source": [
        "# get filename and images of PDF pages\n",
        "def pdf_to_images(uploaded_pdf):\n",
        "\n",
        "    # Check if None object\n",
        "    if uploaded_pdf is None:\n",
        "        path_to_file = pdf_blank\n",
        "        filename = path_to_file.replace(examples_dir,\"\")\n",
        "        msg = \"Invalid PDF file.\"\n",
        "        images = [Image.open(image_blank)]\n",
        "    else:\n",
        "        # path to the uploaded PDF\n",
        "        path_to_file = uploaded_pdf.name\n",
        "        filename = path_to_file.replace(\"/tmp/\",\"\")\n",
        "\n",
        "        try:\n",
        "            PdfReader(path_to_file)\n",
        "        except PdfReadError:\n",
        "            path_to_file = pdf_blank\n",
        "            filename = path_to_file.replace(examples_dir,\"\")\n",
        "            msg = \"Invalid PDF file.\"\n",
        "            images = [Image.open(image_blank)]\n",
        "        else:\n",
        "            try:\n",
        "                images = convert_from_path(path_to_file, last_page=max_imgboxes)\n",
        "                num_imgs = len(images)\n",
        "                msg = f'The PDF \"{filename}\" was converted into {num_imgs} images.'\n",
        "            except:\n",
        "                msg = f'Error with the PDF \"{filename}\": it was not converted into images.'\n",
        "                images = [Image.open(image_wo_content)]\n",
        "\n",
        "    return filename, msg, images"
      ],
      "metadata": {
        "id": "ih90VhoNI93W"
      },
      "execution_count": 6,
      "outputs": []
    },
    {
      "cell_type": "code",
      "source": [
        "# Extraction of image data (text and bounding boxes)\n",
        "def extraction_data_from_image(images):\n",
        "\n",
        "    num_imgs = len(images)\n",
        "\n",
        "    if num_imgs > 0:\n",
        "\n",
        "        # https://pyimagesearch.com/2021/11/15/tesseract-page-segmentation-modes-psms-explained-how-to-improve-your-ocr-accuracy/\n",
        "        custom_config = r'--oem 3 --psm 3 -l eng' # default config PyTesseract: --oem 3 --psm 3 -l eng+deu+fra+jpn+por+spa+rus+hin+chi_sim\n",
        "        results, lines, row_indexes, par_boxes, line_boxes = dict(), dict(), dict(), dict(), dict()\n",
        "        images_ids_list, lines_list, par_boxes_list, line_boxes_list, images_list, page_no_list, num_pages_list = list(), list(), list(), list(), list(), list(), list()\n",
        "        \n",
        "        try: \n",
        "            for i,image in enumerate(images):\n",
        "                # image preprocessing\n",
        "                # https://docs.opencv.org/3.0-beta/doc/py_tutorials/py_imgproc/py_thresholding/py_thresholding.html\n",
        "                img = image.copy()\n",
        "                factor, path_to_img = set_image_dpi_resize(img) # Rescaling to 300dpi\n",
        "                img = Image.open(path_to_img)\n",
        "                img = np.array(img, dtype='uint8') # convert PIL to cv2\n",
        "                img = cv2.cvtColor(img, cv2.COLOR_BGR2GRAY) # gray scale image\n",
        "                ret,img = cv2.threshold(img,127,255,cv2.THRESH_BINARY)\n",
        "\n",
        "                # OCR PyTesseract | get langs of page\n",
        "                txt = pytesseract.image_to_string(img, config=custom_config)\n",
        "                txt = txt.strip().lower()\n",
        "                txt = re.sub(r\" +\", \" \", txt) # multiple space\n",
        "                txt = re.sub(r\"(\\n\\s*)+\\n+\", \"\\n\", txt) # multiple line\n",
        "                # txt = os.popen(f'tesseract {img_filepath} - {custom_config}').read()\n",
        "                try:\n",
        "                    langs = detect_langs(txt)\n",
        "                    langs = [langdetect2Tesseract[langs[i].lang] for i in range(len(langs))]\n",
        "                    langs_string = '+'.join(langs)\n",
        "                except:\n",
        "                    langs_string = \"eng\"\n",
        "                langs_string += '+osd'\n",
        "                custom_config = f'--oem 3 --psm 3 -l {langs_string}' # default config PyTesseract: --oem 3 --psm 3\n",
        "\n",
        "                # OCR PyTesseract | get data\n",
        "                results[i] = pytesseract.image_to_data(img, config=custom_config, output_type=pytesseract.Output.DICT)\n",
        "                # results[i] = os.popen(f'tesseract {img_filepath} - {custom_config}').read()\n",
        "\n",
        "                lines[i], row_indexes[i], par_boxes[i], line_boxes[i] = get_data(results[i], factor, conf_min=0)\n",
        "                lines_list.append(lines[i])\n",
        "                par_boxes_list.append(par_boxes[i])\n",
        "                line_boxes_list.append(line_boxes[i])\n",
        "                images_ids_list.append(i)\n",
        "                images_list.append(images[i])\n",
        "                page_no_list.append(i)\n",
        "                num_pages_list.append(num_imgs)\n",
        "\n",
        "        except:\n",
        "            print(f\"There was an error within the extraction of PDF text by the OCR!\")\n",
        "        else: \n",
        "            from datasets import Dataset\n",
        "            dataset = Dataset.from_dict({\"images_ids\": images_ids_list, \"images\": images_list, \"page_no\": page_no_list, \"num_pages\": num_pages_list, \"texts\": lines_list, \"bboxes_line\": line_boxes_list})\n",
        "                    \n",
        "            # print(f\"The text data was successfully extracted by the OCR!\")\n",
        "\n",
        "            return dataset, lines, row_indexes, par_boxes, line_boxes"
      ],
      "metadata": {
        "id": "1e_gIhqJLn6H"
      },
      "execution_count": 7,
      "outputs": []
    },
    {
      "cell_type": "markdown",
      "source": [
        "#### Inference"
      ],
      "metadata": {
        "id": "9VJoRifzojvD"
      }
    },
    {
      "cell_type": "code",
      "source": [
        "def prepare_inference_features(example, cls_box = cls_box, sep_box = sep_box):\n",
        "\n",
        "  images_ids_list, chunks_ids_list, input_ids_list, attention_mask_list, bb_list = list(), list(), list(), list(), list()\n",
        "\n",
        "  # get batch \n",
        "  batch_images_ids = example[\"images_ids\"]\n",
        "  batch_images = example[\"images\"]\n",
        "  batch_bboxes_line = example[\"bboxes_line\"]\n",
        "  batch_texts = example[\"texts\"]  \n",
        "  batch_images_size = [image.size for image in batch_images]\n",
        "\n",
        "  batch_width, batch_height = [image_size[0] for image_size in batch_images_size], [image_size[1] for image_size in batch_images_size]\n",
        "\n",
        "  # add a dimension if not a batch but only one image\n",
        "  if not isinstance(batch_images_ids, list): \n",
        "    batch_images_ids = [batch_images_ids]\n",
        "    batch_images = [batch_images]\n",
        "    batch_bboxes_line = [batch_bboxes_line]\n",
        "    batch_texts = [batch_texts]\n",
        "    batch_width, batch_height = [batch_width], [batch_height] \n",
        "\n",
        "  # process all images of the batch\n",
        "  for num_batch, (image_id, boxes, texts, width, height) in enumerate(zip(batch_images_ids, batch_bboxes_line, batch_texts, batch_width, batch_height)):\n",
        "    tokens_list = []\n",
        "    bboxes_list = []\n",
        "\n",
        "    # add a dimension if only on image\n",
        "    if not isinstance(texts, list):\n",
        "      texts, boxes = [texts], [boxes]\n",
        "\n",
        "    # convert boxes to original\n",
        "    normalize_bboxes_line = [normalize_box(upperleft_to_lowerright(box), width, height) for box in boxes]\n",
        "\n",
        "    # sort boxes with texts\n",
        "    # we want sorted lists from top to bottom of the image\n",
        "    boxes, texts = sort_data_wo_labels(normalize_bboxes_line, texts)\n",
        "\n",
        "    count = 0\n",
        "    for box, text in zip(boxes, texts):\n",
        "      tokens = tokenizer.tokenize(text)\n",
        "      num_tokens = len(tokens) # get number of tokens\n",
        "      tokens_list.extend(tokens)\n",
        "\n",
        "      bboxes_list.extend([box] * num_tokens) # number of boxes must be the same as the number of tokens\n",
        "\n",
        "    # use of return_overflowing_tokens=True / stride=doc_stride\n",
        "    # to get parts of image with overlap\n",
        "    # source: https://huggingface.co/course/chapter6/3b?fw=tf#handling-long-contexts\n",
        "    encodings = tokenizer(\" \".join(texts), \n",
        "                          truncation=True,\n",
        "                          padding=\"max_length\", \n",
        "                          max_length=max_length, \n",
        "                          stride=doc_stride, \n",
        "                          return_overflowing_tokens=True, \n",
        "                          return_offsets_mapping=True\n",
        "                          )\n",
        "\n",
        "    otsm = encodings.pop(\"overflow_to_sample_mapping\")\n",
        "    offset_mapping = encodings.pop(\"offset_mapping\")\n",
        "\n",
        "    # Let's label those examples and get their boxes   \n",
        "    sequence_length_prev = 0   \n",
        "    for i, offsets in enumerate(offset_mapping):\n",
        "      # truncate tokens, boxes and labels based on length of chunk - 2 (special tokens <s> and </s>)\n",
        "      sequence_length = len(encodings.input_ids[i]) - 2\n",
        "      if i == 0: start = 0\n",
        "      else: start += sequence_length_prev - doc_stride\n",
        "      end = start + sequence_length\n",
        "      sequence_length_prev = sequence_length\n",
        "\n",
        "      # get tokens, boxes and labels of this image chunk\n",
        "      bb = [cls_box] + bboxes_list[start:end] + [sep_box]\n",
        "\n",
        "      # as the last chunk can have a length < max_length\n",
        "      # we must to add [tokenizer.pad_token] (tokens), [sep_box] (boxes) and [-100] (labels)\n",
        "      if len(bb) < max_length:\n",
        "        bb = bb + [sep_box] * (max_length - len(bb))\n",
        "\n",
        "      # append results\n",
        "      input_ids_list.append(encodings[\"input_ids\"][i])\n",
        "      attention_mask_list.append(encodings[\"attention_mask\"][i])\n",
        "      bb_list.append(bb)\n",
        "      images_ids_list.append(image_id)\n",
        "      chunks_ids_list.append(i)\n",
        "        \n",
        "  return {\n",
        "      \"images_ids\": images_ids_list,\n",
        "      \"chunk_ids\": chunks_ids_list,\n",
        "      \"input_ids\": input_ids_list,\n",
        "      \"attention_mask\": attention_mask_list,\n",
        "      \"normalized_bboxes\": bb_list,\n",
        "  }"
      ],
      "metadata": {
        "id": "r7Dn5UwSlF2D"
      },
      "execution_count": 8,
      "outputs": []
    },
    {
      "cell_type": "code",
      "source": [
        "from torch.utils.data import Dataset\n",
        "\n",
        "class CustomDataset(Dataset):\n",
        "  def __init__(self, dataset, tokenizer):\n",
        "    self.dataset = dataset\n",
        "    self.tokenizer = tokenizer\n",
        "\n",
        "  def __len__(self):\n",
        "    return len(self.dataset)\n",
        "\n",
        "  def __getitem__(self, idx):\n",
        "    # get item\n",
        "    example = self.dataset[idx]\n",
        "    encoding = dict()\n",
        "    encoding[\"images_ids\"] = example[\"images_ids\"]\n",
        "    encoding[\"chunk_ids\"] = example[\"chunk_ids\"]\n",
        "    encoding[\"input_ids\"] = example[\"input_ids\"]\n",
        "    encoding[\"attention_mask\"] = example[\"attention_mask\"]\n",
        "    encoding[\"bbox\"] = example[\"normalized_bboxes\"]\n",
        "    \n",
        "    return encoding"
      ],
      "metadata": {
        "id": "e-vcU4ru6_b9"
      },
      "execution_count": 9,
      "outputs": []
    },
    {
      "cell_type": "code",
      "source": [
        "import torch.nn.functional as F\n",
        "\n",
        "# get predictions at token level\n",
        "def predictions_token_level(images, custom_encoded_dataset):\n",
        "\n",
        "    num_imgs = len(images)\n",
        "    if num_imgs > 0:\n",
        "\n",
        "        chunk_ids, input_ids, bboxes, outputs, token_predictions  = dict(), dict(), dict(), dict(), dict()\n",
        "        images_ids_list = list()\n",
        "\n",
        "        for i,encoding in enumerate(custom_encoded_dataset):\n",
        "\n",
        "            # get custom encoded data\n",
        "            image_id = encoding['images_ids']\n",
        "            chunk_id = encoding['chunk_ids']\n",
        "            input_id = torch.tensor(encoding['input_ids'])[None]\n",
        "            attention_mask = torch.tensor(encoding['attention_mask'])[None]\n",
        "            bbox = torch.tensor(encoding['bbox'])[None]\n",
        "\n",
        "            # save data in dictionnaries\n",
        "            if image_id not in images_ids_list: images_ids_list.append(image_id)\n",
        "\n",
        "            if image_id in chunk_ids: chunk_ids[image_id].append(chunk_id)\n",
        "            else: chunk_ids[image_id] = [chunk_id]\n",
        "\n",
        "            if image_id in input_ids: input_ids[image_id].append(input_id)\n",
        "            else: input_ids[image_id] = [input_id]\n",
        "\n",
        "            if image_id in bboxes: bboxes[image_id].append(bbox)\n",
        "            else: bboxes[image_id] = [bbox]\n",
        "\n",
        "            # get prediction with forward pass\n",
        "            with torch.no_grad():\n",
        "                output = model(\n",
        "                    input_ids=input_id,\n",
        "                    attention_mask=attention_mask,\n",
        "                    bbox=bbox\n",
        "                    )\n",
        "              \n",
        "            # save probabilities of predictions in dictionnary\n",
        "            if image_id in outputs: outputs[image_id].append(F.softmax(output.logits.squeeze(), dim=-1))\n",
        "            else: outputs[image_id] = [F.softmax(output.logits.squeeze(), dim=-1)]\n",
        "\n",
        "        return outputs, images_ids_list, chunk_ids, input_ids, bboxes\n",
        "\n",
        "    else:\n",
        "        print(\"An error occurred while getting predictions!\")"
      ],
      "metadata": {
        "id": "A-A9ipniOJhV"
      },
      "execution_count": 10,
      "outputs": []
    },
    {
      "cell_type": "code",
      "source": [
        "from functools import reduce\n",
        "\n",
        "# Get predictions (line level)\n",
        "def predictions_line_level(dataset, outputs, images_ids_list, chunk_ids, input_ids, bboxes):\n",
        "\n",
        "    ten_probs_dict, ten_input_ids_dict, ten_bboxes_dict = dict(), dict(), dict()\n",
        "    bboxes_list_dict, input_ids_dict_dict, probs_dict_dict, df = dict(), dict(), dict(), dict()\n",
        "\n",
        "    if len(images_ids_list) > 0:\n",
        "\n",
        "        for i, image_id in enumerate(images_ids_list):\n",
        "\n",
        "            # get image information\n",
        "            images_list = dataset.filter(lambda example: example[\"images_ids\"] == image_id)[\"images\"]\n",
        "            image = images_list[0]\n",
        "            width, height = image.size\n",
        "\n",
        "            # get data\n",
        "            chunk_ids_list = chunk_ids[image_id]\n",
        "            outputs_list = outputs[image_id]\n",
        "            input_ids_list = input_ids[image_id]\n",
        "            bboxes_list = bboxes[image_id]\n",
        "\n",
        "            # create zeros tensors\n",
        "            ten_probs = torch.zeros((outputs_list[0].shape[0] - 2)*len(outputs_list), outputs_list[0].shape[1])\n",
        "            ten_input_ids = torch.ones(size=(1, (outputs_list[0].shape[0] - 2)*len(outputs_list)), dtype =int)\n",
        "            ten_bboxes = torch.zeros(size=(1, (outputs_list[0].shape[0] - 2)*len(outputs_list), 4), dtype =int)\n",
        "\n",
        "            if len(outputs_list) > 1:\n",
        "              \n",
        "                for num_output, (output, input_id, bbox) in enumerate(zip(outputs_list, input_ids_list, bboxes_list)):\n",
        "                    start = num_output*(max_length - 2) - max(0,num_output)*doc_stride\n",
        "                    end = start + (max_length - 2)\n",
        "                    \n",
        "                    if num_output == 0:\n",
        "                        ten_probs[start:end,:] += output[1:-1]\n",
        "                        ten_input_ids[:,start:end] = input_id[:,1:-1]\n",
        "                        ten_bboxes[:,start:end,:] = bbox[:,1:-1,:]\n",
        "                    else:\n",
        "                        ten_probs[start:start + doc_stride,:] += output[1:1 + doc_stride]\n",
        "                        ten_probs[start:start + doc_stride,:] = ten_probs[start:start + doc_stride,:] * 0.5\n",
        "                        ten_probs[start + doc_stride:end,:] += output[1 + doc_stride:-1]\n",
        "\n",
        "                        ten_input_ids[:,start:start + doc_stride] = input_id[:,1:1 + doc_stride]\n",
        "                        ten_input_ids[:,start + doc_stride:end] = input_id[:,1 + doc_stride:-1]\n",
        "\n",
        "                        ten_bboxes[:,start:start + doc_stride,:] = bbox[:,1:1 + doc_stride,:]\n",
        "                        ten_bboxes[:,start + doc_stride:end,:] = bbox[:,1 + doc_stride:-1,:]\n",
        "              \n",
        "            else:\n",
        "                ten_probs += outputs_list[0][1:-1] \n",
        "                ten_input_ids = input_ids_list[0][:,1:-1] \n",
        "                ten_bboxes = bboxes_list[0][:,1:-1] \n",
        "\n",
        "            ten_probs_list, ten_input_ids_list, ten_bboxes_list = ten_probs.tolist(), ten_input_ids.tolist()[0], ten_bboxes.tolist()[0]\n",
        "            bboxes_list = list()\n",
        "            input_ids_dict, probs_dict = dict(), dict()\n",
        "            bbox_prev = [-100, -100, -100, -100]\n",
        "            for probs, input_id, bbox in zip(ten_probs_list, ten_input_ids_list, ten_bboxes_list):\n",
        "                bbox = denormalize_box(bbox, width, height)\n",
        "                if bbox != bbox_prev and bbox != cls_box:\n",
        "                    bboxes_list.append(bbox)\n",
        "                    input_ids_dict[str(bbox)] = [input_id]\n",
        "                    probs_dict[str(bbox)] = [probs]\n",
        "                else:\n",
        "                    if bbox != cls_box:\n",
        "                        input_ids_dict[str(bbox)].append(input_id)\n",
        "                        probs_dict[str(bbox)].append(probs)\n",
        "                bbox_prev = bbox\n",
        "\n",
        "            probs_bbox = dict()\n",
        "            for i,bbox in enumerate(bboxes_list):\n",
        "                probs = probs_dict[str(bbox)]\n",
        "                probs = np.array(probs).T.tolist()\n",
        "            \n",
        "                probs_label = list()\n",
        "                for probs_list in probs:\n",
        "                    prob_label = reduce(lambda x, y: x*y, probs_list)\n",
        "                    probs_label.append(prob_label)\n",
        "                max_value = max(probs_label)\n",
        "                max_index = probs_label.index(max_value)\n",
        "                probs_bbox[str(bbox)] = max_index\n",
        "\n",
        "            bboxes_list_dict[image_id] = bboxes_list\n",
        "            input_ids_dict_dict[image_id] = input_ids_dict\n",
        "            probs_dict_dict[image_id] = probs_bbox\n",
        "\n",
        "            df[image_id] = pd.DataFrame()\n",
        "            df[image_id][\"bboxes\"] = bboxes_list\n",
        "            df[image_id][\"texts\"] = [tokenizer.decode(input_ids_dict[str(bbox)]) for bbox in bboxes_list]\n",
        "            df[image_id][\"labels\"] = [id2label[probs_bbox[str(bbox)]] for bbox in bboxes_list]\n",
        "\n",
        "        return probs_bbox, bboxes_list_dict, input_ids_dict_dict, probs_dict_dict, df\n",
        "\n",
        "    else:\n",
        "        print(\"An error occurred while getting predictions!\")"
      ],
      "metadata": {
        "id": "pMfevZTrR6sb"
      },
      "execution_count": 11,
      "outputs": []
    },
    {
      "cell_type": "code",
      "source": [
        "# Get labeled images with lines bounding boxes\n",
        "def get_labeled_images(dataset, images_ids_list, bboxes_list_dict, probs_dict_dict):\n",
        "\n",
        "    labeled_images = list()\n",
        "\n",
        "    for i, image_id in enumerate(images_ids_list):\n",
        "\n",
        "        # get image\n",
        "        images_list = dataset.filter(lambda example: example[\"images_ids\"] == image_id)[\"images\"]\n",
        "        image = images_list[0]\n",
        "        width, height = image.size\n",
        "\n",
        "        # get predicted boxes and labels\n",
        "        bboxes_list = bboxes_list_dict[image_id]\n",
        "        probs_bbox = probs_dict_dict[image_id]\n",
        "\n",
        "        draw = ImageDraw.Draw(image)\n",
        "        # https://stackoverflow.com/questions/66274858/choosing-a-pil-imagefont-by-font-name-rather-than-filename-and-cross-platform-f\n",
        "        font = font_manager.FontProperties(family='sans-serif', weight='bold')\n",
        "        font_file = font_manager.findfont(font)\n",
        "        font_size = 30\n",
        "        font = ImageFont.truetype(font_file, font_size)\n",
        "\n",
        "        for bbox in bboxes_list:\n",
        "              predicted_label = id2label[probs_bbox[str(bbox)]]\n",
        "              draw.rectangle(bbox, outline=label2color[predicted_label])\n",
        "              draw.text((bbox[0] + 10, bbox[1] - font_size), text=predicted_label, fill=label2color[predicted_label], font=font)\n",
        "\n",
        "        labeled_images.append(image)\n",
        "\n",
        "    return labeled_images"
      ],
      "metadata": {
        "id": "d9exNV7WS2XM"
      },
      "execution_count": 12,
      "outputs": []
    },
    {
      "cell_type": "code",
      "source": [
        "# get data of encoded chunk\n",
        "def get_encoded_chunk_inference(index_chunk=None):\n",
        "\n",
        "  # get datasets\n",
        "  example = dataset\n",
        "  encoded_example = encoded_dataset\n",
        "\n",
        "  # get randomly a document in dataset\n",
        "  if index_chunk == None: index_chunk = random.randint(0, len(encoded_example)-1)\n",
        "  encoded_example = encoded_example[index_chunk]\n",
        "  encoded_image_ids = encoded_example[\"images_ids\"]\n",
        "\n",
        "  # get the image\n",
        "  example = example.filter(lambda example: example[\"images_ids\"] ==  encoded_image_ids)[0]\n",
        "  image = example[\"images\"] # original image\n",
        "  width, height = image.size\n",
        "  page_no = example[\"page_no\"]\n",
        "  num_pages = example[\"num_pages\"]\n",
        "\n",
        "  # get boxes, texts, categories\n",
        "  bboxes, input_ids  = encoded_example[\"normalized_bboxes\"][1:-1], encoded_example[\"input_ids\"][1:-1]\n",
        "  bboxes = [denormalize_box(bbox, width, height) for bbox in bboxes]\n",
        "  num_tokens = len(input_ids) + 2\n",
        "\n",
        "  # get unique bboxes and corresponding labels\n",
        "  bboxes_list, input_ids_list = list(), list()\n",
        "  input_ids_dict = dict()\n",
        "  bbox_prev = [-100, -100, -100, -100]\n",
        "  for i, (bbox, input_id) in enumerate(zip(bboxes, input_ids)):\n",
        "    if bbox != bbox_prev:\n",
        "      bboxes_list.append(bbox)\n",
        "      input_ids_dict[str(bbox)] = [input_id]\n",
        "    else:\n",
        "      input_ids_dict[str(bbox)].append(input_id)\n",
        "    \n",
        "    # start_indexes_list.append(i)\n",
        "    bbox_prev = bbox\n",
        "  \n",
        "  # do not keep \"</s><pad><pad>...\"\n",
        "  if input_ids_dict[str(bboxes_list[-1])][0] == (tokenizer.convert_tokens_to_ids('</s>')):\n",
        "    del input_ids_dict[str(bboxes_list[-1])]\n",
        "    bboxes_list = bboxes_list[:-1]\n",
        "\n",
        "  # get texts by line\n",
        "  input_ids_list = input_ids_dict.values()\n",
        "  texts_list = [tokenizer.decode(input_ids) for input_ids in input_ids_list]\n",
        "  \n",
        "  # display DataFrame\n",
        "  df = pd.DataFrame({\"texts\": texts_list, \"input_ids\": input_ids_list, \"bboxes\": bboxes_list})\n",
        "\n",
        "  return image, df, num_tokens, page_no, num_pages"
      ],
      "metadata": {
        "id": "5AyQ5NfQomMV"
      },
      "execution_count": 13,
      "outputs": []
    },
    {
      "cell_type": "code",
      "source": [
        "# display chunk of PDF image and its data\n",
        "def display_chunk_lines_inference(index_chunk=None):\n",
        "\n",
        "  # get image and image data\n",
        "  image, df, num_tokens, page_no, num_pages = get_encoded_chunk_inference(index_chunk=index_chunk)\n",
        "\n",
        "  # get data from dataframe\n",
        "  input_ids = df[\"input_ids\"]\n",
        "  texts = df[\"texts\"]\n",
        "  bboxes = df[\"bboxes\"]\n",
        "\n",
        "  print(f'Chunk ({num_tokens} tokens) of the PDF (page: {page_no+1} / {num_pages})\\n')\n",
        "\n",
        "  # display image with bounding boxes\n",
        "  print(\">> PDF image with bounding boxes of lines\\n\")\n",
        "  draw = ImageDraw.Draw(image)\n",
        "            \n",
        "  labels = list()\n",
        "  for box, text in zip(bboxes, texts):\n",
        "      color = \"red\"\n",
        "      draw.rectangle(box, outline=color)\n",
        "  \n",
        "  # resize image to original\n",
        "  width, height = image.size\n",
        "  image = image.resize((int(0.5*width), int(0.5*height)))\n",
        "\n",
        "  # convert to cv and display\n",
        "  img = np.array(image, dtype='uint8') # PIL to cv2\n",
        "  cv2_imshow(img)\n",
        "  cv2.waitKey(0)\n",
        "\n",
        "  # display image dataframe\n",
        "  print(\"\\n>> Dataframe of annotated lines\\n\")\n",
        "  cols = [\"texts\",\t\"bboxes\"]\n",
        "  df = df[cols]\n",
        "  display(df)"
      ],
      "metadata": {
        "id": "yYeb88pWoUFS"
      },
      "execution_count": 14,
      "outputs": []
    },
    {
      "cell_type": "markdown",
      "source": [
        "#### APP function"
      ],
      "metadata": {
        "id": "QO-nRIOxCeko"
      }
    },
    {
      "cell_type": "code",
      "source": [
        "# APP outputs \n",
        "def app_outputs(uploaded_pdf):\n",
        "    filename, msg, images = pdf_to_images(uploaded_pdf)\n",
        "    num_images = len(images)\n",
        "\n",
        "    if not msg.startswith(\"Error with the PDF\"):\n",
        "    \n",
        "        # Extraction of image data (text and bounding boxes)\n",
        "        dataset, lines, row_indexes, par_boxes, line_boxes = extraction_data_from_image(images)\n",
        "        # prepare our data in the format of the model\n",
        "        encoded_dataset = dataset.map(prepare_inference_features, batched=True, batch_size=64, remove_columns=dataset.column_names)\n",
        "        custom_encoded_dataset = CustomDataset(encoded_dataset, tokenizer)\n",
        "        # Get predictions (token level)\n",
        "        outputs, images_ids_list, chunk_ids, input_ids, bboxes = predictions_token_level(images, custom_encoded_dataset)\n",
        "        # Get predictions (line level)\n",
        "        probs_bbox, bboxes_list_dict, input_ids_dict_dict, probs_dict_dict, df = predictions_line_level(dataset, outputs, images_ids_list, chunk_ids, input_ids, bboxes)\n",
        "        # Get labeled images with lines bounding boxes\n",
        "        images = get_labeled_images(dataset, images_ids_list, bboxes_list_dict, probs_dict_dict)\n",
        "\n",
        "        img_files = list()\n",
        "        # get image of PDF without bounding boxes\n",
        "        for i in range(num_images):\n",
        "            if filename != \"files/blank.png\": img_file = f\"img_{i}_\" + filename.replace(\".pdf\", \".png\")\n",
        "            else: img_file = filename.replace(\".pdf\", \".png\")\n",
        "            images[i].save(img_file)\n",
        "            img_files.append(img_file)\n",
        "\n",
        "        if num_images < max_imgboxes:\n",
        "            img_files += [image_blank]*(max_imgboxes - num_images)\n",
        "            images += [Image.open(image_blank)]*(max_imgboxes - num_images)\n",
        "            for count in range(max_imgboxes - num_images):\n",
        "                df[num_images + count] = pd.DataFrame()\n",
        "        else:\n",
        "            img_files = img_files[:max_imgboxes]\n",
        "            images = images[:max_imgboxes]\n",
        "            df = dict(itertools.islice(df.items(), max_imgboxes))\n",
        "\n",
        "        # save \n",
        "        csv_files = list()\n",
        "        for i in range(max_imgboxes):\n",
        "            csv_file = f\"csv_{i}_\" + filename.replace(\".pdf\", \".csv\")\n",
        "            csv_files.append(gr.File.update(value=csv_file, visible=True))\n",
        "            df[i].to_csv(csv_file, encoding=\"utf-8\", index=False)\n",
        "\n",
        "    else:  \n",
        "        img_files, images, csv_files = [\"\"]*max_imgboxes, [\"\"]*max_imgboxes, [\"\"]*max_imgboxes\n",
        "        img_files[0], img_files[1] = image_blank, image_blank\n",
        "        images[0], images[1] = Image.open(image_blank), Image.open(image_blank)\n",
        "        csv_file = \"csv_wo_content.csv\"\n",
        "        csv_files[0], csv_files[1] = gr.File.update(value=csv_file, visible=True), gr.File.update(value=csv_file, visible=True)\n",
        "        df, df_empty = dict(), pd.DataFrame()\n",
        "        df[0], df[1] = df_empty.to_csv(csv_file, encoding=\"utf-8\", index=False), df_empty.to_csv(csv_file, encoding=\"utf-8\", index=False)\n",
        "    \n",
        "    return msg, img_files[0], img_files[1], images[0], images[1], csv_files[0], csv_files[1], df[0], df[1]"
      ],
      "metadata": {
        "id": "MbBPAYF8Cg8d"
      },
      "execution_count": 15,
      "outputs": []
    },
    {
      "cell_type": "markdown",
      "metadata": {
        "id": "CQdS0CydNesH"
      },
      "source": [
        "## Model & tokenizer"
      ]
    },
    {
      "cell_type": "code",
      "execution_count": 16,
      "metadata": {
        "id": "RtvKqWjUNhM_"
      },
      "outputs": [],
      "source": [
        "from transformers import AutoTokenizer, AutoModelForTokenClassification\n",
        "\n",
        "import torch\n",
        "device = torch.device(\"cuda\" if torch.cuda.is_available() else \"cpu\")\n",
        "\n",
        "tokenizer = AutoTokenizer.from_pretrained(model_id)\n",
        "model = AutoModelForTokenClassification.from_pretrained(model_id);\n",
        "model.to(device);"
      ]
    },
    {
      "cell_type": "code",
      "execution_count": 17,
      "metadata": {
        "id": "KpeG4pMbO4yF"
      },
      "outputs": [],
      "source": [
        "# get labels\n",
        "id2label = model.config.id2label\n",
        "label2id = model.config.label2id\n",
        "num_labels = len(id2label)"
      ]
    },
    {
      "cell_type": "markdown",
      "source": [
        "## Gradio APP"
      ],
      "metadata": {
        "id": "7PHpV5RSXgyc"
      }
    },
    {
      "cell_type": "code",
      "source": [
        "# gradio APP\n",
        "with gr.Blocks(title=\"Inference APP for Document Understanding at line level (v1)\", css=\".gradio-container\") as demo:\n",
        "    gr.HTML(\"\"\"\n",
        "    <div style=\"font-family:'Times New Roman', 'Serif'; font-size:26pt; font-weight:bold; text-align:center;\"><h1>Inference APP for Document Understanding at line level (v1)</h1></div>\n",
        "    <div style=\"margin-top: 40px\"><p>(02/12/2023) This Inference APP uses the <a style=\"text-decoration: none; border-bottom: #64b5f6 0.125em solid; color: #64b5f6\" href=\"https://huggingface.co/pierreguillou/lilt-xlm-roberta-base-finetuned-with-DocLayNet-base-at-linelevel-ml384\" target=\"_blank\">model LiLT base combined with XLM-RoBERTa base and finetuned on the dataset DocLayNet base</a> at line level (chunk size of 384 tokens).</p></div>\n",
        "    <div><p><a style=\"text-decoration: none; border-bottom: #64b5f6 0.125em solid; color: #64b5f6\" href=\"https://arxiv.org/abs/2202.13669\" target=\"_blank\">LiLT (Language-Independent Layout Transformer)</a> is a Document Understanding model that uses both layout and text in order to detect labels of bounding boxes. Combined with the model <a style=\"text-decoration: none; border-bottom: #64b5f6 0.125em solid; color: #64b5f6\" href=\"https://huggingface.co/xlm-roberta-base\" target=\"_blank\">XML-RoBERTa base</a>, this finetuned model has the capacity to understand any language. Finetuned on the dataset <a style=\"text-decoration: none; border-bottom: #64b5f6 0.125em solid; color: #64b5f6\" href=\"https://huggingface.co/datasets/pierreguillou/DocLayNet-base\" target=\"_blank\">DocLayNet base</a>, it can classifly any bounding box (and its OCR text) to 11 labels (Caption, Footnote, Formula, List-item, Page-footer, Page-header, Picture, Section-header, Table, Text, Title).</p></div>\n",
        "    <div><p>It relies on an external OCR engine to get words and bounding boxes from the document image. Thus, let's run in this APP an OCR engine ourselves (<a style=\"text-decoration: none; border-bottom: #64b5f6 0.125em solid; color: #64b5f6\" href=\"https://github.com/madmaze/pytesseract#python-tesseract\" target=\"_blank\">PyTesseract</a>) as we'll need to do it in real life to get the bounding boxes, then run LiLT (already fine-tuned on the dataset DocLayNet base at line level) on the individual tokens and then, visualize the result at line level!</p></div>\n",
        "    <div><p>From any PDF (of any language), it allows to get all pages with bounding boxes labeled at line level and the associated dataframes with labeled data (bounding boxes, texts, labels).</p></div>\n",
        "    <div><p>To avoid running this APP for too long, <b>only the first 2 pages are processed by this APP</b>. If you want to update this limit, you can either clone here this APP (or run its <a style=\"text-decoration: none; border-bottom: #64b5f6 0.125em solid; color: #64b5f6\" href=\"https://github.com/piegu/language-models/blob/master/Gradio_inference_on_LiLT_model_finetuned_on_DocLayNet_base_in_any_language_at_levellines_ml384.ipynb\" target=\"_blank\">notebook</a> on your own plateform) and change the value of the parameter <code>max_imgboxes</code>, or run the corresponding notebook \"<a style=\"text-decoration: none; border-bottom: #64b5f6 0.125em solid; color: #64b5f6\" href=\"https://github.com/piegu/language-models/blob/master/inference_on_LiLT_model_finetuned_on_DocLayNet_base_in_any_language_at_levellines_ml384.ipynb\" target=\"_blank\">Document AI | Inference at line level with a Document Understanding model (LiLT fine-tuned on DocLayNet dataset)</a>\" which does not have this limit.</p></div>\n",
        "    <div style=\"margin-top: 20px\"><p>More information about the DocLayNet datasets, the finetuning of the model and this APP in the following blog posts:</p>\n",
        "    <ul><li><a style=\"text-decoration: none; border-bottom: #64b5f6 0.125em solid; color: #64b5f6\" href=\"https://medium.com/@pierre_guillou/document-ai-document-understanding-model-at-line-level-with-lilt-tesseract-and-doclaynet-dataset-347107a643b8\" target=\"_blank\">(02/10/2023) Document AI | Document Understanding model at line level with LiLT, Tesseract and DocLayNet dataset</a></li><li><a style=\"text-decoration: none; border-bottom: #64b5f6 0.125em solid; color: #64b5f6\" href=\"https://medium.com/@pierre_guillou/document-ai-doclaynet-image-viewer-app-3ac54c19956\" target=\"_blank\"> (01/31/2023) Document AI | DocLayNet image viewer APP</a></li><li><a style=\"text-decoration: none; border-bottom: #64b5f6 0.125em solid; color: #64b5f6\" href=\"https://medium.com/@pierre_guillou/document-ai-processing-of-doclaynet-dataset-to-be-used-by-layout-models-of-the-hugging-face-hub-308d8bd81cdb\" target=\"_blank\">(01/27/2023) Document AI | Processing of DocLayNet dataset to be used by layout models of the Hugging Face hub (finetuning, inference)</a></li></ul></div> \n",
        "    \"\"\")\n",
        "    with gr.Row():\n",
        "        pdf_file = gr.File(label=\"PDF\")\n",
        "    with gr.Row():\n",
        "        submit_btn = gr.Button(f\"Display first {max_imgboxes} labeled PDF pages\")\n",
        "        reset_btn = gr.Button(value=\"Clear\")\n",
        "    with gr.Row():\n",
        "        output_msg = gr.Textbox(label=\"Output message\")\n",
        "    with gr.Row():\n",
        "        fileboxes = []\n",
        "        for num_page in range(max_imgboxes):\n",
        "            file_path = gr.File(visible=True, label=f\"Image file of the PDF page n°{num_page}\")\n",
        "            fileboxes.append(file_path)\n",
        "    with gr.Row():\n",
        "        imgboxes = []\n",
        "        for num_page in range(max_imgboxes):\n",
        "            img = gr.Image(type=\"pil\", label=f\"Image of the PDF page n°{num_page}\")\n",
        "            imgboxes.append(img)\n",
        "    with gr.Row():\n",
        "        csvboxes = []\n",
        "        for num_page in range(max_imgboxes):\n",
        "            csv = gr.File(visible=True, label=f\"CSV file at line level (page {num_page})\")\n",
        "            csvboxes.append(csv)\n",
        "    with gr.Row():\n",
        "        dfboxes = []\n",
        "        for num_page in range(max_imgboxes):\n",
        "            df = gr.Dataframe(\n",
        "                      headers=[\"bounding boxes\", \"texts\", \"labels\"],\n",
        "                      datatype=[\"str\", \"str\", \"str\"],\n",
        "                      col_count=(3, \"fixed\"), \n",
        "                      visible=True,\n",
        "                      label=f\"Data of page {num_page}\",\n",
        "                      type=\"pandas\",\n",
        "                      wrap=True\n",
        "                    )\n",
        "            dfboxes.append(df)\n",
        "\n",
        "    outputboxes = [output_msg] + fileboxes + imgboxes + csvboxes + dfboxes\n",
        "    submit_btn.click(app_outputs, inputs=[pdf_file], outputs=outputboxes)\n",
        "    # https://github.com/gradio-app/gradio/pull/2044/files#diff-a91dd2749f68bb7d0099a0f4079a4fd2d10281e299e7b451cb1bb876a7c21975R91\n",
        "    reset_btn.click(\n",
        "        lambda: [pdf_file.update(value=None), output_msg.update(value=None)] + [filebox.update(value=None) for filebox in fileboxes] + [imgbox.update(value=None) for imgbox in imgboxes] + [csvbox.update(value=None) for csvbox in csvboxes] + [dfbox.update(value=None) for dfbox in dfboxes],\n",
        "        inputs=[],\n",
        "        outputs=[pdf_file, output_msg] + fileboxes + imgboxes + csvboxes + dfboxes\n",
        "        )\n",
        "\n",
        "    gr.Examples(\n",
        "        [[\"files/example.pdf\"]],\n",
        "        [pdf_file],\n",
        "        outputboxes,\n",
        "        fn=app_outputs,\n",
        "        cache_examples=True,\n",
        "    )\n",
        "\n",
        "demo.launch(share=True)"
      ],
      "metadata": {
        "colab": {
          "base_uri": "https://localhost:8080/",
          "height": 608
        },
        "id": "RvYyMF7jXgJP",
        "outputId": "9b81baa6-5932-444a-dff4-44c11f988975"
      },
      "execution_count": 18,
      "outputs": [
        {
          "output_type": "stream",
          "name": "stdout",
          "text": [
            "Using cache from '/content/gradio_cached_examples/22' directory. If method or examples have changed since last caching, delete this folder to clear cache.\n",
            "Colab notebook detected. To show errors in colab notebook, set debug=True in launch()\n",
            "Running on public URL: https://88c0f2a6-8873-47a5.gradio.live\n",
            "\n",
            "This share link expires in 72 hours. For free permanent hosting and GPU upgrades (NEW!), check out Spaces: https://huggingface.co/spaces\n"
          ]
        },
        {
          "output_type": "display_data",
          "data": {
            "text/plain": [
              "<IPython.core.display.HTML object>"
            ],
            "text/html": [
              "<div><iframe src=\"https://88c0f2a6-8873-47a5.gradio.live\" width=\"100%\" height=\"500\" allow=\"autoplay; camera; microphone; clipboard-read; clipboard-write;\" frameborder=\"0\" allowfullscreen></iframe></div>"
            ]
          },
          "metadata": {}
        },
        {
          "output_type": "execute_result",
          "data": {
            "text/plain": []
          },
          "metadata": {},
          "execution_count": 18
        }
      ]
    },
    {
      "cell_type": "markdown",
      "source": [
        "# END"
      ],
      "metadata": {
        "id": "F2POOE3IOMyu"
      }
    }
  ],
  "metadata": {
    "colab": {
      "collapsed_sections": [
        "-TEUFTN_ngoo",
        "bflle1CCngoo",
        "mnfTZnF4mQbh",
        "ibTxXBjfngop",
        "kv0y3aXf8Vv8",
        "XkVI_eWTDaAb",
        "gA3leN0cdb3g",
        "TrlF26R14NYP",
        "WO1bn3pmNzmX",
        "9VJoRifzojvD",
        "CQdS0CydNesH"
      ],
      "provenance": []
    },
    "gpuClass": "standard",
    "kernelspec": {
      "display_name": "Python 3",
      "language": "python",
      "name": "python3"
    },
    "language_info": {
      "codemirror_mode": {
        "name": "ipython",
        "version": 3
      },
      "file_extension": ".py",
      "mimetype": "text/x-python",
      "name": "python",
      "nbconvert_exporter": "python",
      "pygments_lexer": "ipython3",
      "version": "3.8.10"
    }
  },
  "nbformat": 4,
  "nbformat_minor": 0
}